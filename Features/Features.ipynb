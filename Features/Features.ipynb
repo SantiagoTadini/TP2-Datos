{
  "nbformat": 4,
  "nbformat_minor": 0,
  "metadata": {
    "kernelspec": {
      "display_name": "Python 3",
      "language": "python",
      "name": "python3"
    },
    "language_info": {
      "codemirror_mode": {
        "name": "ipython",
        "version": 3
      },
      "file_extension": ".py",
      "mimetype": "text/x-python",
      "name": "python",
      "nbconvert_exporter": "python",
      "pygments_lexer": "ipython3",
      "version": "3.8.3"
    },
    "colab": {
      "name": "Features.ipynb",
      "provenance": []
    }
  },
  "cells": [
    {
      "cell_type": "code",
      "metadata": {
        "id": "LXFiE36Iiy9o"
      },
      "source": [
        "import pandas as pd\r\n",
        "import numpy as np"
      ],
      "execution_count": 222,
      "outputs": []
    },
    {
      "cell_type": "code",
      "metadata": {
        "id": "AGZPCf4SVV90"
      },
      "source": [
        "# Como vimos en el TP1:\r\n",
        "\r\n",
        "# En el read_csv, castear las variables a los tipos que corresponden.\r\n",
        "# En el usecols sacar: \r\n",
        "#     * 'Submitted_for_Approval' (Un solo valor: 0)\r\n",
        "#     * 'Last_Activity' (Todos nulos)\r\n",
        "#     * 'ASP_(converted)_Currency' (Un solo valor: 'USD')\r\n",
        "#     * 'Actual_Delivery_Date' (Todos nulos)\r\n",
        "#     * 'Prod_Category_A' (Un solo valor: 'Prod_Category_A_None')\r\n",
        "#     * 'Sales_Contract_No' (No permite que se realice el entrenamiento)\r\n",
        "\r\n",
        "\r\n",
        "# ESTAS SON COLUMNAS TODAVÍA ***NO*** ELIMINADAS:\r\n",
        "#     * 'Brand' (Muchos nulos: 15911)\r\n",
        "#     * 'Product_Type' (Muchos nulos: 15935)\r\n",
        "#     * 'Size' (Muchos nulos: 15967)\r\n",
        "#     * 'Product_Category_B' (Muchos nulos: 15928)\r\n",
        "#     * 'Price' (Muchos nulos; 15982) ----------------> si ahora lo borramos, borrar celda del replace de Price\r\n",
        "#     * 'Currency' (Muchos nulos: 16052)\r\n"
      ],
      "execution_count": 223,
      "outputs": []
    },
    {
      "cell_type": "code",
      "metadata": {
        "id": "bV4CuYHliy93"
      },
      "source": [
        "# train = pd.read_csv(\"../Train_TP2_Datos_2020-2C.csv\")\n",
        "# test = pd.read_csv(\"../Test_TP2_Datos_2020-2C.csv\")\n",
        "\n",
        "url_train = 'https://raw.githubusercontent.com/SantiagoTadini/TP2-Datos/main/Train_TP2_Datos_2020-2C.csv'\n",
        "url_test = 'https://raw.githubusercontent.com/SantiagoTadini/TP2-Datos/main/Test_TP2_Datos_2020-2C.csv'\n",
        "train = pd.read_csv(url_train,\\\n",
        "                    usecols=['ID', 'Region', 'Territory', 'Pricing, Delivery_Terms_Quote_Appr',\\\n",
        "                          'Pricing, Delivery_Terms_Approved', 'Bureaucratic_Code_0_Approval', 'Bureaucratic_Code_0_Approved',\\\n",
        "                          'Bureaucratic_Code', 'Account_Created_Date', 'Source ', 'Billing_Country',\\\n",
        "                          'Account_Name', 'Opportunity_Name', 'Opportunity_ID', 'Account_Owner',\\\n",
        "                          'Opportunity_Owner', 'Account_Type', 'Opportunity_Type', 'Quote_Type', 'Delivery_Terms',\\\n",
        "                          'Opportunity_Created_Date', 'Brand', 'Product_Type', 'Size', 'Product_Category_B', 'Price',\\\n",
        "                          'Currency', 'Quote_Expiry_Date', 'Last_Modified_Date', 'Last_Modified_By',\\\n",
        "                          'Product_Family', 'Product_Name', 'ASP_Currency', 'ASP', 'ASP_(converted)',\\\n",
        "                          'Planned_Delivery_Start_Date', 'Planned_Delivery_End_Date', 'Month', 'Delivery_Quarter',\\\n",
        "                          'Delivery_Year', 'TRF', 'Total_Amount_Currency', 'Total_Amount', 'Total_Taxable_Amount_Currency',\\\n",
        "                          'Total_Taxable_Amount', 'Stage'],\\\n",
        "                    dtype={\n",
        "                          'Region' : 'category',\n",
        "                          'Territory' : 'category',\n",
        "                          'Bureaucratic_Code' : 'category',\n",
        "                          'Source ' : 'category',\n",
        "                          'Billing_Country' : 'category',\n",
        "                          'Account_Name' : 'category',\n",
        "                          'Opportunity_Name' : 'category',\n",
        "                          'Account_Owner' : 'category',\n",
        "                          'Opportunity_Owner' : 'category',\n",
        "                          'Account_Type' : 'category',\n",
        "                          'Opportunity_Type' : 'category',\n",
        "                          'Quote_Type' : 'category',\n",
        "                          'Delivery_Terms' : 'category',\n",
        "                          'Brand' : 'category',\n",
        "                          'Product_Type' : 'category',\n",
        "                          'Size' : 'category',\n",
        "                          'Product_Category_B' : 'category',\n",
        "                          'Currency' : 'category',\n",
        "                          'Last_Modified_By' : 'category',\n",
        "                          'Product_Family' : 'category',\n",
        "                          'Product_Name' : 'category',\n",
        "                          'ASP_Currency' : 'category',\n",
        "                          'Delivery_Quarter' : 'category',\n",
        "                          'Total_Amount_Currency' : 'category',\n",
        "                          'Total_Taxable_Amount_Currency' : 'category',\n",
        "                          'Stage' : 'category'})\n",
        "test = pd.read_csv(url_test,\\\n",
        "                  usecols=['ID', 'Region', 'Territory', 'Pricing, Delivery_Terms_Quote_Appr',\\\n",
        "                          'Pricing, Delivery_Terms_Approved', 'Bureaucratic_Code_0_Approval', 'Bureaucratic_Code_0_Approved',\\\n",
        "                          'Bureaucratic_Code', 'Account_Created_Date', 'Source ', 'Billing_Country',\\\n",
        "                          'Account_Name', 'Opportunity_Name', 'Opportunity_ID', 'Account_Owner',\\\n",
        "                          'Opportunity_Owner', 'Account_Type', 'Opportunity_Type', 'Quote_Type', 'Delivery_Terms',\\\n",
        "                          'Opportunity_Created_Date', 'Brand', 'Product_Type', 'Size', 'Product_Category_B', 'Price',\\\n",
        "                          'Currency', 'Quote_Expiry_Date', 'Last_Modified_Date', 'Last_Modified_By',\\\n",
        "                          'Product_Family', 'Product_Name', 'ASP_Currency', 'ASP', 'ASP_(converted)',\\\n",
        "                          'Planned_Delivery_Start_Date', 'Planned_Delivery_End_Date', 'Month', 'Delivery_Quarter',\\\n",
        "                          'Delivery_Year', 'TRF', 'Total_Amount_Currency', 'Total_Amount', 'Total_Taxable_Amount_Currency',\\\n",
        "                          'Total_Taxable_Amount'],\\\n",
        "                    dtype={\n",
        "                          'Region' : 'category',\n",
        "                          'Territory' : 'category',\n",
        "                          'Bureaucratic_Code' : 'category',\n",
        "                          'Source ' : 'category',\n",
        "                          'Billing_Country' : 'category',\n",
        "                          'Account_Name' : 'category',\n",
        "                          'Opportunity_Name' : 'category',\n",
        "                          'Account_Owner' : 'category',\n",
        "                          'Opportunity_Owner' : 'category',\n",
        "                          'Account_Type' : 'category',\n",
        "                          'Opportunity_Type' : 'category',\n",
        "                          'Quote_Type' : 'category',\n",
        "                          'Delivery_Terms' : 'category',\n",
        "                          'Brand' : 'category',\n",
        "                          'Product_Type' : 'category',\n",
        "                          'Size' : 'category',\n",
        "                          'Product_Category_B' : 'category',\n",
        "                          'Currency' : 'category',\n",
        "                          'Last_Modified_By' : 'category',\n",
        "                          'Product_Family' : 'category',\n",
        "                          'Product_Name' : 'category',\n",
        "                          'ASP_Currency' : 'category',\n",
        "                          'Delivery_Quarter' : 'category',\n",
        "                          'Total_Amount_Currency' : 'category',\n",
        "                          'Total_Taxable_Amount_Currency' : 'category'})"
      ],
      "execution_count": 224,
      "outputs": []
    },
    {
      "cell_type": "code",
      "metadata": {
        "colab": {
          "base_uri": "https://localhost:8080/"
        },
        "id": "F989UwUQddaE",
        "outputId": "453ab29c-9713-454b-b0f5-2d45ac290f1e"
      },
      "source": [
        "# Cantidad de columnas y filas de cada set de datos\r\n",
        "print('Cantidad de columnas de train:', len(train.columns), 'y cantidad de filas de train:', len(train))\r\n",
        "print('Cantidad de columnas de test:', len(test.columns), 'y cantidad de filas de test:', len(test))"
      ],
      "execution_count": 225,
      "outputs": [
        {
          "output_type": "stream",
          "text": [
            "Cantidad de columnas de train: 46 y cantidad de filas de train: 16947\n",
            "Cantidad de columnas de test: 45 y cantidad de filas de test: 2551\n"
          ],
          "name": "stdout"
        }
      ]
    },
    {
      "cell_type": "code",
      "metadata": {
        "id": "PSsdxnWLeRSa"
      },
      "source": [
        "# Sacar espacio del nombre de la columna 'Source'\r\n",
        "train.rename(columns={'Source ' : 'Source', 'ASP_(converted)' : 'ASP_(converted_USD)'}, inplace=True)\r\n",
        "\r\n",
        "test.rename(columns={'Source ' : 'Source', 'ASP_(converted)' : 'ASP_(converted_USD)'}, inplace=True)"
      ],
      "execution_count": 226,
      "outputs": []
    },
    {
      "cell_type": "code",
      "metadata": {
        "id": "odP5l-y-ea6u"
      },
      "source": [
        "# Poner en la columna Month sólo el mes (que no aparezca el año)\r\n",
        "train['Month'] = pd.to_datetime(train['Month'], format='%Y - %m').dt.month\r\n",
        "\r\n",
        "test['Month'] = pd.to_datetime(test['Month'], format='%Y - %m').dt.month"
      ],
      "execution_count": 227,
      "outputs": []
    },
    {
      "cell_type": "code",
      "metadata": {
        "id": "dG5cIJwfg-HU"
      },
      "source": [
        "# Pasar la columna 'Price' a numérico (incluídos los nulos)\r\n",
        "train['Price'] = train['Price'].replace('None', np.NaN)\r\n",
        "train['Price'] = train['Price'].replace('Other', np.NaN)\r\n",
        "train['Price'] = train['Price'].astype('float')\r\n",
        "\r\n",
        "test['Price'] = test['Price'].replace('None', np.NaN)\r\n",
        "test['Price'] = test['Price'].replace('Other', np.NaN)\r\n",
        "test['Price'] = test['Price'].astype('float')"
      ],
      "execution_count": 228,
      "outputs": []
    },
    {
      "cell_type": "code",
      "metadata": {
        "id": "RYLzLvQVrZEK"
      },
      "source": [
        "# Pasar las columnas de fechas a formato datetime\r\n",
        "formato_fecha = '%m/%d/%Y'\r\n",
        "train['Account_Created_Date'] = pd.to_datetime(train['Account_Created_Date'], format=formato_fecha) # ver fecha fila 0\r\n",
        "train['Opportunity_Created_Date'] = pd.to_datetime(train['Opportunity_Created_Date'], format=formato_fecha) # ver fecha fila 77\r\n",
        "train['Quote_Expiry_Date'] = pd.to_datetime(train['Quote_Expiry_Date'], format=formato_fecha) # ver fecha fila 0\r\n",
        "train['Last_Modified_Date'] = pd.to_datetime(train['Last_Modified_Date'], format=formato_fecha) # ver fecha fila 0\r\n",
        "train['Planned_Delivery_Start_Date'] = pd.to_datetime(train['Planned_Delivery_Start_Date'], format=formato_fecha) # ver fechas filas 0 y 1, comparar el mes con month\r\n",
        "train['Planned_Delivery_End_Date'] = pd.to_datetime(train['Planned_Delivery_End_Date'], format=formato_fecha) # ver fecha fila 0\r\n",
        "\r\n",
        "test['Account_Created_Date'] = pd.to_datetime(test['Account_Created_Date'], format=formato_fecha) # ver fecha fila 0\r\n",
        "test['Opportunity_Created_Date'] = pd.to_datetime(test['Opportunity_Created_Date'], format=formato_fecha) # ver fecha fila 77\r\n",
        "test['Quote_Expiry_Date'] = pd.to_datetime(test['Quote_Expiry_Date'], format=formato_fecha) # ver fecha fila 0\r\n",
        "test['Last_Modified_Date'] = pd.to_datetime(test['Last_Modified_Date'], format=formato_fecha) # ver fecha fila 0\r\n",
        "test['Planned_Delivery_Start_Date'] = pd.to_datetime(test['Planned_Delivery_Start_Date'], format=formato_fecha) # ver fechas filas 0 y 1, comparar el mes con month\r\n",
        "test['Planned_Delivery_End_Date'] = pd.to_datetime(test['Planned_Delivery_End_Date'], format=formato_fecha) # ver fecha fila 0"
      ],
      "execution_count": 229,
      "outputs": []
    },
    {
      "cell_type": "code",
      "metadata": {
        "id": "CV6St44AXMeb"
      },
      "source": [
        "# train.info()\r\n",
        "\r\n",
        "# test.info()"
      ],
      "execution_count": 230,
      "outputs": []
    },
    {
      "cell_type": "markdown",
      "metadata": {
        "id": "dhPfF-tmsCJy"
      },
      "source": [
        "Aquí ya no tenemos ningún feature de tipo object."
      ]
    },
    {
      "cell_type": "code",
      "metadata": {
        "id": "IK8KFVKWiy95"
      },
      "source": [
        "# train.head(10)"
      ],
      "execution_count": 231,
      "outputs": []
    },
    {
      "cell_type": "code",
      "metadata": {
        "id": "Hle8qcmziy94"
      },
      "source": [
        "# test.head(10)"
      ],
      "execution_count": 232,
      "outputs": []
    },
    {
      "cell_type": "markdown",
      "metadata": {
        "id": "3nbhV_0YTV8f"
      },
      "source": [
        "Eliminamos las filas que no son Closed Won o Closed Lost"
      ]
    },
    {
      "cell_type": "code",
      "metadata": {
        "colab": {
          "base_uri": "https://localhost:8080/"
        },
        "id": "nPFXZc362qlR",
        "outputId": "32c623a1-cf06-4545-e692-76c8819cbfcc"
      },
      "source": [
        "# Vemos los posibles valores que puede adoptar 'Stage'\r\n",
        "train['Stage'].value_counts()"
      ],
      "execution_count": 233,
      "outputs": [
        {
          "output_type": "execute_result",
          "data": {
            "text/plain": [
              "Closed Won       9533\n",
              "Closed Lost      7350\n",
              "Proposal           35\n",
              "Negotiation        18\n",
              "Qualification      11\n",
              "Name: Stage, dtype: int64"
            ]
          },
          "metadata": {
            "tags": []
          },
          "execution_count": 233
        }
      ]
    },
    {
      "cell_type": "code",
      "metadata": {
        "colab": {
          "base_uri": "https://localhost:8080/"
        },
        "id": "n9oydklO66hy",
        "outputId": "ec004875-a459-4bab-b2e7-fec42872d98f"
      },
      "source": [
        "# Tenemos que de 16947 filas en total, solo 64 (0.3776%) NO son Closed Won o Closed Lost, es por\r\n",
        "# eso que eliminamos esas filas, su aporte es mínimo.\r\n",
        "train.drop(train[(train['Stage'] != 'Closed Won') & (train['Stage'] != 'Closed Lost')].index, inplace=True)\r\n",
        "train['Stage'].value_counts()"
      ],
      "execution_count": 234,
      "outputs": [
        {
          "output_type": "execute_result",
          "data": {
            "text/plain": [
              "Closed Won       9533\n",
              "Closed Lost      7350\n",
              "Qualification       0\n",
              "Proposal            0\n",
              "Negotiation         0\n",
              "Name: Stage, dtype: int64"
            ]
          },
          "metadata": {
            "tags": []
          },
          "execution_count": 234
        }
      ]
    },
    {
      "cell_type": "markdown",
      "metadata": {
        "id": "-pMJju4Eiy97"
      },
      "source": [
        "## Precio en dolares"
      ]
    },
    {
      "cell_type": "code",
      "metadata": {
        "id": "kMjNV0o6iy97"
      },
      "source": [
        "change_USD = 1 #1 dolar EEUU = 1 dolar EEUU\n",
        "change_EUR = 1.1745 #1 euro = 1,1745 dolares EEUU\n",
        "change_AUD = 0.71601 # 1 dolar australiano = 0.71601 dolar EEUU\n",
        "change_JPY = 0.0094800 # 1 yen japones = 0,0094800 dolares EEUU\n",
        "change_GBP = 1.2935 # 1 libra esterlina = 1,2935 dolares EEUU"
      ],
      "execution_count": 235,
      "outputs": []
    },
    {
      "cell_type": "code",
      "metadata": {
        "id": "upzFTyzriy97"
      },
      "source": [
        "filtro_USD_train = train['Total_Amount_Currency'] == 'USD'\n",
        "filtro_EUR_train = train['Total_Amount_Currency'] == 'EUR'\n",
        "filtro_AUD_train = train['Total_Amount_Currency'] == 'AUD'\n",
        "filtro_JPY_train = train['Total_Amount_Currency'] == 'JPY'\n",
        "filtro_GBP_train = train['Total_Amount_Currency'] == 'GBP'"
      ],
      "execution_count": 236,
      "outputs": []
    },
    {
      "cell_type": "code",
      "metadata": {
        "id": "q3lZxfUpiy98"
      },
      "source": [
        "train.loc[filtro_USD_train, 'USD_Total_Amount'] = train.loc[filtro_USD_train, 'Total_Amount']*change_USD\n",
        "train.loc[filtro_EUR_train, 'USD_Total_Amount'] = train.loc[filtro_EUR_train, 'Total_Amount']*change_EUR\n",
        "train.loc[filtro_AUD_train, 'USD_Total_Amount'] = train.loc[filtro_AUD_train, 'Total_Amount']*change_AUD\n",
        "train.loc[filtro_JPY_train, 'USD_Total_Amount'] = train.loc[filtro_JPY_train, 'Total_Amount']*change_JPY\n",
        "train.loc[filtro_GBP_train, 'USD_Total_Amount'] = train.loc[filtro_GBP_train, 'Total_Amount']*change_GBP"
      ],
      "execution_count": 237,
      "outputs": []
    },
    {
      "cell_type": "code",
      "metadata": {
        "id": "gPembxyCiy98"
      },
      "source": [
        "train['USD_Total_Amount'] = train['USD_Total_Amount'].round(2)"
      ],
      "execution_count": 238,
      "outputs": []
    },
    {
      "cell_type": "code",
      "metadata": {
        "id": "01aI_Vn2iy98"
      },
      "source": [
        "filtro_USD_test = test['Total_Amount_Currency'] == 'USD'\n",
        "filtro_EUR_test = test['Total_Amount_Currency'] == 'EUR'\n",
        "filtro_AUD_test = test['Total_Amount_Currency'] == 'AUD'\n",
        "filtro_JPY_test = test['Total_Amount_Currency'] == 'JPY'\n",
        "filtro_GBP_test = test['Total_Amount_Currency'] == 'GBP'"
      ],
      "execution_count": 239,
      "outputs": []
    },
    {
      "cell_type": "code",
      "metadata": {
        "id": "e8AXEKvTiy99"
      },
      "source": [
        "test.loc[filtro_USD_test, 'USD_Total_Amount'] = test.loc[filtro_USD_test, 'Total_Amount']*change_USD\n",
        "test.loc[filtro_EUR_test, 'USD_Total_Amount'] = test.loc[filtro_EUR_test, 'Total_Amount']*change_EUR\n",
        "test.loc[filtro_AUD_test, 'USD_Total_Amount'] = test.loc[filtro_AUD_test, 'Total_Amount']*change_AUD\n",
        "test.loc[filtro_JPY_test, 'USD_Total_Amount'] = test.loc[filtro_JPY_test, 'Total_Amount']*change_JPY\n",
        "test.loc[filtro_GBP_test, 'USD_Total_Amount'] = test.loc[filtro_GBP_test, 'Total_Amount']*change_GBP"
      ],
      "execution_count": 240,
      "outputs": []
    },
    {
      "cell_type": "code",
      "metadata": {
        "id": "hBWHJU1Uiy99"
      },
      "source": [
        "test['USD_Total_Amount'] = test['USD_Total_Amount'].round(2)"
      ],
      "execution_count": 241,
      "outputs": []
    },
    {
      "cell_type": "markdown",
      "metadata": {
        "id": "_6aDQ4OLiy95"
      },
      "source": [
        "## Codificamos Stage con Binary Encoding"
      ]
    },
    {
      "cell_type": "code",
      "metadata": {
        "id": "BrxMi0oCiy96"
      },
      "source": [
        "train['Target'] = train['Stage'].replace({'Closed Won': 1, 'Closed Lost': 0})"
      ],
      "execution_count": 242,
      "outputs": []
    },
    {
      "cell_type": "code",
      "metadata": {
        "id": "L4POH7VViy96",
        "colab": {
          "base_uri": "https://localhost:8080/"
        },
        "outputId": "ca9bdda5-dbea-4e06-a194-c118f769c7cf"
      },
      "source": [
        "train['Target'].astype(int)"
      ],
      "execution_count": 243,
      "outputs": [
        {
          "output_type": "execute_result",
          "data": {
            "text/plain": [
              "0        0\n",
              "1        1\n",
              "2        1\n",
              "3        0\n",
              "4        0\n",
              "        ..\n",
              "16942    1\n",
              "16943    1\n",
              "16944    1\n",
              "16945    0\n",
              "16946    0\n",
              "Name: Target, Length: 16883, dtype: int64"
            ]
          },
          "metadata": {
            "tags": []
          },
          "execution_count": 243
        }
      ]
    },
    {
      "cell_type": "code",
      "metadata": {
        "id": "_g8Oz45Miy9-"
      },
      "source": [
        "train.drop(columns=['Stage'], inplace=True)"
      ],
      "execution_count": 244,
      "outputs": []
    },
    {
      "cell_type": "markdown",
      "metadata": {
        "id": "9v1imPmZiy99"
      },
      "source": [
        "## Mean encoding por Region"
      ]
    },
    {
      "cell_type": "code",
      "metadata": {
        "id": "Kbe1ybfuiy9-"
      },
      "source": [
        "mean_encoded_region = train.groupby(['Region'])['Target'].mean().to_dict()\n",
        "train['Region'] =  train['Region'].map(mean_encoded_region)\n",
        "\n",
        "test['Region'] = test['Region'].map(mean_encoded_region)"
      ],
      "execution_count": 245,
      "outputs": []
    },
    {
      "cell_type": "code",
      "metadata": {
        "id": "RiUZ9Ki5_fcv",
        "colab": {
          "base_uri": "https://localhost:8080/"
        },
        "outputId": "3e977f48-7a6f-43b3-e14e-5eb558f2b39c"
      },
      "source": [
        "# OJO QUE REGION QUEDÓ DE TIPO CATEGORY\r\n",
        "\r\n",
        "train['Region']"
      ],
      "execution_count": 246,
      "outputs": [
        {
          "output_type": "execute_result",
          "data": {
            "text/plain": [
              "0        0.530258\n",
              "1        0.530258\n",
              "2        0.455886\n",
              "3        0.455886\n",
              "4        0.455886\n",
              "           ...   \n",
              "16942    0.530258\n",
              "16943    0.530258\n",
              "16944    0.530258\n",
              "16945    0.455886\n",
              "16946    0.455886\n",
              "Name: Region, Length: 16883, dtype: category\n",
              "Categories (5, float64): [0.583205, 0.455886, 0.530258, 0.682481, 0.294118]"
            ]
          },
          "metadata": {
            "tags": []
          },
          "execution_count": 246
        }
      ]
    },
    {
      "cell_type": "markdown",
      "metadata": {
        "id": "ElwB7jjJHNJm"
      },
      "source": [
        "Finalmente guardamos el dataframe train en un csv"
      ]
    },
    {
      "cell_type": "code",
      "metadata": {
        "id": "U2kCSjr1HMpO",
        "outputId": "a9ee46a9-7a4f-4a2d-b9de-789815556bf5",
        "colab": {
          "base_uri": "https://localhost:8080/",
          "height": 17
        }
      },
      "source": [
        "# train.to_csv('https://raw.githubusercontent.com/SantiagoTadini/TP2-Datos/main/Features/data_train.csv', mode='a', index=False)\r\n",
        "\r\n",
        "from google.colab import files\r\n",
        "train.to_csv('data_train_posta.csv')\r\n",
        "files.download('data_train_posta.csv')"
      ],
      "execution_count": 247,
      "outputs": [
        {
          "output_type": "display_data",
          "data": {
            "application/javascript": [
              "\n",
              "    async function download(id, filename, size) {\n",
              "      if (!google.colab.kernel.accessAllowed) {\n",
              "        return;\n",
              "      }\n",
              "      const div = document.createElement('div');\n",
              "      const label = document.createElement('label');\n",
              "      label.textContent = `Downloading \"${filename}\": `;\n",
              "      div.appendChild(label);\n",
              "      const progress = document.createElement('progress');\n",
              "      progress.max = size;\n",
              "      div.appendChild(progress);\n",
              "      document.body.appendChild(div);\n",
              "\n",
              "      const buffers = [];\n",
              "      let downloaded = 0;\n",
              "\n",
              "      const channel = await google.colab.kernel.comms.open(id);\n",
              "      // Send a message to notify the kernel that we're ready.\n",
              "      channel.send({})\n",
              "\n",
              "      for await (const message of channel.messages) {\n",
              "        // Send a message to notify the kernel that we're ready.\n",
              "        channel.send({})\n",
              "        if (message.buffers) {\n",
              "          for (const buffer of message.buffers) {\n",
              "            buffers.push(buffer);\n",
              "            downloaded += buffer.byteLength;\n",
              "            progress.value = downloaded;\n",
              "          }\n",
              "        }\n",
              "      }\n",
              "      const blob = new Blob(buffers, {type: 'application/binary'});\n",
              "      const a = document.createElement('a');\n",
              "      a.href = window.URL.createObjectURL(blob);\n",
              "      a.download = filename;\n",
              "      div.appendChild(a);\n",
              "      a.click();\n",
              "      div.remove();\n",
              "    }\n",
              "  "
            ],
            "text/plain": [
              "<IPython.core.display.Javascript object>"
            ]
          },
          "metadata": {
            "tags": []
          }
        },
        {
          "output_type": "display_data",
          "data": {
            "application/javascript": [
              "download(\"download_8b14e484-b667-4f65-b376-1e9ee86c48e1\", \"data_train_posta.csv\", 7158690)"
            ],
            "text/plain": [
              "<IPython.core.display.Javascript object>"
            ]
          },
          "metadata": {
            "tags": []
          }
        }
      ]
    }
  ]
}