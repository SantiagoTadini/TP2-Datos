{
 "cells": [
  {
   "cell_type": "code",
   "execution_count": 67,
   "metadata": {
    "id": "LXFiE36Iiy9o"
   },
   "outputs": [],
   "source": [
    "import pandas as pd\n",
    "import datetime as dt\n",
    "import numpy as np"
   ]
  },
  {
   "cell_type": "code",
   "execution_count": 68,
   "metadata": {
    "id": "AGZPCf4SVV90"
   },
   "outputs": [],
   "source": [
    "# Como vimos en el TP1:\n",
    "\n",
    "# En el read_csv, castear las variables a los tipos que corresponden.\n",
    "# En el usecols sacar: \n",
    "#     * 'Submitted_for_Approval' (Un solo valor: 0)\n",
    "#     * 'Last_Activity' (Todos nulos)\n",
    "#     * 'ASP_(converted)_Currency' (Un solo valor: 'USD')\n",
    "#     * 'Actual_Delivery_Date' (Todos nulos)\n",
    "#     * 'Prod_Category_A' (Un solo valor: 'Prod_Category_A_None')\n",
    "#     * 'Sales_Contract_No' (No permite que se realice el entrenamiento)\n",
    "#     * 'Opportunity_Name' (Tiene correspondencia 1 a 1 con 'Opportunity_ID, es redundante)\n",
    "\n",
    "\n",
    "# ESTAS SON COLUMNAS TODAVÍA ***NO*** ELIMINADAS:\n",
    "#     * 'Brand' (Muchos nulos: 15911)\n",
    "#     * 'Product_Type' (Muchos nulos: 15935)\n",
    "#     * 'Size' (Muchos nulos: 15967)\n",
    "#     * 'Product_Category_B' (Muchos nulos: 15928)\n",
    "#     * 'Price' (Muchos nulos; 15982) ----------------> si ahora lo borramos, borrar celda del replace de Price\n",
    "#     * 'Currency' (Muchos nulos: 16052)\n"
   ]
  },
  {
   "cell_type": "code",
   "execution_count": 69,
   "metadata": {
    "id": "bV4CuYHliy93"
   },
   "outputs": [],
   "source": [
    "# train = pd.read_csv(\"../Train_TP2_Datos_2020-2C.csv\")\n",
    "# test_kaggle = pd.read_csv(\"../Test_TP2_Datos_2020-2C.csv\")\n",
    "\n",
    "url_train = 'https://raw.githubusercontent.com/SantiagoTadini/TP2-Datos/main/Train_TP2_Datos_2020-2C.csv'\n",
    "url_test_kaggle = 'https://raw.githubusercontent.com/SantiagoTadini/TP2-Datos/main/Test_TP2_Datos_2020-2C.csv'\n",
    "train = pd.read_csv(url_train,\\\n",
    "                    usecols=['ID', 'Region', 'Territory', 'Pricing, Delivery_Terms_Quote_Appr',\\\n",
    "                          'Pricing, Delivery_Terms_Approved', 'Bureaucratic_Code_0_Approval', 'Bureaucratic_Code_0_Approved',\\\n",
    "                          'Bureaucratic_Code', 'Account_Created_Date', 'Source ', 'Billing_Country',\\\n",
    "                          'Account_Name', 'Opportunity_ID', 'Account_Owner',\\\n",
    "                          'Opportunity_Owner', 'Account_Type', 'Opportunity_Type', 'Quote_Type', 'Delivery_Terms',\\\n",
    "                          'Opportunity_Created_Date', 'Brand', 'Product_Type', 'Size', 'Product_Category_B', 'Price',\\\n",
    "                          'Currency', 'Quote_Expiry_Date', 'Last_Modified_Date', 'Last_Modified_By',\\\n",
    "                          'Product_Family', 'Product_Name', 'ASP_Currency', 'ASP', 'ASP_(converted)',\\\n",
    "                          'Planned_Delivery_Start_Date', 'Planned_Delivery_End_Date', 'Month', 'Delivery_Quarter',\\\n",
    "                          'Delivery_Year', 'TRF', 'Total_Amount_Currency', 'Total_Amount', 'Total_Taxable_Amount_Currency',\\\n",
    "                          'Total_Taxable_Amount', 'Stage'],\\\n",
    "                    dtype={\n",
    "                          'Region' : 'category',\n",
    "                          'Territory' : 'category',\n",
    "                          'Bureaucratic_Code' : 'category',\n",
    "                          'Source ' : 'category',\n",
    "                          'Billing_Country' : 'category',\n",
    "                          'Account_Name' : 'category',\n",
    "                          'Account_Owner' : 'category',\n",
    "                          'Opportunity_Owner' : 'category',\n",
    "                          'Account_Type' : 'category',\n",
    "                          'Opportunity_Type' : 'category',\n",
    "                          'Quote_Type' : 'category',\n",
    "                          'Delivery_Terms' : 'category',\n",
    "                          'Brand' : 'category',\n",
    "                          'Product_Type' : 'category',\n",
    "                          'Size' : 'category',\n",
    "                          'Product_Category_B' : 'category',\n",
    "                          'Currency' : 'category',\n",
    "                          'Last_Modified_By' : 'category',\n",
    "                          'Product_Family' : 'category',\n",
    "                          'Product_Name' : 'category',\n",
    "                          'ASP_Currency' : 'category',\n",
    "                          'Delivery_Quarter' : 'category',\n",
    "                          'Total_Amount_Currency' : 'category',\n",
    "                          'Total_Taxable_Amount_Currency' : 'category',\n",
    "                          'Stage' : 'category'})\n",
    "test_kaggle = pd.read_csv(url_test_kaggle,\\\n",
    "                          usecols=['ID', 'Region', 'Territory', 'Pricing, Delivery_Terms_Quote_Appr',\\\n",
    "                                  'Pricing, Delivery_Terms_Approved', 'Bureaucratic_Code_0_Approval', 'Bureaucratic_Code_0_Approved',\\\n",
    "                                  'Bureaucratic_Code', 'Account_Created_Date', 'Source ', 'Billing_Country',\\\n",
    "                                  'Account_Name', 'Opportunity_ID', 'Account_Owner',\\\n",
    "                                  'Opportunity_Owner', 'Account_Type', 'Opportunity_Type', 'Quote_Type', 'Delivery_Terms',\\\n",
    "                                  'Opportunity_Created_Date', 'Brand', 'Product_Type', 'Size', 'Product_Category_B', 'Price',\\\n",
    "                                  'Currency', 'Quote_Expiry_Date', 'Last_Modified_Date', 'Last_Modified_By',\\\n",
    "                                  'Product_Family', 'Product_Name', 'ASP_Currency', 'ASP', 'ASP_(converted)',\\\n",
    "                                  'Planned_Delivery_Start_Date', 'Planned_Delivery_End_Date', 'Month', 'Delivery_Quarter',\\\n",
    "                                  'Delivery_Year', 'TRF', 'Total_Amount_Currency', 'Total_Amount', 'Total_Taxable_Amount_Currency',\\\n",
    "                                  'Total_Taxable_Amount'],\\\n",
    "                            dtype={\n",
    "                                  'Region' : 'category',\n",
    "                                  'Territory' : 'category',\n",
    "                                  'Bureaucratic_Code' : 'category',\n",
    "                                  'Source ' : 'category',\n",
    "                                  'Billing_Country' : 'category',\n",
    "                                  'Account_Name' : 'category',\n",
    "                                  'Account_Owner' : 'category',\n",
    "                                  'Opportunity_Owner' : 'category',\n",
    "                                  'Account_Type' : 'category',\n",
    "                                  'Opportunity_Type' : 'category',\n",
    "                                  'Quote_Type' : 'category',\n",
    "                                  'Delivery_Terms' : 'category',\n",
    "                                  'Brand' : 'category',\n",
    "                                  'Product_Type' : 'category',\n",
    "                                  'Size' : 'category',\n",
    "                                  'Product_Category_B' : 'category',\n",
    "                                  'Currency' : 'category',\n",
    "                                  'Last_Modified_By' : 'category',\n",
    "                                  'Product_Family' : 'category',\n",
    "                                  'Product_Name' : 'category',\n",
    "                                  'ASP_Currency' : 'category',\n",
    "                                  'Delivery_Quarter' : 'category',\n",
    "                                  'Total_Amount_Currency' : 'category',\n",
    "                                  'Total_Taxable_Amount_Currency' : 'category'})"
   ]
  },
  {
   "cell_type": "code",
   "execution_count": 70,
   "metadata": {
    "colab": {
     "base_uri": "https://localhost:8080/"
    },
    "id": "F989UwUQddaE",
    "outputId": "c165aafa-24ea-4a04-d227-c798f53798e1"
   },
   "outputs": [
    {
     "name": "stdout",
     "output_type": "stream",
     "text": [
      "Cantidad de columnas de train: 45 y cantidad de filas de train: 16947\n",
      "Cantidad de columnas de test_kaggle: 44 y cantidad de filas de test_kaggle: 2551\n"
     ]
    }
   ],
   "source": [
    "# Cantidad de columnas y filas de cada set de datos\n",
    "print('Cantidad de columnas de train:', len(train.columns), 'y cantidad de filas de train:', len(train))\n",
    "print('Cantidad de columnas de test_kaggle:', len(test_kaggle.columns), 'y cantidad de filas de test_kaggle:', len(test_kaggle))"
   ]
  },
  {
   "cell_type": "code",
   "execution_count": 71,
   "metadata": {
    "id": "PSsdxnWLeRSa"
   },
   "outputs": [],
   "source": [
    "# Sacar espacio del nombre de la columna 'Source'\n",
    "train.rename(columns={'Source ' : 'Source', 'ASP_(converted)' : 'ASP_(converted_USD)'}, inplace=True)\n",
    "\n",
    "test_kaggle.rename(columns={'Source ' : 'Source', 'ASP_(converted)' : 'ASP_(converted_USD)'}, inplace=True)"
   ]
  },
  {
   "cell_type": "code",
   "execution_count": 72,
   "metadata": {
    "id": "odP5l-y-ea6u"
   },
   "outputs": [],
   "source": [
    "# Poner en la columna Month sólo el mes (que no aparezca el año)\n",
    "train['Month'] = pd.to_datetime(train['Month'], format='%Y - %m').dt.month\n",
    "\n",
    "test_kaggle['Month'] = pd.to_datetime(test_kaggle['Month'], format='%Y - %m').dt.month"
   ]
  },
  {
   "cell_type": "code",
   "execution_count": 73,
   "metadata": {
    "id": "dG5cIJwfg-HU"
   },
   "outputs": [],
   "source": [
    "# Pasar la columna 'Price' a numérico (incluídos los nulos)\n",
    "train['Price'] = train['Price'].replace('None', np.NaN)\n",
    "train['Price'] = train['Price'].replace('Other', np.NaN)\n",
    "train['Price'] = train['Price'].astype('float')\n",
    "\n",
    "test_kaggle['Price'] = test_kaggle['Price'].replace('None', np.NaN)\n",
    "test_kaggle['Price'] = test_kaggle['Price'].replace('Other', np.NaN)\n",
    "test_kaggle['Price'] = test_kaggle['Price'].astype('float')"
   ]
  },
  {
   "cell_type": "code",
   "execution_count": 74,
   "metadata": {
    "id": "RYLzLvQVrZEK"
   },
   "outputs": [],
   "source": [
    "# Pasar las columnas de fechas a formato datetime\n",
    "formato_fecha = '%m/%d/%Y'\n",
    "train['Account_Created_Date'] = pd.to_datetime(train['Account_Created_Date'], format=formato_fecha) # ver fecha fila 0\n",
    "train['Opportunity_Created_Date'] = pd.to_datetime(train['Opportunity_Created_Date'], format=formato_fecha) # ver fecha fila 77\n",
    "train['Quote_Expiry_Date'] = pd.to_datetime(train['Quote_Expiry_Date'], format=formato_fecha) # ver fecha fila 0\n",
    "train['Last_Modified_Date'] = pd.to_datetime(train['Last_Modified_Date'], format=formato_fecha) # ver fecha fila 0\n",
    "train['Planned_Delivery_Start_Date'] = pd.to_datetime(train['Planned_Delivery_Start_Date'], format=formato_fecha) # ver fechas filas 0 y 1, comparar el mes con month\n",
    "train['Planned_Delivery_End_Date'] = pd.to_datetime(train['Planned_Delivery_End_Date'], format=formato_fecha) # ver fecha fila 0\n",
    "\n",
    "test_kaggle['Account_Created_Date'] = pd.to_datetime(test_kaggle['Account_Created_Date'], format=formato_fecha) # ver fecha fila 0\n",
    "test_kaggle['Opportunity_Created_Date'] = pd.to_datetime(test_kaggle['Opportunity_Created_Date'], format=formato_fecha) # ver fecha fila 77\n",
    "test_kaggle['Quote_Expiry_Date'] = pd.to_datetime(test_kaggle['Quote_Expiry_Date'], format=formato_fecha) # ver fecha fila 0\n",
    "test_kaggle['Last_Modified_Date'] = pd.to_datetime(test_kaggle['Last_Modified_Date'], format=formato_fecha) # ver fecha fila 0\n",
    "test_kaggle['Planned_Delivery_Start_Date'] = pd.to_datetime(test_kaggle['Planned_Delivery_Start_Date'], format=formato_fecha) # ver fechas filas 0 y 1, comparar el mes con month\n",
    "test_kaggle['Planned_Delivery_End_Date'] = pd.to_datetime(test_kaggle['Planned_Delivery_End_Date'], format=formato_fecha) # ver fecha fila 0"
   ]
  },
  {
   "cell_type": "code",
   "execution_count": 75,
   "metadata": {
    "id": "CV6St44AXMeb"
   },
   "outputs": [],
   "source": [
    "# train.info()\n",
    "\n",
    "# test_kaggle.info()"
   ]
  },
  {
   "cell_type": "markdown",
   "metadata": {
    "id": "dhPfF-tmsCJy"
   },
   "source": [
    "Aquí ya no tenemos ningún feature de tipo object."
   ]
  },
  {
   "cell_type": "code",
   "execution_count": 76,
   "metadata": {
    "id": "IK8KFVKWiy95"
   },
   "outputs": [],
   "source": [
    "# train.head(10)"
   ]
  },
  {
   "cell_type": "code",
   "execution_count": 77,
   "metadata": {
    "id": "Hle8qcmziy94"
   },
   "outputs": [],
   "source": [
    "# test_kaggle.head(10)"
   ]
  },
  {
   "cell_type": "markdown",
   "metadata": {
    "id": "3nbhV_0YTV8f"
   },
   "source": [
    "Eliminamos las filas que no son Closed Won o Closed Lost de train"
   ]
  },
  {
   "cell_type": "code",
   "execution_count": 78,
   "metadata": {
    "colab": {
     "base_uri": "https://localhost:8080/"
    },
    "id": "nPFXZc362qlR",
    "outputId": "9dec34d4-cb3a-45fa-91db-0872a88c969e"
   },
   "outputs": [
    {
     "data": {
      "text/plain": [
       "Closed Won       9533\n",
       "Closed Lost      7350\n",
       "Proposal           35\n",
       "Negotiation        18\n",
       "Qualification      11\n",
       "Name: Stage, dtype: int64"
      ]
     },
     "execution_count": 78,
     "metadata": {},
     "output_type": "execute_result"
    }
   ],
   "source": [
    "# Vemos los posibles valores que puede adoptar 'Stage'\n",
    "train['Stage'].value_counts()"
   ]
  },
  {
   "cell_type": "code",
   "execution_count": 79,
   "metadata": {
    "colab": {
     "base_uri": "https://localhost:8080/"
    },
    "id": "n9oydklO66hy",
    "outputId": "a87ddd5e-0376-4ae1-adb6-bb80406d4c2e"
   },
   "outputs": [
    {
     "data": {
      "text/plain": [
       "Closed Won       9533\n",
       "Closed Lost      7350\n",
       "Qualification       0\n",
       "Proposal            0\n",
       "Negotiation         0\n",
       "Name: Stage, dtype: int64"
      ]
     },
     "execution_count": 79,
     "metadata": {},
     "output_type": "execute_result"
    }
   ],
   "source": [
    "# Tenemos que de 16947 filas en total, solo 64 (0.3776%) NO son Closed Won o Closed Lost, es por\n",
    "# eso que eliminamos esas filas, su aporte es mínimo.\n",
    "train.drop(train[(train['Stage'] != 'Closed Won') & (train['Stage'] != 'Closed Lost')].index, inplace=True)\n",
    "train['Stage'].value_counts()"
   ]
  },
  {
   "cell_type": "markdown",
   "metadata": {
    "id": "-pMJju4Eiy97"
   },
   "source": [
    "## Precio en dolares"
   ]
  },
  {
   "cell_type": "code",
   "execution_count": 80,
   "metadata": {
    "id": "kMjNV0o6iy97"
   },
   "outputs": [],
   "source": [
    "change_USD = 1 #1 dolar EEUU = 1 dolar EEUU\n",
    "change_EUR = 1.1745 #1 euro = 1,1745 dolares EEUU\n",
    "change_AUD = 0.71601 # 1 dolar australiano = 0.71601 dolar EEUU\n",
    "change_JPY = 0.0094800 # 1 yen japones = 0,0094800 dolares EEUU\n",
    "change_GBP = 1.2935 # 1 libra esterlina = 1,2935 dolares EEUU"
   ]
  },
  {
   "cell_type": "code",
   "execution_count": 81,
   "metadata": {
    "id": "upzFTyzriy97"
   },
   "outputs": [],
   "source": [
    "filtro_USD_train = train['Total_Amount_Currency'] == 'USD'\n",
    "filtro_EUR_train = train['Total_Amount_Currency'] == 'EUR'\n",
    "filtro_AUD_train = train['Total_Amount_Currency'] == 'AUD'\n",
    "filtro_JPY_train = train['Total_Amount_Currency'] == 'JPY'\n",
    "filtro_GBP_train = train['Total_Amount_Currency'] == 'GBP'"
   ]
  },
  {
   "cell_type": "code",
   "execution_count": 82,
   "metadata": {
    "id": "q3lZxfUpiy98"
   },
   "outputs": [],
   "source": [
    "train.loc[filtro_USD_train, 'USD_Total_Amount'] = train.loc[filtro_USD_train, 'Total_Amount']*change_USD\n",
    "train.loc[filtro_EUR_train, 'USD_Total_Amount'] = train.loc[filtro_EUR_train, 'Total_Amount']*change_EUR\n",
    "train.loc[filtro_AUD_train, 'USD_Total_Amount'] = train.loc[filtro_AUD_train, 'Total_Amount']*change_AUD\n",
    "train.loc[filtro_JPY_train, 'USD_Total_Amount'] = train.loc[filtro_JPY_train, 'Total_Amount']*change_JPY\n",
    "train.loc[filtro_GBP_train, 'USD_Total_Amount'] = train.loc[filtro_GBP_train, 'Total_Amount']*change_GBP"
   ]
  },
  {
   "cell_type": "code",
   "execution_count": 83,
   "metadata": {
    "id": "gPembxyCiy98"
   },
   "outputs": [],
   "source": [
    "train['USD_Total_Amount'] = train['USD_Total_Amount'].round(2)"
   ]
  },
  {
   "cell_type": "code",
   "execution_count": 84,
   "metadata": {
    "id": "01aI_Vn2iy98"
   },
   "outputs": [],
   "source": [
    "filtro_USD_test = test_kaggle['Total_Amount_Currency'] == 'USD'\n",
    "filtro_EUR_test = test_kaggle['Total_Amount_Currency'] == 'EUR'\n",
    "filtro_AUD_test = test_kaggle['Total_Amount_Currency'] == 'AUD'\n",
    "filtro_JPY_test = test_kaggle['Total_Amount_Currency'] == 'JPY'\n",
    "filtro_GBP_test = test_kaggle['Total_Amount_Currency'] == 'GBP'"
   ]
  },
  {
   "cell_type": "code",
   "execution_count": 85,
   "metadata": {
    "id": "e8AXEKvTiy99"
   },
   "outputs": [],
   "source": [
    "test_kaggle.loc[filtro_USD_test, 'USD_Total_Amount'] = test_kaggle.loc[filtro_USD_test, 'Total_Amount']*change_USD\n",
    "test_kaggle.loc[filtro_EUR_test, 'USD_Total_Amount'] = test_kaggle.loc[filtro_EUR_test, 'Total_Amount']*change_EUR\n",
    "test_kaggle.loc[filtro_AUD_test, 'USD_Total_Amount'] = test_kaggle.loc[filtro_AUD_test, 'Total_Amount']*change_AUD\n",
    "test_kaggle.loc[filtro_JPY_test, 'USD_Total_Amount'] = test_kaggle.loc[filtro_JPY_test, 'Total_Amount']*change_JPY\n",
    "test_kaggle.loc[filtro_GBP_test, 'USD_Total_Amount'] = test_kaggle.loc[filtro_GBP_test, 'Total_Amount']*change_GBP"
   ]
  },
  {
   "cell_type": "code",
   "execution_count": 86,
   "metadata": {
    "id": "hBWHJU1Uiy99"
   },
   "outputs": [],
   "source": [
    "test_kaggle['USD_Total_Amount'] = test_kaggle['USD_Total_Amount'].round(2)"
   ]
  },
  {
   "cell_type": "markdown",
   "metadata": {
    "id": "_6aDQ4OLiy95"
   },
   "source": [
    "## Codificamos Stage con Binary Encoding"
   ]
  },
  {
   "cell_type": "code",
   "execution_count": 87,
   "metadata": {
    "id": "BrxMi0oCiy96"
   },
   "outputs": [],
   "source": [
    "train['Target'] = train['Stage'].replace({'Closed Won': 1, 'Closed Lost': 0})"
   ]
  },
  {
   "cell_type": "code",
   "execution_count": 88,
   "metadata": {
    "colab": {
     "base_uri": "https://localhost:8080/"
    },
    "id": "L4POH7VViy96",
    "outputId": "f1b5d57b-cff8-4609-96ae-7040b5c0f5af"
   },
   "outputs": [
    {
     "data": {
      "text/plain": [
       "0        0\n",
       "1        1\n",
       "2        1\n",
       "3        0\n",
       "4        0\n",
       "        ..\n",
       "16942    1\n",
       "16943    1\n",
       "16944    1\n",
       "16945    0\n",
       "16946    0\n",
       "Name: Target, Length: 16883, dtype: int32"
      ]
     },
     "execution_count": 88,
     "metadata": {},
     "output_type": "execute_result"
    }
   ],
   "source": [
    "train['Target'].astype(int)"
   ]
  },
  {
   "cell_type": "code",
   "execution_count": 89,
   "metadata": {
    "id": "_g8Oz45Miy9-"
   },
   "outputs": [],
   "source": [
    "train.drop(columns=['Stage'], inplace=True)"
   ]
  },
  {
   "cell_type": "markdown",
   "metadata": {
    "id": "wFG1VYvmNJZ9"
   },
   "source": [
    "## Ordenamos según fecha de creación de la oportunidad y pasamos las fechas a números"
   ]
  },
  {
   "cell_type": "code",
   "execution_count": 90,
   "metadata": {
    "id": "83qCpSewNQcj"
   },
   "outputs": [],
   "source": [
    "# Ordenamos por fecha para no entrenar con el futuro\n",
    "train.sort_values('Opportunity_Created_Date', ascending=True, inplace=True)\n",
    "test_kaggle.sort_values('Opportunity_Created_Date', ascending=True, inplace=True)"
   ]
  },
  {
   "cell_type": "code",
   "execution_count": 91,
   "metadata": {
    "colab": {
     "base_uri": "https://localhost:8080/"
    },
    "id": "S8Lk-Z_wz4aW",
    "outputId": "89313cab-483e-4b9c-ed00-956b7a2de4c7"
   },
   "outputs": [
    {
     "data": {
      "text/plain": [
       "16104   2013-11-05\n",
       "16105   2014-03-21\n",
       "16106   2014-03-28\n",
       "16107   2014-03-28\n",
       "16109   2014-05-13\n",
       "           ...    \n",
       "16099   2018-12-26\n",
       "16100   2018-12-28\n",
       "16103   2018-12-29\n",
       "16101   2018-12-29\n",
       "16102   2018-12-29\n",
       "Name: Opportunity_Created_Date, Length: 16883, dtype: datetime64[ns]"
      ]
     },
     "execution_count": 91,
     "metadata": {},
     "output_type": "execute_result"
    }
   ],
   "source": [
    "train['Opportunity_Created_Date']"
   ]
  },
  {
   "cell_type": "code",
   "execution_count": 92,
   "metadata": {
    "colab": {
     "base_uri": "https://localhost:8080/"
    },
    "id": "casTJzib0BUF",
    "outputId": "e21b1944-b785-47f0-901a-58c2258c56a9"
   },
   "outputs": [
    {
     "data": {
      "text/plain": [
       "718    2019-01-01\n",
       "719    2019-01-01\n",
       "726    2019-01-01\n",
       "725    2019-01-01\n",
       "720    2019-01-01\n",
       "          ...    \n",
       "2545   2019-04-26\n",
       "2546   2019-04-26\n",
       "2547   2019-04-26\n",
       "2548   2019-04-26\n",
       "2550   2019-04-27\n",
       "Name: Opportunity_Created_Date, Length: 2551, dtype: datetime64[ns]"
      ]
     },
     "execution_count": 92,
     "metadata": {},
     "output_type": "execute_result"
    }
   ],
   "source": [
    "test_kaggle['Opportunity_Created_Date']"
   ]
  },
  {
   "cell_type": "code",
   "execution_count": 93,
   "metadata": {
    "id": "fO1Y61bsNjvU"
   },
   "outputs": [],
   "source": [
    "# Pasamos las fechas a números para que queden como variables numéricas\n",
    "train['Account_Created_Date'] = train['Account_Created_Date'].map(dt.datetime.toordinal)\n",
    "train['Opportunity_Created_Date'] = train['Opportunity_Created_Date'].map(dt.datetime.toordinal)\n",
    "train['Quote_Expiry_Date'] = train['Quote_Expiry_Date'].map(dt.datetime.toordinal)\n",
    "train['Last_Modified_Date'] = train['Last_Modified_Date'].map(dt.datetime.toordinal)\n",
    "train['Planned_Delivery_Start_Date'] = train['Planned_Delivery_Start_Date'].map(dt.datetime.toordinal)\n",
    "train['Planned_Delivery_End_Date'] = train['Planned_Delivery_End_Date'].map(dt.datetime.toordinal)\n",
    "\n",
    "\n",
    "test_kaggle['Account_Created_Date'] = test_kaggle['Account_Created_Date'].map(dt.datetime.toordinal)\n",
    "test_kaggle['Opportunity_Created_Date'] = test_kaggle['Opportunity_Created_Date'].map(dt.datetime.toordinal)\n",
    "test_kaggle['Quote_Expiry_Date'] = test_kaggle['Quote_Expiry_Date'].map(dt.datetime.toordinal)\n",
    "test_kaggle['Last_Modified_Date'] = test_kaggle['Last_Modified_Date'].map(dt.datetime.toordinal)\n",
    "test_kaggle['Planned_Delivery_Start_Date'] = test_kaggle['Planned_Delivery_Start_Date'].map(dt.datetime.toordinal)\n",
    "test_kaggle['Planned_Delivery_End_Date'] = test_kaggle['Planned_Delivery_End_Date'].map(dt.datetime.toordinal)"
   ]
  },
  {
   "cell_type": "markdown",
   "metadata": {
    "id": "3vDKM5jem6OA"
   },
   "source": [
    "## Separamos train en train y test"
   ]
  },
  {
   "cell_type": "code",
   "execution_count": 94,
   "metadata": {
    "id": "jfudLMijm4Jw"
   },
   "outputs": [],
   "source": [
    "# Ahora que está ordenado, hacemos una separación del set de datos en:\n",
    "#   * 80% para el set de train\n",
    "#   * 20% para el set de test\n",
    "ochenta_porciento = round(len(train) * 0.8) - 1\n",
    "\n",
    "test = train.iloc[ochenta_porciento:, :]\n",
    "train = train.iloc[:ochenta_porciento, :]"
   ]
  },
  {
   "cell_type": "markdown",
   "metadata": {
    "id": "L3FNYqN6DGwB"
   },
   "source": [
    "Verificamos que los tiempos sean correctos"
   ]
  },
  {
   "cell_type": "code",
   "execution_count": 95,
   "metadata": {
    "colab": {
     "base_uri": "https://localhost:8080/"
    },
    "id": "xAUBLsm4DNos",
    "outputId": "0e4a560b-f319-463c-858d-3d05e71e572b"
   },
   "outputs": [
    {
     "data": {
      "text/plain": [
       "True"
      ]
     },
     "execution_count": 95,
     "metadata": {},
     "output_type": "execute_result"
    }
   ],
   "source": [
    "# El primero de train sea menor al último de train\n",
    "train.iloc[0, 19] < train.iloc[len(train) - 1, 19]"
   ]
  },
  {
   "cell_type": "code",
   "execution_count": 96,
   "metadata": {
    "colab": {
     "base_uri": "https://localhost:8080/"
    },
    "id": "4KKXJ6y6DNiK",
    "outputId": "00a5d90b-1176-4c70-8850-fd87aad5b4ed"
   },
   "outputs": [
    {
     "data": {
      "text/plain": [
       "True"
      ]
     },
     "execution_count": 96,
     "metadata": {},
     "output_type": "execute_result"
    }
   ],
   "source": [
    "# El último de train sea menor al primero de test\n",
    "train.iloc[len(train) -1, 19] < test.iloc[0, 19]"
   ]
  },
  {
   "cell_type": "code",
   "execution_count": 97,
   "metadata": {
    "colab": {
     "base_uri": "https://localhost:8080/"
    },
    "id": "GjKwBx_4DDID",
    "outputId": "09421a09-2397-4f3c-bd68-d91f90381d2d"
   },
   "outputs": [
    {
     "data": {
      "text/plain": [
       "True"
      ]
     },
     "execution_count": 97,
     "metadata": {},
     "output_type": "execute_result"
    }
   ],
   "source": [
    "# El último de test sea menor al primero de test_kaggle\n",
    "test.iloc[len(test) -1, 19] < test_kaggle.iloc[0, 19]"
   ]
  },
  {
   "cell_type": "markdown",
   "metadata": {},
   "source": [
    "## Features\n",
    "\n",
    "### Ventas por personas por mes"
   ]
  },
  {
   "cell_type": "code",
   "execution_count": 98,
   "metadata": {},
   "outputs": [],
   "source": [
    "def contar_ventas_persona_mes(df):\n",
    "    ventas_persona_mes = df.groupby(['Account_Name', 'Delivery_Year', 'Month']).agg({'ID': 'count'})\n",
    "    l = []\n",
    "    for index, row in df.iterrows():\n",
    "        x = ventas_persona_mes.loc[row['Account_Name'], row['Delivery_Year'], row['Month']]\n",
    "        l.append(x['ID'])\n",
    "    return l"
   ]
  },
  {
   "cell_type": "code",
   "execution_count": 99,
   "metadata": {},
   "outputs": [],
   "source": [
    "train['Ventas_Persona_por_Mes'] = contar_ventas_persona_mes(train)\n",
    "test['Ventas_Persona_por_Mes'] = contar_ventas_persona_mes(test)\n",
    "test_kaggle['Ventas_Persona_por_Mes'] = contar_ventas_persona_mes(test_kaggle)"
   ]
  },
  {
   "cell_type": "markdown",
   "metadata": {},
   "source": [
    "### Ventas por persona por año"
   ]
  },
  {
   "cell_type": "code",
   "execution_count": 100,
   "metadata": {},
   "outputs": [],
   "source": [
    "def contar_ventas_persona_anio(df):\n",
    "    ventas_persona_anio = df.groupby(['Account_Name', 'Delivery_Year']).agg({'ID': 'count'})\n",
    "    l = []\n",
    "    for index, row in df.iterrows():\n",
    "        x = ventas_persona_anio.loc[row['Account_Name'], row['Delivery_Year']]\n",
    "        l.append(x['ID'])\n",
    "    return l"
   ]
  },
  {
   "cell_type": "code",
   "execution_count": 101,
   "metadata": {},
   "outputs": [],
   "source": [
    "train['Ventas_Persona_por_Anio'] = contar_ventas_persona_anio(train)\n",
    "test['Ventas_Persona_por_Anio'] = contar_ventas_persona_anio(test)\n",
    "test_kaggle['Ventas_Persona_por_Anio'] = contar_ventas_persona_anio(test_kaggle)"
   ]
  },
  {
   "cell_type": "markdown",
   "metadata": {},
   "source": [
    "### Ventas por producto por mes"
   ]
  },
  {
   "cell_type": "code",
   "execution_count": 102,
   "metadata": {},
   "outputs": [],
   "source": [
    "def contar_ventas_producto_mes(df):\n",
    "    ventas_producto_mes = df.groupby(['Product_Name', 'Delivery_Year', 'Month']).agg({'ID': 'count'})\n",
    "    l = []\n",
    "    for index, row in df.iterrows():\n",
    "        x = ventas_producto_mes.loc[row['Product_Name'], row['Delivery_Year'], row['Month']]\n",
    "        l.append(x['ID'])\n",
    "    return l"
   ]
  },
  {
   "cell_type": "code",
   "execution_count": 103,
   "metadata": {},
   "outputs": [],
   "source": [
    "train['Ventas_Producto_por_Mes'] = contar_ventas_producto_mes(train)\n",
    "test['Ventas_Producto_por_Mes'] = contar_ventas_producto_mes(test)\n",
    "test_kaggle['Ventas_Producto_por_Mes'] = contar_ventas_producto_mes(test_kaggle)"
   ]
  },
  {
   "cell_type": "markdown",
   "metadata": {},
   "source": [
    "### Ventas por producto por año"
   ]
  },
  {
   "cell_type": "code",
   "execution_count": 104,
   "metadata": {},
   "outputs": [],
   "source": [
    "def contar_ventas_producto_anio(df):\n",
    "    ventas_producto_anio = df.groupby(['Product_Name', 'Delivery_Year']).agg({'ID': 'count'})\n",
    "    l = []\n",
    "    for index, row in df.iterrows():\n",
    "        x = ventas_producto_anio.loc[row['Product_Name'], row['Delivery_Year']]\n",
    "        l.append(x['ID'])\n",
    "    return l"
   ]
  },
  {
   "cell_type": "code",
   "execution_count": 105,
   "metadata": {},
   "outputs": [],
   "source": [
    "train['Ventas_Producto_por_Anio'] = contar_ventas_producto_anio(train)\n",
    "test['Ventas_Producto_por_Anio'] = contar_ventas_producto_anio(test)\n",
    "test_kaggle['Ventas_Producto_por_Anio'] = contar_ventas_producto_anio(test_kaggle)"
   ]
  },
  {
   "cell_type": "markdown",
   "metadata": {},
   "source": [
    "### Diferencia entre Fecha de ultima modificacion y de vencimiento en el presupuesto"
   ]
  },
  {
   "cell_type": "code",
   "execution_count": 106,
   "metadata": {},
   "outputs": [],
   "source": [
    "train['Diferencia_Fecha_modificacion_y_presupuesto'] = train['Quote_Expiry_Date'] - train['Last_Modified_Date']\n",
    "test['Diferencia_Fecha_modificacion_y_presupuesto'] = test['Quote_Expiry_Date'] - test['Last_Modified_Date']\n",
    "test_kaggle['Diferencia_Fecha_modificacion_y_presupuesto'] = test_kaggle['Quote_Expiry_Date'] - test_kaggle['Last_Modified_Date']"
   ]
  },
  {
   "cell_type": "code",
   "execution_count": null,
   "metadata": {},
   "outputs": [],
   "source": []
  },
  {
   "cell_type": "markdown",
   "metadata": {
    "id": "DGoTGEfJZBo7"
   },
   "source": [
    "## Mean Encoding"
   ]
  },
  {
   "cell_type": "code",
   "execution_count": 107,
   "metadata": {
    "id": "FLtgDP4iZFuN"
   },
   "outputs": [],
   "source": [
    "def mean_encoding(train, test, test_kaggle, columnas_a_aplicar_mean_encoding):\n",
    "  # train, test y test_kaggle son los DataFrames sobre los cuales aplicar el mean encoding\n",
    "  # columnas_a_aplicar_mean_encoding es una lista de strings, que son los nombres de las columnas a aplicar mean encoding\n",
    "  # Esta función no devuelve nada porque es inplace\n",
    "  for columna in columnas_a_aplicar_mean_encoding:\n",
    "    mean_encoded = train.groupby(columna)['Target'].mean().to_dict()\n",
    "\n",
    "    train[columna] = train[columna].map(mean_encoded)\n",
    "    train[columna] = pd.to_numeric(train[columna])\n",
    "\n",
    "    test[columna] = test[columna].map(mean_encoded)\n",
    "    test[columna] = pd.to_numeric(test[columna])\n",
    "    \n",
    "    test_kaggle[columna] = test_kaggle[columna].map(mean_encoded)\n",
    "    test_kaggle[columna] = pd.to_numeric(test_kaggle[columna])"
   ]
  },
  {
   "cell_type": "code",
   "execution_count": 108,
   "metadata": {
    "id": "8jmtin0EaJOx"
   },
   "outputs": [],
   "source": [
    "columnas_a_aplicar_mean_encoding = ['Region', 'Territory', 'Bureaucratic_Code', 'Source', 'Billing_Country',\\\n",
    "                                    'Account_Name', 'Account_Owner', 'Opportunity_Owner', 'Account_Type',\\\n",
    "                                    'Opportunity_Type', 'Quote_Type', 'Delivery_Terms', 'Brand', 'Product_Type',\\\n",
    "                                    'Size', 'Product_Category_B', 'Currency', 'Last_Modified_By', 'Product_Family',\\\n",
    "                                    'Product_Name', 'ASP_Currency', 'Delivery_Quarter', 'Total_Amount_Currency',\\\n",
    "                                    'Total_Taxable_Amount_Currency']\n",
    "mean_encoding(train, test, test_kaggle, columnas_a_aplicar_mean_encoding)"
   ]
  },
  {
   "cell_type": "markdown",
   "metadata": {},
   "source": [
    "### Promedio entre Account_Name y Product_Name"
   ]
  },
  {
   "cell_type": "code",
   "execution_count": 109,
   "metadata": {},
   "outputs": [],
   "source": [
    "train['Mean_Account_Product'] = (train['Account_Name'] + train['Product_Name'])/2\n",
    "test['Mean_Account_Product'] = (test['Account_Name'] + test['Product_Name'])/2\n",
    "test_kaggle['Mean_Account_Product'] = (test_kaggle['Account_Name'] + test_kaggle['Product_Name'])/2"
   ]
  },
  {
   "cell_type": "markdown",
   "metadata": {},
   "source": [
    "### Promedio entre Account_Name, Product_Name, Bureaucratic_Code y Last_Modified_By"
   ]
  },
  {
   "cell_type": "code",
   "execution_count": 110,
   "metadata": {},
   "outputs": [],
   "source": [
    "train['Mean_Account_Product_Bureaucratic_LastModified'] = (train['Account_Name'] + train['Product_Name']\\\n",
    "                                                + train['Bureaucratic_Code'] + train['Last_Modified_By'])/4\n",
    "test['Mean_Account_Product_Bureaucratic_LastModified'] = (test['Account_Name'] + test['Product_Name']\\\n",
    "                                                + test['Bureaucratic_Code'] + test['Last_Modified_By'])/4\n",
    "test_kaggle['Mean_Account_Product_Bureaucratic_LastModified'] = \\\n",
    "                                    (test_kaggle['Account_Name'] + test_kaggle['Product_Name']\\\n",
    "                                    + test_kaggle['Bureaucratic_Code'] + test_kaggle['Last_Modified_By'])/4"
   ]
  },
  {
   "cell_type": "markdown",
   "metadata": {},
   "source": [
    "### Quote_Expiry_Date y USD_Total_Amount por Account_Name"
   ]
  },
  {
   "cell_type": "code",
   "execution_count": 111,
   "metadata": {},
   "outputs": [],
   "source": [
    "train['Account_Por_Expiry'] = train['Quote_Expiry_Date']*train['Account_Name']\n",
    "train['Account_Por_TotalAmount'] = train['USD_Total_Amount']*train['Account_Name']\n",
    "test['Account_Por_Expiry'] = test['Quote_Expiry_Date']*test['Account_Name']\n",
    "test['Account_Por_TotalAmount'] = test['USD_Total_Amount']*test['Account_Name']\n",
    "test_kaggle['Account_Por_Expiry'] = test_kaggle['Quote_Expiry_Date']*test_kaggle['Account_Name']\n",
    "test_kaggle['Account_Por_TotalAmount'] = test_kaggle['USD_Total_Amount']*test_kaggle['Account_Name']\n"
   ]
  },
  {
   "cell_type": "markdown",
   "metadata": {},
   "source": [
    "### Quote_Expiry_Date y USD_Total_Amount dividido Account_Name"
   ]
  },
  {
   "cell_type": "code",
   "execution_count": 112,
   "metadata": {},
   "outputs": [],
   "source": [
    "# train['Expiry_Dividido_Account'] = train['Quote_Expiry_Date']/train['Account_Name']\n",
    "# train['TotalAmount_Dividido_Account'] = train['USD_Total_Amount']/train['Account_Name']\n",
    "# test['Expiry_Dividido_Account'] = test['Quote_Expiry_Date']/test['Account_Name']\n",
    "# test['TotalAmount_Dividido_Account'] = test['USD_Total_Amount']/test['Account_Name']\n",
    "# test_kaggle['Expiry_Dividido_Account'] = test_kaggle['Quote_Expiry_Date']/test_kaggle['Account_Name']\n",
    "# test_kaggle['TotalAmount_Dividido_Account'] = test_kaggle['USD_Total_Amount']/test_kaggle['Account_Name']"
   ]
  },
  {
   "cell_type": "markdown",
   "metadata": {},
   "source": [
    "### Reordenamos las columnas"
   ]
  },
  {
   "cell_type": "code",
   "execution_count": 113,
   "metadata": {},
   "outputs": [],
   "source": [
    "def reorder_columns(df):\n",
    "    cols = list(df.columns.values)\n",
    "    cols.pop(cols.index('Target'))\n",
    "    return df[cols+['Target']]"
   ]
  },
  {
   "cell_type": "code",
   "execution_count": 114,
   "metadata": {},
   "outputs": [],
   "source": [
    "train = reorder_columns(train)\n",
    "test = reorder_columns(test)"
   ]
  },
  {
   "cell_type": "code",
   "execution_count": null,
   "metadata": {},
   "outputs": [],
   "source": []
  },
  {
   "cell_type": "markdown",
   "metadata": {
    "id": "onQKL34avZ49"
   },
   "source": [
    "## Analizamos los valores nulos de las columnas"
   ]
  },
  {
   "cell_type": "code",
   "execution_count": 115,
   "metadata": {
    "id": "ALfUY-81vUC4"
   },
   "outputs": [],
   "source": [
    "# train.info()\n",
    "# test.info()\n",
    "# test_kaggle.info()"
   ]
  },
  {
   "cell_type": "markdown",
   "metadata": {
    "id": "3HWoyZQxFWcT"
   },
   "source": [
    "Podemos ver que quedan los siguientes nulos:\n",
    "\n",
    "* 'Territory' (test/test_kaggle)\n",
    "* 'Billing_Country' (test/test_kaggle)\n",
    "* 'Account_Name' (test/test_kaggle)\n",
    "* 'Opportunity_Owner' (test/test_kaggle)\n",
    "* 'Opportunity Type' (test)\n",
    "* 'Brand' (test/test_kaggle)\n",
    "* 'Size' (test)\n",
    "* 'Product_Category_B' (test/test_kaggle)\n",
    "* 'Price' (train/test/test_kaggle)\n",
    "* 'Last_Modified_By' (test/test_kaggle)\n",
    "* 'Product_Family' (test/test_kaggle)\n",
    "* 'Product_Name' (test/test_kaggle)\n",
    "* 'ASP' (train/test/test_kaggle)\n",
    "* 'ASP_(converted_USD)' (train/test/test_kaggle)\n",
    "* 'Total_Amount' (train)\n",
    "* 'USD_Total_Amount' (train)\n",
    "\n",
    "\n",
    "  "
   ]
  },
  {
   "cell_type": "code",
   "execution_count": 116,
   "metadata": {
    "id": "aXCniDuTHnGf"
   },
   "outputs": [],
   "source": [
    "from numpy import isnan\n",
    "from sklearn.experimental import enable_iterative_imputer\n",
    "from sklearn.impute import IterativeImputer\n",
    "\n",
    "imputer = IterativeImputer()\n",
    "# fit on the dataset\n",
    "imputer.fit(train)\n",
    "# transform the dataset\n",
    "Xtrans = imputer.transform(train)\n",
    "train = pd.DataFrame(data = Xtrans, columns = train.columns)\n",
    "\n",
    "# fit on the dataset\n",
    "imputer.fit(test)\n",
    "# transform the dataset\n",
    "Xtrans = imputer.transform(test)\n",
    "test = pd.DataFrame(data = Xtrans, columns = test.columns)\n",
    "\n",
    "# fit on the dataset\n",
    "imputer.fit(test_kaggle)\n",
    "# transform the dataset\n",
    "Xtrans = imputer.transform(test_kaggle)\n",
    "test_kaggle = pd.DataFrame(data = Xtrans, columns = test_kaggle.columns)"
   ]
  },
  {
   "cell_type": "code",
   "execution_count": 117,
   "metadata": {
    "colab": {
     "base_uri": "https://localhost:8080/"
    },
    "id": "LJ9txuKPRP6m",
    "outputId": "961774b6-987f-4ec7-d95e-3300623698c1"
   },
   "outputs": [
    {
     "data": {
      "text/plain": [
       "0"
      ]
     },
     "execution_count": 117,
     "metadata": {},
     "output_type": "execute_result"
    }
   ],
   "source": [
    "# Verificamos que todos los valores de los 3 set de datos sean NO nulos (la suma debe dar 0)\n",
    "train.isnull().sum().sum() + test.isnull().sum().sum() + test_kaggle.isnull().sum().sum()"
   ]
  },
  {
   "cell_type": "markdown",
   "metadata": {
    "id": "ElwB7jjJHNJm"
   },
   "source": [
    "## Finalmente guardamos el dataframe train en un csv"
   ]
  },
  {
   "cell_type": "code",
   "execution_count": 118,
   "metadata": {
    "colab": {
     "base_uri": "https://localhost:8080/",
     "height": 17
    },
    "id": "U2kCSjr1HMpO",
    "outputId": "d4f1a0e3-78f8-4415-b232-521ca8d067d6"
   },
   "outputs": [],
   "source": [
    "#from google.colab import files\n",
    "train.to_csv('data_train.csv', index=False)\n",
    "#files.download('data_train.csv')\n",
    "\n",
    "test.to_csv('data_test.csv', index=False)\n",
    "#files.download('data_test.csv')\n",
    "\n",
    "test_kaggle.to_csv('data_test_kaggle.csv', index=False)\n",
    "#files.download('data_test_kaggle.csv')"
   ]
  },
  {
   "cell_type": "code",
   "execution_count": null,
   "metadata": {},
   "outputs": [],
   "source": []
  },
  {
   "cell_type": "code",
   "execution_count": null,
   "metadata": {},
   "outputs": [],
   "source": []
  }
 ],
 "metadata": {
  "colab": {
   "name": "Features.ipynb",
   "provenance": []
  },
  "kernelspec": {
   "display_name": "Python 3",
   "language": "python",
   "name": "python3"
  },
  "language_info": {
   "codemirror_mode": {
    "name": "ipython",
    "version": 3
   },
   "file_extension": ".py",
   "mimetype": "text/x-python",
   "name": "python",
   "nbconvert_exporter": "python",
   "pygments_lexer": "ipython3",
   "version": "3.8.3"
  }
 },
 "nbformat": 4,
 "nbformat_minor": 1
}
