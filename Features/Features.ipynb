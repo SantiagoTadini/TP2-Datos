{
  "nbformat": 4,
  "nbformat_minor": 0,
  "metadata": {
    "kernelspec": {
      "display_name": "Python 3",
      "language": "python",
      "name": "python3"
    },
    "language_info": {
      "codemirror_mode": {
        "name": "ipython",
        "version": 3
      },
      "file_extension": ".py",
      "mimetype": "text/x-python",
      "name": "python",
      "nbconvert_exporter": "python",
      "pygments_lexer": "ipython3",
      "version": "3.8.3"
    },
    "colab": {
      "name": "Features.ipynb",
      "provenance": []
    }
  },
  "cells": [
    {
      "cell_type": "code",
      "metadata": {
        "id": "LXFiE36Iiy9o"
      },
      "source": [
        "import pandas as pd\r\n",
        "import datetime as dt\r\n",
        "import numpy as np"
      ],
      "execution_count": 284,
      "outputs": []
    },
    {
      "cell_type": "code",
      "metadata": {
        "id": "AGZPCf4SVV90"
      },
      "source": [
        "# Como vimos en el TP1:\r\n",
        "\r\n",
        "# En el read_csv, castear las variables a los tipos que corresponden.\r\n",
        "# En el usecols sacar: \r\n",
        "#     * 'Submitted_for_Approval' (Un solo valor: 0)\r\n",
        "#     * 'Last_Activity' (Todos nulos)\r\n",
        "#     * 'ASP_(converted)_Currency' (Un solo valor: 'USD')\r\n",
        "#     * 'Actual_Delivery_Date' (Todos nulos)\r\n",
        "#     * 'Prod_Category_A' (Un solo valor: 'Prod_Category_A_None')\r\n",
        "#     * 'Sales_Contract_No' (No permite que se realice el entrenamiento)\r\n",
        "#     * 'Opportunity_Name' (Tiene correspondencia 1 a 1 con 'Opportunity_ID, es redundante)\r\n",
        "\r\n",
        "\r\n",
        "# ESTAS SON COLUMNAS TODAVÍA ***NO*** ELIMINADAS:\r\n",
        "#     * 'Brand' (Muchos nulos: 15911)\r\n",
        "#     * 'Product_Type' (Muchos nulos: 15935)\r\n",
        "#     * 'Size' (Muchos nulos: 15967)\r\n",
        "#     * 'Product_Category_B' (Muchos nulos: 15928)\r\n",
        "#     * 'Price' (Muchos nulos; 15982) ----------------> si ahora lo borramos, borrar celda del replace de Price\r\n",
        "#     * 'Currency' (Muchos nulos: 16052)\r\n"
      ],
      "execution_count": 285,
      "outputs": []
    },
    {
      "cell_type": "code",
      "metadata": {
        "id": "bV4CuYHliy93"
      },
      "source": [
        "# train = pd.read_csv(\"../Train_TP2_Datos_2020-2C.csv\")\n",
        "# test = pd.read_csv(\"../Test_TP2_Datos_2020-2C.csv\")\n",
        "\n",
        "url_train = 'https://raw.githubusercontent.com/SantiagoTadini/TP2-Datos/main/Train_TP2_Datos_2020-2C.csv'\n",
        "url_test = 'https://raw.githubusercontent.com/SantiagoTadini/TP2-Datos/main/Test_TP2_Datos_2020-2C.csv'\n",
        "train = pd.read_csv(url_train,\\\n",
        "                    usecols=['ID', 'Region', 'Territory', 'Pricing, Delivery_Terms_Quote_Appr',\\\n",
        "                          'Pricing, Delivery_Terms_Approved', 'Bureaucratic_Code_0_Approval', 'Bureaucratic_Code_0_Approved',\\\n",
        "                          'Bureaucratic_Code', 'Account_Created_Date', 'Source ', 'Billing_Country',\\\n",
        "                          'Account_Name', 'Opportunity_ID', 'Account_Owner',\\\n",
        "                          'Opportunity_Owner', 'Account_Type', 'Opportunity_Type', 'Quote_Type', 'Delivery_Terms',\\\n",
        "                          'Opportunity_Created_Date', 'Brand', 'Product_Type', 'Size', 'Product_Category_B', 'Price',\\\n",
        "                          'Currency', 'Quote_Expiry_Date', 'Last_Modified_Date', 'Last_Modified_By',\\\n",
        "                          'Product_Family', 'Product_Name', 'ASP_Currency', 'ASP', 'ASP_(converted)',\\\n",
        "                          'Planned_Delivery_Start_Date', 'Planned_Delivery_End_Date', 'Month', 'Delivery_Quarter',\\\n",
        "                          'Delivery_Year', 'TRF', 'Total_Amount_Currency', 'Total_Amount', 'Total_Taxable_Amount_Currency',\\\n",
        "                          'Total_Taxable_Amount', 'Stage'],\\\n",
        "                    dtype={\n",
        "                          'Region' : 'category',\n",
        "                          'Territory' : 'category',\n",
        "                          'Bureaucratic_Code' : 'category',\n",
        "                          'Source ' : 'category',\n",
        "                          'Billing_Country' : 'category',\n",
        "                          'Account_Name' : 'category',\n",
        "                          'Account_Owner' : 'category',\n",
        "                          'Opportunity_Owner' : 'category',\n",
        "                          'Account_Type' : 'category',\n",
        "                          'Opportunity_Type' : 'category',\n",
        "                          'Quote_Type' : 'category',\n",
        "                          'Delivery_Terms' : 'category',\n",
        "                          'Brand' : 'category',\n",
        "                          'Product_Type' : 'category',\n",
        "                          'Size' : 'category',\n",
        "                          'Product_Category_B' : 'category',\n",
        "                          'Currency' : 'category',\n",
        "                          'Last_Modified_By' : 'category',\n",
        "                          'Product_Family' : 'category',\n",
        "                          'Product_Name' : 'category',\n",
        "                          'ASP_Currency' : 'category',\n",
        "                          'Delivery_Quarter' : 'category',\n",
        "                          'Total_Amount_Currency' : 'category',\n",
        "                          'Total_Taxable_Amount_Currency' : 'category',\n",
        "                          'Stage' : 'category'})\n",
        "test = pd.read_csv(url_test,\\\n",
        "                  usecols=['ID', 'Region', 'Territory', 'Pricing, Delivery_Terms_Quote_Appr',\\\n",
        "                          'Pricing, Delivery_Terms_Approved', 'Bureaucratic_Code_0_Approval', 'Bureaucratic_Code_0_Approved',\\\n",
        "                          'Bureaucratic_Code', 'Account_Created_Date', 'Source ', 'Billing_Country',\\\n",
        "                          'Account_Name', 'Opportunity_ID', 'Account_Owner',\\\n",
        "                          'Opportunity_Owner', 'Account_Type', 'Opportunity_Type', 'Quote_Type', 'Delivery_Terms',\\\n",
        "                          'Opportunity_Created_Date', 'Brand', 'Product_Type', 'Size', 'Product_Category_B', 'Price',\\\n",
        "                          'Currency', 'Quote_Expiry_Date', 'Last_Modified_Date', 'Last_Modified_By',\\\n",
        "                          'Product_Family', 'Product_Name', 'ASP_Currency', 'ASP', 'ASP_(converted)',\\\n",
        "                          'Planned_Delivery_Start_Date', 'Planned_Delivery_End_Date', 'Month', 'Delivery_Quarter',\\\n",
        "                          'Delivery_Year', 'TRF', 'Total_Amount_Currency', 'Total_Amount', 'Total_Taxable_Amount_Currency',\\\n",
        "                          'Total_Taxable_Amount'],\\\n",
        "                    dtype={\n",
        "                          'Region' : 'category',\n",
        "                          'Territory' : 'category',\n",
        "                          'Bureaucratic_Code' : 'category',\n",
        "                          'Source ' : 'category',\n",
        "                          'Billing_Country' : 'category',\n",
        "                          'Account_Name' : 'category',\n",
        "                          'Account_Owner' : 'category',\n",
        "                          'Opportunity_Owner' : 'category',\n",
        "                          'Account_Type' : 'category',\n",
        "                          'Opportunity_Type' : 'category',\n",
        "                          'Quote_Type' : 'category',\n",
        "                          'Delivery_Terms' : 'category',\n",
        "                          'Brand' : 'category',\n",
        "                          'Product_Type' : 'category',\n",
        "                          'Size' : 'category',\n",
        "                          'Product_Category_B' : 'category',\n",
        "                          'Currency' : 'category',\n",
        "                          'Last_Modified_By' : 'category',\n",
        "                          'Product_Family' : 'category',\n",
        "                          'Product_Name' : 'category',\n",
        "                          'ASP_Currency' : 'category',\n",
        "                          'Delivery_Quarter' : 'category',\n",
        "                          'Total_Amount_Currency' : 'category',\n",
        "                          'Total_Taxable_Amount_Currency' : 'category'})"
      ],
      "execution_count": 286,
      "outputs": []
    },
    {
      "cell_type": "code",
      "metadata": {
        "colab": {
          "base_uri": "https://localhost:8080/"
        },
        "id": "F989UwUQddaE",
        "outputId": "32675a08-6039-4804-e9eb-f4899574f434"
      },
      "source": [
        "# Cantidad de columnas y filas de cada set de datos\r\n",
        "print('Cantidad de columnas de train:', len(train.columns), 'y cantidad de filas de train:', len(train))\r\n",
        "print('Cantidad de columnas de test:', len(test.columns), 'y cantidad de filas de test:', len(test))"
      ],
      "execution_count": 287,
      "outputs": [
        {
          "output_type": "stream",
          "text": [
            "Cantidad de columnas de train: 45 y cantidad de filas de train: 16947\n",
            "Cantidad de columnas de test: 44 y cantidad de filas de test: 2551\n"
          ],
          "name": "stdout"
        }
      ]
    },
    {
      "cell_type": "code",
      "metadata": {
        "id": "PSsdxnWLeRSa"
      },
      "source": [
        "# Sacar espacio del nombre de la columna 'Source'\r\n",
        "train.rename(columns={'Source ' : 'Source', 'ASP_(converted)' : 'ASP_(converted_USD)'}, inplace=True)\r\n",
        "\r\n",
        "test.rename(columns={'Source ' : 'Source', 'ASP_(converted)' : 'ASP_(converted_USD)'}, inplace=True)"
      ],
      "execution_count": 288,
      "outputs": []
    },
    {
      "cell_type": "code",
      "metadata": {
        "id": "odP5l-y-ea6u"
      },
      "source": [
        "# Poner en la columna Month sólo el mes (que no aparezca el año)\r\n",
        "train['Month'] = pd.to_datetime(train['Month'], format='%Y - %m').dt.month\r\n",
        "\r\n",
        "test['Month'] = pd.to_datetime(test['Month'], format='%Y - %m').dt.month"
      ],
      "execution_count": 289,
      "outputs": []
    },
    {
      "cell_type": "code",
      "metadata": {
        "id": "dG5cIJwfg-HU"
      },
      "source": [
        "# Pasar la columna 'Price' a numérico (incluídos los nulos)\r\n",
        "train['Price'] = train['Price'].replace('None', np.NaN)\r\n",
        "train['Price'] = train['Price'].replace('Other', np.NaN)\r\n",
        "train['Price'] = train['Price'].astype('float')\r\n",
        "\r\n",
        "test['Price'] = test['Price'].replace('None', np.NaN)\r\n",
        "test['Price'] = test['Price'].replace('Other', np.NaN)\r\n",
        "test['Price'] = test['Price'].astype('float')"
      ],
      "execution_count": 290,
      "outputs": []
    },
    {
      "cell_type": "code",
      "metadata": {
        "id": "RYLzLvQVrZEK"
      },
      "source": [
        "# Pasar las columnas de fechas a formato datetime\r\n",
        "formato_fecha = '%m/%d/%Y'\r\n",
        "train['Account_Created_Date'] = pd.to_datetime(train['Account_Created_Date'], format=formato_fecha) # ver fecha fila 0\r\n",
        "train['Opportunity_Created_Date'] = pd.to_datetime(train['Opportunity_Created_Date'], format=formato_fecha) # ver fecha fila 77\r\n",
        "train['Quote_Expiry_Date'] = pd.to_datetime(train['Quote_Expiry_Date'], format=formato_fecha) # ver fecha fila 0\r\n",
        "train['Last_Modified_Date'] = pd.to_datetime(train['Last_Modified_Date'], format=formato_fecha) # ver fecha fila 0\r\n",
        "train['Planned_Delivery_Start_Date'] = pd.to_datetime(train['Planned_Delivery_Start_Date'], format=formato_fecha) # ver fechas filas 0 y 1, comparar el mes con month\r\n",
        "train['Planned_Delivery_End_Date'] = pd.to_datetime(train['Planned_Delivery_End_Date'], format=formato_fecha) # ver fecha fila 0\r\n",
        "\r\n",
        "test['Account_Created_Date'] = pd.to_datetime(test['Account_Created_Date'], format=formato_fecha) # ver fecha fila 0\r\n",
        "test['Opportunity_Created_Date'] = pd.to_datetime(test['Opportunity_Created_Date'], format=formato_fecha) # ver fecha fila 77\r\n",
        "test['Quote_Expiry_Date'] = pd.to_datetime(test['Quote_Expiry_Date'], format=formato_fecha) # ver fecha fila 0\r\n",
        "test['Last_Modified_Date'] = pd.to_datetime(test['Last_Modified_Date'], format=formato_fecha) # ver fecha fila 0\r\n",
        "test['Planned_Delivery_Start_Date'] = pd.to_datetime(test['Planned_Delivery_Start_Date'], format=formato_fecha) # ver fechas filas 0 y 1, comparar el mes con month\r\n",
        "test['Planned_Delivery_End_Date'] = pd.to_datetime(test['Planned_Delivery_End_Date'], format=formato_fecha) # ver fecha fila 0"
      ],
      "execution_count": 291,
      "outputs": []
    },
    {
      "cell_type": "code",
      "metadata": {
        "id": "CV6St44AXMeb"
      },
      "source": [
        "# train.info()\r\n",
        "\r\n",
        "# test.info()"
      ],
      "execution_count": 292,
      "outputs": []
    },
    {
      "cell_type": "markdown",
      "metadata": {
        "id": "dhPfF-tmsCJy"
      },
      "source": [
        "Aquí ya no tenemos ningún feature de tipo object."
      ]
    },
    {
      "cell_type": "code",
      "metadata": {
        "id": "IK8KFVKWiy95"
      },
      "source": [
        "# train.head(10)"
      ],
      "execution_count": 293,
      "outputs": []
    },
    {
      "cell_type": "code",
      "metadata": {
        "id": "Hle8qcmziy94"
      },
      "source": [
        "# test.head(10)"
      ],
      "execution_count": 294,
      "outputs": []
    },
    {
      "cell_type": "markdown",
      "metadata": {
        "id": "3nbhV_0YTV8f"
      },
      "source": [
        "Eliminamos las filas que no son Closed Won o Closed Lost"
      ]
    },
    {
      "cell_type": "code",
      "metadata": {
        "colab": {
          "base_uri": "https://localhost:8080/"
        },
        "id": "nPFXZc362qlR",
        "outputId": "5ac74178-6367-42ce-baab-364d8e234e7c"
      },
      "source": [
        "# Vemos los posibles valores que puede adoptar 'Stage'\r\n",
        "train['Stage'].value_counts()"
      ],
      "execution_count": 295,
      "outputs": [
        {
          "output_type": "execute_result",
          "data": {
            "text/plain": [
              "Closed Won       9533\n",
              "Closed Lost      7350\n",
              "Proposal           35\n",
              "Negotiation        18\n",
              "Qualification      11\n",
              "Name: Stage, dtype: int64"
            ]
          },
          "metadata": {
            "tags": []
          },
          "execution_count": 295
        }
      ]
    },
    {
      "cell_type": "code",
      "metadata": {
        "colab": {
          "base_uri": "https://localhost:8080/"
        },
        "id": "n9oydklO66hy",
        "outputId": "9270fc37-5e3f-4a88-8a27-18ae901d7985"
      },
      "source": [
        "# Tenemos que de 16947 filas en total, solo 64 (0.3776%) NO son Closed Won o Closed Lost, es por\r\n",
        "# eso que eliminamos esas filas, su aporte es mínimo.\r\n",
        "train.drop(train[(train['Stage'] != 'Closed Won') & (train['Stage'] != 'Closed Lost')].index, inplace=True)\r\n",
        "train['Stage'].value_counts()"
      ],
      "execution_count": 296,
      "outputs": [
        {
          "output_type": "execute_result",
          "data": {
            "text/plain": [
              "Closed Won       9533\n",
              "Closed Lost      7350\n",
              "Qualification       0\n",
              "Proposal            0\n",
              "Negotiation         0\n",
              "Name: Stage, dtype: int64"
            ]
          },
          "metadata": {
            "tags": []
          },
          "execution_count": 296
        }
      ]
    },
    {
      "cell_type": "markdown",
      "metadata": {
        "id": "-pMJju4Eiy97"
      },
      "source": [
        "## Precio en dolares"
      ]
    },
    {
      "cell_type": "code",
      "metadata": {
        "id": "kMjNV0o6iy97"
      },
      "source": [
        "change_USD = 1 #1 dolar EEUU = 1 dolar EEUU\n",
        "change_EUR = 1.1745 #1 euro = 1,1745 dolares EEUU\n",
        "change_AUD = 0.71601 # 1 dolar australiano = 0.71601 dolar EEUU\n",
        "change_JPY = 0.0094800 # 1 yen japones = 0,0094800 dolares EEUU\n",
        "change_GBP = 1.2935 # 1 libra esterlina = 1,2935 dolares EEUU"
      ],
      "execution_count": 297,
      "outputs": []
    },
    {
      "cell_type": "code",
      "metadata": {
        "id": "upzFTyzriy97"
      },
      "source": [
        "filtro_USD_train = train['Total_Amount_Currency'] == 'USD'\n",
        "filtro_EUR_train = train['Total_Amount_Currency'] == 'EUR'\n",
        "filtro_AUD_train = train['Total_Amount_Currency'] == 'AUD'\n",
        "filtro_JPY_train = train['Total_Amount_Currency'] == 'JPY'\n",
        "filtro_GBP_train = train['Total_Amount_Currency'] == 'GBP'"
      ],
      "execution_count": 298,
      "outputs": []
    },
    {
      "cell_type": "code",
      "metadata": {
        "id": "q3lZxfUpiy98"
      },
      "source": [
        "train.loc[filtro_USD_train, 'USD_Total_Amount'] = train.loc[filtro_USD_train, 'Total_Amount']*change_USD\n",
        "train.loc[filtro_EUR_train, 'USD_Total_Amount'] = train.loc[filtro_EUR_train, 'Total_Amount']*change_EUR\n",
        "train.loc[filtro_AUD_train, 'USD_Total_Amount'] = train.loc[filtro_AUD_train, 'Total_Amount']*change_AUD\n",
        "train.loc[filtro_JPY_train, 'USD_Total_Amount'] = train.loc[filtro_JPY_train, 'Total_Amount']*change_JPY\n",
        "train.loc[filtro_GBP_train, 'USD_Total_Amount'] = train.loc[filtro_GBP_train, 'Total_Amount']*change_GBP"
      ],
      "execution_count": 299,
      "outputs": []
    },
    {
      "cell_type": "code",
      "metadata": {
        "id": "gPembxyCiy98"
      },
      "source": [
        "train['USD_Total_Amount'] = train['USD_Total_Amount'].round(2)"
      ],
      "execution_count": 300,
      "outputs": []
    },
    {
      "cell_type": "code",
      "metadata": {
        "id": "01aI_Vn2iy98"
      },
      "source": [
        "filtro_USD_test = test['Total_Amount_Currency'] == 'USD'\n",
        "filtro_EUR_test = test['Total_Amount_Currency'] == 'EUR'\n",
        "filtro_AUD_test = test['Total_Amount_Currency'] == 'AUD'\n",
        "filtro_JPY_test = test['Total_Amount_Currency'] == 'JPY'\n",
        "filtro_GBP_test = test['Total_Amount_Currency'] == 'GBP'"
      ],
      "execution_count": 301,
      "outputs": []
    },
    {
      "cell_type": "code",
      "metadata": {
        "id": "e8AXEKvTiy99"
      },
      "source": [
        "test.loc[filtro_USD_test, 'USD_Total_Amount'] = test.loc[filtro_USD_test, 'Total_Amount']*change_USD\n",
        "test.loc[filtro_EUR_test, 'USD_Total_Amount'] = test.loc[filtro_EUR_test, 'Total_Amount']*change_EUR\n",
        "test.loc[filtro_AUD_test, 'USD_Total_Amount'] = test.loc[filtro_AUD_test, 'Total_Amount']*change_AUD\n",
        "test.loc[filtro_JPY_test, 'USD_Total_Amount'] = test.loc[filtro_JPY_test, 'Total_Amount']*change_JPY\n",
        "test.loc[filtro_GBP_test, 'USD_Total_Amount'] = test.loc[filtro_GBP_test, 'Total_Amount']*change_GBP"
      ],
      "execution_count": 302,
      "outputs": []
    },
    {
      "cell_type": "code",
      "metadata": {
        "id": "hBWHJU1Uiy99"
      },
      "source": [
        "test['USD_Total_Amount'] = test['USD_Total_Amount'].round(2)"
      ],
      "execution_count": 303,
      "outputs": []
    },
    {
      "cell_type": "markdown",
      "metadata": {
        "id": "_6aDQ4OLiy95"
      },
      "source": [
        "## Codificamos Stage con Binary Encoding"
      ]
    },
    {
      "cell_type": "code",
      "metadata": {
        "id": "BrxMi0oCiy96"
      },
      "source": [
        "train['Target'] = train['Stage'].replace({'Closed Won': 1, 'Closed Lost': 0})"
      ],
      "execution_count": 304,
      "outputs": []
    },
    {
      "cell_type": "code",
      "metadata": {
        "id": "L4POH7VViy96",
        "colab": {
          "base_uri": "https://localhost:8080/"
        },
        "outputId": "da630a2d-7930-4f34-a137-e362c1364b83"
      },
      "source": [
        "train['Target'].astype(int)"
      ],
      "execution_count": 305,
      "outputs": [
        {
          "output_type": "execute_result",
          "data": {
            "text/plain": [
              "0        0\n",
              "1        1\n",
              "2        1\n",
              "3        0\n",
              "4        0\n",
              "        ..\n",
              "16942    1\n",
              "16943    1\n",
              "16944    1\n",
              "16945    0\n",
              "16946    0\n",
              "Name: Target, Length: 16883, dtype: int64"
            ]
          },
          "metadata": {
            "tags": []
          },
          "execution_count": 305
        }
      ]
    },
    {
      "cell_type": "code",
      "metadata": {
        "id": "_g8Oz45Miy9-"
      },
      "source": [
        "train.drop(columns=['Stage'], inplace=True)"
      ],
      "execution_count": 306,
      "outputs": []
    },
    {
      "cell_type": "markdown",
      "metadata": {
        "id": "9v1imPmZiy99"
      },
      "source": [
        "## Mean encoding ------------> SI NO LES CAMBIAMOS EL TIPO A MANO, ALGUNAS QUEDAN EN CATEGORY, PERO CUANDO ABRE EL CSV EN EL MODELO ES NUMÉRICA."
      ]
    },
    {
      "cell_type": "markdown",
      "metadata": {
        "id": "cTmqE0mB3LZo"
      },
      "source": [
        "Para variable 'Region'"
      ]
    },
    {
      "cell_type": "code",
      "metadata": {
        "id": "Kbe1ybfuiy9-"
      },
      "source": [
        "mean_encoded_region = train.groupby(['Region'])['Target'].mean().to_dict()\n",
        "train['Region'] =  train['Region'].map(mean_encoded_region)\n",
        "\n",
        "test['Region'] = test['Region'].map(mean_encoded_region)"
      ],
      "execution_count": 307,
      "outputs": []
    },
    {
      "cell_type": "markdown",
      "metadata": {
        "id": "6cJhOoTh4i4z"
      },
      "source": [
        "Para variable 'Territory'"
      ]
    },
    {
      "cell_type": "code",
      "metadata": {
        "id": "Rgh5dNYm4m-g"
      },
      "source": [
        "mean_encoded_territory = train.groupby(['Territory'])['Target'].mean().to_dict()\r\n",
        "train['Territory'] =  train['Territory'].map(mean_encoded_territory)\r\n",
        "\r\n",
        "test['Territory'] = test['Territory'].map(mean_encoded_territory)"
      ],
      "execution_count": 308,
      "outputs": []
    },
    {
      "cell_type": "markdown",
      "metadata": {
        "id": "Jr5WM80e5BvG"
      },
      "source": [
        "Para variable 'Bureaucratic_Code'"
      ]
    },
    {
      "cell_type": "code",
      "metadata": {
        "id": "HcUuUZvA5Apt"
      },
      "source": [
        "mean_encoded_bur_code = train.groupby(['Bureaucratic_Code'])['Target'].mean().to_dict()\r\n",
        "train['Bureaucratic_Code'] =  train['Bureaucratic_Code'].map(mean_encoded_bur_code)\r\n",
        "\r\n",
        "test['Bureaucratic_Code'] = test['Bureaucratic_Code'].map(mean_encoded_bur_code)"
      ],
      "execution_count": 309,
      "outputs": []
    },
    {
      "cell_type": "markdown",
      "metadata": {
        "id": "MbbPB1LL5VuZ"
      },
      "source": [
        "Para variable 'Source'"
      ]
    },
    {
      "cell_type": "code",
      "metadata": {
        "id": "e1BAR8Ky5Y6j"
      },
      "source": [
        "mean_encoded_source = train.groupby(['Source'])['Target'].mean().to_dict()\r\n",
        "train['Source'] =  train['Source'].map(mean_encoded_source)\r\n",
        "\r\n",
        "test['Source'] = test['Source'].map(mean_encoded_source)"
      ],
      "execution_count": 310,
      "outputs": []
    },
    {
      "cell_type": "markdown",
      "metadata": {
        "id": "1mOfFwa65rBs"
      },
      "source": [
        "Para variable 'Billing_Country'"
      ]
    },
    {
      "cell_type": "code",
      "metadata": {
        "id": "VMOfh58b5ur_"
      },
      "source": [
        "mean_encoded_billing_country = train.groupby(['Billing_Country'])['Target'].mean().to_dict()\r\n",
        "train['Billing_Country'] =  train['Billing_Country'].map(mean_encoded_billing_country)\r\n",
        "\r\n",
        "test['Billing_Country'] = test['Billing_Country'].map(mean_encoded_billing_country)"
      ],
      "execution_count": 311,
      "outputs": []
    },
    {
      "cell_type": "markdown",
      "metadata": {
        "id": "KX5XyNe556N6"
      },
      "source": [
        "Para variable 'Account_Name'"
      ]
    },
    {
      "cell_type": "code",
      "metadata": {
        "id": "8eVAI4Jh6C5C"
      },
      "source": [
        "mean_encoded_acc_name = train.groupby(['Account_Name'])['Target'].mean().to_dict()\r\n",
        "train['Account_Name'] =  train['Account_Name'].map(mean_encoded_acc_name)\r\n",
        "\r\n",
        "test['Account_Name'] = test['Account_Name'].map(mean_encoded_acc_name)"
      ],
      "execution_count": 312,
      "outputs": []
    },
    {
      "cell_type": "markdown",
      "metadata": {
        "id": "PPaQpJly-ERe"
      },
      "source": [
        "Para variable 'Account_Owner'"
      ]
    },
    {
      "cell_type": "code",
      "metadata": {
        "id": "qgr2Al0u-T3p"
      },
      "source": [
        "mean_encoded_acc_owner = train.groupby(['Account_Owner'])['Target'].mean().to_dict()\r\n",
        "train['Account_Owner'] =  train['Account_Owner'].map(mean_encoded_acc_owner)\r\n",
        "\r\n",
        "test['Account_Owner'] = test['Account_Owner'].map(mean_encoded_acc_owner)"
      ],
      "execution_count": 313,
      "outputs": []
    },
    {
      "cell_type": "markdown",
      "metadata": {
        "id": "WGmimgpR-dY5"
      },
      "source": [
        "Para variable 'Opportunity_Owner'"
      ]
    },
    {
      "cell_type": "code",
      "metadata": {
        "id": "geVzJJ37-jig"
      },
      "source": [
        "mean_encoded_opp_owner = train.groupby(['Opportunity_Owner'])['Target'].mean().to_dict()\r\n",
        "train['Opportunity_Owner'] =  train['Opportunity_Owner'].map(mean_encoded_opp_owner)\r\n",
        "\r\n",
        "test['Opportunity_Owner'] = test['Opportunity_Owner'].map(mean_encoded_opp_owner)"
      ],
      "execution_count": 314,
      "outputs": []
    },
    {
      "cell_type": "markdown",
      "metadata": {
        "id": "tBsk3iK6-spb"
      },
      "source": [
        "Para variable 'Account_Type'"
      ]
    },
    {
      "cell_type": "code",
      "metadata": {
        "id": "QwcGsISY-wMs"
      },
      "source": [
        "mean_encoded_acc_type = train.groupby(['Account_Type'])['Target'].mean().to_dict()\r\n",
        "train['Account_Type'] =  train['Account_Type'].map(mean_encoded_acc_type)\r\n",
        "\r\n",
        "test['Account_Type'] = test['Account_Type'].map(mean_encoded_acc_type)"
      ],
      "execution_count": 315,
      "outputs": []
    },
    {
      "cell_type": "markdown",
      "metadata": {
        "id": "INAbUmOm-9DR"
      },
      "source": [
        "Para variable 'Opportunity_Type'"
      ]
    },
    {
      "cell_type": "code",
      "metadata": {
        "id": "ER_XNiGh_BD-"
      },
      "source": [
        "mean_encoded_opp_type = train.groupby(['Opportunity_Type'])['Target'].mean().to_dict()\r\n",
        "train['Opportunity_Type'] =  train['Opportunity_Type'].map(mean_encoded_opp_type)\r\n",
        "\r\n",
        "test['Opportunity_Type'] = test['Opportunity_Type'].map(mean_encoded_opp_type)"
      ],
      "execution_count": 316,
      "outputs": []
    },
    {
      "cell_type": "markdown",
      "metadata": {
        "id": "23teSUwN_Yt0"
      },
      "source": [
        "Para variable 'Quote_Type'"
      ]
    },
    {
      "cell_type": "code",
      "metadata": {
        "id": "YxUuKqY3_dqL"
      },
      "source": [
        "mean_encoded_quote_type = train.groupby(['Quote_Type'])['Target'].mean().to_dict()\r\n",
        "train['Quote_Type'] =  train['Quote_Type'].map(mean_encoded_quote_type)\r\n",
        "\r\n",
        "test['Quote_Type'] = test['Quote_Type'].map(mean_encoded_quote_type)"
      ],
      "execution_count": 317,
      "outputs": []
    },
    {
      "cell_type": "markdown",
      "metadata": {
        "id": "0AN7HGHkJiT7"
      },
      "source": [
        "Para variable 'Delivery_Terms'"
      ]
    },
    {
      "cell_type": "code",
      "metadata": {
        "id": "J1mREDh7JluJ"
      },
      "source": [
        "mean_encoded_delivey_terms = train.groupby(['Delivery_Terms'])['Target'].mean().to_dict()\r\n",
        "train['Delivery_Terms'] =  train['Delivery_Terms'].map(mean_encoded_delivey_terms)\r\n",
        "\r\n",
        "test['Delivery_Terms'] = test['Delivery_Terms'].map(mean_encoded_delivey_terms)"
      ],
      "execution_count": 318,
      "outputs": []
    },
    {
      "cell_type": "markdown",
      "metadata": {
        "id": "oK5u7q-GJs4B"
      },
      "source": [
        "Para variable 'Brand'"
      ]
    },
    {
      "cell_type": "code",
      "metadata": {
        "id": "z7JZ5uANJwQl"
      },
      "source": [
        "mean_encoded_brand = train.groupby(['Brand'])['Target'].mean().to_dict()\r\n",
        "train['Brand'] =  train['Brand'].map(mean_encoded_brand)\r\n",
        "\r\n",
        "test['Brand'] = test['Brand'].map(mean_encoded_brand)"
      ],
      "execution_count": 319,
      "outputs": []
    },
    {
      "cell_type": "markdown",
      "metadata": {
        "id": "oivt0ypoJ2np"
      },
      "source": [
        "Para variable 'Product_Type'"
      ]
    },
    {
      "cell_type": "code",
      "metadata": {
        "id": "HwiLOcLcJ7px"
      },
      "source": [
        "mean_encoded_prod_type = train.groupby(['Product_Type'])['Target'].mean().to_dict()\r\n",
        "train['Product_Type'] =  train['Product_Type'].map(mean_encoded_prod_type)\r\n",
        "\r\n",
        "test['Product_Type'] = test['Product_Type'].map(mean_encoded_prod_type)"
      ],
      "execution_count": 320,
      "outputs": []
    },
    {
      "cell_type": "markdown",
      "metadata": {
        "id": "wX0DbS5-KZZS"
      },
      "source": [
        "Para variable 'Size'"
      ]
    },
    {
      "cell_type": "code",
      "metadata": {
        "id": "bdEG6DdhKdSK"
      },
      "source": [
        "mean_encoded_size = train.groupby(['Size'])['Target'].mean().to_dict()\r\n",
        "train['Size'] =  train['Size'].map(mean_encoded_size)\r\n",
        "\r\n",
        "test['Size'] = test['Size'].map(mean_encoded_size)"
      ],
      "execution_count": 321,
      "outputs": []
    },
    {
      "cell_type": "markdown",
      "metadata": {
        "id": "xPL2ajI5Kl9s"
      },
      "source": [
        "Para variable 'Product_Category_B'"
      ]
    },
    {
      "cell_type": "code",
      "metadata": {
        "id": "Oxi-T8L4Kqds"
      },
      "source": [
        "mean_encoded_prod_cat_b = train.groupby(['Product_Category_B'])['Target'].mean().to_dict()\r\n",
        "train['Product_Category_B'] =  train['Product_Category_B'].map(mean_encoded_prod_cat_b)\r\n",
        "\r\n",
        "test['Product_Category_B'] = test['Product_Category_B'].map(mean_encoded_prod_cat_b)"
      ],
      "execution_count": 322,
      "outputs": []
    },
    {
      "cell_type": "markdown",
      "metadata": {
        "id": "cdfGhq0lKzLb"
      },
      "source": [
        "Para variable 'Currency'"
      ]
    },
    {
      "cell_type": "code",
      "metadata": {
        "id": "i6eGbPy2K2pN"
      },
      "source": [
        "mean_encoded_currency = train.groupby(['Currency'])['Target'].mean().to_dict()\r\n",
        "train['Currency'] =  train['Currency'].map(mean_encoded_currency)\r\n",
        "\r\n",
        "test['Currency'] = test['Currency'].map(mean_encoded_currency)"
      ],
      "execution_count": 323,
      "outputs": []
    },
    {
      "cell_type": "markdown",
      "metadata": {
        "id": "A-71TGu8K9hK"
      },
      "source": [
        "Para variable 'Last_Modified_By'"
      ]
    },
    {
      "cell_type": "code",
      "metadata": {
        "id": "Qwg8wG4ELC9F"
      },
      "source": [
        "mean_encoded_last_modified_by = train.groupby(['Last_Modified_By'])['Target'].mean().to_dict()\r\n",
        "train['Last_Modified_By'] =  train['Last_Modified_By'].map(mean_encoded_last_modified_by)\r\n",
        "\r\n",
        "test['Last_Modified_By'] = test['Last_Modified_By'].map(mean_encoded_last_modified_by)"
      ],
      "execution_count": 324,
      "outputs": []
    },
    {
      "cell_type": "markdown",
      "metadata": {
        "id": "L73l-g41LK2O"
      },
      "source": [
        "Para variable 'Product_Family'"
      ]
    },
    {
      "cell_type": "code",
      "metadata": {
        "id": "0hb4JSUlLVaL"
      },
      "source": [
        "mean_encoded_prod_family = train.groupby(['Product_Family'])['Target'].mean().to_dict()\r\n",
        "train['Product_Family'] =  train['Product_Family'].map(mean_encoded_prod_family)\r\n",
        "\r\n",
        "test['Product_Family'] = test['Product_Family'].map(mean_encoded_prod_family)"
      ],
      "execution_count": 325,
      "outputs": []
    },
    {
      "cell_type": "markdown",
      "metadata": {
        "id": "ERi1pNJVLcPJ"
      },
      "source": [
        "Para varaible 'Product_Name'"
      ]
    },
    {
      "cell_type": "code",
      "metadata": {
        "id": "JXDb3RWZLftD"
      },
      "source": [
        "mean_encoded_prod_name = train.groupby(['Product_Name'])['Target'].mean().to_dict()\r\n",
        "train['Product_Name'] =  train['Product_Name'].map(mean_encoded_prod_name)\r\n",
        "\r\n",
        "test['Product_Name'] = test['Product_Name'].map(mean_encoded_prod_name)"
      ],
      "execution_count": 326,
      "outputs": []
    },
    {
      "cell_type": "markdown",
      "metadata": {
        "id": "xHpmTeMCLuCJ"
      },
      "source": [
        "Para variable 'ASP_Currency'"
      ]
    },
    {
      "cell_type": "code",
      "metadata": {
        "id": "z8zi2-vhLx-k"
      },
      "source": [
        "mean_encoded_asp_currency = train.groupby(['ASP_Currency'])['Target'].mean().to_dict()\r\n",
        "train['ASP_Currency'] =  train['ASP_Currency'].map(mean_encoded_asp_currency)\r\n",
        "\r\n",
        "test['ASP_Currency'] = test['ASP_Currency'].map(mean_encoded_asp_currency)"
      ],
      "execution_count": 327,
      "outputs": []
    },
    {
      "cell_type": "markdown",
      "metadata": {
        "id": "Ex8sQz0mL9rD"
      },
      "source": [
        "Para variable 'Delivery_Quarter'"
      ]
    },
    {
      "cell_type": "code",
      "metadata": {
        "id": "-zLPPKQdMCBf"
      },
      "source": [
        "mean_encoded_delivery_quarter = train.groupby(['Delivery_Quarter'])['Target'].mean().to_dict()\r\n",
        "train['Delivery_Quarter'] =  train['Delivery_Quarter'].map(mean_encoded_delivery_quarter)\r\n",
        "\r\n",
        "test['Delivery_Quarter'] = test['Delivery_Quarter'].map(mean_encoded_delivery_quarter)"
      ],
      "execution_count": 328,
      "outputs": []
    },
    {
      "cell_type": "markdown",
      "metadata": {
        "id": "MElrDC5hMJCU"
      },
      "source": [
        "Para varaible 'Total_Amount_Currency'"
      ]
    },
    {
      "cell_type": "code",
      "metadata": {
        "id": "aPp9QdCSMNDa"
      },
      "source": [
        "mean_encoded_total_amount_currency = train.groupby(['Total_Amount_Currency'])['Target'].mean().to_dict()\r\n",
        "train['Total_Amount_Currency'] =  train['Total_Amount_Currency'].map(mean_encoded_total_amount_currency)\r\n",
        "\r\n",
        "test['Total_Amount_Currency'] = test['Total_Amount_Currency'].map(mean_encoded_total_amount_currency)"
      ],
      "execution_count": 329,
      "outputs": []
    },
    {
      "cell_type": "markdown",
      "metadata": {
        "id": "fsDBzqdMMXJj"
      },
      "source": [
        "Para variable 'Total_Taxable_Amount_Currency'"
      ]
    },
    {
      "cell_type": "code",
      "metadata": {
        "id": "MueWzkoaMcmY"
      },
      "source": [
        "mean_encoded_total_tax_amount_currency = train.groupby(['Total_Taxable_Amount_Currency'])['Target'].mean().to_dict()\r\n",
        "train['Total_Taxable_Amount_Currency'] =  train['Total_Taxable_Amount_Currency'].map(mean_encoded_total_tax_amount_currency)\r\n",
        "\r\n",
        "test['Total_Taxable_Amount_Currency'] = test['Total_Taxable_Amount_Currency'].map(mean_encoded_total_tax_amount_currency)"
      ],
      "execution_count": 330,
      "outputs": []
    },
    {
      "cell_type": "markdown",
      "metadata": {
        "id": "wFG1VYvmNJZ9"
      },
      "source": [
        "##Ordenamos según fecha de creación de la oportunidad y pasamos las fechas a números"
      ]
    },
    {
      "cell_type": "code",
      "metadata": {
        "id": "83qCpSewNQcj"
      },
      "source": [
        "# Ordenamos por fecha para no entrenar con el futuro\r\n",
        "train.sort_values('Opportunity_Created_Date', ascending=True, inplace=True)\r\n",
        "test.sort_values('Opportunity_Created_Date', ascending=True, inplace=True)"
      ],
      "execution_count": 331,
      "outputs": []
    },
    {
      "cell_type": "code",
      "metadata": {
        "id": "fO1Y61bsNjvU"
      },
      "source": [
        "# Pasamos las fechas a números para que queden como variables numéricas\r\n",
        "train['Account_Created_Date'] = train['Account_Created_Date'].map(dt.datetime.toordinal)\r\n",
        "train['Opportunity_Created_Date'] = train['Opportunity_Created_Date'].map(dt.datetime.toordinal)\r\n",
        "train['Quote_Expiry_Date'] = train['Quote_Expiry_Date'].map(dt.datetime.toordinal)\r\n",
        "train['Last_Modified_Date'] = train['Last_Modified_Date'].map(dt.datetime.toordinal)\r\n",
        "train['Planned_Delivery_Start_Date'] = train['Planned_Delivery_Start_Date'].map(dt.datetime.toordinal)\r\n",
        "train['Planned_Delivery_End_Date'] = train['Planned_Delivery_End_Date'].map(dt.datetime.toordinal)\r\n",
        "\r\n",
        "\r\n",
        "test['Account_Created_Date'] = test['Account_Created_Date'].map(dt.datetime.toordinal)\r\n",
        "test['Opportunity_Created_Date'] = test['Opportunity_Created_Date'].map(dt.datetime.toordinal)\r\n",
        "test['Quote_Expiry_Date'] = test['Quote_Expiry_Date'].map(dt.datetime.toordinal)\r\n",
        "test['Last_Modified_Date'] = test['Last_Modified_Date'].map(dt.datetime.toordinal)\r\n",
        "test['Planned_Delivery_Start_Date'] = test['Planned_Delivery_Start_Date'].map(dt.datetime.toordinal)\r\n",
        "test['Planned_Delivery_End_Date'] = test['Planned_Delivery_End_Date'].map(dt.datetime.toordinal)"
      ],
      "execution_count": 332,
      "outputs": []
    },
    {
      "cell_type": "markdown",
      "metadata": {
        "id": "ElwB7jjJHNJm"
      },
      "source": [
        "##Finalmente guardamos el dataframe train en un csv"
      ]
    },
    {
      "cell_type": "code",
      "metadata": {
        "id": "U2kCSjr1HMpO",
        "colab": {
          "base_uri": "https://localhost:8080/",
          "height": 17
        },
        "outputId": "646aedb8-841c-480f-e3a7-708c127f5940"
      },
      "source": [
        "from google.colab import files\r\n",
        "train.to_csv('data_train.csv', index=False)\r\n",
        "files.download('data_train.csv')\r\n",
        "\r\n",
        "test.to_csv('data_test.csv', index=False)\r\n",
        "files.download('data_test.csv')"
      ],
      "execution_count": 333,
      "outputs": [
        {
          "output_type": "display_data",
          "data": {
            "application/javascript": [
              "\n",
              "    async function download(id, filename, size) {\n",
              "      if (!google.colab.kernel.accessAllowed) {\n",
              "        return;\n",
              "      }\n",
              "      const div = document.createElement('div');\n",
              "      const label = document.createElement('label');\n",
              "      label.textContent = `Downloading \"${filename}\": `;\n",
              "      div.appendChild(label);\n",
              "      const progress = document.createElement('progress');\n",
              "      progress.max = size;\n",
              "      div.appendChild(progress);\n",
              "      document.body.appendChild(div);\n",
              "\n",
              "      const buffers = [];\n",
              "      let downloaded = 0;\n",
              "\n",
              "      const channel = await google.colab.kernel.comms.open(id);\n",
              "      // Send a message to notify the kernel that we're ready.\n",
              "      channel.send({})\n",
              "\n",
              "      for await (const message of channel.messages) {\n",
              "        // Send a message to notify the kernel that we're ready.\n",
              "        channel.send({})\n",
              "        if (message.buffers) {\n",
              "          for (const buffer of message.buffers) {\n",
              "            buffers.push(buffer);\n",
              "            downloaded += buffer.byteLength;\n",
              "            progress.value = downloaded;\n",
              "          }\n",
              "        }\n",
              "      }\n",
              "      const blob = new Blob(buffers, {type: 'application/binary'});\n",
              "      const a = document.createElement('a');\n",
              "      a.href = window.URL.createObjectURL(blob);\n",
              "      a.download = filename;\n",
              "      div.appendChild(a);\n",
              "      a.click();\n",
              "      div.remove();\n",
              "    }\n",
              "  "
            ],
            "text/plain": [
              "<IPython.core.display.Javascript object>"
            ]
          },
          "metadata": {
            "tags": []
          }
        },
        {
          "output_type": "display_data",
          "data": {
            "application/javascript": [
              "download(\"download_ceaf5816-0d19-4c43-aeb4-73c115f048c9\", \"data_train.csv\", 9289302)"
            ],
            "text/plain": [
              "<IPython.core.display.Javascript object>"
            ]
          },
          "metadata": {
            "tags": []
          }
        },
        {
          "output_type": "display_data",
          "data": {
            "application/javascript": [
              "\n",
              "    async function download(id, filename, size) {\n",
              "      if (!google.colab.kernel.accessAllowed) {\n",
              "        return;\n",
              "      }\n",
              "      const div = document.createElement('div');\n",
              "      const label = document.createElement('label');\n",
              "      label.textContent = `Downloading \"${filename}\": `;\n",
              "      div.appendChild(label);\n",
              "      const progress = document.createElement('progress');\n",
              "      progress.max = size;\n",
              "      div.appendChild(progress);\n",
              "      document.body.appendChild(div);\n",
              "\n",
              "      const buffers = [];\n",
              "      let downloaded = 0;\n",
              "\n",
              "      const channel = await google.colab.kernel.comms.open(id);\n",
              "      // Send a message to notify the kernel that we're ready.\n",
              "      channel.send({})\n",
              "\n",
              "      for await (const message of channel.messages) {\n",
              "        // Send a message to notify the kernel that we're ready.\n",
              "        channel.send({})\n",
              "        if (message.buffers) {\n",
              "          for (const buffer of message.buffers) {\n",
              "            buffers.push(buffer);\n",
              "            downloaded += buffer.byteLength;\n",
              "            progress.value = downloaded;\n",
              "          }\n",
              "        }\n",
              "      }\n",
              "      const blob = new Blob(buffers, {type: 'application/binary'});\n",
              "      const a = document.createElement('a');\n",
              "      a.href = window.URL.createObjectURL(blob);\n",
              "      a.download = filename;\n",
              "      div.appendChild(a);\n",
              "      a.click();\n",
              "      div.remove();\n",
              "    }\n",
              "  "
            ],
            "text/plain": [
              "<IPython.core.display.Javascript object>"
            ]
          },
          "metadata": {
            "tags": []
          }
        },
        {
          "output_type": "display_data",
          "data": {
            "application/javascript": [
              "download(\"download_595c42b9-e806-406d-b0f6-9b2b33685cbf\", \"data_test.csv\", 1329127)"
            ],
            "text/plain": [
              "<IPython.core.display.Javascript object>"
            ]
          },
          "metadata": {
            "tags": []
          }
        }
      ]
    },
    {
      "cell_type": "code",
      "metadata": {
        "id": "LhY3yv-jJXaD"
      },
      "source": [
        ""
      ],
      "execution_count": 333,
      "outputs": []
    },
    {
      "cell_type": "code",
      "metadata": {
        "id": "U5XcT87XJXXg"
      },
      "source": [
        ""
      ],
      "execution_count": 333,
      "outputs": []
    },
    {
      "cell_type": "code",
      "metadata": {
        "id": "eQd_vdJhJXPB"
      },
      "source": [
        ""
      ],
      "execution_count": 333,
      "outputs": []
    },
    {
      "cell_type": "markdown",
      "metadata": {
        "id": "hPz0D7wIJX4e"
      },
      "source": [
        "POR SI QUEREMOS HACER GROUPBY AL PRINCIPIO"
      ]
    },
    {
      "cell_type": "code",
      "metadata": {
        "id": "iW8kVNRjDcFp"
      },
      "source": [
        "# print('Cantidad de oportunidades distintas:', len(train['Opportunity_ID'].unique()))"
      ],
      "execution_count": 334,
      "outputs": []
    },
    {
      "cell_type": "code",
      "metadata": {
        "id": "3n90xi-RDcCC"
      },
      "source": [
        "# regiones_por_oportunidad = train.groupby('Opportunity_ID').agg({'Region' : 'value_counts'}) #1 a 1\r\n",
        "# stage_por_oportunidad = train.groupby('Opportunity_ID').agg({'Stage' : 'value_counts'}) #1 a 1\r\n",
        "# territory_por_oportunidad = train.groupby('Opportunity_ID').agg({'Territory' : 'value_counts'}) #1 a 1\r\n",
        "# prod_flia_por_oportunidad = train.groupby('Opportunity_ID').agg({'Product_Family' : 'value_counts'}) #NO 1 a 1\r\n",
        "# prod_flia_por_oportunidad"
      ],
      "execution_count": 335,
      "outputs": []
    }
  ]
}