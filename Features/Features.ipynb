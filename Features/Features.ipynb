{
  "nbformat": 4,
  "nbformat_minor": 0,
  "metadata": {
    "kernelspec": {
      "display_name": "Python 3",
      "language": "python",
      "name": "python3"
    },
    "language_info": {
      "codemirror_mode": {
        "name": "ipython",
        "version": 3
      },
      "file_extension": ".py",
      "mimetype": "text/x-python",
      "name": "python",
      "nbconvert_exporter": "python",
      "pygments_lexer": "ipython3",
      "version": "3.8.3"
    },
    "colab": {
      "name": "Features.ipynb",
      "provenance": []
    }
  },
  "cells": [
    {
      "cell_type": "code",
      "metadata": {
        "id": "LXFiE36Iiy9o"
      },
      "source": [
        "import pandas as pd\r\n",
        "import datetime as dt\r\n",
        "import numpy as np"
      ],
      "execution_count": 598,
      "outputs": []
    },
    {
      "cell_type": "code",
      "metadata": {
        "id": "AGZPCf4SVV90"
      },
      "source": [
        "# Como vimos en el TP1:\r\n",
        "\r\n",
        "# En el read_csv, castear las variables a los tipos que corresponden.\r\n",
        "# En el usecols sacar: \r\n",
        "#     * 'Submitted_for_Approval' (Un solo valor: 0)\r\n",
        "#     * 'Last_Activity' (Todos nulos)\r\n",
        "#     * 'ASP_(converted)_Currency' (Un solo valor: 'USD')\r\n",
        "#     * 'Actual_Delivery_Date' (Todos nulos)\r\n",
        "#     * 'Prod_Category_A' (Un solo valor: 'Prod_Category_A_None')\r\n",
        "#     * 'Sales_Contract_No' (No permite que se realice el entrenamiento)\r\n",
        "#     * 'Opportunity_Name' (Tiene correspondencia 1 a 1 con 'Opportunity_ID, es redundante)\r\n",
        "\r\n",
        "\r\n",
        "# ESTAS SON COLUMNAS TODAVÍA ***NO*** ELIMINADAS:\r\n",
        "#     * 'Brand' (Muchos nulos: 15911)\r\n",
        "#     * 'Product_Type' (Muchos nulos: 15935)\r\n",
        "#     * 'Size' (Muchos nulos: 15967)\r\n",
        "#     * 'Product_Category_B' (Muchos nulos: 15928)\r\n",
        "#     * 'Price' (Muchos nulos; 15982) ----------------> si ahora lo borramos, borrar celda del replace de Price\r\n",
        "#     * 'Currency' (Muchos nulos: 16052)\r\n"
      ],
      "execution_count": 599,
      "outputs": []
    },
    {
      "cell_type": "code",
      "metadata": {
        "id": "bV4CuYHliy93"
      },
      "source": [
        "# train = pd.read_csv(\"../Train_TP2_Datos_2020-2C.csv\")\n",
        "# test_kaggle = pd.read_csv(\"../Test_TP2_Datos_2020-2C.csv\")\n",
        "\n",
        "url_train = 'https://raw.githubusercontent.com/SantiagoTadini/TP2-Datos/main/Train_TP2_Datos_2020-2C.csv'\n",
        "url_test_kaggle = 'https://raw.githubusercontent.com/SantiagoTadini/TP2-Datos/main/Test_TP2_Datos_2020-2C.csv'\n",
        "train = pd.read_csv(url_train,\\\n",
        "                    usecols=['ID', 'Region', 'Territory', 'Pricing, Delivery_Terms_Quote_Appr',\\\n",
        "                          'Pricing, Delivery_Terms_Approved', 'Bureaucratic_Code_0_Approval', 'Bureaucratic_Code_0_Approved',\\\n",
        "                          'Bureaucratic_Code', 'Account_Created_Date', 'Source ', 'Billing_Country',\\\n",
        "                          'Account_Name', 'Opportunity_ID', 'Account_Owner',\\\n",
        "                          'Opportunity_Owner', 'Account_Type', 'Opportunity_Type', 'Quote_Type', 'Delivery_Terms',\\\n",
        "                          'Opportunity_Created_Date', 'Brand', 'Product_Type', 'Size', 'Product_Category_B', 'Price',\\\n",
        "                          'Currency', 'Quote_Expiry_Date', 'Last_Modified_Date', 'Last_Modified_By',\\\n",
        "                          'Product_Family', 'Product_Name', 'ASP_Currency', 'ASP', 'ASP_(converted)',\\\n",
        "                          'Planned_Delivery_Start_Date', 'Planned_Delivery_End_Date', 'Month', 'Delivery_Quarter',\\\n",
        "                          'Delivery_Year', 'TRF', 'Total_Amount_Currency', 'Total_Amount', 'Total_Taxable_Amount_Currency',\\\n",
        "                          'Total_Taxable_Amount', 'Stage'],\\\n",
        "                    dtype={\n",
        "                          'Region' : 'category',\n",
        "                          'Territory' : 'category',\n",
        "                          'Bureaucratic_Code' : 'category',\n",
        "                          'Source ' : 'category',\n",
        "                          'Billing_Country' : 'category',\n",
        "                          'Account_Name' : 'category',\n",
        "                          'Account_Owner' : 'category',\n",
        "                          'Opportunity_Owner' : 'category',\n",
        "                          'Account_Type' : 'category',\n",
        "                          'Opportunity_Type' : 'category',\n",
        "                          'Quote_Type' : 'category',\n",
        "                          'Delivery_Terms' : 'category',\n",
        "                          'Brand' : 'category',\n",
        "                          'Product_Type' : 'category',\n",
        "                          'Size' : 'category',\n",
        "                          'Product_Category_B' : 'category',\n",
        "                          'Currency' : 'category',\n",
        "                          'Last_Modified_By' : 'category',\n",
        "                          'Product_Family' : 'category',\n",
        "                          'Product_Name' : 'category',\n",
        "                          'ASP_Currency' : 'category',\n",
        "                          'Delivery_Quarter' : 'category',\n",
        "                          'Total_Amount_Currency' : 'category',\n",
        "                          'Total_Taxable_Amount_Currency' : 'category',\n",
        "                          'Stage' : 'category'})\n",
        "test_kaggle = pd.read_csv(url_test_kaggle,\\\n",
        "                          usecols=['ID', 'Region', 'Territory', 'Pricing, Delivery_Terms_Quote_Appr',\\\n",
        "                                  'Pricing, Delivery_Terms_Approved', 'Bureaucratic_Code_0_Approval', 'Bureaucratic_Code_0_Approved',\\\n",
        "                                  'Bureaucratic_Code', 'Account_Created_Date', 'Source ', 'Billing_Country',\\\n",
        "                                  'Account_Name', 'Opportunity_ID', 'Account_Owner',\\\n",
        "                                  'Opportunity_Owner', 'Account_Type', 'Opportunity_Type', 'Quote_Type', 'Delivery_Terms',\\\n",
        "                                  'Opportunity_Created_Date', 'Brand', 'Product_Type', 'Size', 'Product_Category_B', 'Price',\\\n",
        "                                  'Currency', 'Quote_Expiry_Date', 'Last_Modified_Date', 'Last_Modified_By',\\\n",
        "                                  'Product_Family', 'Product_Name', 'ASP_Currency', 'ASP', 'ASP_(converted)',\\\n",
        "                                  'Planned_Delivery_Start_Date', 'Planned_Delivery_End_Date', 'Month', 'Delivery_Quarter',\\\n",
        "                                  'Delivery_Year', 'TRF', 'Total_Amount_Currency', 'Total_Amount', 'Total_Taxable_Amount_Currency',\\\n",
        "                                  'Total_Taxable_Amount'],\\\n",
        "                            dtype={\n",
        "                                  'Region' : 'category',\n",
        "                                  'Territory' : 'category',\n",
        "                                  'Bureaucratic_Code' : 'category',\n",
        "                                  'Source ' : 'category',\n",
        "                                  'Billing_Country' : 'category',\n",
        "                                  'Account_Name' : 'category',\n",
        "                                  'Account_Owner' : 'category',\n",
        "                                  'Opportunity_Owner' : 'category',\n",
        "                                  'Account_Type' : 'category',\n",
        "                                  'Opportunity_Type' : 'category',\n",
        "                                  'Quote_Type' : 'category',\n",
        "                                  'Delivery_Terms' : 'category',\n",
        "                                  'Brand' : 'category',\n",
        "                                  'Product_Type' : 'category',\n",
        "                                  'Size' : 'category',\n",
        "                                  'Product_Category_B' : 'category',\n",
        "                                  'Currency' : 'category',\n",
        "                                  'Last_Modified_By' : 'category',\n",
        "                                  'Product_Family' : 'category',\n",
        "                                  'Product_Name' : 'category',\n",
        "                                  'ASP_Currency' : 'category',\n",
        "                                  'Delivery_Quarter' : 'category',\n",
        "                                  'Total_Amount_Currency' : 'category',\n",
        "                                  'Total_Taxable_Amount_Currency' : 'category'})"
      ],
      "execution_count": 600,
      "outputs": []
    },
    {
      "cell_type": "code",
      "metadata": {
        "colab": {
          "base_uri": "https://localhost:8080/"
        },
        "id": "F989UwUQddaE",
        "outputId": "4b155495-f367-444f-baa9-01c585898013"
      },
      "source": [
        "# Cantidad de columnas y filas de cada set de datos\r\n",
        "print('Cantidad de columnas de train:', len(train.columns), 'y cantidad de filas de train:', len(train))\r\n",
        "print('Cantidad de columnas de test_kaggle:', len(test_kaggle.columns), 'y cantidad de filas de test_kaggle:', len(test_kaggle))"
      ],
      "execution_count": 601,
      "outputs": [
        {
          "output_type": "stream",
          "text": [
            "Cantidad de columnas de train: 45 y cantidad de filas de train: 16947\n",
            "Cantidad de columnas de test_kaggle: 44 y cantidad de filas de test_kaggle: 2551\n"
          ],
          "name": "stdout"
        }
      ]
    },
    {
      "cell_type": "code",
      "metadata": {
        "id": "PSsdxnWLeRSa"
      },
      "source": [
        "# Sacar espacio del nombre de la columna 'Source'\r\n",
        "train.rename(columns={'Source ' : 'Source', 'ASP_(converted)' : 'ASP_(converted_USD)'}, inplace=True)\r\n",
        "\r\n",
        "test_kaggle.rename(columns={'Source ' : 'Source', 'ASP_(converted)' : 'ASP_(converted_USD)'}, inplace=True)"
      ],
      "execution_count": 602,
      "outputs": []
    },
    {
      "cell_type": "code",
      "metadata": {
        "id": "odP5l-y-ea6u"
      },
      "source": [
        "# Poner en la columna Month sólo el mes (que no aparezca el año)\r\n",
        "train['Month'] = pd.to_datetime(train['Month'], format='%Y - %m').dt.month\r\n",
        "\r\n",
        "test_kaggle['Month'] = pd.to_datetime(test_kaggle['Month'], format='%Y - %m').dt.month"
      ],
      "execution_count": 603,
      "outputs": []
    },
    {
      "cell_type": "code",
      "metadata": {
        "id": "dG5cIJwfg-HU"
      },
      "source": [
        "# Pasar la columna 'Price' a numérico (incluídos los nulos)\r\n",
        "train['Price'] = train['Price'].replace('None', np.NaN)\r\n",
        "train['Price'] = train['Price'].replace('Other', np.NaN)\r\n",
        "train['Price'] = train['Price'].astype('float')\r\n",
        "\r\n",
        "test_kaggle['Price'] = test_kaggle['Price'].replace('None', np.NaN)\r\n",
        "test_kaggle['Price'] = test_kaggle['Price'].replace('Other', np.NaN)\r\n",
        "test_kaggle['Price'] = test_kaggle['Price'].astype('float')"
      ],
      "execution_count": 604,
      "outputs": []
    },
    {
      "cell_type": "code",
      "metadata": {
        "id": "RYLzLvQVrZEK"
      },
      "source": [
        "# Pasar las columnas de fechas a formato datetime\r\n",
        "formato_fecha = '%m/%d/%Y'\r\n",
        "train['Account_Created_Date'] = pd.to_datetime(train['Account_Created_Date'], format=formato_fecha) # ver fecha fila 0\r\n",
        "train['Opportunity_Created_Date'] = pd.to_datetime(train['Opportunity_Created_Date'], format=formato_fecha) # ver fecha fila 77\r\n",
        "train['Quote_Expiry_Date'] = pd.to_datetime(train['Quote_Expiry_Date'], format=formato_fecha) # ver fecha fila 0\r\n",
        "train['Last_Modified_Date'] = pd.to_datetime(train['Last_Modified_Date'], format=formato_fecha) # ver fecha fila 0\r\n",
        "train['Planned_Delivery_Start_Date'] = pd.to_datetime(train['Planned_Delivery_Start_Date'], format=formato_fecha) # ver fechas filas 0 y 1, comparar el mes con month\r\n",
        "train['Planned_Delivery_End_Date'] = pd.to_datetime(train['Planned_Delivery_End_Date'], format=formato_fecha) # ver fecha fila 0\r\n",
        "\r\n",
        "test_kaggle['Account_Created_Date'] = pd.to_datetime(test_kaggle['Account_Created_Date'], format=formato_fecha) # ver fecha fila 0\r\n",
        "test_kaggle['Opportunity_Created_Date'] = pd.to_datetime(test_kaggle['Opportunity_Created_Date'], format=formato_fecha) # ver fecha fila 77\r\n",
        "test_kaggle['Quote_Expiry_Date'] = pd.to_datetime(test_kaggle['Quote_Expiry_Date'], format=formato_fecha) # ver fecha fila 0\r\n",
        "test_kaggle['Last_Modified_Date'] = pd.to_datetime(test_kaggle['Last_Modified_Date'], format=formato_fecha) # ver fecha fila 0\r\n",
        "test_kaggle['Planned_Delivery_Start_Date'] = pd.to_datetime(test_kaggle['Planned_Delivery_Start_Date'], format=formato_fecha) # ver fechas filas 0 y 1, comparar el mes con month\r\n",
        "test_kaggle['Planned_Delivery_End_Date'] = pd.to_datetime(test_kaggle['Planned_Delivery_End_Date'], format=formato_fecha) # ver fecha fila 0"
      ],
      "execution_count": 605,
      "outputs": []
    },
    {
      "cell_type": "code",
      "metadata": {
        "id": "CV6St44AXMeb"
      },
      "source": [
        "# train.info()\r\n",
        "\r\n",
        "# test_kaggle.info()"
      ],
      "execution_count": 606,
      "outputs": []
    },
    {
      "cell_type": "markdown",
      "metadata": {
        "id": "dhPfF-tmsCJy"
      },
      "source": [
        "Aquí ya no tenemos ningún feature de tipo object."
      ]
    },
    {
      "cell_type": "code",
      "metadata": {
        "id": "IK8KFVKWiy95"
      },
      "source": [
        "# train.head(10)"
      ],
      "execution_count": 607,
      "outputs": []
    },
    {
      "cell_type": "code",
      "metadata": {
        "id": "Hle8qcmziy94"
      },
      "source": [
        "# test_kaggle.head(10)"
      ],
      "execution_count": 608,
      "outputs": []
    },
    {
      "cell_type": "markdown",
      "metadata": {
        "id": "3nbhV_0YTV8f"
      },
      "source": [
        "Eliminamos las filas que no son Closed Won o Closed Lost de train"
      ]
    },
    {
      "cell_type": "code",
      "metadata": {
        "colab": {
          "base_uri": "https://localhost:8080/"
        },
        "id": "nPFXZc362qlR",
        "outputId": "4722ab78-1c0d-48e6-ab94-f3e644a817ea"
      },
      "source": [
        "# Vemos los posibles valores que puede adoptar 'Stage'\r\n",
        "train['Stage'].value_counts()"
      ],
      "execution_count": 609,
      "outputs": [
        {
          "output_type": "execute_result",
          "data": {
            "text/plain": [
              "Closed Won       9533\n",
              "Closed Lost      7350\n",
              "Proposal           35\n",
              "Negotiation        18\n",
              "Qualification      11\n",
              "Name: Stage, dtype: int64"
            ]
          },
          "metadata": {
            "tags": []
          },
          "execution_count": 609
        }
      ]
    },
    {
      "cell_type": "code",
      "metadata": {
        "colab": {
          "base_uri": "https://localhost:8080/"
        },
        "id": "n9oydklO66hy",
        "outputId": "bef0c11f-b58f-4b69-c863-0f16e85c6854"
      },
      "source": [
        "# Tenemos que de 16947 filas en total, solo 64 (0.3776%) NO son Closed Won o Closed Lost, es por\r\n",
        "# eso que eliminamos esas filas, su aporte es mínimo.\r\n",
        "train.drop(train[(train['Stage'] != 'Closed Won') & (train['Stage'] != 'Closed Lost')].index, inplace=True)\r\n",
        "train['Stage'].value_counts()"
      ],
      "execution_count": 610,
      "outputs": [
        {
          "output_type": "execute_result",
          "data": {
            "text/plain": [
              "Closed Won       9533\n",
              "Closed Lost      7350\n",
              "Qualification       0\n",
              "Proposal            0\n",
              "Negotiation         0\n",
              "Name: Stage, dtype: int64"
            ]
          },
          "metadata": {
            "tags": []
          },
          "execution_count": 610
        }
      ]
    },
    {
      "cell_type": "markdown",
      "metadata": {
        "id": "-pMJju4Eiy97"
      },
      "source": [
        "## Precio en dolares"
      ]
    },
    {
      "cell_type": "code",
      "metadata": {
        "id": "kMjNV0o6iy97"
      },
      "source": [
        "change_USD = 1 #1 dolar EEUU = 1 dolar EEUU\n",
        "change_EUR = 1.1745 #1 euro = 1,1745 dolares EEUU\n",
        "change_AUD = 0.71601 # 1 dolar australiano = 0.71601 dolar EEUU\n",
        "change_JPY = 0.0094800 # 1 yen japones = 0,0094800 dolares EEUU\n",
        "change_GBP = 1.2935 # 1 libra esterlina = 1,2935 dolares EEUU"
      ],
      "execution_count": 611,
      "outputs": []
    },
    {
      "cell_type": "code",
      "metadata": {
        "id": "upzFTyzriy97"
      },
      "source": [
        "filtro_USD_train = train['Total_Amount_Currency'] == 'USD'\n",
        "filtro_EUR_train = train['Total_Amount_Currency'] == 'EUR'\n",
        "filtro_AUD_train = train['Total_Amount_Currency'] == 'AUD'\n",
        "filtro_JPY_train = train['Total_Amount_Currency'] == 'JPY'\n",
        "filtro_GBP_train = train['Total_Amount_Currency'] == 'GBP'"
      ],
      "execution_count": 612,
      "outputs": []
    },
    {
      "cell_type": "code",
      "metadata": {
        "id": "q3lZxfUpiy98"
      },
      "source": [
        "train.loc[filtro_USD_train, 'USD_Total_Amount'] = train.loc[filtro_USD_train, 'Total_Amount']*change_USD\n",
        "train.loc[filtro_EUR_train, 'USD_Total_Amount'] = train.loc[filtro_EUR_train, 'Total_Amount']*change_EUR\n",
        "train.loc[filtro_AUD_train, 'USD_Total_Amount'] = train.loc[filtro_AUD_train, 'Total_Amount']*change_AUD\n",
        "train.loc[filtro_JPY_train, 'USD_Total_Amount'] = train.loc[filtro_JPY_train, 'Total_Amount']*change_JPY\n",
        "train.loc[filtro_GBP_train, 'USD_Total_Amount'] = train.loc[filtro_GBP_train, 'Total_Amount']*change_GBP"
      ],
      "execution_count": 613,
      "outputs": []
    },
    {
      "cell_type": "code",
      "metadata": {
        "id": "gPembxyCiy98"
      },
      "source": [
        "train['USD_Total_Amount'] = train['USD_Total_Amount'].round(2)"
      ],
      "execution_count": 614,
      "outputs": []
    },
    {
      "cell_type": "code",
      "metadata": {
        "id": "01aI_Vn2iy98"
      },
      "source": [
        "filtro_USD_test = test_kaggle['Total_Amount_Currency'] == 'USD'\n",
        "filtro_EUR_test = test_kaggle['Total_Amount_Currency'] == 'EUR'\n",
        "filtro_AUD_test = test_kaggle['Total_Amount_Currency'] == 'AUD'\n",
        "filtro_JPY_test = test_kaggle['Total_Amount_Currency'] == 'JPY'\n",
        "filtro_GBP_test = test_kaggle['Total_Amount_Currency'] == 'GBP'"
      ],
      "execution_count": 615,
      "outputs": []
    },
    {
      "cell_type": "code",
      "metadata": {
        "id": "e8AXEKvTiy99"
      },
      "source": [
        "test_kaggle.loc[filtro_USD_test, 'USD_Total_Amount'] = test_kaggle.loc[filtro_USD_test, 'Total_Amount']*change_USD\n",
        "test_kaggle.loc[filtro_EUR_test, 'USD_Total_Amount'] = test_kaggle.loc[filtro_EUR_test, 'Total_Amount']*change_EUR\n",
        "test_kaggle.loc[filtro_AUD_test, 'USD_Total_Amount'] = test_kaggle.loc[filtro_AUD_test, 'Total_Amount']*change_AUD\n",
        "test_kaggle.loc[filtro_JPY_test, 'USD_Total_Amount'] = test_kaggle.loc[filtro_JPY_test, 'Total_Amount']*change_JPY\n",
        "test_kaggle.loc[filtro_GBP_test, 'USD_Total_Amount'] = test_kaggle.loc[filtro_GBP_test, 'Total_Amount']*change_GBP"
      ],
      "execution_count": 616,
      "outputs": []
    },
    {
      "cell_type": "code",
      "metadata": {
        "id": "hBWHJU1Uiy99"
      },
      "source": [
        "test_kaggle['USD_Total_Amount'] = test_kaggle['USD_Total_Amount'].round(2)"
      ],
      "execution_count": 617,
      "outputs": []
    },
    {
      "cell_type": "markdown",
      "metadata": {
        "id": "_6aDQ4OLiy95"
      },
      "source": [
        "## Codificamos Stage con Binary Encoding"
      ]
    },
    {
      "cell_type": "code",
      "metadata": {
        "id": "BrxMi0oCiy96"
      },
      "source": [
        "train['Target'] = train['Stage'].replace({'Closed Won': 1, 'Closed Lost': 0})"
      ],
      "execution_count": 618,
      "outputs": []
    },
    {
      "cell_type": "code",
      "metadata": {
        "id": "L4POH7VViy96",
        "colab": {
          "base_uri": "https://localhost:8080/"
        },
        "outputId": "08fc86b8-f9d9-4d2a-e88a-7634131ad799"
      },
      "source": [
        "train['Target'].astype(int)"
      ],
      "execution_count": 619,
      "outputs": [
        {
          "output_type": "execute_result",
          "data": {
            "text/plain": [
              "0        0\n",
              "1        1\n",
              "2        1\n",
              "3        0\n",
              "4        0\n",
              "        ..\n",
              "16942    1\n",
              "16943    1\n",
              "16944    1\n",
              "16945    0\n",
              "16946    0\n",
              "Name: Target, Length: 16883, dtype: int64"
            ]
          },
          "metadata": {
            "tags": []
          },
          "execution_count": 619
        }
      ]
    },
    {
      "cell_type": "code",
      "metadata": {
        "id": "_g8Oz45Miy9-"
      },
      "source": [
        "train.drop(columns=['Stage'], inplace=True)"
      ],
      "execution_count": 620,
      "outputs": []
    },
    {
      "cell_type": "markdown",
      "metadata": {
        "id": "wFG1VYvmNJZ9"
      },
      "source": [
        "##Ordenamos según fecha de creación de la oportunidad y pasamos las fechas a números"
      ]
    },
    {
      "cell_type": "code",
      "metadata": {
        "id": "83qCpSewNQcj"
      },
      "source": [
        "# Ordenamos por fecha para no entrenar con el futuro\r\n",
        "train.sort_values('Opportunity_Created_Date', ascending=True, inplace=True)\r\n",
        "test_kaggle.sort_values('Opportunity_Created_Date', ascending=True, inplace=True)"
      ],
      "execution_count": 621,
      "outputs": []
    },
    {
      "cell_type": "code",
      "metadata": {
        "id": "S8Lk-Z_wz4aW",
        "colab": {
          "base_uri": "https://localhost:8080/"
        },
        "outputId": "3df1da3d-e73b-4d96-d32e-84840dd9bf88"
      },
      "source": [
        "train['Opportunity_Created_Date']"
      ],
      "execution_count": 622,
      "outputs": [
        {
          "output_type": "execute_result",
          "data": {
            "text/plain": [
              "16104   2013-11-05\n",
              "16105   2014-03-21\n",
              "16106   2014-03-28\n",
              "16107   2014-03-28\n",
              "16109   2014-05-13\n",
              "           ...    \n",
              "16099   2018-12-26\n",
              "16100   2018-12-28\n",
              "16103   2018-12-29\n",
              "16101   2018-12-29\n",
              "16102   2018-12-29\n",
              "Name: Opportunity_Created_Date, Length: 16883, dtype: datetime64[ns]"
            ]
          },
          "metadata": {
            "tags": []
          },
          "execution_count": 622
        }
      ]
    },
    {
      "cell_type": "code",
      "metadata": {
        "id": "casTJzib0BUF",
        "colab": {
          "base_uri": "https://localhost:8080/"
        },
        "outputId": "90a79868-1541-4b2f-a719-bc3a2997fa31"
      },
      "source": [
        "test_kaggle['Opportunity_Created_Date']"
      ],
      "execution_count": 623,
      "outputs": [
        {
          "output_type": "execute_result",
          "data": {
            "text/plain": [
              "718    2019-01-01\n",
              "719    2019-01-01\n",
              "726    2019-01-01\n",
              "725    2019-01-01\n",
              "720    2019-01-01\n",
              "          ...    \n",
              "2545   2019-04-26\n",
              "2546   2019-04-26\n",
              "2547   2019-04-26\n",
              "2548   2019-04-26\n",
              "2550   2019-04-27\n",
              "Name: Opportunity_Created_Date, Length: 2551, dtype: datetime64[ns]"
            ]
          },
          "metadata": {
            "tags": []
          },
          "execution_count": 623
        }
      ]
    },
    {
      "cell_type": "code",
      "metadata": {
        "id": "fO1Y61bsNjvU"
      },
      "source": [
        "# Pasamos las fechas a números para que queden como variables numéricas\r\n",
        "train['Account_Created_Date'] = train['Account_Created_Date'].map(dt.datetime.toordinal)\r\n",
        "train['Opportunity_Created_Date'] = train['Opportunity_Created_Date'].map(dt.datetime.toordinal)\r\n",
        "train['Quote_Expiry_Date'] = train['Quote_Expiry_Date'].map(dt.datetime.toordinal)\r\n",
        "train['Last_Modified_Date'] = train['Last_Modified_Date'].map(dt.datetime.toordinal)\r\n",
        "train['Planned_Delivery_Start_Date'] = train['Planned_Delivery_Start_Date'].map(dt.datetime.toordinal)\r\n",
        "train['Planned_Delivery_End_Date'] = train['Planned_Delivery_End_Date'].map(dt.datetime.toordinal)\r\n",
        "\r\n",
        "\r\n",
        "test_kaggle['Account_Created_Date'] = test_kaggle['Account_Created_Date'].map(dt.datetime.toordinal)\r\n",
        "test_kaggle['Opportunity_Created_Date'] = test_kaggle['Opportunity_Created_Date'].map(dt.datetime.toordinal)\r\n",
        "test_kaggle['Quote_Expiry_Date'] = test_kaggle['Quote_Expiry_Date'].map(dt.datetime.toordinal)\r\n",
        "test_kaggle['Last_Modified_Date'] = test_kaggle['Last_Modified_Date'].map(dt.datetime.toordinal)\r\n",
        "test_kaggle['Planned_Delivery_Start_Date'] = test_kaggle['Planned_Delivery_Start_Date'].map(dt.datetime.toordinal)\r\n",
        "test_kaggle['Planned_Delivery_End_Date'] = test_kaggle['Planned_Delivery_End_Date'].map(dt.datetime.toordinal)"
      ],
      "execution_count": 624,
      "outputs": []
    },
    {
      "cell_type": "markdown",
      "metadata": {
        "id": "3vDKM5jem6OA"
      },
      "source": [
        "## Separamos train en train y test"
      ]
    },
    {
      "cell_type": "code",
      "metadata": {
        "id": "jfudLMijm4Jw"
      },
      "source": [
        "# Hacemos una separación del set de datos en:\r\n",
        "#   * 80% para el set de train\r\n",
        "#   * 20% para el set de test\r\n",
        "ochenta_porciento = round(len(train) * 0.8) - 1\r\n",
        "\r\n",
        "test = train.iloc[ochenta_porciento:, :]\r\n",
        "train = train.iloc[:ochenta_porciento, :]"
      ],
      "execution_count": 625,
      "outputs": []
    },
    {
      "cell_type": "markdown",
      "metadata": {
        "id": "L3FNYqN6DGwB"
      },
      "source": [
        "Verificamos que los tiempos sean correctos"
      ]
    },
    {
      "cell_type": "code",
      "metadata": {
        "id": "xAUBLsm4DNos",
        "colab": {
          "base_uri": "https://localhost:8080/"
        },
        "outputId": "573156a1-2f1b-4661-a5b0-efba33f8c86f"
      },
      "source": [
        "# El primero de train sea menor al último de train\r\n",
        "train.iloc[0, 19] < train.iloc[len(train) - 1, 19]"
      ],
      "execution_count": 626,
      "outputs": [
        {
          "output_type": "execute_result",
          "data": {
            "text/plain": [
              "True"
            ]
          },
          "metadata": {
            "tags": []
          },
          "execution_count": 626
        }
      ]
    },
    {
      "cell_type": "code",
      "metadata": {
        "id": "4KKXJ6y6DNiK",
        "colab": {
          "base_uri": "https://localhost:8080/"
        },
        "outputId": "e0c1c0db-37f7-46cf-db6f-78dc524a9d0d"
      },
      "source": [
        "# El último de train sea menor al primero de test\r\n",
        "train.iloc[len(train) -1, 19] < test.iloc[0, 19]"
      ],
      "execution_count": 627,
      "outputs": [
        {
          "output_type": "execute_result",
          "data": {
            "text/plain": [
              "True"
            ]
          },
          "metadata": {
            "tags": []
          },
          "execution_count": 627
        }
      ]
    },
    {
      "cell_type": "code",
      "metadata": {
        "id": "GjKwBx_4DDID",
        "colab": {
          "base_uri": "https://localhost:8080/"
        },
        "outputId": "28f10774-a62b-400d-c248-5b52c1ed8960"
      },
      "source": [
        "# El último de test sea menor al primero de test_kaggle\r\n",
        "test.iloc[len(test) -1, 19] < test_kaggle.iloc[0, 19]"
      ],
      "execution_count": 628,
      "outputs": [
        {
          "output_type": "execute_result",
          "data": {
            "text/plain": [
              "True"
            ]
          },
          "metadata": {
            "tags": []
          },
          "execution_count": 628
        }
      ]
    },
    {
      "cell_type": "markdown",
      "metadata": {
        "id": "dPB46WQAkI78"
      },
      "source": [
        "## Agregamos columnas"
      ]
    },
    {
      "cell_type": "code",
      "metadata": {
        "id": "by5bYqA_lMjK"
      },
      "source": [
        "# Agregamos columna de cantidad de oportunidades Closed Won por Región hasta el momento\r\n",
        "\r\n",
        "# train['Oport_CW_acum_por_region'] = train.groupby('Region').agg({'Target' : 'cumsum'}) - 1\r\n",
        "# train['Oport_CW_acum_por_region'].replace(-1, 0, inplace=True)\r\n",
        "\r\n",
        "# train[['Region', 'Oport_CW_acum_por_region', 'Target']]"
      ],
      "execution_count": 629,
      "outputs": []
    },
    {
      "cell_type": "code",
      "metadata": {
        "id": "W-cne4MWorxf"
      },
      "source": [
        "# Agregamos columna de cantidad de oportunidades Closed Won por Product_Family hasta el momento\r\n",
        "\r\n",
        "# train['Oport_CW_acum_por_product_family'] = train.groupby('Product_Family').agg({'Target' : 'cumsum'}) - 1\r\n",
        "# train['Oport_CW_acum_por_product_family'].replace(-1, 0, inplace=True)\r\n",
        "\r\n",
        "# train[['Product_Family', 'Oport_CW_acum_por_product_family', 'Target']]"
      ],
      "execution_count": 630,
      "outputs": []
    },
    {
      "cell_type": "code",
      "metadata": {
        "id": "nZ3iMYi0hlgI"
      },
      "source": [
        "# Agregamos columna de cantidad de oportunidades Closed Won por Product_Name hasta el momento\r\n",
        "\r\n",
        "# train['Oport_CW_acum_por_product_name'] = train.groupby('Product_Name').agg({'Target' : 'cumsum'}) - 1\r\n",
        "# train['Oport_CW_acum_por_product_name'].replace(-1, 0, inplace=True)\r\n",
        "\r\n",
        "# train[['Product_Name', 'Oport_CW_acum_por_product_name', 'Target']]"
      ],
      "execution_count": 631,
      "outputs": []
    },
    {
      "cell_type": "markdown",
      "metadata": {
        "id": "9v1imPmZiy99"
      },
      "source": [
        "## Mean encoding ------------> SI NO LES CAMBIAMOS EL TIPO A MANO, ALGUNAS QUEDAN EN CATEGORY, PERO CUANDO ABRE EL CSV EN EL MODELO ES NUMÉRICA."
      ]
    },
    {
      "cell_type": "code",
      "metadata": {
        "id": "17JU91qX3Vw8",
        "colab": {
          "base_uri": "https://localhost:8080/"
        },
        "outputId": "3491ed62-e174-40fb-b4a7-605501593ba9"
      },
      "source": [
        "train.info()\r\n",
        "test.info()\r\n",
        "test_kaggle.info()"
      ],
      "execution_count": 632,
      "outputs": [
        {
          "output_type": "stream",
          "text": [
            "<class 'pandas.core.frame.DataFrame'>\n",
            "Int64Index: 13505 entries, 16104 to 11509\n",
            "Data columns (total 46 columns):\n",
            " #   Column                              Non-Null Count  Dtype   \n",
            "---  ------                              --------------  -----   \n",
            " 0   ID                                  13505 non-null  int64   \n",
            " 1   Region                              13505 non-null  category\n",
            " 2   Territory                           13505 non-null  category\n",
            " 3   Pricing, Delivery_Terms_Quote_Appr  13505 non-null  int64   \n",
            " 4   Pricing, Delivery_Terms_Approved    13505 non-null  int64   \n",
            " 5   Bureaucratic_Code_0_Approval        13505 non-null  int64   \n",
            " 6   Bureaucratic_Code_0_Approved        13505 non-null  int64   \n",
            " 7   Bureaucratic_Code                   13505 non-null  category\n",
            " 8   Account_Created_Date                13505 non-null  int64   \n",
            " 9   Source                              13505 non-null  category\n",
            " 10  Billing_Country                     13505 non-null  category\n",
            " 11  Account_Name                        13505 non-null  category\n",
            " 12  Opportunity_ID                      13505 non-null  int64   \n",
            " 13  Account_Owner                       13505 non-null  category\n",
            " 14  Opportunity_Owner                   13505 non-null  category\n",
            " 15  Account_Type                        13505 non-null  category\n",
            " 16  Opportunity_Type                    13505 non-null  category\n",
            " 17  Quote_Type                          13505 non-null  category\n",
            " 18  Delivery_Terms                      13505 non-null  category\n",
            " 19  Opportunity_Created_Date            13505 non-null  int64   \n",
            " 20  Brand                               13505 non-null  category\n",
            " 21  Product_Type                        13505 non-null  category\n",
            " 22  Size                                13505 non-null  category\n",
            " 23  Product_Category_B                  13505 non-null  category\n",
            " 24  Price                               114 non-null    float64 \n",
            " 25  Currency                            13505 non-null  category\n",
            " 26  Quote_Expiry_Date                   13505 non-null  int64   \n",
            " 27  Last_Modified_Date                  13505 non-null  int64   \n",
            " 28  Last_Modified_By                    13505 non-null  category\n",
            " 29  Product_Family                      13505 non-null  category\n",
            " 30  Product_Name                        13505 non-null  category\n",
            " 31  ASP_Currency                        13505 non-null  category\n",
            " 32  ASP                                 10730 non-null  float64 \n",
            " 33  ASP_(converted_USD)                 10730 non-null  float64 \n",
            " 34  Planned_Delivery_Start_Date         13505 non-null  int64   \n",
            " 35  Planned_Delivery_End_Date           13505 non-null  int64   \n",
            " 36  Month                               13505 non-null  int64   \n",
            " 37  Delivery_Quarter                    13505 non-null  category\n",
            " 38  Delivery_Year                       13505 non-null  int64   \n",
            " 39  TRF                                 13505 non-null  int64   \n",
            " 40  Total_Amount_Currency               13505 non-null  category\n",
            " 41  Total_Amount                        13446 non-null  float64 \n",
            " 42  Total_Taxable_Amount_Currency       13505 non-null  category\n",
            " 43  Total_Taxable_Amount                13505 non-null  float64 \n",
            " 44  USD_Total_Amount                    13446 non-null  float64 \n",
            " 45  Target                              13505 non-null  int64   \n",
            "dtypes: category(24), float64(6), int64(16)\n",
            "memory usage: 2.9 MB\n",
            "<class 'pandas.core.frame.DataFrame'>\n",
            "Int64Index: 3378 entries, 11511 to 16102\n",
            "Data columns (total 46 columns):\n",
            " #   Column                              Non-Null Count  Dtype   \n",
            "---  ------                              --------------  -----   \n",
            " 0   ID                                  3378 non-null   int64   \n",
            " 1   Region                              3378 non-null   category\n",
            " 2   Territory                           3378 non-null   category\n",
            " 3   Pricing, Delivery_Terms_Quote_Appr  3378 non-null   int64   \n",
            " 4   Pricing, Delivery_Terms_Approved    3378 non-null   int64   \n",
            " 5   Bureaucratic_Code_0_Approval        3378 non-null   int64   \n",
            " 6   Bureaucratic_Code_0_Approved        3378 non-null   int64   \n",
            " 7   Bureaucratic_Code                   3378 non-null   category\n",
            " 8   Account_Created_Date                3378 non-null   int64   \n",
            " 9   Source                              3378 non-null   category\n",
            " 10  Billing_Country                     3378 non-null   category\n",
            " 11  Account_Name                        3378 non-null   category\n",
            " 12  Opportunity_ID                      3378 non-null   int64   \n",
            " 13  Account_Owner                       3378 non-null   category\n",
            " 14  Opportunity_Owner                   3378 non-null   category\n",
            " 15  Account_Type                        3378 non-null   category\n",
            " 16  Opportunity_Type                    3378 non-null   category\n",
            " 17  Quote_Type                          3378 non-null   category\n",
            " 18  Delivery_Terms                      3378 non-null   category\n",
            " 19  Opportunity_Created_Date            3378 non-null   int64   \n",
            " 20  Brand                               3378 non-null   category\n",
            " 21  Product_Type                        3378 non-null   category\n",
            " 22  Size                                3378 non-null   category\n",
            " 23  Product_Category_B                  3378 non-null   category\n",
            " 24  Price                               242 non-null    float64 \n",
            " 25  Currency                            3378 non-null   category\n",
            " 26  Quote_Expiry_Date                   3378 non-null   int64   \n",
            " 27  Last_Modified_Date                  3378 non-null   int64   \n",
            " 28  Last_Modified_By                    3378 non-null   category\n",
            " 29  Product_Family                      3378 non-null   category\n",
            " 30  Product_Name                        3378 non-null   category\n",
            " 31  ASP_Currency                        3378 non-null   category\n",
            " 32  ASP                                 2949 non-null   float64 \n",
            " 33  ASP_(converted_USD)                 2949 non-null   float64 \n",
            " 34  Planned_Delivery_Start_Date         3378 non-null   int64   \n",
            " 35  Planned_Delivery_End_Date           3378 non-null   int64   \n",
            " 36  Month                               3378 non-null   int64   \n",
            " 37  Delivery_Quarter                    3378 non-null   category\n",
            " 38  Delivery_Year                       3378 non-null   int64   \n",
            " 39  TRF                                 3378 non-null   int64   \n",
            " 40  Total_Amount_Currency               3378 non-null   category\n",
            " 41  Total_Amount                        3378 non-null   float64 \n",
            " 42  Total_Taxable_Amount_Currency       3378 non-null   category\n",
            " 43  Total_Taxable_Amount                3378 non-null   float64 \n",
            " 44  USD_Total_Amount                    3378 non-null   float64 \n",
            " 45  Target                              3378 non-null   int64   \n",
            "dtypes: category(24), float64(6), int64(16)\n",
            "memory usage: 845.3 KB\n",
            "<class 'pandas.core.frame.DataFrame'>\n",
            "Int64Index: 2551 entries, 718 to 2550\n",
            "Data columns (total 45 columns):\n",
            " #   Column                              Non-Null Count  Dtype   \n",
            "---  ------                              --------------  -----   \n",
            " 0   ID                                  2551 non-null   int64   \n",
            " 1   Region                              2551 non-null   category\n",
            " 2   Territory                           2551 non-null   category\n",
            " 3   Pricing, Delivery_Terms_Quote_Appr  2551 non-null   int64   \n",
            " 4   Pricing, Delivery_Terms_Approved    2551 non-null   int64   \n",
            " 5   Bureaucratic_Code_0_Approval        2551 non-null   int64   \n",
            " 6   Bureaucratic_Code_0_Approved        2551 non-null   int64   \n",
            " 7   Bureaucratic_Code                   2551 non-null   category\n",
            " 8   Account_Created_Date                2551 non-null   int64   \n",
            " 9   Source                              2551 non-null   category\n",
            " 10  Billing_Country                     2551 non-null   category\n",
            " 11  Account_Name                        2551 non-null   category\n",
            " 12  Opportunity_ID                      2551 non-null   int64   \n",
            " 13  Account_Owner                       2551 non-null   category\n",
            " 14  Opportunity_Owner                   2551 non-null   category\n",
            " 15  Account_Type                        2551 non-null   category\n",
            " 16  Opportunity_Type                    2551 non-null   category\n",
            " 17  Quote_Type                          2551 non-null   category\n",
            " 18  Delivery_Terms                      2551 non-null   category\n",
            " 19  Opportunity_Created_Date            2551 non-null   int64   \n",
            " 20  Brand                               2551 non-null   category\n",
            " 21  Product_Type                        2551 non-null   category\n",
            " 22  Size                                2551 non-null   category\n",
            " 23  Product_Category_B                  2551 non-null   category\n",
            " 24  Price                               160 non-null    float64 \n",
            " 25  Currency                            2551 non-null   category\n",
            " 26  Quote_Expiry_Date                   2551 non-null   int64   \n",
            " 27  Last_Modified_Date                  2551 non-null   int64   \n",
            " 28  Last_Modified_By                    2551 non-null   category\n",
            " 29  Product_Family                      2551 non-null   category\n",
            " 30  Product_Name                        2551 non-null   category\n",
            " 31  ASP_Currency                        2551 non-null   category\n",
            " 32  ASP                                 2467 non-null   float64 \n",
            " 33  ASP_(converted_USD)                 2467 non-null   float64 \n",
            " 34  Planned_Delivery_Start_Date         2551 non-null   int64   \n",
            " 35  Planned_Delivery_End_Date           2551 non-null   int64   \n",
            " 36  Month                               2551 non-null   int64   \n",
            " 37  Delivery_Quarter                    2551 non-null   category\n",
            " 38  Delivery_Year                       2551 non-null   int64   \n",
            " 39  TRF                                 2551 non-null   int64   \n",
            " 40  Total_Amount_Currency               2551 non-null   category\n",
            " 41  Total_Amount                        2551 non-null   float64 \n",
            " 42  Total_Taxable_Amount_Currency       2551 non-null   category\n",
            " 43  Total_Taxable_Amount                2551 non-null   float64 \n",
            " 44  USD_Total_Amount                    2551 non-null   float64 \n",
            "dtypes: category(24), float64(6), int64(15)\n",
            "memory usage: 550.3 KB\n"
          ],
          "name": "stdout"
        }
      ]
    },
    {
      "cell_type": "markdown",
      "metadata": {
        "id": "cTmqE0mB3LZo"
      },
      "source": [
        "Para variable 'Region'"
      ]
    },
    {
      "cell_type": "code",
      "metadata": {
        "id": "Kbe1ybfuiy9-"
      },
      "source": [
        "mean_encoded_region = train.groupby(['Region'])['Target'].mean().to_dict()\n",
        "train['Region'] =  train['Region'].map(mean_encoded_region)\n",
        "\n",
        "test['Region'] = test['Region'].map(mean_encoded_region)\n",
        "\n",
        "test_kaggle['Region'] = test_kaggle['Region'].map(mean_encoded_region)"
      ],
      "execution_count": 633,
      "outputs": []
    },
    {
      "cell_type": "markdown",
      "metadata": {
        "id": "6cJhOoTh4i4z"
      },
      "source": [
        "Para variable 'Territory'"
      ]
    },
    {
      "cell_type": "code",
      "metadata": {
        "id": "3q-n0pU-_cFq"
      },
      "source": [
        "# Hay territorios en test y test_kaggle que no están en train --> como regularizador\r\n",
        "# del Mean Encoding asignamos a esos territorios el código de 'None'\r\n",
        "test.replace('Slovenia', 'None', inplace=True)\r\n",
        "test_kaggle.replace(['Andorra', 'Finland', 'Mongolia'], 'None', inplace=True)"
      ],
      "execution_count": 634,
      "outputs": []
    },
    {
      "cell_type": "code",
      "metadata": {
        "id": "Rgh5dNYm4m-g"
      },
      "source": [
        "mean_encoded_territory = train.groupby(['Territory'])['Target'].mean().to_dict()\r\n",
        "train['Territory'] = train['Territory'].map(mean_encoded_territory)\r\n",
        "\r\n",
        "test['Territory'] = test['Territory'].map(mean_encoded_territory)\r\n",
        "\r\n",
        "test_kaggle['Territory'] = test_kaggle['Territory'].map(mean_encoded_territory)"
      ],
      "execution_count": 635,
      "outputs": []
    },
    {
      "cell_type": "markdown",
      "metadata": {
        "id": "Jr5WM80e5BvG"
      },
      "source": [
        "Para variable 'Bureaucratic_Code'"
      ]
    },
    {
      "cell_type": "code",
      "metadata": {
        "id": "HcUuUZvA5Apt"
      },
      "source": [
        "mean_encoded_bur_code = train.groupby(['Bureaucratic_Code'])['Target'].mean().to_dict()\r\n",
        "train['Bureaucratic_Code'] =  train['Bureaucratic_Code'].map(mean_encoded_bur_code)\r\n",
        "\r\n",
        "test['Bureaucratic_Code'] = test['Bureaucratic_Code'].map(mean_encoded_bur_code)\r\n",
        "\r\n",
        "test_kaggle['Bureaucratic_Code'] = test_kaggle['Bureaucratic_Code'].map(mean_encoded_bur_code)"
      ],
      "execution_count": 636,
      "outputs": []
    },
    {
      "cell_type": "markdown",
      "metadata": {
        "id": "MbbPB1LL5VuZ"
      },
      "source": [
        "Para variable 'Source'"
      ]
    },
    {
      "cell_type": "code",
      "metadata": {
        "id": "e1BAR8Ky5Y6j"
      },
      "source": [
        "mean_encoded_source = train.groupby(['Source'])['Target'].mean().to_dict()\r\n",
        "train['Source'] =  train['Source'].map(mean_encoded_source)\r\n",
        "\r\n",
        "test['Source'] = test['Source'].map(mean_encoded_source)\r\n",
        "\r\n",
        "test_kaggle['Source'] = test_kaggle['Source'].map(mean_encoded_source)"
      ],
      "execution_count": 637,
      "outputs": []
    },
    {
      "cell_type": "markdown",
      "metadata": {
        "id": "1mOfFwa65rBs"
      },
      "source": [
        "Para variable 'Billing_Country'"
      ]
    },
    {
      "cell_type": "code",
      "metadata": {
        "id": "Xrikn-_eC6zu"
      },
      "source": [
        "# Hay Billing_Country en test y test_kaggle que no están en train --> como regularizador\r\n",
        "# del Mean Encoding asignamos a esos Billing_Country el código de 'None'"
      ],
      "execution_count": 638,
      "outputs": []
    },
    {
      "cell_type": "code",
      "metadata": {
        "id": "VMOfh58b5ur_"
      },
      "source": [
        "mean_encoded_billing_country = train.groupby(['Billing_Country'])['Target'].mean().to_dict()\r\n",
        "train['Billing_Country'] =  train['Billing_Country'].map(mean_encoded_billing_country)\r\n",
        "\r\n",
        "test['Billing_Country'] = test['Billing_Country'].map(mean_encoded_billing_country)\r\n",
        "\r\n",
        "test_kaggle['Billing_Country'] = test_kaggle['Billing_Country'].map(mean_encoded_billing_country)"
      ],
      "execution_count": 639,
      "outputs": []
    },
    {
      "cell_type": "code",
      "metadata": {
        "id": "lFK_xOl48Ahj"
      },
      "source": [
        "test['Billing_Country'].fillna(mean_encoded_billing_country['None'], inplace=True)\r\n",
        "\r\n",
        "test_kaggle['Billing_Country'].fillna(mean_encoded_billing_country['None'], inplace=True)"
      ],
      "execution_count": 640,
      "outputs": []
    },
    {
      "cell_type": "markdown",
      "metadata": {
        "id": "KX5XyNe556N6"
      },
      "source": [
        "Para variable 'Account_Name'"
      ]
    },
    {
      "cell_type": "code",
      "metadata": {
        "id": "pd14j0G-GPvN"
      },
      "source": [
        "# Hay Account_Name en test y test_kaggle que no están en train --> como regularizador\r\n",
        "# del Mean Encoding asignamos a esos Account_Name el código 0"
      ],
      "execution_count": 641,
      "outputs": []
    },
    {
      "cell_type": "code",
      "metadata": {
        "id": "8eVAI4Jh6C5C"
      },
      "source": [
        "mean_encoded_acc_name = train.groupby(['Account_Name'])['Target'].mean().to_dict()\r\n",
        "train['Account_Name'] =  train['Account_Name'].map(mean_encoded_acc_name)\r\n",
        "\r\n",
        "test['Account_Name'] = test['Account_Name'].map(mean_encoded_acc_name)\r\n",
        "\r\n",
        "test_kaggle['Account_Name'] = test_kaggle['Account_Name'].map(mean_encoded_acc_name)"
      ],
      "execution_count": 642,
      "outputs": []
    },
    {
      "cell_type": "code",
      "metadata": {
        "id": "XbiEwly_Gbod"
      },
      "source": [
        "test['Account_Name'].fillna(0, inplace=True)\r\n",
        "test_kaggle['Account_Name'].fillna(0, inplace=True)"
      ],
      "execution_count": 643,
      "outputs": []
    },
    {
      "cell_type": "code",
      "metadata": {
        "id": "goRUX8UJfQu3"
      },
      "source": [
        "# test['max_acc_by_territory_region'] = test.groupby(['Region', 'Territory'])['Account_Name'].transform(lambda x: x.fillna(x.mode(dropna=False)))\r\n",
        "# test['max_acc_by_territory_region'].isna().value_counts()"
      ],
      "execution_count": 644,
      "outputs": []
    },
    {
      "cell_type": "code",
      "metadata": {
        "id": "KKPv00SwW38k"
      },
      "source": [
        "# test.groupby('Territory')['Account_Name'].transform(lambda x: x.fillna(x.value_counts()[0]))"
      ],
      "execution_count": 645,
      "outputs": []
    },
    {
      "cell_type": "markdown",
      "metadata": {
        "id": "PPaQpJly-ERe"
      },
      "source": [
        "Para variable 'Account_Owner'"
      ]
    },
    {
      "cell_type": "code",
      "metadata": {
        "id": "qgr2Al0u-T3p"
      },
      "source": [
        "mean_encoded_acc_owner = train.groupby(['Account_Owner'])['Target'].mean().to_dict()\r\n",
        "train['Account_Owner'] =  train['Account_Owner'].map(mean_encoded_acc_owner)\r\n",
        "\r\n",
        "test['Account_Owner'] = test['Account_Owner'].map(mean_encoded_acc_owner)\r\n",
        "\r\n",
        "test_kaggle['Account_Owner'] = test_kaggle['Account_Owner'].map(mean_encoded_acc_owner)"
      ],
      "execution_count": 646,
      "outputs": []
    },
    {
      "cell_type": "markdown",
      "metadata": {
        "id": "WGmimgpR-dY5"
      },
      "source": [
        "Para variable 'Opportunity_Owner'"
      ]
    },
    {
      "cell_type": "code",
      "metadata": {
        "id": "BRfPmMPMJV40"
      },
      "source": [
        "# Hay Opportunity_Owner en test y test_kaggle que no están en train --> como regularizador\r\n",
        "# del Mean Encoding asignamos a esos Opportunity_Owner el código 0"
      ],
      "execution_count": 647,
      "outputs": []
    },
    {
      "cell_type": "code",
      "metadata": {
        "id": "geVzJJ37-jig"
      },
      "source": [
        "mean_encoded_opp_owner = train.groupby(['Opportunity_Owner'])['Target'].mean().to_dict()\r\n",
        "train['Opportunity_Owner'] =  train['Opportunity_Owner'].map(mean_encoded_opp_owner)\r\n",
        "\r\n",
        "test['Opportunity_Owner'] = test['Opportunity_Owner'].map(mean_encoded_opp_owner)\r\n",
        "\r\n",
        "test_kaggle['Opportunity_Owner'] = test_kaggle['Opportunity_Owner'].map(mean_encoded_opp_owner)"
      ],
      "execution_count": 648,
      "outputs": []
    },
    {
      "cell_type": "code",
      "metadata": {
        "id": "UWl2Olr8EiCx"
      },
      "source": [
        "test['Opportunity_Owner'].fillna(0, inplace=True)\r\n",
        "test_kaggle['Opportunity_Owner'].fillna(0, inplace=True)"
      ],
      "execution_count": 649,
      "outputs": []
    },
    {
      "cell_type": "code",
      "metadata": {
        "id": "_O7rw9egHT1d"
      },
      "source": [
        "# test[test['Opportunity_Owner'].isna()].groupby('Opportunity_ID').agg({'Region' : 'value_counts'})"
      ],
      "execution_count": 650,
      "outputs": []
    },
    {
      "cell_type": "markdown",
      "metadata": {
        "id": "tBsk3iK6-spb"
      },
      "source": [
        "Para variable 'Account_Type' (no hay nulos)"
      ]
    },
    {
      "cell_type": "code",
      "metadata": {
        "id": "QwcGsISY-wMs"
      },
      "source": [
        "mean_encoded_acc_type = train.groupby(['Account_Type'])['Target'].mean().to_dict()\r\n",
        "train['Account_Type'] =  train['Account_Type'].map(mean_encoded_acc_type)\r\n",
        "\r\n",
        "test['Account_Type'] = test['Account_Type'].map(mean_encoded_acc_type)\r\n",
        "\r\n",
        "test_kaggle['Account_Type'] = test_kaggle['Account_Type'].map(mean_encoded_acc_type)"
      ],
      "execution_count": 651,
      "outputs": []
    },
    {
      "cell_type": "markdown",
      "metadata": {
        "id": "INAbUmOm-9DR"
      },
      "source": [
        "Para variable 'Opportunity_Type'"
      ]
    },
    {
      "cell_type": "code",
      "metadata": {
        "id": "ZubF7BFpdxW9"
      },
      "source": [
        "# Hay Opportunity_Type en test que no están en train --> como regularizador\r\n",
        "# del Mean Encoding asignamos a esos Opportunity_Owner el código 0"
      ],
      "execution_count": 652,
      "outputs": []
    },
    {
      "cell_type": "code",
      "metadata": {
        "id": "ER_XNiGh_BD-"
      },
      "source": [
        "mean_encoded_opp_type = train.groupby(['Opportunity_Type'])['Target'].mean().to_dict()\r\n",
        "train['Opportunity_Type'] =  train['Opportunity_Type'].map(mean_encoded_opp_type)\r\n",
        "\r\n",
        "test['Opportunity_Type'] = test['Opportunity_Type'].map(mean_encoded_opp_type)\r\n",
        "\r\n",
        "test_kaggle['Opportunity_Type'] = test_kaggle['Opportunity_Type'].map(mean_encoded_opp_type)"
      ],
      "execution_count": 653,
      "outputs": []
    },
    {
      "cell_type": "code",
      "metadata": {
        "id": "YsK9llT9d1YM"
      },
      "source": [
        "test['Opportunity_Type'].fillna(0, inplace=True)"
      ],
      "execution_count": 654,
      "outputs": []
    },
    {
      "cell_type": "markdown",
      "metadata": {
        "id": "23teSUwN_Yt0"
      },
      "source": [
        "Para variable 'Quote_Type'"
      ]
    },
    {
      "cell_type": "code",
      "metadata": {
        "id": "YxUuKqY3_dqL"
      },
      "source": [
        "mean_encoded_quote_type = train.groupby(['Quote_Type'])['Target'].mean().to_dict()\r\n",
        "train['Quote_Type'] =  train['Quote_Type'].map(mean_encoded_quote_type)\r\n",
        "\r\n",
        "test['Quote_Type'] = test['Quote_Type'].map(mean_encoded_quote_type)\r\n",
        "\r\n",
        "test_kaggle['Quote_Type'] = test_kaggle['Quote_Type'].map(mean_encoded_quote_type)"
      ],
      "execution_count": 655,
      "outputs": []
    },
    {
      "cell_type": "markdown",
      "metadata": {
        "id": "0AN7HGHkJiT7"
      },
      "source": [
        "Para variable 'Delivery_Terms'"
      ]
    },
    {
      "cell_type": "code",
      "metadata": {
        "id": "J1mREDh7JluJ"
      },
      "source": [
        "mean_encoded_delivey_terms = train.groupby(['Delivery_Terms'])['Target'].mean().to_dict()\r\n",
        "train['Delivery_Terms'] =  train['Delivery_Terms'].map(mean_encoded_delivey_terms)\r\n",
        "\r\n",
        "test['Delivery_Terms'] = test['Delivery_Terms'].map(mean_encoded_delivey_terms)\r\n",
        "\r\n",
        "test_kaggle['Delivery_Terms'] = test_kaggle['Delivery_Terms'].map(mean_encoded_delivey_terms)"
      ],
      "execution_count": 656,
      "outputs": []
    },
    {
      "cell_type": "markdown",
      "metadata": {
        "id": "oK5u7q-GJs4B"
      },
      "source": [
        "Para variable 'Brand'"
      ]
    },
    {
      "cell_type": "code",
      "metadata": {
        "id": "iXw5t4_ELsVF"
      },
      "source": [
        "# Hay Brand en test y test_kaggle que no están en train --> como regularizador\r\n",
        "# del Mean Encoding asignamos a esos Brand el código de 'None'"
      ],
      "execution_count": 657,
      "outputs": []
    },
    {
      "cell_type": "code",
      "metadata": {
        "id": "z7JZ5uANJwQl"
      },
      "source": [
        "mean_encoded_brand = train.groupby(['Brand'])['Target'].mean().to_dict()\r\n",
        "train['Brand'] =  train['Brand'].map(mean_encoded_brand)\r\n",
        "\r\n",
        "test['Brand'] = test['Brand'].map(mean_encoded_brand)\r\n",
        "\r\n",
        "test_kaggle['Brand'] = test_kaggle['Brand'].map(mean_encoded_brand)"
      ],
      "execution_count": 658,
      "outputs": []
    },
    {
      "cell_type": "code",
      "metadata": {
        "id": "MU2AcxHC7L-v"
      },
      "source": [
        "test['Brand'].fillna(mean_encoded_brand['None'], inplace=True)\r\n",
        "\r\n",
        "test_kaggle['Brand'].fillna(mean_encoded_brand['None'], inplace=True)"
      ],
      "execution_count": 659,
      "outputs": []
    },
    {
      "cell_type": "markdown",
      "metadata": {
        "id": "oivt0ypoJ2np"
      },
      "source": [
        "Para variable 'Product_Type'"
      ]
    },
    {
      "cell_type": "code",
      "metadata": {
        "id": "HwiLOcLcJ7px"
      },
      "source": [
        "mean_encoded_prod_type = train.groupby(['Product_Type'])['Target'].mean().to_dict()\r\n",
        "train['Product_Type'] =  train['Product_Type'].map(mean_encoded_prod_type)\r\n",
        "\r\n",
        "test['Product_Type'] = test['Product_Type'].map(mean_encoded_prod_type)\r\n",
        "\r\n",
        "test_kaggle['Product_Type'] = test_kaggle['Product_Type'].map(mean_encoded_prod_type)"
      ],
      "execution_count": 660,
      "outputs": []
    },
    {
      "cell_type": "markdown",
      "metadata": {
        "id": "wX0DbS5-KZZS"
      },
      "source": [
        "Para variable 'Size'"
      ]
    },
    {
      "cell_type": "code",
      "metadata": {
        "id": "j6UwuwFd9HEW"
      },
      "source": [
        "# Hay Brand en test que no están en train --> como regularizador\r\n",
        "# del Mean Encoding asignamos a esas Size el código de 'None'"
      ],
      "execution_count": 661,
      "outputs": []
    },
    {
      "cell_type": "code",
      "metadata": {
        "id": "bdEG6DdhKdSK"
      },
      "source": [
        "mean_encoded_size = train.groupby(['Size'])['Target'].mean().to_dict()\r\n",
        "train['Size'] =  train['Size'].map(mean_encoded_size)\r\n",
        "\r\n",
        "test['Size'] = test['Size'].map(mean_encoded_size)\r\n",
        "\r\n",
        "test_kaggle['Size'] = test_kaggle['Size'].map(mean_encoded_size)"
      ],
      "execution_count": 662,
      "outputs": []
    },
    {
      "cell_type": "code",
      "metadata": {
        "id": "qPFY7Vku8jX2"
      },
      "source": [
        "test['Size'].fillna(mean_encoded_size['None'], inplace=True)"
      ],
      "execution_count": 663,
      "outputs": []
    },
    {
      "cell_type": "markdown",
      "metadata": {
        "id": "xPL2ajI5Kl9s"
      },
      "source": [
        "Para variable 'Product_Category_B'"
      ]
    },
    {
      "cell_type": "code",
      "metadata": {
        "id": "vTQK87lrOAS_"
      },
      "source": [
        "# Hay Product_Category_B en test que no están en train --> como regularizador del \r\n",
        "# Mean Encoding asignamos a esos Product_Category_B el código de 'None'"
      ],
      "execution_count": 664,
      "outputs": []
    },
    {
      "cell_type": "code",
      "metadata": {
        "id": "Oxi-T8L4Kqds"
      },
      "source": [
        "mean_encoded_prod_cat_b = train.groupby(['Product_Category_B'])['Target'].mean().to_dict()\r\n",
        "train['Product_Category_B'] =  train['Product_Category_B'].map(mean_encoded_prod_cat_b)\r\n",
        "\r\n",
        "test['Product_Category_B'] = test['Product_Category_B'].map(mean_encoded_prod_cat_b)\r\n",
        "\r\n",
        "test_kaggle['Product_Category_B'] = test_kaggle['Product_Category_B'].map(mean_encoded_prod_cat_b)"
      ],
      "execution_count": 665,
      "outputs": []
    },
    {
      "cell_type": "code",
      "metadata": {
        "id": "NJNXYesg9wHa"
      },
      "source": [
        "test['Product_Category_B'].fillna(mean_encoded_prod_cat_b['None'], inplace=True)\r\n",
        "\r\n",
        "test_kaggle['Product_Category_B'].fillna(mean_encoded_prod_cat_b['None'], inplace=True)"
      ],
      "execution_count": 666,
      "outputs": []
    },
    {
      "cell_type": "markdown",
      "metadata": {
        "id": "cdfGhq0lKzLb"
      },
      "source": [
        "Para variable 'Currency'"
      ]
    },
    {
      "cell_type": "code",
      "metadata": {
        "id": "i6eGbPy2K2pN"
      },
      "source": [
        "mean_encoded_currency = train.groupby(['Currency'])['Target'].mean().to_dict()\r\n",
        "train['Currency'] =  train['Currency'].map(mean_encoded_currency)\r\n",
        "\r\n",
        "test['Currency'] = test['Currency'].map(mean_encoded_currency)\r\n",
        "\r\n",
        "test_kaggle['Currency'] = test_kaggle['Currency'].map(mean_encoded_currency)"
      ],
      "execution_count": 667,
      "outputs": []
    },
    {
      "cell_type": "markdown",
      "metadata": {
        "id": "A-71TGu8K9hK"
      },
      "source": [
        "Para variable 'Last_Modified_By'"
      ]
    },
    {
      "cell_type": "code",
      "metadata": {
        "id": "zjJgTASw_VPj"
      },
      "source": [
        "# Hay Last_Modified_By en test y test_kaggle que no están en train --> como\r\n",
        "# regularizador del Mean Encoding asignamos a esos Last_Modified_By el código 0"
      ],
      "execution_count": 668,
      "outputs": []
    },
    {
      "cell_type": "code",
      "metadata": {
        "id": "Qwg8wG4ELC9F"
      },
      "source": [
        "mean_encoded_last_modified_by = train.groupby(['Last_Modified_By'])['Target'].mean().to_dict()\r\n",
        "train['Last_Modified_By'] =  train['Last_Modified_By'].map(mean_encoded_last_modified_by)\r\n",
        "\r\n",
        "test['Last_Modified_By'] = test['Last_Modified_By'].map(mean_encoded_last_modified_by)\r\n",
        "\r\n",
        "test_kaggle['Last_Modified_By'] = test_kaggle['Last_Modified_By'].map(mean_encoded_last_modified_by)"
      ],
      "execution_count": 669,
      "outputs": []
    },
    {
      "cell_type": "code",
      "metadata": {
        "id": "jpY7gmsv_ogU"
      },
      "source": [
        "test['Last_Modified_By'].fillna(0, inplace=True)\r\n",
        "\r\n",
        "test_kaggle['Last_Modified_By'].fillna(0, inplace=True)"
      ],
      "execution_count": 670,
      "outputs": []
    },
    {
      "cell_type": "code",
      "metadata": {
        "id": "1OD0ocHHO4Eg"
      },
      "source": [
        "# test[test['Last_Modified_By'].isna()].groupby('Opportunity_ID').agg({'Region' : 'value_counts'})"
      ],
      "execution_count": 671,
      "outputs": []
    },
    {
      "cell_type": "markdown",
      "metadata": {
        "id": "L73l-g41LK2O"
      },
      "source": [
        "Para variable 'Product_Family'"
      ]
    },
    {
      "cell_type": "code",
      "metadata": {
        "id": "NRF5_b9WAUn2"
      },
      "source": [
        "# Hay Product_Family en test y test_kaggle que no están en train --> como\r\n",
        "# regularizador del Mean Encoding asignamos a esos Product_Family el código 0"
      ],
      "execution_count": 672,
      "outputs": []
    },
    {
      "cell_type": "code",
      "metadata": {
        "id": "0hb4JSUlLVaL"
      },
      "source": [
        "mean_encoded_prod_family = train.groupby(['Product_Family'])['Target'].mean().to_dict()\r\n",
        "train['Product_Family'] =  train['Product_Family'].map(mean_encoded_prod_family)\r\n",
        "\r\n",
        "test['Product_Family'] = test['Product_Family'].map(mean_encoded_prod_family)\r\n",
        "\r\n",
        "test_kaggle['Product_Family'] = test_kaggle['Product_Family'].map(mean_encoded_prod_family)"
      ],
      "execution_count": 673,
      "outputs": []
    },
    {
      "cell_type": "code",
      "metadata": {
        "id": "GMDC6xUgACcv"
      },
      "source": [
        "test['Product_Family'].fillna(0, inplace=True)\r\n",
        "\r\n",
        "test_kaggle['Product_Family'].fillna(0, inplace=True)"
      ],
      "execution_count": 674,
      "outputs": []
    },
    {
      "cell_type": "code",
      "metadata": {
        "id": "lV6qsfg_dJ33"
      },
      "source": [
        "# test[test['Product_Family'].isna()].groupby('Opportunity_ID').agg({'Region' : 'value_counts'})"
      ],
      "execution_count": 675,
      "outputs": []
    },
    {
      "cell_type": "markdown",
      "metadata": {
        "id": "ERi1pNJVLcPJ"
      },
      "source": [
        "Para varaible 'Product_Name'"
      ]
    },
    {
      "cell_type": "code",
      "metadata": {
        "id": "ew7dOlocAx8F"
      },
      "source": [
        "# Hay Product_Name en test y test_kaggle que no están en train --> como\r\n",
        "# regularizador del Mean Encoding asignamos a esos Product_Name el código 0"
      ],
      "execution_count": 676,
      "outputs": []
    },
    {
      "cell_type": "code",
      "metadata": {
        "id": "JXDb3RWZLftD"
      },
      "source": [
        "mean_encoded_prod_name = train.groupby(['Product_Name'])['Target'].mean().to_dict()\r\n",
        "train['Product_Name'] =  train['Product_Name'].map(mean_encoded_prod_name)\r\n",
        "\r\n",
        "test['Product_Name'] = test['Product_Name'].map(mean_encoded_prod_name)\r\n",
        "\r\n",
        "test_kaggle['Product_Name'] = test_kaggle['Product_Name'].map(mean_encoded_prod_name)"
      ],
      "execution_count": 677,
      "outputs": []
    },
    {
      "cell_type": "code",
      "metadata": {
        "id": "yjIw7LKIA2qB"
      },
      "source": [
        "test['Product_Name'].fillna(0, inplace=True)\r\n",
        "\r\n",
        "test_kaggle['Product_Name'].fillna(0, inplace=True)"
      ],
      "execution_count": 678,
      "outputs": []
    },
    {
      "cell_type": "code",
      "metadata": {
        "id": "TYaLxUSOe-yz"
      },
      "source": [
        "# test[test['Product_Name'].isna()].groupby('Opportunity_ID').agg({'Region' : 'value_counts'})"
      ],
      "execution_count": 679,
      "outputs": []
    },
    {
      "cell_type": "markdown",
      "metadata": {
        "id": "xHpmTeMCLuCJ"
      },
      "source": [
        "Para variable 'ASP_Currency'"
      ]
    },
    {
      "cell_type": "code",
      "metadata": {
        "id": "z8zi2-vhLx-k"
      },
      "source": [
        "mean_encoded_asp_currency = train.groupby(['ASP_Currency'])['Target'].mean().to_dict()\r\n",
        "train['ASP_Currency'] =  train['ASP_Currency'].map(mean_encoded_asp_currency)\r\n",
        "\r\n",
        "test['ASP_Currency'] = test['ASP_Currency'].map(mean_encoded_asp_currency)\r\n",
        "\r\n",
        "test_kaggle['ASP_Currency'] = test_kaggle['ASP_Currency'].map(mean_encoded_asp_currency)"
      ],
      "execution_count": 680,
      "outputs": []
    },
    {
      "cell_type": "markdown",
      "metadata": {
        "id": "Ex8sQz0mL9rD"
      },
      "source": [
        "Para variable 'Delivery_Quarter'"
      ]
    },
    {
      "cell_type": "code",
      "metadata": {
        "id": "-zLPPKQdMCBf"
      },
      "source": [
        "mean_encoded_delivery_quarter = train.groupby(['Delivery_Quarter'])['Target'].mean().to_dict()\r\n",
        "train['Delivery_Quarter'] =  train['Delivery_Quarter'].map(mean_encoded_delivery_quarter)\r\n",
        "\r\n",
        "test['Delivery_Quarter'] = test['Delivery_Quarter'].map(mean_encoded_delivery_quarter)\r\n",
        "\r\n",
        "test_kaggle['Delivery_Quarter'] = test_kaggle['Delivery_Quarter'].map(mean_encoded_delivery_quarter)"
      ],
      "execution_count": 681,
      "outputs": []
    },
    {
      "cell_type": "markdown",
      "metadata": {
        "id": "MElrDC5hMJCU"
      },
      "source": [
        "Para varaible 'Total_Amount_Currency'"
      ]
    },
    {
      "cell_type": "code",
      "metadata": {
        "id": "aPp9QdCSMNDa"
      },
      "source": [
        "mean_encoded_total_amount_currency = train.groupby(['Total_Amount_Currency'])['Target'].mean().to_dict()\r\n",
        "train['Total_Amount_Currency'] =  train['Total_Amount_Currency'].map(mean_encoded_total_amount_currency)\r\n",
        "\r\n",
        "test['Total_Amount_Currency'] = test['Total_Amount_Currency'].map(mean_encoded_total_amount_currency)\r\n",
        "\r\n",
        "test_kaggle['Total_Amount_Currency'] = test_kaggle['Total_Amount_Currency'].map(mean_encoded_total_amount_currency)"
      ],
      "execution_count": 682,
      "outputs": []
    },
    {
      "cell_type": "markdown",
      "metadata": {
        "id": "fsDBzqdMMXJj"
      },
      "source": [
        "Para variable 'Total_Taxable_Amount_Currency'"
      ]
    },
    {
      "cell_type": "code",
      "metadata": {
        "id": "MueWzkoaMcmY"
      },
      "source": [
        "mean_encoded_total_tax_amount_currency = train.groupby(['Total_Taxable_Amount_Currency'])['Target'].mean().to_dict()\r\n",
        "train['Total_Taxable_Amount_Currency'] =  train['Total_Taxable_Amount_Currency'].map(mean_encoded_total_tax_amount_currency)\r\n",
        "\r\n",
        "test['Total_Taxable_Amount_Currency'] = test['Total_Taxable_Amount_Currency'].map(mean_encoded_total_tax_amount_currency)\r\n",
        "\r\n",
        "test_kaggle['Total_Taxable_Amount_Currency'] = test_kaggle['Total_Taxable_Amount_Currency'].map(mean_encoded_total_tax_amount_currency)"
      ],
      "execution_count": 683,
      "outputs": []
    },
    {
      "cell_type": "markdown",
      "metadata": {
        "id": "onQKL34avZ49"
      },
      "source": [
        "## Analizamos los valores nulos de las columnas"
      ]
    },
    {
      "cell_type": "code",
      "metadata": {
        "id": "ALfUY-81vUC4"
      },
      "source": [
        "# train.info()\r\n",
        "# test.info()\r\n",
        "# test_kaggle.info()"
      ],
      "execution_count": 684,
      "outputs": []
    },
    {
      "cell_type": "markdown",
      "metadata": {
        "id": "3HWoyZQxFWcT"
      },
      "source": [
        "Podemos ver que quedan los siguientes nulos:\r\n",
        "\r\n",
        "    * 'Price' (train/test/test_kaggle)\r\n",
        "    * 'Total_Amount' (train)\r\n",
        "    * 'USD_Total_Amount' (train)\r\n",
        "    * 'ASP' (train/test/test_kaggle)\r\n",
        "    * 'ASP_(converted_USD)' (train/test/test_kaggle)\r\n",
        "\r\n",
        "  "
      ]
    },
    {
      "cell_type": "code",
      "metadata": {
        "id": "nxnMZugjE-AN"
      },
      "source": [
        "# 1) 'Price' (train/test/test_kaggle) --> como tiene tantos nulos (99%/92.8%/93.7%\r\n",
        "# respectivamente), decidimos eliminar la columna en todos los set de datos\r\n",
        "train.drop(columns = ['Price'], inplace=True)\r\n",
        "test.drop(columns = ['Price'], inplace=True)\r\n",
        "test_kaggle.drop(columns = ['Price'], inplace=True)"
      ],
      "execution_count": 685,
      "outputs": []
    },
    {
      "cell_type": "code",
      "metadata": {
        "id": "jdDo8x8vIpLZ"
      },
      "source": [
        "# 2) 'Total_Amount' (train)\r\n",
        "# 3) 'USD_Total_Amount' (train) -->\r\n",
        "# Ambas tienen una relación uno a uno por ser lo mismo pero expresado en monedas distintas.\r\n",
        "# Los porcentajes de nulos son (0.4368%, ambas columnas igual). Dada la poca cantidad de\r\n",
        "# filas que son (59), decidimos eliminarlas.\r\n",
        "train = train[train['Total_Amount'].notna()]"
      ],
      "execution_count": 686,
      "outputs": []
    },
    {
      "cell_type": "code",
      "metadata": {
        "id": "mT2P5cR0HEM-",
        "colab": {
          "base_uri": "https://localhost:8080/"
        },
        "outputId": "939a25c9-7cf4-4ad5-8669-527595c92190"
      },
      "source": [
        "# 4) 'ASP' (train/test/test_kaggle)\r\n",
        "# 5) 'ASP_(converted_USD)' (train/test/test_kaggle) -->\r\n",
        "# Ambas tienen una relación uno a uno por ser lo mismo pero expresado en monedas distintas.\r\n",
        "# Los porcentajes de nulos son (20.5%/12.7%/3.29% respectivamente y ambas columnas igual). \r\n",
        "(train['ASP'] < 0).value_counts()         #--> todos False\r\n",
        "(test['ASP'] < 0).value_counts()          #--> todos False\r\n",
        "(test_kaggle['ASP'] < 0).value_counts()   #--> todos False"
      ],
      "execution_count": 687,
      "outputs": [
        {
          "output_type": "execute_result",
          "data": {
            "text/plain": [
              "False    2551\n",
              "Name: ASP, dtype: int64"
            ]
          },
          "metadata": {
            "tags": []
          },
          "execution_count": 687
        }
      ]
    },
    {
      "cell_type": "code",
      "metadata": {
        "id": "CgQ4bZ4UPygK"
      },
      "source": [
        "# Entonces decidimos llenar esos nulos con un valor distinto al resto, en este caso\r\n",
        "# un -1, dado que no hay ningún elemento no nulo en esa columna que sea menor a 0.\r\n",
        "\r\n",
        "# train['ASP'].fillna(0, inplace=True)\r\n",
        "# train['ASP_(converted_USD)'].fillna(0, inplace=True)\r\n",
        "# test['ASP'].fillna(0, inplace=True)\r\n",
        "# test['ASP_(converted_USD)'].fillna(0, inplace=True)\r\n",
        "# test_kaggle['ASP'].fillna(0, inplace=True)\r\n",
        "# test_kaggle['ASP_(converted_USD)'].fillna(0, inplace=True)"
      ],
      "execution_count": 688,
      "outputs": []
    },
    {
      "cell_type": "code",
      "metadata": {
        "id": "aXCniDuTHnGf"
      },
      "source": [
        "from numpy import isnan\r\n",
        "from sklearn.experimental import enable_iterative_imputer\r\n",
        "from sklearn.impute import IterativeImputer\r\n",
        "\r\n",
        "imputer = IterativeImputer()\r\n",
        "# fit on the dataset\r\n",
        "imputer.fit(train)\r\n",
        "# transform the dataset\r\n",
        "Xtrans = imputer.transform(train)\r\n",
        "train = pd.DataFrame(data = Xtrans, columns = train.columns)\r\n",
        "\r\n",
        "# fit on the dataset\r\n",
        "imputer.fit(test)\r\n",
        "# transform the dataset\r\n",
        "Xtrans = imputer.transform(test)\r\n",
        "test = pd.DataFrame(data = Xtrans, columns = test.columns)\r\n",
        "\r\n",
        "# fit on the dataset\r\n",
        "imputer.fit(test_kaggle)\r\n",
        "# transform the dataset\r\n",
        "Xtrans = imputer.transform(test_kaggle)\r\n",
        "test_kaggle = pd.DataFrame(data = Xtrans, columns = test_kaggle.columns)"
      ],
      "execution_count": 689,
      "outputs": []
    },
    {
      "cell_type": "code",
      "metadata": {
        "id": "LJ9txuKPRP6m",
        "colab": {
          "base_uri": "https://localhost:8080/"
        },
        "outputId": "8481b8b5-bd45-4876-9cb9-902114c3851c"
      },
      "source": [
        "# Verificamos que todos los valores de los 3 set de datos sean NO nulos (la suma debe dar 0)\r\n",
        "train.isnull().sum().sum() + test.isnull().sum().sum() + test_kaggle.isnull().sum().sum()"
      ],
      "execution_count": 690,
      "outputs": [
        {
          "output_type": "execute_result",
          "data": {
            "text/plain": [
              "0"
            ]
          },
          "metadata": {
            "tags": []
          },
          "execution_count": 690
        }
      ]
    },
    {
      "cell_type": "markdown",
      "metadata": {
        "id": "ElwB7jjJHNJm"
      },
      "source": [
        "##Finalmente guardamos el dataframe train en un csv"
      ]
    },
    {
      "cell_type": "code",
      "metadata": {
        "id": "U2kCSjr1HMpO",
        "colab": {
          "base_uri": "https://localhost:8080/",
          "height": 17
        },
        "outputId": "200630df-0cea-4f35-de39-66b6ca5061c5"
      },
      "source": [
        "from google.colab import files\r\n",
        "train.to_csv('data_train.csv', index=False)\r\n",
        "files.download('data_train.csv')\r\n",
        "\r\n",
        "test.to_csv('data_test.csv', index=False)\r\n",
        "files.download('data_test.csv')\r\n",
        "\r\n",
        "test_kaggle.to_csv('data_test_kaggle.csv', index=False)\r\n",
        "files.download('data_test_kaggle.csv')"
      ],
      "execution_count": 691,
      "outputs": [
        {
          "output_type": "display_data",
          "data": {
            "application/javascript": [
              "\n",
              "    async function download(id, filename, size) {\n",
              "      if (!google.colab.kernel.accessAllowed) {\n",
              "        return;\n",
              "      }\n",
              "      const div = document.createElement('div');\n",
              "      const label = document.createElement('label');\n",
              "      label.textContent = `Downloading \"${filename}\": `;\n",
              "      div.appendChild(label);\n",
              "      const progress = document.createElement('progress');\n",
              "      progress.max = size;\n",
              "      div.appendChild(progress);\n",
              "      document.body.appendChild(div);\n",
              "\n",
              "      const buffers = [];\n",
              "      let downloaded = 0;\n",
              "\n",
              "      const channel = await google.colab.kernel.comms.open(id);\n",
              "      // Send a message to notify the kernel that we're ready.\n",
              "      channel.send({})\n",
              "\n",
              "      for await (const message of channel.messages) {\n",
              "        // Send a message to notify the kernel that we're ready.\n",
              "        channel.send({})\n",
              "        if (message.buffers) {\n",
              "          for (const buffer of message.buffers) {\n",
              "            buffers.push(buffer);\n",
              "            downloaded += buffer.byteLength;\n",
              "            progress.value = downloaded;\n",
              "          }\n",
              "        }\n",
              "      }\n",
              "      const blob = new Blob(buffers, {type: 'application/binary'});\n",
              "      const a = document.createElement('a');\n",
              "      a.href = window.URL.createObjectURL(blob);\n",
              "      a.download = filename;\n",
              "      div.appendChild(a);\n",
              "      a.click();\n",
              "      div.remove();\n",
              "    }\n",
              "  "
            ],
            "text/plain": [
              "<IPython.core.display.Javascript object>"
            ]
          },
          "metadata": {
            "tags": []
          }
        },
        {
          "output_type": "display_data",
          "data": {
            "application/javascript": [
              "download(\"download_85d55855-d057-4627-bb2b-1d7e3e07ead0\", \"data_train.csv\", 7953091)"
            ],
            "text/plain": [
              "<IPython.core.display.Javascript object>"
            ]
          },
          "metadata": {
            "tags": []
          }
        },
        {
          "output_type": "display_data",
          "data": {
            "application/javascript": [
              "\n",
              "    async function download(id, filename, size) {\n",
              "      if (!google.colab.kernel.accessAllowed) {\n",
              "        return;\n",
              "      }\n",
              "      const div = document.createElement('div');\n",
              "      const label = document.createElement('label');\n",
              "      label.textContent = `Downloading \"${filename}\": `;\n",
              "      div.appendChild(label);\n",
              "      const progress = document.createElement('progress');\n",
              "      progress.max = size;\n",
              "      div.appendChild(progress);\n",
              "      document.body.appendChild(div);\n",
              "\n",
              "      const buffers = [];\n",
              "      let downloaded = 0;\n",
              "\n",
              "      const channel = await google.colab.kernel.comms.open(id);\n",
              "      // Send a message to notify the kernel that we're ready.\n",
              "      channel.send({})\n",
              "\n",
              "      for await (const message of channel.messages) {\n",
              "        // Send a message to notify the kernel that we're ready.\n",
              "        channel.send({})\n",
              "        if (message.buffers) {\n",
              "          for (const buffer of message.buffers) {\n",
              "            buffers.push(buffer);\n",
              "            downloaded += buffer.byteLength;\n",
              "            progress.value = downloaded;\n",
              "          }\n",
              "        }\n",
              "      }\n",
              "      const blob = new Blob(buffers, {type: 'application/binary'});\n",
              "      const a = document.createElement('a');\n",
              "      a.href = window.URL.createObjectURL(blob);\n",
              "      a.download = filename;\n",
              "      div.appendChild(a);\n",
              "      a.click();\n",
              "      div.remove();\n",
              "    }\n",
              "  "
            ],
            "text/plain": [
              "<IPython.core.display.Javascript object>"
            ]
          },
          "metadata": {
            "tags": []
          }
        },
        {
          "output_type": "display_data",
          "data": {
            "application/javascript": [
              "download(\"download_24fd5be4-4595-457c-bb28-94b8ab3dc37e\", \"data_test.csv\", 1914460)"
            ],
            "text/plain": [
              "<IPython.core.display.Javascript object>"
            ]
          },
          "metadata": {
            "tags": []
          }
        },
        {
          "output_type": "display_data",
          "data": {
            "application/javascript": [
              "\n",
              "    async function download(id, filename, size) {\n",
              "      if (!google.colab.kernel.accessAllowed) {\n",
              "        return;\n",
              "      }\n",
              "      const div = document.createElement('div');\n",
              "      const label = document.createElement('label');\n",
              "      label.textContent = `Downloading \"${filename}\": `;\n",
              "      div.appendChild(label);\n",
              "      const progress = document.createElement('progress');\n",
              "      progress.max = size;\n",
              "      div.appendChild(progress);\n",
              "      document.body.appendChild(div);\n",
              "\n",
              "      const buffers = [];\n",
              "      let downloaded = 0;\n",
              "\n",
              "      const channel = await google.colab.kernel.comms.open(id);\n",
              "      // Send a message to notify the kernel that we're ready.\n",
              "      channel.send({})\n",
              "\n",
              "      for await (const message of channel.messages) {\n",
              "        // Send a message to notify the kernel that we're ready.\n",
              "        channel.send({})\n",
              "        if (message.buffers) {\n",
              "          for (const buffer of message.buffers) {\n",
              "            buffers.push(buffer);\n",
              "            downloaded += buffer.byteLength;\n",
              "            progress.value = downloaded;\n",
              "          }\n",
              "        }\n",
              "      }\n",
              "      const blob = new Blob(buffers, {type: 'application/binary'});\n",
              "      const a = document.createElement('a');\n",
              "      a.href = window.URL.createObjectURL(blob);\n",
              "      a.download = filename;\n",
              "      div.appendChild(a);\n",
              "      a.click();\n",
              "      div.remove();\n",
              "    }\n",
              "  "
            ],
            "text/plain": [
              "<IPython.core.display.Javascript object>"
            ]
          },
          "metadata": {
            "tags": []
          }
        },
        {
          "output_type": "display_data",
          "data": {
            "application/javascript": [
              "download(\"download_1683878d-dc2c-4ae4-99d3-87d0f0ee7f14\", \"data_test_kaggle.csv\", 1387762)"
            ],
            "text/plain": [
              "<IPython.core.display.Javascript object>"
            ]
          },
          "metadata": {
            "tags": []
          }
        }
      ]
    }
  ]
}