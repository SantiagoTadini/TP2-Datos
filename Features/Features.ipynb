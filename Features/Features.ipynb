{
  "nbformat": 4,
  "nbformat_minor": 0,
  "metadata": {
    "kernelspec": {
      "display_name": "Python 3",
      "language": "python",
      "name": "python3"
    },
    "language_info": {
      "codemirror_mode": {
        "name": "ipython",
        "version": 3
      },
      "file_extension": ".py",
      "mimetype": "text/x-python",
      "name": "python",
      "nbconvert_exporter": "python",
      "pygments_lexer": "ipython3",
      "version": "3.8.3"
    },
    "colab": {
      "name": "Features.ipynb",
      "provenance": []
    }
  },
  "cells": [
    {
      "cell_type": "code",
      "metadata": {
        "id": "LXFiE36Iiy9o"
      },
      "source": [
        "import pandas as pd\r\n",
        "import datetime as dt\r\n",
        "import numpy as np"
      ],
      "execution_count": 77,
      "outputs": []
    },
    {
      "cell_type": "code",
      "metadata": {
        "id": "AGZPCf4SVV90"
      },
      "source": [
        "# Como vimos en el TP1:\r\n",
        "\r\n",
        "# En el read_csv, castear las variables a los tipos que corresponden.\r\n",
        "# En el usecols sacar: \r\n",
        "#     * 'Submitted_for_Approval' (Un solo valor: 0)\r\n",
        "#     * 'Last_Activity' (Todos nulos)\r\n",
        "#     * 'ASP_(converted)_Currency' (Un solo valor: 'USD')\r\n",
        "#     * 'Actual_Delivery_Date' (Todos nulos)\r\n",
        "#     * 'Prod_Category_A' (Un solo valor: 'Prod_Category_A_None')\r\n",
        "#     * 'Sales_Contract_No' (No permite que se realice el entrenamiento)\r\n",
        "#     * 'Opportunity_Name' (Tiene correspondencia 1 a 1 con 'Opportunity_ID, es redundante)\r\n",
        "\r\n",
        "\r\n",
        "# ESTAS SON COLUMNAS TODAVÍA ***NO*** ELIMINADAS:\r\n",
        "#     * 'Brand' (Muchos nulos: 15911)\r\n",
        "#     * 'Product_Type' (Muchos nulos: 15935)\r\n",
        "#     * 'Size' (Muchos nulos: 15967)\r\n",
        "#     * 'Product_Category_B' (Muchos nulos: 15928)\r\n",
        "#     * 'Price' (Muchos nulos; 15982) ----------------> si ahora lo borramos, borrar celda del replace de Price\r\n",
        "#     * 'Currency' (Muchos nulos: 16052)\r\n"
      ],
      "execution_count": 78,
      "outputs": []
    },
    {
      "cell_type": "code",
      "metadata": {
        "id": "bV4CuYHliy93"
      },
      "source": [
        "# train = pd.read_csv(\"../Train_TP2_Datos_2020-2C.csv\")\n",
        "# test_kaggle = pd.read_csv(\"../Test_TP2_Datos_2020-2C.csv\")\n",
        "\n",
        "url_train = 'https://raw.githubusercontent.com/SantiagoTadini/TP2-Datos/main/Train_TP2_Datos_2020-2C.csv'\n",
        "url_test_kaggle = 'https://raw.githubusercontent.com/SantiagoTadini/TP2-Datos/main/Test_TP2_Datos_2020-2C.csv'\n",
        "train = pd.read_csv(url_train,\\\n",
        "                    usecols=['ID', 'Region', 'Territory', 'Pricing, Delivery_Terms_Quote_Appr',\\\n",
        "                          'Pricing, Delivery_Terms_Approved', 'Bureaucratic_Code_0_Approval', 'Bureaucratic_Code_0_Approved',\\\n",
        "                          'Bureaucratic_Code', 'Account_Created_Date', 'Source ', 'Billing_Country',\\\n",
        "                          'Account_Name', 'Opportunity_ID', 'Account_Owner',\\\n",
        "                          'Opportunity_Owner', 'Account_Type', 'Opportunity_Type', 'Quote_Type', 'Delivery_Terms',\\\n",
        "                          'Opportunity_Created_Date', 'Brand', 'Product_Type', 'Size', 'Product_Category_B', 'Price',\\\n",
        "                          'Currency', 'Quote_Expiry_Date', 'Last_Modified_Date', 'Last_Modified_By',\\\n",
        "                          'Product_Family', 'Product_Name', 'ASP_Currency', 'ASP', 'ASP_(converted)',\\\n",
        "                          'Planned_Delivery_Start_Date', 'Planned_Delivery_End_Date', 'Month', 'Delivery_Quarter',\\\n",
        "                          'Delivery_Year', 'TRF', 'Total_Amount_Currency', 'Total_Amount', 'Total_Taxable_Amount_Currency',\\\n",
        "                          'Total_Taxable_Amount', 'Stage'],\\\n",
        "                    dtype={\n",
        "                          'Region' : 'category',\n",
        "                          'Territory' : 'category',\n",
        "                          'Bureaucratic_Code' : 'category',\n",
        "                          'Source ' : 'category',\n",
        "                          'Billing_Country' : 'category',\n",
        "                          'Account_Name' : 'category',\n",
        "                          'Account_Owner' : 'category',\n",
        "                          'Opportunity_Owner' : 'category',\n",
        "                          'Account_Type' : 'category',\n",
        "                          'Opportunity_Type' : 'category',\n",
        "                          'Quote_Type' : 'category',\n",
        "                          'Delivery_Terms' : 'category',\n",
        "                          'Brand' : 'category',\n",
        "                          'Product_Type' : 'category',\n",
        "                          'Size' : 'category',\n",
        "                          'Product_Category_B' : 'category',\n",
        "                          'Currency' : 'category',\n",
        "                          'Last_Modified_By' : 'category',\n",
        "                          'Product_Family' : 'category',\n",
        "                          'Product_Name' : 'category',\n",
        "                          'ASP_Currency' : 'category',\n",
        "                          'Delivery_Quarter' : 'category',\n",
        "                          'Total_Amount_Currency' : 'category',\n",
        "                          'Total_Taxable_Amount_Currency' : 'category',\n",
        "                          'Stage' : 'category'})\n",
        "test_kaggle = pd.read_csv(url_test_kaggle,\\\n",
        "                          usecols=['ID', 'Region', 'Territory', 'Pricing, Delivery_Terms_Quote_Appr',\\\n",
        "                                  'Pricing, Delivery_Terms_Approved', 'Bureaucratic_Code_0_Approval', 'Bureaucratic_Code_0_Approved',\\\n",
        "                                  'Bureaucratic_Code', 'Account_Created_Date', 'Source ', 'Billing_Country',\\\n",
        "                                  'Account_Name', 'Opportunity_ID', 'Account_Owner',\\\n",
        "                                  'Opportunity_Owner', 'Account_Type', 'Opportunity_Type', 'Quote_Type', 'Delivery_Terms',\\\n",
        "                                  'Opportunity_Created_Date', 'Brand', 'Product_Type', 'Size', 'Product_Category_B', 'Price',\\\n",
        "                                  'Currency', 'Quote_Expiry_Date', 'Last_Modified_Date', 'Last_Modified_By',\\\n",
        "                                  'Product_Family', 'Product_Name', 'ASP_Currency', 'ASP', 'ASP_(converted)',\\\n",
        "                                  'Planned_Delivery_Start_Date', 'Planned_Delivery_End_Date', 'Month', 'Delivery_Quarter',\\\n",
        "                                  'Delivery_Year', 'TRF', 'Total_Amount_Currency', 'Total_Amount', 'Total_Taxable_Amount_Currency',\\\n",
        "                                  'Total_Taxable_Amount'],\\\n",
        "                            dtype={\n",
        "                                  'Region' : 'category',\n",
        "                                  'Territory' : 'category',\n",
        "                                  'Bureaucratic_Code' : 'category',\n",
        "                                  'Source ' : 'category',\n",
        "                                  'Billing_Country' : 'category',\n",
        "                                  'Account_Name' : 'category',\n",
        "                                  'Account_Owner' : 'category',\n",
        "                                  'Opportunity_Owner' : 'category',\n",
        "                                  'Account_Type' : 'category',\n",
        "                                  'Opportunity_Type' : 'category',\n",
        "                                  'Quote_Type' : 'category',\n",
        "                                  'Delivery_Terms' : 'category',\n",
        "                                  'Brand' : 'category',\n",
        "                                  'Product_Type' : 'category',\n",
        "                                  'Size' : 'category',\n",
        "                                  'Product_Category_B' : 'category',\n",
        "                                  'Currency' : 'category',\n",
        "                                  'Last_Modified_By' : 'category',\n",
        "                                  'Product_Family' : 'category',\n",
        "                                  'Product_Name' : 'category',\n",
        "                                  'ASP_Currency' : 'category',\n",
        "                                  'Delivery_Quarter' : 'category',\n",
        "                                  'Total_Amount_Currency' : 'category',\n",
        "                                  'Total_Taxable_Amount_Currency' : 'category'})"
      ],
      "execution_count": 79,
      "outputs": []
    },
    {
      "cell_type": "code",
      "metadata": {
        "colab": {
          "base_uri": "https://localhost:8080/"
        },
        "id": "F989UwUQddaE",
        "outputId": "c165aafa-24ea-4a04-d227-c798f53798e1"
      },
      "source": [
        "# Cantidad de columnas y filas de cada set de datos\r\n",
        "print('Cantidad de columnas de train:', len(train.columns), 'y cantidad de filas de train:', len(train))\r\n",
        "print('Cantidad de columnas de test_kaggle:', len(test_kaggle.columns), 'y cantidad de filas de test_kaggle:', len(test_kaggle))"
      ],
      "execution_count": 80,
      "outputs": [
        {
          "output_type": "stream",
          "text": [
            "Cantidad de columnas de train: 45 y cantidad de filas de train: 16947\n",
            "Cantidad de columnas de test_kaggle: 44 y cantidad de filas de test_kaggle: 2551\n"
          ],
          "name": "stdout"
        }
      ]
    },
    {
      "cell_type": "code",
      "metadata": {
        "id": "PSsdxnWLeRSa"
      },
      "source": [
        "# Sacar espacio del nombre de la columna 'Source'\r\n",
        "train.rename(columns={'Source ' : 'Source', 'ASP_(converted)' : 'ASP_(converted_USD)'}, inplace=True)\r\n",
        "\r\n",
        "test_kaggle.rename(columns={'Source ' : 'Source', 'ASP_(converted)' : 'ASP_(converted_USD)'}, inplace=True)"
      ],
      "execution_count": 81,
      "outputs": []
    },
    {
      "cell_type": "code",
      "metadata": {
        "id": "odP5l-y-ea6u"
      },
      "source": [
        "# Poner en la columna Month sólo el mes (que no aparezca el año)\r\n",
        "train['Month'] = pd.to_datetime(train['Month'], format='%Y - %m').dt.month\r\n",
        "\r\n",
        "test_kaggle['Month'] = pd.to_datetime(test_kaggle['Month'], format='%Y - %m').dt.month"
      ],
      "execution_count": 82,
      "outputs": []
    },
    {
      "cell_type": "code",
      "metadata": {
        "id": "dG5cIJwfg-HU"
      },
      "source": [
        "# Pasar la columna 'Price' a numérico (incluídos los nulos)\r\n",
        "train['Price'] = train['Price'].replace('None', np.NaN)\r\n",
        "train['Price'] = train['Price'].replace('Other', np.NaN)\r\n",
        "train['Price'] = train['Price'].astype('float')\r\n",
        "\r\n",
        "test_kaggle['Price'] = test_kaggle['Price'].replace('None', np.NaN)\r\n",
        "test_kaggle['Price'] = test_kaggle['Price'].replace('Other', np.NaN)\r\n",
        "test_kaggle['Price'] = test_kaggle['Price'].astype('float')"
      ],
      "execution_count": 83,
      "outputs": []
    },
    {
      "cell_type": "code",
      "metadata": {
        "id": "RYLzLvQVrZEK"
      },
      "source": [
        "# Pasar las columnas de fechas a formato datetime\r\n",
        "formato_fecha = '%m/%d/%Y'\r\n",
        "train['Account_Created_Date'] = pd.to_datetime(train['Account_Created_Date'], format=formato_fecha) # ver fecha fila 0\r\n",
        "train['Opportunity_Created_Date'] = pd.to_datetime(train['Opportunity_Created_Date'], format=formato_fecha) # ver fecha fila 77\r\n",
        "train['Quote_Expiry_Date'] = pd.to_datetime(train['Quote_Expiry_Date'], format=formato_fecha) # ver fecha fila 0\r\n",
        "train['Last_Modified_Date'] = pd.to_datetime(train['Last_Modified_Date'], format=formato_fecha) # ver fecha fila 0\r\n",
        "train['Planned_Delivery_Start_Date'] = pd.to_datetime(train['Planned_Delivery_Start_Date'], format=formato_fecha) # ver fechas filas 0 y 1, comparar el mes con month\r\n",
        "train['Planned_Delivery_End_Date'] = pd.to_datetime(train['Planned_Delivery_End_Date'], format=formato_fecha) # ver fecha fila 0\r\n",
        "\r\n",
        "test_kaggle['Account_Created_Date'] = pd.to_datetime(test_kaggle['Account_Created_Date'], format=formato_fecha) # ver fecha fila 0\r\n",
        "test_kaggle['Opportunity_Created_Date'] = pd.to_datetime(test_kaggle['Opportunity_Created_Date'], format=formato_fecha) # ver fecha fila 77\r\n",
        "test_kaggle['Quote_Expiry_Date'] = pd.to_datetime(test_kaggle['Quote_Expiry_Date'], format=formato_fecha) # ver fecha fila 0\r\n",
        "test_kaggle['Last_Modified_Date'] = pd.to_datetime(test_kaggle['Last_Modified_Date'], format=formato_fecha) # ver fecha fila 0\r\n",
        "test_kaggle['Planned_Delivery_Start_Date'] = pd.to_datetime(test_kaggle['Planned_Delivery_Start_Date'], format=formato_fecha) # ver fechas filas 0 y 1, comparar el mes con month\r\n",
        "test_kaggle['Planned_Delivery_End_Date'] = pd.to_datetime(test_kaggle['Planned_Delivery_End_Date'], format=formato_fecha) # ver fecha fila 0"
      ],
      "execution_count": 84,
      "outputs": []
    },
    {
      "cell_type": "code",
      "metadata": {
        "id": "CV6St44AXMeb"
      },
      "source": [
        "# train.info()\r\n",
        "\r\n",
        "# test_kaggle.info()"
      ],
      "execution_count": 85,
      "outputs": []
    },
    {
      "cell_type": "markdown",
      "metadata": {
        "id": "dhPfF-tmsCJy"
      },
      "source": [
        "Aquí ya no tenemos ningún feature de tipo object."
      ]
    },
    {
      "cell_type": "code",
      "metadata": {
        "id": "IK8KFVKWiy95"
      },
      "source": [
        "# train.head(10)"
      ],
      "execution_count": 86,
      "outputs": []
    },
    {
      "cell_type": "code",
      "metadata": {
        "id": "Hle8qcmziy94"
      },
      "source": [
        "# test_kaggle.head(10)"
      ],
      "execution_count": 87,
      "outputs": []
    },
    {
      "cell_type": "markdown",
      "metadata": {
        "id": "3nbhV_0YTV8f"
      },
      "source": [
        "Eliminamos las filas que no son Closed Won o Closed Lost de train"
      ]
    },
    {
      "cell_type": "code",
      "metadata": {
        "colab": {
          "base_uri": "https://localhost:8080/"
        },
        "id": "nPFXZc362qlR",
        "outputId": "9dec34d4-cb3a-45fa-91db-0872a88c969e"
      },
      "source": [
        "# Vemos los posibles valores que puede adoptar 'Stage'\r\n",
        "train['Stage'].value_counts()"
      ],
      "execution_count": 88,
      "outputs": [
        {
          "output_type": "execute_result",
          "data": {
            "text/plain": [
              "Closed Won       9533\n",
              "Closed Lost      7350\n",
              "Proposal           35\n",
              "Negotiation        18\n",
              "Qualification      11\n",
              "Name: Stage, dtype: int64"
            ]
          },
          "metadata": {
            "tags": []
          },
          "execution_count": 88
        }
      ]
    },
    {
      "cell_type": "code",
      "metadata": {
        "colab": {
          "base_uri": "https://localhost:8080/"
        },
        "id": "n9oydklO66hy",
        "outputId": "a87ddd5e-0376-4ae1-adb6-bb80406d4c2e"
      },
      "source": [
        "# Tenemos que de 16947 filas en total, solo 64 (0.3776%) NO son Closed Won o Closed Lost, es por\r\n",
        "# eso que eliminamos esas filas, su aporte es mínimo.\r\n",
        "train.drop(train[(train['Stage'] != 'Closed Won') & (train['Stage'] != 'Closed Lost')].index, inplace=True)\r\n",
        "train['Stage'].value_counts()"
      ],
      "execution_count": 89,
      "outputs": [
        {
          "output_type": "execute_result",
          "data": {
            "text/plain": [
              "Closed Won       9533\n",
              "Closed Lost      7350\n",
              "Qualification       0\n",
              "Proposal            0\n",
              "Negotiation         0\n",
              "Name: Stage, dtype: int64"
            ]
          },
          "metadata": {
            "tags": []
          },
          "execution_count": 89
        }
      ]
    },
    {
      "cell_type": "markdown",
      "metadata": {
        "id": "-pMJju4Eiy97"
      },
      "source": [
        "## Precio en dolares"
      ]
    },
    {
      "cell_type": "code",
      "metadata": {
        "id": "kMjNV0o6iy97"
      },
      "source": [
        "change_USD = 1 #1 dolar EEUU = 1 dolar EEUU\n",
        "change_EUR = 1.1745 #1 euro = 1,1745 dolares EEUU\n",
        "change_AUD = 0.71601 # 1 dolar australiano = 0.71601 dolar EEUU\n",
        "change_JPY = 0.0094800 # 1 yen japones = 0,0094800 dolares EEUU\n",
        "change_GBP = 1.2935 # 1 libra esterlina = 1,2935 dolares EEUU"
      ],
      "execution_count": 90,
      "outputs": []
    },
    {
      "cell_type": "code",
      "metadata": {
        "id": "upzFTyzriy97"
      },
      "source": [
        "filtro_USD_train = train['Total_Amount_Currency'] == 'USD'\n",
        "filtro_EUR_train = train['Total_Amount_Currency'] == 'EUR'\n",
        "filtro_AUD_train = train['Total_Amount_Currency'] == 'AUD'\n",
        "filtro_JPY_train = train['Total_Amount_Currency'] == 'JPY'\n",
        "filtro_GBP_train = train['Total_Amount_Currency'] == 'GBP'"
      ],
      "execution_count": 91,
      "outputs": []
    },
    {
      "cell_type": "code",
      "metadata": {
        "id": "q3lZxfUpiy98"
      },
      "source": [
        "train.loc[filtro_USD_train, 'USD_Total_Amount'] = train.loc[filtro_USD_train, 'Total_Amount']*change_USD\n",
        "train.loc[filtro_EUR_train, 'USD_Total_Amount'] = train.loc[filtro_EUR_train, 'Total_Amount']*change_EUR\n",
        "train.loc[filtro_AUD_train, 'USD_Total_Amount'] = train.loc[filtro_AUD_train, 'Total_Amount']*change_AUD\n",
        "train.loc[filtro_JPY_train, 'USD_Total_Amount'] = train.loc[filtro_JPY_train, 'Total_Amount']*change_JPY\n",
        "train.loc[filtro_GBP_train, 'USD_Total_Amount'] = train.loc[filtro_GBP_train, 'Total_Amount']*change_GBP"
      ],
      "execution_count": 92,
      "outputs": []
    },
    {
      "cell_type": "code",
      "metadata": {
        "id": "gPembxyCiy98"
      },
      "source": [
        "train['USD_Total_Amount'] = train['USD_Total_Amount'].round(2)"
      ],
      "execution_count": 93,
      "outputs": []
    },
    {
      "cell_type": "code",
      "metadata": {
        "id": "01aI_Vn2iy98"
      },
      "source": [
        "filtro_USD_test = test_kaggle['Total_Amount_Currency'] == 'USD'\n",
        "filtro_EUR_test = test_kaggle['Total_Amount_Currency'] == 'EUR'\n",
        "filtro_AUD_test = test_kaggle['Total_Amount_Currency'] == 'AUD'\n",
        "filtro_JPY_test = test_kaggle['Total_Amount_Currency'] == 'JPY'\n",
        "filtro_GBP_test = test_kaggle['Total_Amount_Currency'] == 'GBP'"
      ],
      "execution_count": 94,
      "outputs": []
    },
    {
      "cell_type": "code",
      "metadata": {
        "id": "e8AXEKvTiy99"
      },
      "source": [
        "test_kaggle.loc[filtro_USD_test, 'USD_Total_Amount'] = test_kaggle.loc[filtro_USD_test, 'Total_Amount']*change_USD\n",
        "test_kaggle.loc[filtro_EUR_test, 'USD_Total_Amount'] = test_kaggle.loc[filtro_EUR_test, 'Total_Amount']*change_EUR\n",
        "test_kaggle.loc[filtro_AUD_test, 'USD_Total_Amount'] = test_kaggle.loc[filtro_AUD_test, 'Total_Amount']*change_AUD\n",
        "test_kaggle.loc[filtro_JPY_test, 'USD_Total_Amount'] = test_kaggle.loc[filtro_JPY_test, 'Total_Amount']*change_JPY\n",
        "test_kaggle.loc[filtro_GBP_test, 'USD_Total_Amount'] = test_kaggle.loc[filtro_GBP_test, 'Total_Amount']*change_GBP"
      ],
      "execution_count": 95,
      "outputs": []
    },
    {
      "cell_type": "code",
      "metadata": {
        "id": "hBWHJU1Uiy99"
      },
      "source": [
        "test_kaggle['USD_Total_Amount'] = test_kaggle['USD_Total_Amount'].round(2)"
      ],
      "execution_count": 96,
      "outputs": []
    },
    {
      "cell_type": "markdown",
      "metadata": {
        "id": "_6aDQ4OLiy95"
      },
      "source": [
        "## Codificamos Stage con Binary Encoding"
      ]
    },
    {
      "cell_type": "code",
      "metadata": {
        "id": "BrxMi0oCiy96"
      },
      "source": [
        "train['Target'] = train['Stage'].replace({'Closed Won': 1, 'Closed Lost': 0})"
      ],
      "execution_count": 97,
      "outputs": []
    },
    {
      "cell_type": "code",
      "metadata": {
        "id": "L4POH7VViy96",
        "colab": {
          "base_uri": "https://localhost:8080/"
        },
        "outputId": "f1b5d57b-cff8-4609-96ae-7040b5c0f5af"
      },
      "source": [
        "train['Target'].astype(int)"
      ],
      "execution_count": 98,
      "outputs": [
        {
          "output_type": "execute_result",
          "data": {
            "text/plain": [
              "0        0\n",
              "1        1\n",
              "2        1\n",
              "3        0\n",
              "4        0\n",
              "        ..\n",
              "16942    1\n",
              "16943    1\n",
              "16944    1\n",
              "16945    0\n",
              "16946    0\n",
              "Name: Target, Length: 16883, dtype: int64"
            ]
          },
          "metadata": {
            "tags": []
          },
          "execution_count": 98
        }
      ]
    },
    {
      "cell_type": "code",
      "metadata": {
        "id": "_g8Oz45Miy9-"
      },
      "source": [
        "train.drop(columns=['Stage'], inplace=True)"
      ],
      "execution_count": 99,
      "outputs": []
    },
    {
      "cell_type": "markdown",
      "metadata": {
        "id": "wFG1VYvmNJZ9"
      },
      "source": [
        "##Ordenamos según fecha de creación de la oportunidad y pasamos las fechas a números"
      ]
    },
    {
      "cell_type": "code",
      "metadata": {
        "id": "83qCpSewNQcj"
      },
      "source": [
        "# Ordenamos por fecha para no entrenar con el futuro\r\n",
        "train.sort_values('Opportunity_Created_Date', ascending=True, inplace=True)\r\n",
        "test_kaggle.sort_values('Opportunity_Created_Date', ascending=True, inplace=True)"
      ],
      "execution_count": 100,
      "outputs": []
    },
    {
      "cell_type": "code",
      "metadata": {
        "id": "S8Lk-Z_wz4aW",
        "colab": {
          "base_uri": "https://localhost:8080/"
        },
        "outputId": "89313cab-483e-4b9c-ed00-956b7a2de4c7"
      },
      "source": [
        "train['Opportunity_Created_Date']"
      ],
      "execution_count": 101,
      "outputs": [
        {
          "output_type": "execute_result",
          "data": {
            "text/plain": [
              "16104   2013-11-05\n",
              "16105   2014-03-21\n",
              "16106   2014-03-28\n",
              "16107   2014-03-28\n",
              "16109   2014-05-13\n",
              "           ...    \n",
              "16099   2018-12-26\n",
              "16100   2018-12-28\n",
              "16103   2018-12-29\n",
              "16101   2018-12-29\n",
              "16102   2018-12-29\n",
              "Name: Opportunity_Created_Date, Length: 16883, dtype: datetime64[ns]"
            ]
          },
          "metadata": {
            "tags": []
          },
          "execution_count": 101
        }
      ]
    },
    {
      "cell_type": "code",
      "metadata": {
        "id": "casTJzib0BUF",
        "colab": {
          "base_uri": "https://localhost:8080/"
        },
        "outputId": "e21b1944-b785-47f0-901a-58c2258c56a9"
      },
      "source": [
        "test_kaggle['Opportunity_Created_Date']"
      ],
      "execution_count": 102,
      "outputs": [
        {
          "output_type": "execute_result",
          "data": {
            "text/plain": [
              "718    2019-01-01\n",
              "719    2019-01-01\n",
              "726    2019-01-01\n",
              "725    2019-01-01\n",
              "720    2019-01-01\n",
              "          ...    \n",
              "2545   2019-04-26\n",
              "2546   2019-04-26\n",
              "2547   2019-04-26\n",
              "2548   2019-04-26\n",
              "2550   2019-04-27\n",
              "Name: Opportunity_Created_Date, Length: 2551, dtype: datetime64[ns]"
            ]
          },
          "metadata": {
            "tags": []
          },
          "execution_count": 102
        }
      ]
    },
    {
      "cell_type": "code",
      "metadata": {
        "id": "fO1Y61bsNjvU"
      },
      "source": [
        "# Pasamos las fechas a números para que queden como variables numéricas\r\n",
        "train['Account_Created_Date'] = train['Account_Created_Date'].map(dt.datetime.toordinal)\r\n",
        "train['Opportunity_Created_Date'] = train['Opportunity_Created_Date'].map(dt.datetime.toordinal)\r\n",
        "train['Quote_Expiry_Date'] = train['Quote_Expiry_Date'].map(dt.datetime.toordinal)\r\n",
        "train['Last_Modified_Date'] = train['Last_Modified_Date'].map(dt.datetime.toordinal)\r\n",
        "train['Planned_Delivery_Start_Date'] = train['Planned_Delivery_Start_Date'].map(dt.datetime.toordinal)\r\n",
        "train['Planned_Delivery_End_Date'] = train['Planned_Delivery_End_Date'].map(dt.datetime.toordinal)\r\n",
        "\r\n",
        "\r\n",
        "test_kaggle['Account_Created_Date'] = test_kaggle['Account_Created_Date'].map(dt.datetime.toordinal)\r\n",
        "test_kaggle['Opportunity_Created_Date'] = test_kaggle['Opportunity_Created_Date'].map(dt.datetime.toordinal)\r\n",
        "test_kaggle['Quote_Expiry_Date'] = test_kaggle['Quote_Expiry_Date'].map(dt.datetime.toordinal)\r\n",
        "test_kaggle['Last_Modified_Date'] = test_kaggle['Last_Modified_Date'].map(dt.datetime.toordinal)\r\n",
        "test_kaggle['Planned_Delivery_Start_Date'] = test_kaggle['Planned_Delivery_Start_Date'].map(dt.datetime.toordinal)\r\n",
        "test_kaggle['Planned_Delivery_End_Date'] = test_kaggle['Planned_Delivery_End_Date'].map(dt.datetime.toordinal)"
      ],
      "execution_count": 103,
      "outputs": []
    },
    {
      "cell_type": "markdown",
      "metadata": {
        "id": "3vDKM5jem6OA"
      },
      "source": [
        "## Separamos train en train y test"
      ]
    },
    {
      "cell_type": "code",
      "metadata": {
        "id": "jfudLMijm4Jw"
      },
      "source": [
        "# Ahora que está ordenado, hacemos una separación del set de datos en:\r\n",
        "#   * 80% para el set de train\r\n",
        "#   * 20% para el set de test\r\n",
        "ochenta_porciento = round(len(train) * 0.8) - 1\r\n",
        "\r\n",
        "test = train.iloc[ochenta_porciento:, :]\r\n",
        "train = train.iloc[:ochenta_porciento, :]"
      ],
      "execution_count": 104,
      "outputs": []
    },
    {
      "cell_type": "markdown",
      "metadata": {
        "id": "L3FNYqN6DGwB"
      },
      "source": [
        "Verificamos que los tiempos sean correctos"
      ]
    },
    {
      "cell_type": "code",
      "metadata": {
        "id": "xAUBLsm4DNos",
        "colab": {
          "base_uri": "https://localhost:8080/"
        },
        "outputId": "0e4a560b-f319-463c-858d-3d05e71e572b"
      },
      "source": [
        "# El primero de train sea menor al último de train\r\n",
        "train.iloc[0, 19] < train.iloc[len(train) - 1, 19]"
      ],
      "execution_count": 105,
      "outputs": [
        {
          "output_type": "execute_result",
          "data": {
            "text/plain": [
              "True"
            ]
          },
          "metadata": {
            "tags": []
          },
          "execution_count": 105
        }
      ]
    },
    {
      "cell_type": "code",
      "metadata": {
        "id": "4KKXJ6y6DNiK",
        "colab": {
          "base_uri": "https://localhost:8080/"
        },
        "outputId": "00a5d90b-1176-4c70-8850-fd87aad5b4ed"
      },
      "source": [
        "# El último de train sea menor al primero de test\r\n",
        "train.iloc[len(train) -1, 19] < test.iloc[0, 19]"
      ],
      "execution_count": 106,
      "outputs": [
        {
          "output_type": "execute_result",
          "data": {
            "text/plain": [
              "True"
            ]
          },
          "metadata": {
            "tags": []
          },
          "execution_count": 106
        }
      ]
    },
    {
      "cell_type": "code",
      "metadata": {
        "id": "GjKwBx_4DDID",
        "colab": {
          "base_uri": "https://localhost:8080/"
        },
        "outputId": "09421a09-2397-4f3c-bd68-d91f90381d2d"
      },
      "source": [
        "# El último de test sea menor al primero de test_kaggle\r\n",
        "test.iloc[len(test) -1, 19] < test_kaggle.iloc[0, 19]"
      ],
      "execution_count": 107,
      "outputs": [
        {
          "output_type": "execute_result",
          "data": {
            "text/plain": [
              "True"
            ]
          },
          "metadata": {
            "tags": []
          },
          "execution_count": 107
        }
      ]
    },
    {
      "cell_type": "markdown",
      "metadata": {
        "id": "DGoTGEfJZBo7"
      },
      "source": [
        "## Mean Encoding"
      ]
    },
    {
      "cell_type": "code",
      "metadata": {
        "id": "FLtgDP4iZFuN"
      },
      "source": [
        "def mean_encoding(train, test, test_kaggle, columnas_a_aplicar_mean_encoding):\r\n",
        "  # train, test y test_kaggle son los DataFrames sobre los cuales aplicar el mean encoding\r\n",
        "  # columnas_a_aplicar_mean_encoding es una lista de strings, que son los nombres de las columnas a aplicar mean encoding\r\n",
        "  # Esta función no devuelve nada porque es inplace\r\n",
        "  for columna in columnas_a_aplicar_mean_encoding:\r\n",
        "    mean_encoded = train.groupby(columna)['Target'].mean().to_dict()\r\n",
        "\r\n",
        "    train[columna] = train[columna].map(mean_encoded)\r\n",
        "    train[columna] = pd.to_numeric(train[columna])\r\n",
        "\r\n",
        "    test[columna] = test[columna].map(mean_encoded)\r\n",
        "    test[columna] = pd.to_numeric(test[columna])\r\n",
        "    \r\n",
        "    test_kaggle[columna] = test_kaggle[columna].map(mean_encoded)\r\n",
        "    test_kaggle[columna] = pd.to_numeric(test_kaggle[columna])"
      ],
      "execution_count": 108,
      "outputs": []
    },
    {
      "cell_type": "code",
      "metadata": {
        "id": "8jmtin0EaJOx"
      },
      "source": [
        "columnas_a_aplicar_mean_encoding = ['Region', 'Territory', 'Bureaucratic_Code', 'Source', 'Billing_Country',\\\r\n",
        "                                    'Account_Name', 'Account_Owner', 'Opportunity_Owner', 'Account_Type',\\\r\n",
        "                                    'Opportunity_Type', 'Quote_Type', 'Delivery_Terms', 'Brand', 'Product_Type',\\\r\n",
        "                                    'Size', 'Product_Category_B', 'Currency', 'Last_Modified_By', 'Product_Family',\\\r\n",
        "                                    'Product_Name', 'ASP_Currency', 'Delivery_Quarter', 'Total_Amount_Currency',\\\r\n",
        "                                    'Total_Taxable_Amount_Currency']\r\n",
        "mean_encoding(train, test, test_kaggle, columnas_a_aplicar_mean_encoding)"
      ],
      "execution_count": 109,
      "outputs": []
    },
    {
      "cell_type": "markdown",
      "metadata": {
        "id": "onQKL34avZ49"
      },
      "source": [
        "## Analizamos los valores nulos de las columnas"
      ]
    },
    {
      "cell_type": "code",
      "metadata": {
        "id": "ALfUY-81vUC4"
      },
      "source": [
        "# train.info()\r\n",
        "# test.info()\r\n",
        "# test_kaggle.info()"
      ],
      "execution_count": 110,
      "outputs": []
    },
    {
      "cell_type": "markdown",
      "metadata": {
        "id": "3HWoyZQxFWcT"
      },
      "source": [
        "Podemos ver que quedan los siguientes nulos:\r\n",
        "\r\n",
        "* 'Territory' (test/test_kaggle)\r\n",
        "* 'Billing_Country' (test/test_kaggle)\r\n",
        "* 'Account_Name' (test/test_kaggle)\r\n",
        "* 'Opportunity_Owner' (test/test_kaggle)\r\n",
        "* 'Opportunity Type' (test)\r\n",
        "* 'Brand' (test/test_kaggle)\r\n",
        "* 'Size' (test)\r\n",
        "* 'Product_Category_B' (test/test_kaggle)\r\n",
        "* 'Price' (train/test/test_kaggle)\r\n",
        "* 'Last_Modified_By' (test/test_kaggle)\r\n",
        "* 'Product_Family' (test/test_kaggle)\r\n",
        "* 'Product_Name' (test/test_kaggle)\r\n",
        "* 'ASP' (train/test/test_kaggle)\r\n",
        "* 'ASP_(converted_USD)' (train/test/test_kaggle)\r\n",
        "* 'Total_Amount' (train)\r\n",
        "* 'USD_Total_Amount' (train)\r\n",
        "\r\n",
        "\r\n",
        "  "
      ]
    },
    {
      "cell_type": "code",
      "metadata": {
        "id": "aXCniDuTHnGf"
      },
      "source": [
        "from numpy import isnan\r\n",
        "from sklearn.experimental import enable_iterative_imputer\r\n",
        "from sklearn.impute import IterativeImputer\r\n",
        "\r\n",
        "imputer = IterativeImputer()\r\n",
        "# fit on the dataset\r\n",
        "imputer.fit(train)\r\n",
        "# transform the dataset\r\n",
        "Xtrans = imputer.transform(train)\r\n",
        "train = pd.DataFrame(data = Xtrans, columns = train.columns)\r\n",
        "\r\n",
        "# fit on the dataset\r\n",
        "imputer.fit(test)\r\n",
        "# transform the dataset\r\n",
        "Xtrans = imputer.transform(test)\r\n",
        "test = pd.DataFrame(data = Xtrans, columns = test.columns)\r\n",
        "\r\n",
        "# fit on the dataset\r\n",
        "imputer.fit(test_kaggle)\r\n",
        "# transform the dataset\r\n",
        "Xtrans = imputer.transform(test_kaggle)\r\n",
        "test_kaggle = pd.DataFrame(data = Xtrans, columns = test_kaggle.columns)"
      ],
      "execution_count": 111,
      "outputs": []
    },
    {
      "cell_type": "code",
      "metadata": {
        "id": "LJ9txuKPRP6m",
        "colab": {
          "base_uri": "https://localhost:8080/"
        },
        "outputId": "961774b6-987f-4ec7-d95e-3300623698c1"
      },
      "source": [
        "# Verificamos que todos los valores de los 3 set de datos sean NO nulos (la suma debe dar 0)\r\n",
        "train.isnull().sum().sum() + test.isnull().sum().sum() + test_kaggle.isnull().sum().sum()"
      ],
      "execution_count": 112,
      "outputs": [
        {
          "output_type": "execute_result",
          "data": {
            "text/plain": [
              "0"
            ]
          },
          "metadata": {
            "tags": []
          },
          "execution_count": 112
        }
      ]
    },
    {
      "cell_type": "markdown",
      "metadata": {
        "id": "ElwB7jjJHNJm"
      },
      "source": [
        "##Finalmente guardamos el dataframe train en un csv"
      ]
    },
    {
      "cell_type": "code",
      "metadata": {
        "id": "U2kCSjr1HMpO",
        "colab": {
          "base_uri": "https://localhost:8080/",
          "height": 17
        },
        "outputId": "d4f1a0e3-78f8-4415-b232-521ca8d067d6"
      },
      "source": [
        "from google.colab import files\r\n",
        "train.to_csv('data_train.csv', index=False)\r\n",
        "files.download('data_train.csv')\r\n",
        "\r\n",
        "test.to_csv('data_test.csv', index=False)\r\n",
        "files.download('data_test.csv')\r\n",
        "\r\n",
        "test_kaggle.to_csv('data_test_kaggle.csv', index=False)\r\n",
        "files.download('data_test_kaggle.csv')"
      ],
      "execution_count": 113,
      "outputs": [
        {
          "output_type": "display_data",
          "data": {
            "application/javascript": [
              "\n",
              "    async function download(id, filename, size) {\n",
              "      if (!google.colab.kernel.accessAllowed) {\n",
              "        return;\n",
              "      }\n",
              "      const div = document.createElement('div');\n",
              "      const label = document.createElement('label');\n",
              "      label.textContent = `Downloading \"${filename}\": `;\n",
              "      div.appendChild(label);\n",
              "      const progress = document.createElement('progress');\n",
              "      progress.max = size;\n",
              "      div.appendChild(progress);\n",
              "      document.body.appendChild(div);\n",
              "\n",
              "      const buffers = [];\n",
              "      let downloaded = 0;\n",
              "\n",
              "      const channel = await google.colab.kernel.comms.open(id);\n",
              "      // Send a message to notify the kernel that we're ready.\n",
              "      channel.send({})\n",
              "\n",
              "      for await (const message of channel.messages) {\n",
              "        // Send a message to notify the kernel that we're ready.\n",
              "        channel.send({})\n",
              "        if (message.buffers) {\n",
              "          for (const buffer of message.buffers) {\n",
              "            buffers.push(buffer);\n",
              "            downloaded += buffer.byteLength;\n",
              "            progress.value = downloaded;\n",
              "          }\n",
              "        }\n",
              "      }\n",
              "      const blob = new Blob(buffers, {type: 'application/binary'});\n",
              "      const a = document.createElement('a');\n",
              "      a.href = window.URL.createObjectURL(blob);\n",
              "      a.download = filename;\n",
              "      div.appendChild(a);\n",
              "      a.click();\n",
              "      div.remove();\n",
              "    }\n",
              "  "
            ],
            "text/plain": [
              "<IPython.core.display.Javascript object>"
            ]
          },
          "metadata": {
            "tags": []
          }
        },
        {
          "output_type": "display_data",
          "data": {
            "application/javascript": [
              "download(\"download_f47567b9-90c8-4b7a-8aa4-d45fd5a2a774\", \"data_train.csv\", 8247490)"
            ],
            "text/plain": [
              "<IPython.core.display.Javascript object>"
            ]
          },
          "metadata": {
            "tags": []
          }
        },
        {
          "output_type": "display_data",
          "data": {
            "application/javascript": [
              "\n",
              "    async function download(id, filename, size) {\n",
              "      if (!google.colab.kernel.accessAllowed) {\n",
              "        return;\n",
              "      }\n",
              "      const div = document.createElement('div');\n",
              "      const label = document.createElement('label');\n",
              "      label.textContent = `Downloading \"${filename}\": `;\n",
              "      div.appendChild(label);\n",
              "      const progress = document.createElement('progress');\n",
              "      progress.max = size;\n",
              "      div.appendChild(progress);\n",
              "      document.body.appendChild(div);\n",
              "\n",
              "      const buffers = [];\n",
              "      let downloaded = 0;\n",
              "\n",
              "      const channel = await google.colab.kernel.comms.open(id);\n",
              "      // Send a message to notify the kernel that we're ready.\n",
              "      channel.send({})\n",
              "\n",
              "      for await (const message of channel.messages) {\n",
              "        // Send a message to notify the kernel that we're ready.\n",
              "        channel.send({})\n",
              "        if (message.buffers) {\n",
              "          for (const buffer of message.buffers) {\n",
              "            buffers.push(buffer);\n",
              "            downloaded += buffer.byteLength;\n",
              "            progress.value = downloaded;\n",
              "          }\n",
              "        }\n",
              "      }\n",
              "      const blob = new Blob(buffers, {type: 'application/binary'});\n",
              "      const a = document.createElement('a');\n",
              "      a.href = window.URL.createObjectURL(blob);\n",
              "      a.download = filename;\n",
              "      div.appendChild(a);\n",
              "      a.click();\n",
              "      div.remove();\n",
              "    }\n",
              "  "
            ],
            "text/plain": [
              "<IPython.core.display.Javascript object>"
            ]
          },
          "metadata": {
            "tags": []
          }
        },
        {
          "output_type": "display_data",
          "data": {
            "application/javascript": [
              "download(\"download_3579de48-51b4-4c5a-a5eb-311116890e8b\", \"data_test.csv\", 1995845)"
            ],
            "text/plain": [
              "<IPython.core.display.Javascript object>"
            ]
          },
          "metadata": {
            "tags": []
          }
        },
        {
          "output_type": "display_data",
          "data": {
            "application/javascript": [
              "\n",
              "    async function download(id, filename, size) {\n",
              "      if (!google.colab.kernel.accessAllowed) {\n",
              "        return;\n",
              "      }\n",
              "      const div = document.createElement('div');\n",
              "      const label = document.createElement('label');\n",
              "      label.textContent = `Downloading \"${filename}\": `;\n",
              "      div.appendChild(label);\n",
              "      const progress = document.createElement('progress');\n",
              "      progress.max = size;\n",
              "      div.appendChild(progress);\n",
              "      document.body.appendChild(div);\n",
              "\n",
              "      const buffers = [];\n",
              "      let downloaded = 0;\n",
              "\n",
              "      const channel = await google.colab.kernel.comms.open(id);\n",
              "      // Send a message to notify the kernel that we're ready.\n",
              "      channel.send({})\n",
              "\n",
              "      for await (const message of channel.messages) {\n",
              "        // Send a message to notify the kernel that we're ready.\n",
              "        channel.send({})\n",
              "        if (message.buffers) {\n",
              "          for (const buffer of message.buffers) {\n",
              "            buffers.push(buffer);\n",
              "            downloaded += buffer.byteLength;\n",
              "            progress.value = downloaded;\n",
              "          }\n",
              "        }\n",
              "      }\n",
              "      const blob = new Blob(buffers, {type: 'application/binary'});\n",
              "      const a = document.createElement('a');\n",
              "      a.href = window.URL.createObjectURL(blob);\n",
              "      a.download = filename;\n",
              "      div.appendChild(a);\n",
              "      a.click();\n",
              "      div.remove();\n",
              "    }\n",
              "  "
            ],
            "text/plain": [
              "<IPython.core.display.Javascript object>"
            ]
          },
          "metadata": {
            "tags": []
          }
        },
        {
          "output_type": "display_data",
          "data": {
            "application/javascript": [
              "download(\"download_037920c5-0246-4599-a7f2-187b7dc39266\", \"data_test_kaggle.csv\", 1504578)"
            ],
            "text/plain": [
              "<IPython.core.display.Javascript object>"
            ]
          },
          "metadata": {
            "tags": []
          }
        }
      ]
    }
  ]
}