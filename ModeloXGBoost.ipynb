{
  "nbformat": 4,
  "nbformat_minor": 0,
  "metadata": {
    "colab": {
      "name": "ModeloXGBoost",
      "provenance": [],
      "authorship_tag": "ABX9TyMKjBDD609EMhsKqYzTBlTU",
      "include_colab_link": true
    },
    "kernelspec": {
      "display_name": "Python 3",
      "name": "python3"
    }
  },
  "cells": [
    {
      "cell_type": "markdown",
      "metadata": {
        "id": "view-in-github",
        "colab_type": "text"
      },
      "source": [
        "<a href=\"https://colab.research.google.com/github/SantiagoTadini/TP2-Datos/blob/main/ModeloXGBoost.ipynb\" target=\"_parent\"><img src=\"https://colab.research.google.com/assets/colab-badge.svg\" alt=\"Open In Colab\"/></a>"
      ]
    },
    {
      "cell_type": "code",
      "metadata": {
        "id": "13h_Yp3DzNR3"
      },
      "source": [
        "#MODELO XGBOOST https://medium.com/@jboscomendoza/tutorial-xgboost-en-python-53e48fc58f73\r\n",
        "\r\n",
        "import xgboost as xgb\r\n",
        "from sklearn.ensemble import RandomForestRegressor\r\n",
        "from sklearn.metrics import log_loss\r\n",
        "import pandas as pd\r\n",
        "import datetime as dt\r\n",
        "import numpy as np\r\n",
        "%matplotlib inline\r\n",
        "import matplotlib.pyplot as plt\r\n",
        "from sklearn import tree\r\n",
        "from sklearn.model_selection import train_test_split\r\n",
        "from sklearn.metrics import confusion_matrix\r\n",
        "from sklearn.metrics import accuracy_score\r\n",
        "from sklearn.metrics import classification_report\r\n",
        "from urllib.request import urlretrieve\r\n",
        "\r\n",
        "\r\n",
        "from sklearn.model_selection import train_test_split"
      ],
      "execution_count": null,
      "outputs": []
    },
    {
      "cell_type": "code",
      "metadata": {
        "id": "qLZUxGCIzUQr"
      },
      "source": [
        "url_train = 'https://raw.githubusercontent.com/SantiagoTadini/TP2-Datos/main/Features/data_train.csv'\r\n",
        "url_test = 'https://raw.githubusercontent.com/SantiagoTadini/TP2-Datos/main/Features/data_test.csv'\r\n",
        "\r\n",
        "data_train = pd.read_csv(url_train) #se usa para entrenar el modelo\r\n",
        "data_test = pd.read_csv(url_test) #se usa para predecir"
      ],
      "execution_count": null,
      "outputs": []
    },
    {
      "cell_type": "code",
      "metadata": {
        "id": "5KqU3O5Jzx0Z"
      },
      "source": [
        "#Separo el data frame de train en uno para entrenar y uno para probar.\r\n",
        "model_train, model_test = train_test_split(data_train, test_size=.2, random_state=1999)\r\n"
      ],
      "execution_count": null,
      "outputs": []
    },
    {
      "cell_type": "code",
      "metadata": {
        "colab": {
          "base_uri": "https://localhost:8080/"
        },
        "id": "fexnaW_z2wV6",
        "outputId": "e3737a88-51e1-4534-e46d-d2805169cb7d"
      },
      "source": [
        " #Quitamos la variable target de los datos usando el método drop() y creamos dos matrices, una para nuestro set de entrenamiento y otra para el set de prueba.\r\n",
        "\r\n",
        "model_train_mat = xgb.DMatrix(model_train.drop(\"Target\", 1), label=model_train[\"Target\"])\r\n",
        "model_test_mat = xgb.DMatrix(model_test.drop(\"Target\", 1), label=model_test[\"Target\"])\r\n",
        "\r\n",
        "model_train_mat\r\n"
      ],
      "execution_count": null,
      "outputs": [
        {
          "output_type": "execute_result",
          "data": {
            "text/plain": [
              "<xgboost.core.DMatrix at 0x7fefe818db70>"
            ]
          },
          "metadata": {
            "tags": []
          },
          "execution_count": 10
        }
      ]
    },
    {
      "cell_type": "code",
      "metadata": {
        "id": "-gNwJxbB4Jb8"
      },
      "source": [
        "#Podemos comenzar con el entrenamiento del modelo predictivo.\r\n",
        "#Para entrenar un modelo usamos la función train() de xgboost.\r\n",
        "\r\n",
        "#Hay que definir hiperparametros. Por ahora pongo medio random y despues vemos\r\n",
        "parametros = {\"booster\":\"gbtree\", \"max_depth\": 4, \"eta\": .2, \"objective\": \"binary:logistic\", \"nthread\":2}\r\n",
        "rondas = 100\r\n",
        "\r\n",
        "#definimos una variable que contiene una lista de tuplas con los sets que serán usados para realizar la validación del modelo después de cada ronda.\r\n",
        "evaluacion = [(model_test_mat, \"eval\"), (model_train_mat, \"train\")]"
      ],
      "execution_count": null,
      "outputs": []
    },
    {
      "cell_type": "code",
      "metadata": {
        "colab": {
          "base_uri": "https://localhost:8080/"
        },
        "id": "JysEvh6y4krg",
        "outputId": "d1d2f1de-22e1-4301-a7e0-f9eb67feff9c"
      },
      "source": [
        "modelo = xgb.train(parametros, model_test_mat, rondas, evaluacion)\r\n"
      ],
      "execution_count": null,
      "outputs": [
        {
          "output_type": "stream",
          "text": [
            "[0]\teval-error:0.130589\ttrain-error:0.142011\n",
            "[1]\teval-error:0.124963\ttrain-error:0.135347\n",
            "[2]\teval-error:0.114007\ttrain-error:0.130238\n",
            "[3]\teval-error:0.111638\ttrain-error:0.129424\n",
            "[4]\teval-error:0.109861\ttrain-error:0.126981\n",
            "[5]\teval-error:0.106603\ttrain-error:0.124389\n",
            "[6]\teval-error:0.104827\ttrain-error:0.12313\n",
            "[7]\teval-error:0.105123\ttrain-error:0.123871\n",
            "[8]\teval-error:0.100977\ttrain-error:0.118836\n",
            "[9]\teval-error:0.098904\ttrain-error:0.118244\n",
            "[10]\teval-error:0.100681\ttrain-error:0.118022\n",
            "[11]\teval-error:0.100385\ttrain-error:0.117725\n",
            "[12]\teval-error:0.099497\ttrain-error:0.117429\n",
            "[13]\teval-error:0.099497\ttrain-error:0.117133\n",
            "[14]\teval-error:0.097424\ttrain-error:0.117503\n",
            "[15]\teval-error:0.096535\ttrain-error:0.116541\n",
            "[16]\teval-error:0.096832\ttrain-error:0.116837\n",
            "[17]\teval-error:0.095943\ttrain-error:0.116615\n",
            "[18]\teval-error:0.096535\ttrain-error:0.116171\n",
            "[19]\teval-error:0.09772\ttrain-error:0.116245\n",
            "[20]\teval-error:0.095943\ttrain-error:0.115282\n",
            "[21]\teval-error:0.095647\ttrain-error:0.113875\n",
            "[22]\teval-error:0.094759\ttrain-error:0.113209\n",
            "[23]\teval-error:0.094463\ttrain-error:0.113283\n",
            "[24]\teval-error:0.09239\ttrain-error:0.113875\n",
            "[25]\teval-error:0.09239\ttrain-error:0.113875\n",
            "[26]\teval-error:0.091501\ttrain-error:0.113283\n",
            "[27]\teval-error:0.090021\ttrain-error:0.113283\n",
            "[28]\teval-error:0.087356\ttrain-error:0.112691\n",
            "[29]\teval-error:0.086763\ttrain-error:0.111728\n",
            "[30]\teval-error:0.085579\ttrain-error:0.111136\n",
            "[31]\teval-error:0.085579\ttrain-error:0.111284\n",
            "[32]\teval-error:0.082914\ttrain-error:0.111506\n",
            "[33]\teval-error:0.081729\ttrain-error:0.111432\n",
            "[34]\teval-error:0.079953\ttrain-error:0.110914\n",
            "[35]\teval-error:0.080249\ttrain-error:0.109877\n",
            "[36]\teval-error:0.079064\ttrain-error:0.109211\n",
            "[37]\teval-error:0.078472\ttrain-error:0.109507\n",
            "[38]\teval-error:0.077288\ttrain-error:0.109211\n",
            "[39]\teval-error:0.072253\ttrain-error:0.107582\n",
            "[40]\teval-error:0.071957\ttrain-error:0.107952\n",
            "[41]\teval-error:0.069588\ttrain-error:0.107064\n",
            "[42]\teval-error:0.069588\ttrain-error:0.107138\n",
            "[43]\teval-error:0.069588\ttrain-error:0.106915\n",
            "[44]\teval-error:0.069292\ttrain-error:0.106323\n",
            "[45]\teval-error:0.068996\ttrain-error:0.10499\n",
            "[46]\teval-error:0.067812\ttrain-error:0.105361\n",
            "[47]\teval-error:0.066331\ttrain-error:0.104324\n",
            "[48]\teval-error:0.06485\ttrain-error:0.104324\n",
            "[49]\teval-error:0.063962\ttrain-error:0.10351\n",
            "[50]\teval-error:0.064554\ttrain-error:0.104176\n",
            "[51]\teval-error:0.064258\ttrain-error:0.104028\n",
            "[52]\teval-error:0.06485\ttrain-error:0.103584\n",
            "[53]\teval-error:0.065147\ttrain-error:0.10388\n",
            "[54]\teval-error:0.063962\ttrain-error:0.102991\n",
            "[55]\teval-error:0.061889\ttrain-error:0.102547\n",
            "[56]\teval-error:0.061889\ttrain-error:0.102473\n",
            "[57]\teval-error:0.062481\ttrain-error:0.102325\n",
            "[58]\teval-error:0.063074\ttrain-error:0.102621\n",
            "[59]\teval-error:0.062778\ttrain-error:0.102769\n",
            "[60]\teval-error:0.062185\ttrain-error:0.102621\n",
            "[61]\teval-error:0.061889\ttrain-error:0.102843\n",
            "[62]\teval-error:0.061593\ttrain-error:0.101955\n",
            "[63]\teval-error:0.060113\ttrain-error:0.102177\n",
            "[64]\teval-error:0.058928\ttrain-error:0.101214\n",
            "[65]\teval-error:0.056855\ttrain-error:0.10114\n",
            "[66]\teval-error:0.056559\ttrain-error:0.100548\n",
            "[67]\teval-error:0.056263\ttrain-error:0.099585\n",
            "[68]\teval-error:0.055375\ttrain-error:0.098919\n",
            "[69]\teval-error:0.054486\ttrain-error:0.098919\n",
            "[70]\teval-error:0.05419\ttrain-error:0.098179\n",
            "[71]\teval-error:0.053302\ttrain-error:0.097734\n",
            "[72]\teval-error:0.05419\ttrain-error:0.098401\n",
            "[73]\teval-error:0.05419\ttrain-error:0.098623\n",
            "[74]\teval-error:0.053894\ttrain-error:0.098993\n",
            "[75]\teval-error:0.05271\ttrain-error:0.098771\n",
            "[76]\teval-error:0.051821\ttrain-error:0.098549\n",
            "[77]\teval-error:0.050637\ttrain-error:0.098031\n",
            "[78]\teval-error:0.049748\ttrain-error:0.097364\n",
            "[79]\teval-error:0.047083\ttrain-error:0.096624\n",
            "[80]\teval-error:0.044714\ttrain-error:0.096105\n",
            "[81]\teval-error:0.044714\ttrain-error:0.096179\n",
            "[82]\teval-error:0.042938\ttrain-error:0.095439\n",
            "[83]\teval-error:0.041457\ttrain-error:0.095217\n",
            "[84]\teval-error:0.040865\ttrain-error:0.094921\n",
            "[85]\teval-error:0.040569\ttrain-error:0.094699\n",
            "[86]\teval-error:0.039976\ttrain-error:0.094477\n",
            "[87]\teval-error:0.040569\ttrain-error:0.094328\n",
            "[88]\teval-error:0.038496\ttrain-error:0.094402\n",
            "[89]\teval-error:0.039088\ttrain-error:0.094254\n",
            "[90]\teval-error:0.037903\ttrain-error:0.09418\n",
            "[91]\teval-error:0.037607\ttrain-error:0.093958\n",
            "[92]\teval-error:0.0382\ttrain-error:0.093736\n",
            "[93]\teval-error:0.036719\ttrain-error:0.094254\n",
            "[94]\teval-error:0.037015\ttrain-error:0.094402\n",
            "[95]\teval-error:0.037311\ttrain-error:0.093884\n",
            "[96]\teval-error:0.037311\ttrain-error:0.093736\n",
            "[97]\teval-error:0.037015\ttrain-error:0.093884\n",
            "[98]\teval-error:0.034646\ttrain-error:0.094032\n",
            "[99]\teval-error:0.033758\ttrain-error:0.093736\n"
          ],
          "name": "stdout"
        }
      ]
    },
    {
      "cell_type": "code",
      "metadata": {
        "colab": {
          "base_uri": "https://localhost:8080/"
        },
        "id": "GRyGdWjk43Wp",
        "outputId": "0f71e3d4-8463-47de-c0e5-19bbe0e57072"
      },
      "source": [
        "modelo"
      ],
      "execution_count": null,
      "outputs": [
        {
          "output_type": "execute_result",
          "data": {
            "text/plain": [
              "<xgboost.core.Booster at 0x7fefe818da58>"
            ]
          },
          "metadata": {
            "tags": []
          },
          "execution_count": 13
        }
      ]
    },
    {
      "cell_type": "code",
      "metadata": {
        "colab": {
          "base_uri": "https://localhost:8080/"
        },
        "id": "QUbRNejE5Pk8",
        "outputId": "4fed4680-287a-4f31-9465-9811e3ad99b4"
      },
      "source": [
        "#El siguiente paso es utilizar el método predict() de nuestro modelo con los datos de prueba para generar predicciones.\r\n",
        "prediccion = modelo.predict(model_test_mat)\r\n",
        "prediccion"
      ],
      "execution_count": null,
      "outputs": [
        {
          "output_type": "execute_result",
          "data": {
            "text/plain": [
              "array([1.7109717e-01, 4.3782013e-04, 1.9106077e-03, ..., 8.8751829e-01,\n",
              "       9.7931206e-01, 1.2211549e-02], dtype=float32)"
            ]
          },
          "metadata": {
            "tags": []
          },
          "execution_count": 14
        }
      ]
    },
    {
      "cell_type": "code",
      "metadata": {
        "colab": {
          "base_uri": "https://localhost:8080/"
        },
        "id": "KUiU1SVc7Wxh",
        "outputId": "4e78422a-7911-400b-d5ce-503d088a8a5c"
      },
      "source": [
        "#Evaluacion del modelo:\r\n",
        "def metricas(objetivo, prediccion):\r\n",
        "    matriz_conf = confusion_matrix(objetivo, prediccion)\r\n",
        "    score = accuracy_score(objetivo, prediccion)\r\n",
        "    reporte = classification_report(objetivo, prediccion)\r\n",
        "    metricas = [matriz_conf, score, reporte]\r\n",
        "    return(metricas)\r\n",
        "\r\n",
        "#si >0.5, es 1 (won). si <0.5, es 0 (lost)\r\n",
        "prediccion_bin = [1 if i > .5 else 0 for i in prediccion]\r\n",
        "prediccion_bin[:10]\r\n",
        "\r\n",
        "metrics = metricas(model_test[\"Target\"], prediccion_bin)\r\n",
        "[print(i) for i in metrics]\r\n"
      ],
      "execution_count": null,
      "outputs": [
        {
          "output_type": "stream",
          "text": [
            "[[1372   95]\n",
            " [  19 1891]]\n",
            "0.966242226828546\n",
            "              precision    recall  f1-score   support\n",
            "\n",
            "           0       0.99      0.94      0.96      1467\n",
            "           1       0.95      0.99      0.97      1910\n",
            "\n",
            "    accuracy                           0.97      3377\n",
            "   macro avg       0.97      0.96      0.97      3377\n",
            "weighted avg       0.97      0.97      0.97      3377\n",
            "\n"
          ],
          "name": "stdout"
        },
        {
          "output_type": "execute_result",
          "data": {
            "text/plain": [
              "[None, None, None]"
            ]
          },
          "metadata": {
            "tags": []
          },
          "execution_count": 15
        }
      ]
    },
    {
      "cell_type": "code",
      "metadata": {
        "colab": {
          "base_uri": "https://localhost:8080/"
        },
        "id": "zdlbw6aU99Bg",
        "outputId": "0536cd02-7f55-4673-8615-a6a2b00ba883"
      },
      "source": [
        "error = log_loss(model_test['Target'], prediccion)\r\n",
        "error"
      ],
      "execution_count": null,
      "outputs": [
        {
          "output_type": "execute_result",
          "data": {
            "text/plain": [
              "0.11943075546697057"
            ]
          },
          "metadata": {
            "tags": []
          },
          "execution_count": 16
        }
      ]
    },
    {
      "cell_type": "code",
      "metadata": {
        "id": "3wa8-xq6N1Zr"
      },
      "source": [
        ""
      ],
      "execution_count": null,
      "outputs": []
    },
    {
      "cell_type": "code",
      "metadata": {
        "id": "KP2kmz6UN1gG"
      },
      "source": [
        ""
      ],
      "execution_count": null,
      "outputs": []
    },
    {
      "cell_type": "code",
      "metadata": {
        "id": "uPK8RMFAN1kU"
      },
      "source": [
        ""
      ],
      "execution_count": null,
      "outputs": []
    },
    {
      "cell_type": "code",
      "metadata": {
        "id": "eMOdi6RA_HK5"
      },
      "source": [
        "#---------------------------------------------------------------------------------------------------------------"
      ],
      "execution_count": null,
      "outputs": []
    },
    {
      "cell_type": "code",
      "metadata": {
        "id": "iityQfsF_I7j",
        "colab": {
          "base_uri": "https://localhost:8080/",
          "height": 456
        },
        "outputId": "77d11c29-3bb6-42a8-f21b-2358d517c916"
      },
      "source": [
        "#Hasta ahi estuve jugando, ahora empieza la posta: Hay que agrupar por categoria.\r\n",
        "\r\n",
        "# Supongo que el DataFrame con el que trabajo se llama 'data_train'\r\n",
        "# 'x' son los datos (todas las columnas menos el target), 'y' es el target\r\n",
        "x, y = data_train.iloc[:, :-1], data_train.iloc[:, -1]\r\n",
        "\r\n",
        "# 'x' son los datos --> x_train son los datos con los que entrenar\r\n",
        "#                   --> x_test son los datos con los que probar\r\n",
        "# 'y' es el target  --> y_train son las soluciones con las que comparar lo entrenado con x_train\r\n",
        "#                   --> y_test son las soluciones con las que comparar lo probado con x_test\r\n",
        "\r\n",
        "x_train, x_test, y_train, y_test = train_test_split(x, y, test_size=0.2, random_state=123)\r\n",
        "x_train\r\n",
        "\r\n",
        "#Esto lo hizo chechu y esta bien, no cambiar."
      ],
      "execution_count": null,
      "outputs": [
        {
          "output_type": "execute_result",
          "data": {
            "text/html": [
              "<div>\n",
              "<style scoped>\n",
              "    .dataframe tbody tr th:only-of-type {\n",
              "        vertical-align: middle;\n",
              "    }\n",
              "\n",
              "    .dataframe tbody tr th {\n",
              "        vertical-align: top;\n",
              "    }\n",
              "\n",
              "    .dataframe thead th {\n",
              "        text-align: right;\n",
              "    }\n",
              "</style>\n",
              "<table border=\"1\" class=\"dataframe\">\n",
              "  <thead>\n",
              "    <tr style=\"text-align: right;\">\n",
              "      <th></th>\n",
              "      <th>ID</th>\n",
              "      <th>Region</th>\n",
              "      <th>Territory</th>\n",
              "      <th>Pricing, Delivery_Terms_Quote_Appr</th>\n",
              "      <th>Pricing, Delivery_Terms_Approved</th>\n",
              "      <th>Bureaucratic_Code_0_Approval</th>\n",
              "      <th>Bureaucratic_Code_0_Approved</th>\n",
              "      <th>Bureaucratic_Code</th>\n",
              "      <th>Account_Created_Date</th>\n",
              "      <th>Source</th>\n",
              "      <th>Billing_Country</th>\n",
              "      <th>Account_Name</th>\n",
              "      <th>Opportunity_ID</th>\n",
              "      <th>Account_Owner</th>\n",
              "      <th>Opportunity_Owner</th>\n",
              "      <th>Account_Type</th>\n",
              "      <th>Opportunity_Type</th>\n",
              "      <th>Quote_Type</th>\n",
              "      <th>Delivery_Terms</th>\n",
              "      <th>Opportunity_Created_Date</th>\n",
              "      <th>Brand</th>\n",
              "      <th>Product_Type</th>\n",
              "      <th>Size</th>\n",
              "      <th>Product_Category_B</th>\n",
              "      <th>Price</th>\n",
              "      <th>Currency</th>\n",
              "      <th>Quote_Expiry_Date</th>\n",
              "      <th>Last_Modified_Date</th>\n",
              "      <th>Last_Modified_By</th>\n",
              "      <th>Product_Family</th>\n",
              "      <th>Product_Name</th>\n",
              "      <th>ASP_Currency</th>\n",
              "      <th>ASP</th>\n",
              "      <th>ASP_(converted_USD)</th>\n",
              "      <th>Planned_Delivery_Start_Date</th>\n",
              "      <th>Planned_Delivery_End_Date</th>\n",
              "      <th>Month</th>\n",
              "      <th>Delivery_Quarter</th>\n",
              "      <th>Delivery_Year</th>\n",
              "      <th>TRF</th>\n",
              "      <th>Total_Amount_Currency</th>\n",
              "      <th>Total_Amount</th>\n",
              "      <th>Total_Taxable_Amount_Currency</th>\n",
              "      <th>Total_Taxable_Amount</th>\n",
              "      <th>USD_Total_Amount</th>\n",
              "    </tr>\n",
              "  </thead>\n",
              "  <tbody>\n",
              "    <tr>\n",
              "      <th>9798</th>\n",
              "      <td>17351</td>\n",
              "      <td>0.583205</td>\n",
              "      <td>0.579035</td>\n",
              "      <td>1</td>\n",
              "      <td>1</td>\n",
              "      <td>1</td>\n",
              "      <td>1</td>\n",
              "      <td>0.657924</td>\n",
              "      <td>735144</td>\n",
              "      <td>0.576476</td>\n",
              "      <td>0.596567</td>\n",
              "      <td>0.842271</td>\n",
              "      <td>5827</td>\n",
              "      <td>0.588664</td>\n",
              "      <td>0.973984</td>\n",
              "      <td>0.542340</td>\n",
              "      <td>0.533953</td>\n",
              "      <td>0.565249</td>\n",
              "      <td>0.455326</td>\n",
              "      <td>736545</td>\n",
              "      <td>0.601565</td>\n",
              "      <td>0.600655</td>\n",
              "      <td>0.599447</td>\n",
              "      <td>0.60092</td>\n",
              "      <td>NaN</td>\n",
              "      <td>0.59626</td>\n",
              "      <td>736694</td>\n",
              "      <td>736733</td>\n",
              "      <td>0.660559</td>\n",
              "      <td>0.433333</td>\n",
              "      <td>0.454545</td>\n",
              "      <td>0.732014</td>\n",
              "      <td>0.47685</td>\n",
              "      <td>0.33743</td>\n",
              "      <td>736554</td>\n",
              "      <td>736567</td>\n",
              "      <td>8</td>\n",
              "      <td>0.550236</td>\n",
              "      <td>2017</td>\n",
              "      <td>1</td>\n",
              "      <td>0.732014</td>\n",
              "      <td>471795.39</td>\n",
              "      <td>0.734177</td>\n",
              "      <td>471795.39</td>\n",
              "      <td>337810.22</td>\n",
              "    </tr>\n",
              "    <tr>\n",
              "      <th>10709</th>\n",
              "      <td>28152</td>\n",
              "      <td>0.682481</td>\n",
              "      <td>0.609115</td>\n",
              "      <td>1</td>\n",
              "      <td>1</td>\n",
              "      <td>1</td>\n",
              "      <td>1</td>\n",
              "      <td>0.657924</td>\n",
              "      <td>735782</td>\n",
              "      <td>0.576476</td>\n",
              "      <td>0.684308</td>\n",
              "      <td>0.767123</td>\n",
              "      <td>6154</td>\n",
              "      <td>0.666667</td>\n",
              "      <td>0.783942</td>\n",
              "      <td>0.542340</td>\n",
              "      <td>0.702332</td>\n",
              "      <td>0.565249</td>\n",
              "      <td>0.661927</td>\n",
              "      <td>736604</td>\n",
              "      <td>0.601565</td>\n",
              "      <td>0.600655</td>\n",
              "      <td>0.599447</td>\n",
              "      <td>0.60092</td>\n",
              "      <td>NaN</td>\n",
              "      <td>0.59626</td>\n",
              "      <td>736355</td>\n",
              "      <td>736733</td>\n",
              "      <td>0.660559</td>\n",
              "      <td>0.636842</td>\n",
              "      <td>0.748700</td>\n",
              "      <td>0.691556</td>\n",
              "      <td>50.00000</td>\n",
              "      <td>0.44952</td>\n",
              "      <td>736754</td>\n",
              "      <td>736754</td>\n",
              "      <td>3</td>\n",
              "      <td>0.510827</td>\n",
              "      <td>2018</td>\n",
              "      <td>0</td>\n",
              "      <td>0.691556</td>\n",
              "      <td>17037500.00</td>\n",
              "      <td>0.690788</td>\n",
              "      <td>17037500.00</td>\n",
              "      <td>161515.50</td>\n",
              "    </tr>\n",
              "    <tr>\n",
              "      <th>5593</th>\n",
              "      <td>6512</td>\n",
              "      <td>0.530258</td>\n",
              "      <td>0.318486</td>\n",
              "      <td>1</td>\n",
              "      <td>1</td>\n",
              "      <td>1</td>\n",
              "      <td>1</td>\n",
              "      <td>0.657924</td>\n",
              "      <td>736346</td>\n",
              "      <td>0.644616</td>\n",
              "      <td>0.447183</td>\n",
              "      <td>0.700000</td>\n",
              "      <td>448</td>\n",
              "      <td>0.546203</td>\n",
              "      <td>0.559063</td>\n",
              "      <td>0.542340</td>\n",
              "      <td>0.533953</td>\n",
              "      <td>0.565249</td>\n",
              "      <td>0.551836</td>\n",
              "      <td>736346</td>\n",
              "      <td>0.601565</td>\n",
              "      <td>0.600655</td>\n",
              "      <td>0.599447</td>\n",
              "      <td>0.60092</td>\n",
              "      <td>NaN</td>\n",
              "      <td>0.59626</td>\n",
              "      <td>736352</td>\n",
              "      <td>736733</td>\n",
              "      <td>0.660559</td>\n",
              "      <td>0.488476</td>\n",
              "      <td>0.589139</td>\n",
              "      <td>0.538103</td>\n",
              "      <td>0.38500</td>\n",
              "      <td>0.43547</td>\n",
              "      <td>736355</td>\n",
              "      <td>736362</td>\n",
              "      <td>1</td>\n",
              "      <td>0.510827</td>\n",
              "      <td>2017</td>\n",
              "      <td>0</td>\n",
              "      <td>0.538103</td>\n",
              "      <td>75075.00</td>\n",
              "      <td>0.536537</td>\n",
              "      <td>151593.75</td>\n",
              "      <td>88175.59</td>\n",
              "    </tr>\n",
              "    <tr>\n",
              "      <th>16304</th>\n",
              "      <td>7668</td>\n",
              "      <td>0.583205</td>\n",
              "      <td>0.463445</td>\n",
              "      <td>1</td>\n",
              "      <td>1</td>\n",
              "      <td>1</td>\n",
              "      <td>1</td>\n",
              "      <td>0.657924</td>\n",
              "      <td>736558</td>\n",
              "      <td>0.576476</td>\n",
              "      <td>0.752381</td>\n",
              "      <td>1.000000</td>\n",
              "      <td>9884</td>\n",
              "      <td>0.525000</td>\n",
              "      <td>0.498246</td>\n",
              "      <td>0.299274</td>\n",
              "      <td>0.533953</td>\n",
              "      <td>0.565249</td>\n",
              "      <td>0.455326</td>\n",
              "      <td>736989</td>\n",
              "      <td>0.601565</td>\n",
              "      <td>0.600655</td>\n",
              "      <td>0.599447</td>\n",
              "      <td>0.60092</td>\n",
              "      <td>NaN</td>\n",
              "      <td>0.59626</td>\n",
              "      <td>736998</td>\n",
              "      <td>736989</td>\n",
              "      <td>0.572464</td>\n",
              "      <td>0.421304</td>\n",
              "      <td>0.611940</td>\n",
              "      <td>0.490643</td>\n",
              "      <td>0.28000</td>\n",
              "      <td>0.28000</td>\n",
              "      <td>736999</td>\n",
              "      <td>737028</td>\n",
              "      <td>11</td>\n",
              "      <td>0.629657</td>\n",
              "      <td>2018</td>\n",
              "      <td>0</td>\n",
              "      <td>0.490643</td>\n",
              "      <td>54978.00</td>\n",
              "      <td>0.491718</td>\n",
              "      <td>54978.00</td>\n",
              "      <td>54978.00</td>\n",
              "    </tr>\n",
              "    <tr>\n",
              "      <th>4725</th>\n",
              "      <td>14783</td>\n",
              "      <td>0.530258</td>\n",
              "      <td>0.608205</td>\n",
              "      <td>1</td>\n",
              "      <td>1</td>\n",
              "      <td>1</td>\n",
              "      <td>1</td>\n",
              "      <td>0.657924</td>\n",
              "      <td>736284</td>\n",
              "      <td>0.644616</td>\n",
              "      <td>0.447183</td>\n",
              "      <td>0.666667</td>\n",
              "      <td>3058</td>\n",
              "      <td>0.546203</td>\n",
              "      <td>0.559063</td>\n",
              "      <td>0.299274</td>\n",
              "      <td>0.211223</td>\n",
              "      <td>0.565249</td>\n",
              "      <td>0.551836</td>\n",
              "      <td>736284</td>\n",
              "      <td>0.601565</td>\n",
              "      <td>0.600655</td>\n",
              "      <td>0.599447</td>\n",
              "      <td>0.60092</td>\n",
              "      <td>NaN</td>\n",
              "      <td>0.59626</td>\n",
              "      <td>736290</td>\n",
              "      <td>736341</td>\n",
              "      <td>0.260870</td>\n",
              "      <td>0.700000</td>\n",
              "      <td>0.550000</td>\n",
              "      <td>0.538103</td>\n",
              "      <td>0.38000</td>\n",
              "      <td>0.42982</td>\n",
              "      <td>736298</td>\n",
              "      <td>736310</td>\n",
              "      <td>11</td>\n",
              "      <td>0.629657</td>\n",
              "      <td>2016</td>\n",
              "      <td>6</td>\n",
              "      <td>0.538103</td>\n",
              "      <td>2246750.00</td>\n",
              "      <td>0.536537</td>\n",
              "      <td>2999530.00</td>\n",
              "      <td>2638807.88</td>\n",
              "    </tr>\n",
              "    <tr>\n",
              "      <th>...</th>\n",
              "      <td>...</td>\n",
              "      <td>...</td>\n",
              "      <td>...</td>\n",
              "      <td>...</td>\n",
              "      <td>...</td>\n",
              "      <td>...</td>\n",
              "      <td>...</td>\n",
              "      <td>...</td>\n",
              "      <td>...</td>\n",
              "      <td>...</td>\n",
              "      <td>...</td>\n",
              "      <td>...</td>\n",
              "      <td>...</td>\n",
              "      <td>...</td>\n",
              "      <td>...</td>\n",
              "      <td>...</td>\n",
              "      <td>...</td>\n",
              "      <td>...</td>\n",
              "      <td>...</td>\n",
              "      <td>...</td>\n",
              "      <td>...</td>\n",
              "      <td>...</td>\n",
              "      <td>...</td>\n",
              "      <td>...</td>\n",
              "      <td>...</td>\n",
              "      <td>...</td>\n",
              "      <td>...</td>\n",
              "      <td>...</td>\n",
              "      <td>...</td>\n",
              "      <td>...</td>\n",
              "      <td>...</td>\n",
              "      <td>...</td>\n",
              "      <td>...</td>\n",
              "      <td>...</td>\n",
              "      <td>...</td>\n",
              "      <td>...</td>\n",
              "      <td>...</td>\n",
              "      <td>...</td>\n",
              "      <td>...</td>\n",
              "      <td>...</td>\n",
              "      <td>...</td>\n",
              "      <td>...</td>\n",
              "      <td>...</td>\n",
              "      <td>...</td>\n",
              "      <td>...</td>\n",
              "    </tr>\n",
              "    <tr>\n",
              "      <th>96</th>\n",
              "      <td>26914</td>\n",
              "      <td>0.682481</td>\n",
              "      <td>0.609115</td>\n",
              "      <td>1</td>\n",
              "      <td>1</td>\n",
              "      <td>0</td>\n",
              "      <td>0</td>\n",
              "      <td>0.657924</td>\n",
              "      <td>735708</td>\n",
              "      <td>0.576476</td>\n",
              "      <td>0.684308</td>\n",
              "      <td>0.897291</td>\n",
              "      <td>12458</td>\n",
              "      <td>0.650994</td>\n",
              "      <td>0.659687</td>\n",
              "      <td>0.542340</td>\n",
              "      <td>0.684201</td>\n",
              "      <td>0.565249</td>\n",
              "      <td>0.585264</td>\n",
              "      <td>735716</td>\n",
              "      <td>0.601565</td>\n",
              "      <td>0.600655</td>\n",
              "      <td>0.599447</td>\n",
              "      <td>0.60092</td>\n",
              "      <td>NaN</td>\n",
              "      <td>0.59626</td>\n",
              "      <td>735988</td>\n",
              "      <td>735988</td>\n",
              "      <td>0.510815</td>\n",
              "      <td>0.647679</td>\n",
              "      <td>0.647679</td>\n",
              "      <td>0.691556</td>\n",
              "      <td>NaN</td>\n",
              "      <td>NaN</td>\n",
              "      <td>735995</td>\n",
              "      <td>735995</td>\n",
              "      <td>2</td>\n",
              "      <td>0.510827</td>\n",
              "      <td>2016</td>\n",
              "      <td>0</td>\n",
              "      <td>0.691556</td>\n",
              "      <td>4400.00</td>\n",
              "      <td>0.690788</td>\n",
              "      <td>1175400.00</td>\n",
              "      <td>41.71</td>\n",
              "    </tr>\n",
              "    <tr>\n",
              "      <th>13435</th>\n",
              "      <td>8618</td>\n",
              "      <td>0.682481</td>\n",
              "      <td>0.609115</td>\n",
              "      <td>1</td>\n",
              "      <td>1</td>\n",
              "      <td>1</td>\n",
              "      <td>1</td>\n",
              "      <td>0.657924</td>\n",
              "      <td>736586</td>\n",
              "      <td>0.576476</td>\n",
              "      <td>0.684308</td>\n",
              "      <td>0.600000</td>\n",
              "      <td>7913</td>\n",
              "      <td>0.666667</td>\n",
              "      <td>0.650602</td>\n",
              "      <td>0.542340</td>\n",
              "      <td>0.533953</td>\n",
              "      <td>0.565249</td>\n",
              "      <td>0.661927</td>\n",
              "      <td>736761</td>\n",
              "      <td>0.601565</td>\n",
              "      <td>0.600655</td>\n",
              "      <td>0.599447</td>\n",
              "      <td>0.60092</td>\n",
              "      <td>NaN</td>\n",
              "      <td>0.59626</td>\n",
              "      <td>1</td>\n",
              "      <td>736901</td>\n",
              "      <td>0.666667</td>\n",
              "      <td>0.421304</td>\n",
              "      <td>0.611940</td>\n",
              "      <td>0.691556</td>\n",
              "      <td>52.00000</td>\n",
              "      <td>0.46750</td>\n",
              "      <td>736957</td>\n",
              "      <td>736957</td>\n",
              "      <td>9</td>\n",
              "      <td>0.550236</td>\n",
              "      <td>2018</td>\n",
              "      <td>0</td>\n",
              "      <td>0.691556</td>\n",
              "      <td>3276000.00</td>\n",
              "      <td>0.690788</td>\n",
              "      <td>3276000.00</td>\n",
              "      <td>31056.48</td>\n",
              "    </tr>\n",
              "    <tr>\n",
              "      <th>7763</th>\n",
              "      <td>28416</td>\n",
              "      <td>0.455886</td>\n",
              "      <td>0.223301</td>\n",
              "      <td>1</td>\n",
              "      <td>1</td>\n",
              "      <td>1</td>\n",
              "      <td>1</td>\n",
              "      <td>0.657924</td>\n",
              "      <td>735869</td>\n",
              "      <td>0.471883</td>\n",
              "      <td>0.463061</td>\n",
              "      <td>0.298507</td>\n",
              "      <td>4765</td>\n",
              "      <td>0.593313</td>\n",
              "      <td>0.587201</td>\n",
              "      <td>0.189024</td>\n",
              "      <td>0.211223</td>\n",
              "      <td>0.565249</td>\n",
              "      <td>0.585264</td>\n",
              "      <td>736451</td>\n",
              "      <td>0.601565</td>\n",
              "      <td>0.600655</td>\n",
              "      <td>0.599447</td>\n",
              "      <td>0.60092</td>\n",
              "      <td>NaN</td>\n",
              "      <td>0.59626</td>\n",
              "      <td>736466</td>\n",
              "      <td>736733</td>\n",
              "      <td>0.660559</td>\n",
              "      <td>0.399160</td>\n",
              "      <td>0.055556</td>\n",
              "      <td>0.490643</td>\n",
              "      <td>0.35000</td>\n",
              "      <td>0.35000</td>\n",
              "      <td>736527</td>\n",
              "      <td>736531</td>\n",
              "      <td>7</td>\n",
              "      <td>0.550236</td>\n",
              "      <td>2017</td>\n",
              "      <td>3</td>\n",
              "      <td>0.490643</td>\n",
              "      <td>980784.00</td>\n",
              "      <td>0.491718</td>\n",
              "      <td>980784.00</td>\n",
              "      <td>980784.00</td>\n",
              "    </tr>\n",
              "    <tr>\n",
              "      <th>15377</th>\n",
              "      <td>5713</td>\n",
              "      <td>0.530258</td>\n",
              "      <td>0.483083</td>\n",
              "      <td>0</td>\n",
              "      <td>0</td>\n",
              "      <td>0</td>\n",
              "      <td>0</td>\n",
              "      <td>0.657924</td>\n",
              "      <td>736901</td>\n",
              "      <td>0.575841</td>\n",
              "      <td>0.559503</td>\n",
              "      <td>0.461538</td>\n",
              "      <td>9002</td>\n",
              "      <td>0.546203</td>\n",
              "      <td>0.333333</td>\n",
              "      <td>0.707126</td>\n",
              "      <td>0.533953</td>\n",
              "      <td>0.565249</td>\n",
              "      <td>0.551836</td>\n",
              "      <td>736901</td>\n",
              "      <td>0.601565</td>\n",
              "      <td>0.600655</td>\n",
              "      <td>0.599447</td>\n",
              "      <td>0.60092</td>\n",
              "      <td>NaN</td>\n",
              "      <td>0.59626</td>\n",
              "      <td>736901</td>\n",
              "      <td>736901</td>\n",
              "      <td>0.351064</td>\n",
              "      <td>0.551102</td>\n",
              "      <td>0.717647</td>\n",
              "      <td>0.538103</td>\n",
              "      <td>0.29000</td>\n",
              "      <td>0.32802</td>\n",
              "      <td>736937</td>\n",
              "      <td>736937</td>\n",
              "      <td>8</td>\n",
              "      <td>0.550236</td>\n",
              "      <td>2018</td>\n",
              "      <td>0</td>\n",
              "      <td>0.538103</td>\n",
              "      <td>77756.25</td>\n",
              "      <td>0.536537</td>\n",
              "      <td>77756.25</td>\n",
              "      <td>91324.72</td>\n",
              "    </tr>\n",
              "    <tr>\n",
              "      <th>15725</th>\n",
              "      <td>21064</td>\n",
              "      <td>0.682481</td>\n",
              "      <td>0.807692</td>\n",
              "      <td>1</td>\n",
              "      <td>1</td>\n",
              "      <td>0</td>\n",
              "      <td>0</td>\n",
              "      <td>0.657924</td>\n",
              "      <td>735438</td>\n",
              "      <td>0.644616</td>\n",
              "      <td>0.684308</td>\n",
              "      <td>0.791667</td>\n",
              "      <td>9289</td>\n",
              "      <td>0.650994</td>\n",
              "      <td>0.783942</td>\n",
              "      <td>0.707126</td>\n",
              "      <td>0.533953</td>\n",
              "      <td>0.565249</td>\n",
              "      <td>0.585264</td>\n",
              "      <td>736934</td>\n",
              "      <td>0.601565</td>\n",
              "      <td>0.600655</td>\n",
              "      <td>0.599447</td>\n",
              "      <td>0.60092</td>\n",
              "      <td>NaN</td>\n",
              "      <td>0.59626</td>\n",
              "      <td>736998</td>\n",
              "      <td>736934</td>\n",
              "      <td>0.661355</td>\n",
              "      <td>0.636842</td>\n",
              "      <td>0.748700</td>\n",
              "      <td>0.691556</td>\n",
              "      <td>42.00000</td>\n",
              "      <td>0.37760</td>\n",
              "      <td>736977</td>\n",
              "      <td>736977</td>\n",
              "      <td>10</td>\n",
              "      <td>0.629657</td>\n",
              "      <td>2018</td>\n",
              "      <td>0</td>\n",
              "      <td>0.691556</td>\n",
              "      <td>1266720.00</td>\n",
              "      <td>0.690788</td>\n",
              "      <td>1266720.00</td>\n",
              "      <td>12008.51</td>\n",
              "    </tr>\n",
              "  </tbody>\n",
              "</table>\n",
              "<p>13506 rows × 45 columns</p>\n",
              "</div>"
            ],
            "text/plain": [
              "          ID    Region  ...  Total_Taxable_Amount  USD_Total_Amount\n",
              "9798   17351  0.583205  ...             471795.39         337810.22\n",
              "10709  28152  0.682481  ...           17037500.00         161515.50\n",
              "5593    6512  0.530258  ...             151593.75          88175.59\n",
              "16304   7668  0.583205  ...              54978.00          54978.00\n",
              "4725   14783  0.530258  ...            2999530.00        2638807.88\n",
              "...      ...       ...  ...                   ...               ...\n",
              "96     26914  0.682481  ...            1175400.00             41.71\n",
              "13435   8618  0.682481  ...            3276000.00          31056.48\n",
              "7763   28416  0.455886  ...             980784.00         980784.00\n",
              "15377   5713  0.530258  ...              77756.25          91324.72\n",
              "15725  21064  0.682481  ...            1266720.00          12008.51\n",
              "\n",
              "[13506 rows x 45 columns]"
            ]
          },
          "metadata": {
            "tags": []
          },
          "execution_count": 152
        }
      ]
    },
    {
      "cell_type": "code",
      "metadata": {
        "id": "ZM0NsIvrIJzm"
      },
      "source": [
        " xg_reg = xgb.XGBRegressor(colsample_bytree = 0.3, learning_rate = 0.1, max_depth = 6 , alpha = 10, n_estimators = 10, eta=0.2,nthread=2,objective='binary:logistic',booster='gbtree')\r\n",
        " xg_reg.fit(x_train, y_train)\r\n",
        " preds = xg_reg.predict(x_test)\r\n",
        "\r\n"
      ],
      "execution_count": null,
      "outputs": []
    },
    {
      "cell_type": "code",
      "metadata": {
        "colab": {
          "base_uri": "https://localhost:8080/"
        },
        "id": "3oQ5KQgFIJ2E",
        "outputId": "81fa7a5b-028c-4e33-980b-0bbb60b8fe84"
      },
      "source": [
        "error = log_loss(model_test['Target'], preds)\r\n",
        "error"
      ],
      "execution_count": null,
      "outputs": [
        {
          "output_type": "execute_result",
          "data": {
            "text/plain": [
              "0.775714192202997"
            ]
          },
          "metadata": {
            "tags": []
          },
          "execution_count": 154
        }
      ]
    },
    {
      "cell_type": "code",
      "metadata": {
        "id": "a-Rug7cUDGOK"
      },
      "source": [
        "# Sacamos el y_test_de_practica_agrupado_por_opp\r\n",
        "oportunidades_test_de_practica = x_test['Opportunity_ID']\r\n",
        "oportunidades_test_de_practica = oportunidades_test_de_practica.to_frame()\r\n",
        "\r\n",
        "stage_test_de_practica = y_test.to_frame()\r\n",
        "\r\n",
        "oportunidades_test_de_practica['Target'] = stage_test_de_practica\r\n",
        "y_test_agrupado_por_opp = oportunidades_test_de_practica.groupby('Opportunity_ID').agg({'Target' : 'mean'})\r\n",
        "y_test_agrupado_por_opp = y_test_agrupado_por_opp.reset_index()"
      ],
      "execution_count": null,
      "outputs": []
    },
    {
      "cell_type": "code",
      "metadata": {
        "id": "5MA2v8ufDLIp"
      },
      "source": [
        "# Sacamos el preds_agrupado_por_opp\r\n",
        "oportunidades_test_de_practica = x_test['Opportunity_ID']\r\n",
        "oportunidades_test_de_practica = oportunidades_test_de_practica.to_frame()\r\n",
        "\r\n",
        "oportunidades_test_de_practica['Target'] = preds\r\n",
        "\r\n",
        "preds_agrupado_por_opp = oportunidades_test_de_practica.groupby('Opportunity_ID').agg({'Target' : 'mean'})\r\n",
        "preds_agrupado_por_opp = preds_agrupado_por_opp.reset_index()"
      ],
      "execution_count": null,
      "outputs": []
    },
    {
      "cell_type": "code",
      "metadata": {
        "colab": {
          "base_uri": "https://localhost:8080/"
        },
        "id": "0kH4uJDSDPSi",
        "outputId": "cd6b26e6-5b74-4968-9ca1-72cb08725d06"
      },
      "source": [
        "# Calculamos el error con groupby hecho\r\n",
        "error = log_loss(y_test_agrupado_por_opp['Target'], np.nan_to_num(preds_agrupado_por_opp['Target'].to_numpy()))\r\n",
        "error"
      ],
      "execution_count": null,
      "outputs": [
        {
          "output_type": "execute_result",
          "data": {
            "text/plain": [
              "0.4543279847193309"
            ]
          },
          "metadata": {
            "tags": []
          },
          "execution_count": 158
        }
      ]
    },
    {
      "cell_type": "code",
      "metadata": {
        "id": "NhyVjEGiEpeI"
      },
      "source": [
        "# Ahora predecimos con el set de test\r\n",
        "preds_test = xg_reg.predict(data_test)"
      ],
      "execution_count": null,
      "outputs": []
    },
    {
      "cell_type": "code",
      "metadata": {
        "id": "5hHB7iW5KkS9"
      },
      "source": [
        "# Sacamos el preds_test_agrupado_por_opp\r\n",
        "oportunidades_test = data_test['Opportunity_ID']\r\n",
        "oportunidades_test = oportunidades_test.to_frame()\r\n",
        "\r\n",
        "oportunidades_test['Target'] = preds_test\r\n",
        "\r\n",
        "preds_test_agrupado_por_opp = oportunidades_test.groupby('Opportunity_ID').agg({'Target' : 'mean'})\r\n",
        "preds_test_agrupado_por_opp = preds_test_agrupado_por_opp.reset_index()"
      ],
      "execution_count": null,
      "outputs": []
    },
    {
      "cell_type": "code",
      "metadata": {
        "colab": {
          "base_uri": "https://localhost:8080/",
          "height": 17
        },
        "id": "S7Xx0DyeOl6w",
        "outputId": "79cb27ba-7547-4676-ca67-3c7acfad0a60"
      },
      "source": [
        "from google.colab import files\r\n",
        "preds_test_agrupado_por_opp.to_csv('preds_test.csv', index=False, header=True)\r\n",
        "files.download('preds_test.csv')"
      ],
      "execution_count": null,
      "outputs": [
        {
          "output_type": "display_data",
          "data": {
            "application/javascript": [
              "\n",
              "    async function download(id, filename, size) {\n",
              "      if (!google.colab.kernel.accessAllowed) {\n",
              "        return;\n",
              "      }\n",
              "      const div = document.createElement('div');\n",
              "      const label = document.createElement('label');\n",
              "      label.textContent = `Downloading \"${filename}\": `;\n",
              "      div.appendChild(label);\n",
              "      const progress = document.createElement('progress');\n",
              "      progress.max = size;\n",
              "      div.appendChild(progress);\n",
              "      document.body.appendChild(div);\n",
              "\n",
              "      const buffers = [];\n",
              "      let downloaded = 0;\n",
              "\n",
              "      const channel = await google.colab.kernel.comms.open(id);\n",
              "      // Send a message to notify the kernel that we're ready.\n",
              "      channel.send({})\n",
              "\n",
              "      for await (const message of channel.messages) {\n",
              "        // Send a message to notify the kernel that we're ready.\n",
              "        channel.send({})\n",
              "        if (message.buffers) {\n",
              "          for (const buffer of message.buffers) {\n",
              "            buffers.push(buffer);\n",
              "            downloaded += buffer.byteLength;\n",
              "            progress.value = downloaded;\n",
              "          }\n",
              "        }\n",
              "      }\n",
              "      const blob = new Blob(buffers, {type: 'application/binary'});\n",
              "      const a = document.createElement('a');\n",
              "      a.href = window.URL.createObjectURL(blob);\n",
              "      a.download = filename;\n",
              "      div.appendChild(a);\n",
              "      a.click();\n",
              "      div.remove();\n",
              "    }\n",
              "  "
            ],
            "text/plain": [
              "<IPython.core.display.Javascript object>"
            ]
          },
          "metadata": {
            "tags": []
          }
        },
        {
          "output_type": "display_data",
          "data": {
            "application/javascript": [
              "download(\"download_dcc34dd9-6361-4ad6-a966-fcd11cf02bf9\", \"preds_test.csv\", 25863)"
            ],
            "text/plain": [
              "<IPython.core.display.Javascript object>"
            ]
          },
          "metadata": {
            "tags": []
          }
        }
      ]
    },
    {
      "cell_type": "code",
      "metadata": {
        "colab": {
          "base_uri": "https://localhost:8080/",
          "height": 419
        },
        "id": "FgxqF6_GKoEB",
        "outputId": "3c7253d2-57b7-4894-ef8e-9c8ecef39353"
      },
      "source": [
        "preds_test_agrupado_por_opp"
      ],
      "execution_count": null,
      "outputs": [
        {
          "output_type": "execute_result",
          "data": {
            "text/html": [
              "<div>\n",
              "<style scoped>\n",
              "    .dataframe tbody tr th:only-of-type {\n",
              "        vertical-align: middle;\n",
              "    }\n",
              "\n",
              "    .dataframe tbody tr th {\n",
              "        vertical-align: top;\n",
              "    }\n",
              "\n",
              "    .dataframe thead th {\n",
              "        text-align: right;\n",
              "    }\n",
              "</style>\n",
              "<table border=\"1\" class=\"dataframe\">\n",
              "  <thead>\n",
              "    <tr style=\"text-align: right;\">\n",
              "      <th></th>\n",
              "      <th>Opportunity_ID</th>\n",
              "      <th>Target</th>\n",
              "    </tr>\n",
              "  </thead>\n",
              "  <tbody>\n",
              "    <tr>\n",
              "      <th>0</th>\n",
              "      <td>10689</td>\n",
              "      <td>0.600012</td>\n",
              "    </tr>\n",
              "    <tr>\n",
              "      <th>1</th>\n",
              "      <td>10690</td>\n",
              "      <td>0.578072</td>\n",
              "    </tr>\n",
              "    <tr>\n",
              "      <th>2</th>\n",
              "      <td>10691</td>\n",
              "      <td>0.530447</td>\n",
              "    </tr>\n",
              "    <tr>\n",
              "      <th>3</th>\n",
              "      <td>10692</td>\n",
              "      <td>0.529289</td>\n",
              "    </tr>\n",
              "    <tr>\n",
              "      <th>4</th>\n",
              "      <td>10693</td>\n",
              "      <td>0.720677</td>\n",
              "    </tr>\n",
              "    <tr>\n",
              "      <th>...</th>\n",
              "      <td>...</td>\n",
              "      <td>...</td>\n",
              "    </tr>\n",
              "    <tr>\n",
              "      <th>1562</th>\n",
              "      <td>12364</td>\n",
              "      <td>0.663277</td>\n",
              "    </tr>\n",
              "    <tr>\n",
              "      <th>1563</th>\n",
              "      <td>12365</td>\n",
              "      <td>0.449136</td>\n",
              "    </tr>\n",
              "    <tr>\n",
              "      <th>1564</th>\n",
              "      <td>12366</td>\n",
              "      <td>0.378946</td>\n",
              "    </tr>\n",
              "    <tr>\n",
              "      <th>1565</th>\n",
              "      <td>12367</td>\n",
              "      <td>0.373662</td>\n",
              "    </tr>\n",
              "    <tr>\n",
              "      <th>1566</th>\n",
              "      <td>12368</td>\n",
              "      <td>0.313011</td>\n",
              "    </tr>\n",
              "  </tbody>\n",
              "</table>\n",
              "<p>1567 rows × 2 columns</p>\n",
              "</div>"
            ],
            "text/plain": [
              "      Opportunity_ID    Target\n",
              "0              10689  0.600012\n",
              "1              10690  0.578072\n",
              "2              10691  0.530447\n",
              "3              10692  0.529289\n",
              "4              10693  0.720677\n",
              "...              ...       ...\n",
              "1562           12364  0.663277\n",
              "1563           12365  0.449136\n",
              "1564           12366  0.378946\n",
              "1565           12367  0.373662\n",
              "1566           12368  0.313011\n",
              "\n",
              "[1567 rows x 2 columns]"
            ]
          },
          "metadata": {
            "tags": []
          },
          "execution_count": 27
        }
      ]
    },
    {
      "cell_type": "code",
      "metadata": {
        "id": "c43uJwDZUgai"
      },
      "source": [
        ""
      ],
      "execution_count": null,
      "outputs": []
    },
    {
      "cell_type": "markdown",
      "metadata": {
        "id": "_FPd668aL-hZ"
      },
      "source": [
        "#AVERIGUAR: TUNEAR HIPERPARAMETROS CON CATBOOST \r\n",
        "# https://www.kaggle.com/jordimoragas/kernel-catboost-python\r\n",
        "\r\n"
      ]
    },
    {
      "cell_type": "markdown",
      "metadata": {
        "id": "yqSxRmEYMBQe"
      },
      "source": [
        "![Captura de pantalla 2021-02-14 123722.jpg](data:image/jpeg;base64,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)"
      ]
    },
    {
      "cell_type": "code",
      "metadata": {
        "id": "VfVBN6StLEY1"
      },
      "source": [
        "import catboost as cat\r\n"
      ],
      "execution_count": null,
      "outputs": []
    },
    {
      "cell_type": "code",
      "metadata": {
        "id": "B6VKSp6JOwku"
      },
      "source": [
        ""
      ],
      "execution_count": null,
      "outputs": []
    },
    {
      "cell_type": "code",
      "metadata": {
        "id": "S6Ec0ayvOwnV"
      },
      "source": [
        ""
      ],
      "execution_count": null,
      "outputs": []
    },
    {
      "cell_type": "markdown",
      "metadata": {
        "id": "UT9IyocVOxdm"
      },
      "source": [
        "#TUNEANDO HIPERPARAMETROS CON GRID SEARCH\r\n",
        "\r\n"
      ]
    },
    {
      "cell_type": "code",
      "metadata": {
        "colab": {
          "base_uri": "https://localhost:8080/"
        },
        "id": "u3iwvHYVMhOb",
        "outputId": "d08f9aca-bba5-42e6-f5a8-d37766d30949"
      },
      "source": [
        "from sklearn.model_selection import train_test_split\r\n",
        "from sklearn.preprocessing import StandardScaler\r\n",
        "from sklearn.pipeline import Pipeline\r\n",
        "from sklearn.model_selection import RandomizedSearchCV, GridSearchCV\r\n",
        "from xgboost import XGBClassifier\r\n",
        "\r\n",
        "#Grid Search\r\n",
        "xgb_pipeline = Pipeline([('scaler', StandardScaler()), ('classifier',XGBClassifier())])\r\n",
        "gbm_param_grid = {\r\n",
        "    'classifier__learning_rate': np.array([0.01,0.001]),\r\n",
        "    'classifier__n_estimators': np.array([100,200,300,400]),\r\n",
        "    'classifier__subsample': np.array([0.7,0.8,0.9]),\r\n",
        "    'classifier__max_depth': np.array([10,11,12,13,14,15,16,17]),\r\n",
        "    'classifier__lambda': np.array([1]),\r\n",
        "    'classifier__gamma': np.array([0])\r\n",
        "    #'classifier__colsample_bytree': np.arange(0,1.1,.2)\r\n",
        "}\r\n",
        "\r\n",
        "grid_search = GridSearchCV(estimator=xgb_pipeline, param_grid=gbm_param_grid, n_jobs= -1,\r\n",
        "                         scoring='f1_weighted', verbose=10)\r\n",
        "\r\n",
        "grid_search.fit(x_train,y_train)"
      ],
      "execution_count": null,
      "outputs": [
        {
          "output_type": "stream",
          "text": [
            "Fitting 5 folds for each of 192 candidates, totalling 960 fits\n"
          ],
          "name": "stdout"
        },
        {
          "output_type": "stream",
          "text": [
            "[Parallel(n_jobs=-1)]: Using backend LokyBackend with 2 concurrent workers.\n",
            "[Parallel(n_jobs=-1)]: Done   1 tasks      | elapsed:   12.5s\n",
            "[Parallel(n_jobs=-1)]: Done   4 tasks      | elapsed:   24.1s\n",
            "[Parallel(n_jobs=-1)]: Done   9 tasks      | elapsed:   58.7s\n",
            "[Parallel(n_jobs=-1)]: Done  14 tasks      | elapsed:  1.4min\n",
            "[Parallel(n_jobs=-1)]: Done  21 tasks      | elapsed:  2.7min\n",
            "[Parallel(n_jobs=-1)]: Done  28 tasks      | elapsed:  4.0min\n",
            "[Parallel(n_jobs=-1)]: Done  37 tasks      | elapsed:  6.4min\n",
            "[Parallel(n_jobs=-1)]: Done  46 tasks      | elapsed:  9.0min\n",
            "[Parallel(n_jobs=-1)]: Done  57 tasks      | elapsed: 13.0min\n",
            "[Parallel(n_jobs=-1)]: Done  68 tasks      | elapsed: 14.8min\n",
            "[Parallel(n_jobs=-1)]: Done  81 tasks      | elapsed: 16.8min\n",
            "[Parallel(n_jobs=-1)]: Done  94 tasks      | elapsed: 20.0min\n",
            "[Parallel(n_jobs=-1)]: Done 109 tasks      | elapsed: 25.0min\n",
            "[Parallel(n_jobs=-1)]: Done 124 tasks      | elapsed: 29.7min\n",
            "[Parallel(n_jobs=-1)]: Done 141 tasks      | elapsed: 32.4min\n",
            "[Parallel(n_jobs=-1)]: Done 158 tasks      | elapsed: 37.2min\n",
            "[Parallel(n_jobs=-1)]: Done 177 tasks      | elapsed: 44.8min\n",
            "[Parallel(n_jobs=-1)]: Done 196 tasks      | elapsed: 48.1min\n",
            "[Parallel(n_jobs=-1)]: Done 217 tasks      | elapsed: 54.1min\n",
            "[Parallel(n_jobs=-1)]: Done 238 tasks      | elapsed: 63.1min\n",
            "[Parallel(n_jobs=-1)]: Done 261 tasks      | elapsed: 67.4min\n",
            "[Parallel(n_jobs=-1)]: Done 284 tasks      | elapsed: 75.1min\n",
            "[Parallel(n_jobs=-1)]: Done 309 tasks      | elapsed: 84.1min\n",
            "[Parallel(n_jobs=-1)]: Done 334 tasks      | elapsed: 90.8min\n",
            "[Parallel(n_jobs=-1)]: Done 361 tasks      | elapsed: 103.0min\n",
            "[Parallel(n_jobs=-1)]: Done 388 tasks      | elapsed: 108.9min\n",
            "[Parallel(n_jobs=-1)]: Done 417 tasks      | elapsed: 122.0min\n",
            "[Parallel(n_jobs=-1)]: Done 446 tasks      | elapsed: 129.0min\n",
            "[Parallel(n_jobs=-1)]: Done 477 tasks      | elapsed: 142.9min\n",
            "[Parallel(n_jobs=-1)]: Done 508 tasks      | elapsed: 148.6min\n",
            "[Parallel(n_jobs=-1)]: Done 541 tasks      | elapsed: 158.9min\n",
            "[Parallel(n_jobs=-1)]: Done 574 tasks      | elapsed: 164.7min\n",
            "[Parallel(n_jobs=-1)]: Done 609 tasks      | elapsed: 175.2min\n",
            "[Parallel(n_jobs=-1)]: Done 644 tasks      | elapsed: 184.1min\n",
            "[Parallel(n_jobs=-1)]: Done 681 tasks      | elapsed: 194.2min\n",
            "[Parallel(n_jobs=-1)]: Done 718 tasks      | elapsed: 207.8min\n",
            "[Parallel(n_jobs=-1)]: Done 757 tasks      | elapsed: 216.9min\n",
            "[Parallel(n_jobs=-1)]: Done 796 tasks      | elapsed: 229.5min\n",
            "[Parallel(n_jobs=-1)]: Done 837 tasks      | elapsed: 245.2min\n",
            "[Parallel(n_jobs=-1)]: Done 878 tasks      | elapsed: 255.8min\n",
            "[Parallel(n_jobs=-1)]: Done 921 tasks      | elapsed: 270.2min\n",
            "[Parallel(n_jobs=-1)]: Done 960 out of 960 | elapsed: 287.1min finished\n"
          ],
          "name": "stderr"
        },
        {
          "output_type": "execute_result",
          "data": {
            "text/plain": [
              "GridSearchCV(cv=None, error_score=nan,\n",
              "             estimator=Pipeline(memory=None,\n",
              "                                steps=[('scaler',\n",
              "                                        StandardScaler(copy=True,\n",
              "                                                       with_mean=True,\n",
              "                                                       with_std=True)),\n",
              "                                       ('classifier',\n",
              "                                        XGBClassifier(base_score=0.5,\n",
              "                                                      booster='gbtree',\n",
              "                                                      colsample_bylevel=1,\n",
              "                                                      colsample_bynode=1,\n",
              "                                                      colsample_bytree=1,\n",
              "                                                      gamma=0,\n",
              "                                                      learning_rate=0.1,\n",
              "                                                      max_delta_step=0,\n",
              "                                                      max_depth=3,\n",
              "                                                      min_child_weight=1,\n",
              "                                                      missing=None,\n",
              "                                                      n_es...\n",
              "             param_grid={'classifier__gamma': array([0]),\n",
              "                         'classifier__lambda': array([1]),\n",
              "                         'classifier__learning_rate': array([0.01 , 0.001]),\n",
              "                         'classifier__max_depth': array([10, 11, 12, 13, 14, 15, 16, 17]),\n",
              "                         'classifier__n_estimators': array([100, 200, 300, 400]),\n",
              "                         'classifier__subsample': array([0.7, 0.8, 0.9])},\n",
              "             pre_dispatch='2*n_jobs', refit=True, return_train_score=False,\n",
              "             scoring='f1_weighted', verbose=10)"
            ]
          },
          "metadata": {
            "tags": []
          },
          "execution_count": 36
        }
      ]
    },
    {
      "cell_type": "code",
      "metadata": {
        "colab": {
          "base_uri": "https://localhost:8080/"
        },
        "id": "XQcWe18CVApy",
        "outputId": "a8dc5402-4f24-4f8a-a647-ba0293b38be8"
      },
      "source": [
        "pred_tun = grid_search.predict(x_test)\r\n",
        "\r\n",
        "error = log_loss(y_test, pred_tun)\r\n",
        "error"
      ],
      "execution_count": null,
      "outputs": [
        {
          "output_type": "execute_result",
          "data": {
            "text/plain": [
              "2.2194347701866834"
            ]
          },
          "metadata": {
            "tags": []
          },
          "execution_count": 55
        }
      ]
    },
    {
      "cell_type": "code",
      "metadata": {
        "id": "WmFzPeZhiSPy"
      },
      "source": [
        ""
      ],
      "execution_count": null,
      "outputs": []
    },
    {
      "cell_type": "code",
      "metadata": {
        "id": "vQebjw1XkScz"
      },
      "source": [
        ""
      ],
      "execution_count": null,
      "outputs": []
    },
    {
      "cell_type": "code",
      "metadata": {
        "colab": {
          "base_uri": "https://localhost:8080/",
          "height": 919
        },
        "id": "eQEREa6YiSTr",
        "outputId": "6d204726-9f11-4d07-af26-3efdc93a419f"
      },
      "source": [
        "#Grid Search\r\n",
        "xgb_pipeline = Pipeline([('scaler', StandardScaler()), ('classifier',xg_reg)])\r\n",
        "gbm_param_grid = {\r\n",
        "    'classifier__learning_rate': np.array([0.01,0.001]),\r\n",
        "    'classifier__n_estimators': np.array([100,200,300,400]),\r\n",
        "    'classifier__subsample': np.array([0.7,0.8,0.9]),\r\n",
        "    'classifier__max_depth': np.array([10,11,12,13,14,15,16,17]),\r\n",
        "    'classifier__lambda': np.array([1]),\r\n",
        "    'classifier__gamma': np.array([0])\r\n",
        "    #'classifier__colsample_bytree': np.arange(0,1.1,.2)\r\n",
        "}\r\n",
        "\r\n",
        "grid_search = GridSearchCV(estimator=xgb_pipeline, param_grid=gbm_param_grid, n_jobs= -1,\r\n",
        "                         scoring='f1_weighted', verbose=10)\r\n",
        "\r\n",
        "grid_search.fit(x_train,y_train)"
      ],
      "execution_count": null,
      "outputs": [
        {
          "output_type": "stream",
          "text": [
            "Fitting 5 folds for each of 192 candidates, totalling 960 fits\n"
          ],
          "name": "stdout"
        },
        {
          "output_type": "stream",
          "text": [
            "[Parallel(n_jobs=-1)]: Using backend LokyBackend with 2 concurrent workers.\n",
            "[Parallel(n_jobs=-1)]: Done   1 tasks      | elapsed:   22.9s\n"
          ],
          "name": "stderr"
        },
        {
          "output_type": "error",
          "ename": "ValueError",
          "evalue": "ignored",
          "traceback": [
            "\u001b[0;31m---------------------------------------------------------------------------\u001b[0m",
            "\u001b[0;31m_RemoteTraceback\u001b[0m                          Traceback (most recent call last)",
            "\u001b[0;31m_RemoteTraceback\u001b[0m: \n\"\"\"\nTraceback (most recent call last):\n  File \"/usr/local/lib/python3.6/dist-packages/joblib/externals/loky/process_executor.py\", line 431, in _process_worker\n    r = call_item()\n  File \"/usr/local/lib/python3.6/dist-packages/joblib/externals/loky/process_executor.py\", line 285, in __call__\n    return self.fn(*self.args, **self.kwargs)\n  File \"/usr/local/lib/python3.6/dist-packages/joblib/_parallel_backends.py\", line 595, in __call__\n    return self.func(*args, **kwargs)\n  File \"/usr/local/lib/python3.6/dist-packages/joblib/parallel.py\", line 263, in __call__\n    for func, args, kwargs in self.items]\n  File \"/usr/local/lib/python3.6/dist-packages/joblib/parallel.py\", line 263, in <listcomp>\n    for func, args, kwargs in self.items]\n  File \"/usr/local/lib/python3.6/dist-packages/sklearn/model_selection/_validation.py\", line 544, in _fit_and_score\n    test_scores = _score(estimator, X_test, y_test, scorer)\n  File \"/usr/local/lib/python3.6/dist-packages/sklearn/model_selection/_validation.py\", line 591, in _score\n    scores = scorer(estimator, X_test, y_test)\n  File \"/usr/local/lib/python3.6/dist-packages/sklearn/metrics/_scorer.py\", line 87, in __call__\n    *args, **kwargs)\n  File \"/usr/local/lib/python3.6/dist-packages/sklearn/metrics/_scorer.py\", line 212, in _score\n    **self._kwargs)\n  File \"/usr/local/lib/python3.6/dist-packages/sklearn/metrics/_classification.py\", line 185, in accuracy_score\n    y_type, y_true, y_pred = _check_targets(y_true, y_pred)\n  File \"/usr/local/lib/python3.6/dist-packages/sklearn/metrics/_classification.py\", line 90, in _check_targets\n    \"and {1} targets\".format(type_true, type_pred))\nValueError: Classification metrics can't handle a mix of binary and continuous targets\n\"\"\"",
            "\nThe above exception was the direct cause of the following exception:\n",
            "\u001b[0;31mValueError\u001b[0m                                Traceback (most recent call last)",
            "\u001b[0;32m<ipython-input-108-ff3582e771fc>\u001b[0m in \u001b[0;36m<module>\u001b[0;34m()\u001b[0m\n\u001b[1;32m     14\u001b[0m                          scoring='accuracy', verbose=10)\n\u001b[1;32m     15\u001b[0m \u001b[0;34m\u001b[0m\u001b[0m\n\u001b[0;32m---> 16\u001b[0;31m \u001b[0mgrid_search\u001b[0m\u001b[0;34m.\u001b[0m\u001b[0mfit\u001b[0m\u001b[0;34m(\u001b[0m\u001b[0mx_train\u001b[0m\u001b[0;34m,\u001b[0m\u001b[0my_train\u001b[0m\u001b[0;34m)\u001b[0m\u001b[0;34m\u001b[0m\u001b[0;34m\u001b[0m\u001b[0m\n\u001b[0m",
            "\u001b[0;32m/usr/local/lib/python3.6/dist-packages/sklearn/model_selection/_search.py\u001b[0m in \u001b[0;36mfit\u001b[0;34m(self, X, y, groups, **fit_params)\u001b[0m\n\u001b[1;32m    708\u001b[0m                 \u001b[0;32mreturn\u001b[0m \u001b[0mresults\u001b[0m\u001b[0;34m\u001b[0m\u001b[0;34m\u001b[0m\u001b[0m\n\u001b[1;32m    709\u001b[0m \u001b[0;34m\u001b[0m\u001b[0m\n\u001b[0;32m--> 710\u001b[0;31m             \u001b[0mself\u001b[0m\u001b[0;34m.\u001b[0m\u001b[0m_run_search\u001b[0m\u001b[0;34m(\u001b[0m\u001b[0mevaluate_candidates\u001b[0m\u001b[0;34m)\u001b[0m\u001b[0;34m\u001b[0m\u001b[0;34m\u001b[0m\u001b[0m\n\u001b[0m\u001b[1;32m    711\u001b[0m \u001b[0;34m\u001b[0m\u001b[0m\n\u001b[1;32m    712\u001b[0m         \u001b[0;31m# For multi-metric evaluation, store the best_index_, best_params_ and\u001b[0m\u001b[0;34m\u001b[0m\u001b[0;34m\u001b[0m\u001b[0;34m\u001b[0m\u001b[0m\n",
            "\u001b[0;32m/usr/local/lib/python3.6/dist-packages/sklearn/model_selection/_search.py\u001b[0m in \u001b[0;36m_run_search\u001b[0;34m(self, evaluate_candidates)\u001b[0m\n\u001b[1;32m   1149\u001b[0m     \u001b[0;32mdef\u001b[0m \u001b[0m_run_search\u001b[0m\u001b[0;34m(\u001b[0m\u001b[0mself\u001b[0m\u001b[0;34m,\u001b[0m \u001b[0mevaluate_candidates\u001b[0m\u001b[0;34m)\u001b[0m\u001b[0;34m:\u001b[0m\u001b[0;34m\u001b[0m\u001b[0;34m\u001b[0m\u001b[0m\n\u001b[1;32m   1150\u001b[0m         \u001b[0;34m\"\"\"Search all candidates in param_grid\"\"\"\u001b[0m\u001b[0;34m\u001b[0m\u001b[0;34m\u001b[0m\u001b[0m\n\u001b[0;32m-> 1151\u001b[0;31m         \u001b[0mevaluate_candidates\u001b[0m\u001b[0;34m(\u001b[0m\u001b[0mParameterGrid\u001b[0m\u001b[0;34m(\u001b[0m\u001b[0mself\u001b[0m\u001b[0;34m.\u001b[0m\u001b[0mparam_grid\u001b[0m\u001b[0;34m)\u001b[0m\u001b[0;34m)\u001b[0m\u001b[0;34m\u001b[0m\u001b[0;34m\u001b[0m\u001b[0m\n\u001b[0m\u001b[1;32m   1152\u001b[0m \u001b[0;34m\u001b[0m\u001b[0m\n\u001b[1;32m   1153\u001b[0m \u001b[0;34m\u001b[0m\u001b[0m\n",
            "\u001b[0;32m/usr/local/lib/python3.6/dist-packages/sklearn/model_selection/_search.py\u001b[0m in \u001b[0;36mevaluate_candidates\u001b[0;34m(candidate_params)\u001b[0m\n\u001b[1;32m    687\u001b[0m                                \u001b[0;32mfor\u001b[0m \u001b[0mparameters\u001b[0m\u001b[0;34m,\u001b[0m \u001b[0;34m(\u001b[0m\u001b[0mtrain\u001b[0m\u001b[0;34m,\u001b[0m \u001b[0mtest\u001b[0m\u001b[0;34m)\u001b[0m\u001b[0;34m\u001b[0m\u001b[0;34m\u001b[0m\u001b[0m\n\u001b[1;32m    688\u001b[0m                                in product(candidate_params,\n\u001b[0;32m--> 689\u001b[0;31m                                           cv.split(X, y, groups)))\n\u001b[0m\u001b[1;32m    690\u001b[0m \u001b[0;34m\u001b[0m\u001b[0m\n\u001b[1;32m    691\u001b[0m                 \u001b[0;32mif\u001b[0m \u001b[0mlen\u001b[0m\u001b[0;34m(\u001b[0m\u001b[0mout\u001b[0m\u001b[0;34m)\u001b[0m \u001b[0;34m<\u001b[0m \u001b[0;36m1\u001b[0m\u001b[0;34m:\u001b[0m\u001b[0;34m\u001b[0m\u001b[0;34m\u001b[0m\u001b[0m\n",
            "\u001b[0;32m/usr/local/lib/python3.6/dist-packages/joblib/parallel.py\u001b[0m in \u001b[0;36m__call__\u001b[0;34m(self, iterable)\u001b[0m\n\u001b[1;32m   1052\u001b[0m \u001b[0;34m\u001b[0m\u001b[0m\n\u001b[1;32m   1053\u001b[0m             \u001b[0;32mwith\u001b[0m \u001b[0mself\u001b[0m\u001b[0;34m.\u001b[0m\u001b[0m_backend\u001b[0m\u001b[0;34m.\u001b[0m\u001b[0mretrieval_context\u001b[0m\u001b[0;34m(\u001b[0m\u001b[0;34m)\u001b[0m\u001b[0;34m:\u001b[0m\u001b[0;34m\u001b[0m\u001b[0;34m\u001b[0m\u001b[0m\n\u001b[0;32m-> 1054\u001b[0;31m                 \u001b[0mself\u001b[0m\u001b[0;34m.\u001b[0m\u001b[0mretrieve\u001b[0m\u001b[0;34m(\u001b[0m\u001b[0;34m)\u001b[0m\u001b[0;34m\u001b[0m\u001b[0;34m\u001b[0m\u001b[0m\n\u001b[0m\u001b[1;32m   1055\u001b[0m             \u001b[0;31m# Make sure that we get a last message telling us we are done\u001b[0m\u001b[0;34m\u001b[0m\u001b[0;34m\u001b[0m\u001b[0;34m\u001b[0m\u001b[0m\n\u001b[1;32m   1056\u001b[0m             \u001b[0melapsed_time\u001b[0m \u001b[0;34m=\u001b[0m \u001b[0mtime\u001b[0m\u001b[0;34m.\u001b[0m\u001b[0mtime\u001b[0m\u001b[0;34m(\u001b[0m\u001b[0;34m)\u001b[0m \u001b[0;34m-\u001b[0m \u001b[0mself\u001b[0m\u001b[0;34m.\u001b[0m\u001b[0m_start_time\u001b[0m\u001b[0;34m\u001b[0m\u001b[0;34m\u001b[0m\u001b[0m\n",
            "\u001b[0;32m/usr/local/lib/python3.6/dist-packages/joblib/parallel.py\u001b[0m in \u001b[0;36mretrieve\u001b[0;34m(self)\u001b[0m\n\u001b[1;32m    931\u001b[0m             \u001b[0;32mtry\u001b[0m\u001b[0;34m:\u001b[0m\u001b[0;34m\u001b[0m\u001b[0;34m\u001b[0m\u001b[0m\n\u001b[1;32m    932\u001b[0m                 \u001b[0;32mif\u001b[0m \u001b[0mgetattr\u001b[0m\u001b[0;34m(\u001b[0m\u001b[0mself\u001b[0m\u001b[0;34m.\u001b[0m\u001b[0m_backend\u001b[0m\u001b[0;34m,\u001b[0m \u001b[0;34m'supports_timeout'\u001b[0m\u001b[0;34m,\u001b[0m \u001b[0;32mFalse\u001b[0m\u001b[0;34m)\u001b[0m\u001b[0;34m:\u001b[0m\u001b[0;34m\u001b[0m\u001b[0;34m\u001b[0m\u001b[0m\n\u001b[0;32m--> 933\u001b[0;31m                     \u001b[0mself\u001b[0m\u001b[0;34m.\u001b[0m\u001b[0m_output\u001b[0m\u001b[0;34m.\u001b[0m\u001b[0mextend\u001b[0m\u001b[0;34m(\u001b[0m\u001b[0mjob\u001b[0m\u001b[0;34m.\u001b[0m\u001b[0mget\u001b[0m\u001b[0;34m(\u001b[0m\u001b[0mtimeout\u001b[0m\u001b[0;34m=\u001b[0m\u001b[0mself\u001b[0m\u001b[0;34m.\u001b[0m\u001b[0mtimeout\u001b[0m\u001b[0;34m)\u001b[0m\u001b[0;34m)\u001b[0m\u001b[0;34m\u001b[0m\u001b[0;34m\u001b[0m\u001b[0m\n\u001b[0m\u001b[1;32m    934\u001b[0m                 \u001b[0;32melse\u001b[0m\u001b[0;34m:\u001b[0m\u001b[0;34m\u001b[0m\u001b[0;34m\u001b[0m\u001b[0m\n\u001b[1;32m    935\u001b[0m                     \u001b[0mself\u001b[0m\u001b[0;34m.\u001b[0m\u001b[0m_output\u001b[0m\u001b[0;34m.\u001b[0m\u001b[0mextend\u001b[0m\u001b[0;34m(\u001b[0m\u001b[0mjob\u001b[0m\u001b[0;34m.\u001b[0m\u001b[0mget\u001b[0m\u001b[0;34m(\u001b[0m\u001b[0;34m)\u001b[0m\u001b[0;34m)\u001b[0m\u001b[0;34m\u001b[0m\u001b[0;34m\u001b[0m\u001b[0m\n",
            "\u001b[0;32m/usr/local/lib/python3.6/dist-packages/joblib/_parallel_backends.py\u001b[0m in \u001b[0;36mwrap_future_result\u001b[0;34m(future, timeout)\u001b[0m\n\u001b[1;32m    540\u001b[0m         AsyncResults.get from multiprocessing.\"\"\"\n\u001b[1;32m    541\u001b[0m         \u001b[0;32mtry\u001b[0m\u001b[0;34m:\u001b[0m\u001b[0;34m\u001b[0m\u001b[0;34m\u001b[0m\u001b[0m\n\u001b[0;32m--> 542\u001b[0;31m             \u001b[0;32mreturn\u001b[0m \u001b[0mfuture\u001b[0m\u001b[0;34m.\u001b[0m\u001b[0mresult\u001b[0m\u001b[0;34m(\u001b[0m\u001b[0mtimeout\u001b[0m\u001b[0;34m=\u001b[0m\u001b[0mtimeout\u001b[0m\u001b[0;34m)\u001b[0m\u001b[0;34m\u001b[0m\u001b[0;34m\u001b[0m\u001b[0m\n\u001b[0m\u001b[1;32m    543\u001b[0m         \u001b[0;32mexcept\u001b[0m \u001b[0mCfTimeoutError\u001b[0m \u001b[0;32mas\u001b[0m \u001b[0me\u001b[0m\u001b[0;34m:\u001b[0m\u001b[0;34m\u001b[0m\u001b[0;34m\u001b[0m\u001b[0m\n\u001b[1;32m    544\u001b[0m             \u001b[0;32mraise\u001b[0m \u001b[0mTimeoutError\u001b[0m \u001b[0;32mfrom\u001b[0m \u001b[0me\u001b[0m\u001b[0;34m\u001b[0m\u001b[0;34m\u001b[0m\u001b[0m\n",
            "\u001b[0;32m/usr/lib/python3.6/concurrent/futures/_base.py\u001b[0m in \u001b[0;36mresult\u001b[0;34m(self, timeout)\u001b[0m\n\u001b[1;32m    430\u001b[0m                 \u001b[0;32mraise\u001b[0m \u001b[0mCancelledError\u001b[0m\u001b[0;34m(\u001b[0m\u001b[0;34m)\u001b[0m\u001b[0;34m\u001b[0m\u001b[0;34m\u001b[0m\u001b[0m\n\u001b[1;32m    431\u001b[0m             \u001b[0;32melif\u001b[0m \u001b[0mself\u001b[0m\u001b[0;34m.\u001b[0m\u001b[0m_state\u001b[0m \u001b[0;34m==\u001b[0m \u001b[0mFINISHED\u001b[0m\u001b[0;34m:\u001b[0m\u001b[0;34m\u001b[0m\u001b[0;34m\u001b[0m\u001b[0m\n\u001b[0;32m--> 432\u001b[0;31m                 \u001b[0;32mreturn\u001b[0m \u001b[0mself\u001b[0m\u001b[0;34m.\u001b[0m\u001b[0m__get_result\u001b[0m\u001b[0;34m(\u001b[0m\u001b[0;34m)\u001b[0m\u001b[0;34m\u001b[0m\u001b[0;34m\u001b[0m\u001b[0m\n\u001b[0m\u001b[1;32m    433\u001b[0m             \u001b[0;32melse\u001b[0m\u001b[0;34m:\u001b[0m\u001b[0;34m\u001b[0m\u001b[0;34m\u001b[0m\u001b[0m\n\u001b[1;32m    434\u001b[0m                 \u001b[0;32mraise\u001b[0m \u001b[0mTimeoutError\u001b[0m\u001b[0;34m(\u001b[0m\u001b[0;34m)\u001b[0m\u001b[0;34m\u001b[0m\u001b[0;34m\u001b[0m\u001b[0m\n",
            "\u001b[0;32m/usr/lib/python3.6/concurrent/futures/_base.py\u001b[0m in \u001b[0;36m__get_result\u001b[0;34m(self)\u001b[0m\n\u001b[1;32m    382\u001b[0m     \u001b[0;32mdef\u001b[0m \u001b[0m__get_result\u001b[0m\u001b[0;34m(\u001b[0m\u001b[0mself\u001b[0m\u001b[0;34m)\u001b[0m\u001b[0;34m:\u001b[0m\u001b[0;34m\u001b[0m\u001b[0;34m\u001b[0m\u001b[0m\n\u001b[1;32m    383\u001b[0m         \u001b[0;32mif\u001b[0m \u001b[0mself\u001b[0m\u001b[0;34m.\u001b[0m\u001b[0m_exception\u001b[0m\u001b[0;34m:\u001b[0m\u001b[0;34m\u001b[0m\u001b[0;34m\u001b[0m\u001b[0m\n\u001b[0;32m--> 384\u001b[0;31m             \u001b[0;32mraise\u001b[0m \u001b[0mself\u001b[0m\u001b[0;34m.\u001b[0m\u001b[0m_exception\u001b[0m\u001b[0;34m\u001b[0m\u001b[0;34m\u001b[0m\u001b[0m\n\u001b[0m\u001b[1;32m    385\u001b[0m         \u001b[0;32melse\u001b[0m\u001b[0;34m:\u001b[0m\u001b[0;34m\u001b[0m\u001b[0;34m\u001b[0m\u001b[0m\n\u001b[1;32m    386\u001b[0m             \u001b[0;32mreturn\u001b[0m \u001b[0mself\u001b[0m\u001b[0;34m.\u001b[0m\u001b[0m_result\u001b[0m\u001b[0;34m\u001b[0m\u001b[0;34m\u001b[0m\u001b[0m\n",
            "\u001b[0;31mValueError\u001b[0m: Classification metrics can't handle a mix of binary and continuous targets"
          ]
        }
      ]
    },
    {
      "cell_type": "code",
      "metadata": {
        "colab": {
          "base_uri": "https://localhost:8080/"
        },
        "id": "L5ZFCvTfnkCP",
        "outputId": "ab2061d4-ffb4-448a-ab51-d794eb2bb7ed"
      },
      "source": [
        "penalty = ['l1', 'l2']\r\n",
        "C = [0.0001, 0.001, 0.01, 0.1, 1, 10, 100, 1000]\r\n",
        "class_weight = [{1:0.5, 0:0.5}, {1:0.4, 0:0.6}, {1:0.6, 0:0.4}, {1:0.7, 0:0.3}]\r\n",
        "solver = ['liblinear', 'saga']\r\n",
        "\r\n",
        "param_grid = dict(penalty=penalty,\r\n",
        "                  C=C,\r\n",
        "                  class_weight=class_weight,\r\n",
        "                  solver=solver)\r\n",
        "\r\n",
        "grid = GridSearchCV(estimator=xg_reg,\r\n",
        "                    param_grid=param_grid,\r\n",
        "                    scoring='roc_auc',\r\n",
        "                    verbose=1,\r\n",
        "                    n_jobs=-1)\r\n",
        "grid_result = grid.fit(x_train, y_train)"
      ],
      "execution_count": null,
      "outputs": [
        {
          "output_type": "stream",
          "text": [
            "Fitting 5 folds for each of 128 candidates, totalling 640 fits\n"
          ],
          "name": "stdout"
        },
        {
          "output_type": "stream",
          "text": [
            "[Parallel(n_jobs=-1)]: Using backend LokyBackend with 2 concurrent workers.\n",
            "[Parallel(n_jobs=-1)]: Done  46 tasks      | elapsed:   58.8s\n",
            "[Parallel(n_jobs=-1)]: Done 196 tasks      | elapsed:  3.0min\n",
            "[Parallel(n_jobs=-1)]: Done 446 tasks      | elapsed:  6.9min\n",
            "[Parallel(n_jobs=-1)]: Done 640 out of 640 | elapsed: 10.0min finished\n"
          ],
          "name": "stderr"
        }
      ]
    },
    {
      "cell_type": "code",
      "metadata": {
        "colab": {
          "base_uri": "https://localhost:8080/"
        },
        "id": "XuiNnnbSjPLe",
        "outputId": "135215e7-98f9-43be-d9e7-1c9c4ea73313"
      },
      "source": [
        "pred_tunGV = grid_result.predict(x_test)\r\n",
        "\r\n",
        "error = log_loss(y_test, pred_tunGV)\r\n",
        "error"
      ],
      "execution_count": null,
      "outputs": [
        {
          "output_type": "execute_result",
          "data": {
            "text/plain": [
              "0.43855787785864453"
            ]
          },
          "metadata": {
            "tags": []
          },
          "execution_count": 126
        }
      ]
    },
    {
      "cell_type": "code",
      "metadata": {
        "id": "-kt5xAqLqEkl"
      },
      "source": [
        "# Sacamos el y_test_de_practica_agrupado_por_opp\r\n",
        "oportunidades_test_de_practica = x_test['Opportunity_ID']\r\n",
        "oportunidades_test_de_practica = oportunidades_test_de_practica.to_frame()\r\n",
        "\r\n",
        "stage_test_de_practica = y_test.to_frame()\r\n",
        "\r\n",
        "oportunidades_test_de_practica['Target'] = stage_test_de_practica\r\n",
        "y_test_agrupado_por_opp = oportunidades_test_de_practica.groupby('Opportunity_ID').agg({'Target' : 'mean'})\r\n",
        "y_test_agrupado_por_opp = y_test_agrupado_por_opp.reset_index()"
      ],
      "execution_count": null,
      "outputs": []
    },
    {
      "cell_type": "code",
      "metadata": {
        "id": "MrDf_ym2qJxu"
      },
      "source": [
        "# Sacamos el preds_agrupado_por_opp\r\n",
        "oportunidades_test_de_practica = x_test['Opportunity_ID']\r\n",
        "oportunidades_test_de_practica = oportunidades_test_de_practica.to_frame()\r\n",
        "\r\n",
        "oportunidades_test_de_practica['Target'] = pred_tunGV\r\n",
        "\r\n",
        "preds_agrupado_por_opp = oportunidades_test_de_practica.groupby('Opportunity_ID').agg({'Target' : 'mean'})\r\n",
        "preds_agrupado_por_opp = preds_agrupado_por_opp.reset_index()"
      ],
      "execution_count": null,
      "outputs": []
    },
    {
      "cell_type": "code",
      "metadata": {
        "colab": {
          "base_uri": "https://localhost:8080/"
        },
        "id": "Xud3CaLtqPnh",
        "outputId": "8328a362-8396-4c5b-95ab-08a83f713543"
      },
      "source": [
        "# Calculamos el error con groupby hecho\r\n",
        "error = log_loss(y_test_agrupado_por_opp['Target'], np.nan_to_num(preds_agrupado_por_opp['Target'].to_numpy()))\r\n",
        "error"
      ],
      "execution_count": null,
      "outputs": [
        {
          "output_type": "execute_result",
          "data": {
            "text/plain": [
              "0.4543279847193309"
            ]
          },
          "metadata": {
            "tags": []
          },
          "execution_count": 129
        }
      ]
    },
    {
      "cell_type": "code",
      "metadata": {
        "id": "mp6HP0U4qReS"
      },
      "source": [
        "# Ahora predecimos con el set de test\r\n",
        "preds_testGV = grid_result.predict(data_test)"
      ],
      "execution_count": null,
      "outputs": []
    },
    {
      "cell_type": "code",
      "metadata": {
        "colab": {
          "base_uri": "https://localhost:8080/",
          "height": 17
        },
        "id": "Ngnu4n3cqRlG",
        "outputId": "6d277c9a-eb24-4c1d-8d66-9799d7f913fa"
      },
      "source": [
        "# Sacamos el preds_test_agrupado_por_opp\r\n",
        "\r\n",
        "preds_testGV = grid_result.predict(data_test)\r\n",
        "oportunidades_testGV = data_test['Opportunity_ID'].to_frame()\r\n",
        "\r\n",
        "oportunidades_testGV['Target'] = preds_testGV\r\n",
        "\r\n",
        "preds_test_agrupado_por_oppGV = oportunidades_testGV.groupby('Opportunity_ID').agg({'Target' : 'mean'})\r\n",
        "preds_test_agrupado_por_oppGV = preds_test_agrupado_por_oppGV.reset_index()\r\n",
        "\r\n",
        "preds_test_agrupado_por_oppGV.to_csv('preds_testgv.csv', index=False, header=True)\r\n",
        "files.download('preds_testgv.csv')"
      ],
      "execution_count": null,
      "outputs": [
        {
          "output_type": "display_data",
          "data": {
            "application/javascript": [
              "\n",
              "    async function download(id, filename, size) {\n",
              "      if (!google.colab.kernel.accessAllowed) {\n",
              "        return;\n",
              "      }\n",
              "      const div = document.createElement('div');\n",
              "      const label = document.createElement('label');\n",
              "      label.textContent = `Downloading \"${filename}\": `;\n",
              "      div.appendChild(label);\n",
              "      const progress = document.createElement('progress');\n",
              "      progress.max = size;\n",
              "      div.appendChild(progress);\n",
              "      document.body.appendChild(div);\n",
              "\n",
              "      const buffers = [];\n",
              "      let downloaded = 0;\n",
              "\n",
              "      const channel = await google.colab.kernel.comms.open(id);\n",
              "      // Send a message to notify the kernel that we're ready.\n",
              "      channel.send({})\n",
              "\n",
              "      for await (const message of channel.messages) {\n",
              "        // Send a message to notify the kernel that we're ready.\n",
              "        channel.send({})\n",
              "        if (message.buffers) {\n",
              "          for (const buffer of message.buffers) {\n",
              "            buffers.push(buffer);\n",
              "            downloaded += buffer.byteLength;\n",
              "            progress.value = downloaded;\n",
              "          }\n",
              "        }\n",
              "      }\n",
              "      const blob = new Blob(buffers, {type: 'application/binary'});\n",
              "      const a = document.createElement('a');\n",
              "      a.href = window.URL.createObjectURL(blob);\n",
              "      a.download = filename;\n",
              "      div.appendChild(a);\n",
              "      a.click();\n",
              "      div.remove();\n",
              "    }\n",
              "  "
            ],
            "text/plain": [
              "<IPython.core.display.Javascript object>"
            ]
          },
          "metadata": {
            "tags": []
          }
        },
        {
          "output_type": "display_data",
          "data": {
            "application/javascript": [
              "download(\"download_08b6aeef-6991-4b1b-a2a6-6e7ecbe3f3cf\", \"preds_testgv.csv\", 25863)"
            ],
            "text/plain": [
              "<IPython.core.display.Javascript object>"
            ]
          },
          "metadata": {
            "tags": []
          }
        }
      ]
    },
    {
      "cell_type": "code",
      "metadata": {
        "colab": {
          "base_uri": "https://localhost:8080/",
          "height": 419
        },
        "id": "wVrRIkDuqRqR",
        "outputId": "2fc93bdf-6868-4909-b878-273da3f60ed0"
      },
      "source": [
        "preds_testGV"
      ],
      "execution_count": null,
      "outputs": [
        {
          "output_type": "execute_result",
          "data": {
            "text/html": [
              "<div>\n",
              "<style scoped>\n",
              "    .dataframe tbody tr th:only-of-type {\n",
              "        vertical-align: middle;\n",
              "    }\n",
              "\n",
              "    .dataframe tbody tr th {\n",
              "        vertical-align: top;\n",
              "    }\n",
              "\n",
              "    .dataframe thead th {\n",
              "        text-align: right;\n",
              "    }\n",
              "</style>\n",
              "<table border=\"1\" class=\"dataframe\">\n",
              "  <thead>\n",
              "    <tr style=\"text-align: right;\">\n",
              "      <th></th>\n",
              "      <th>Opportunity_ID</th>\n",
              "      <th>Target</th>\n",
              "    </tr>\n",
              "  </thead>\n",
              "  <tbody>\n",
              "    <tr>\n",
              "      <th>0</th>\n",
              "      <td>10689</td>\n",
              "      <td>0.584612</td>\n",
              "    </tr>\n",
              "    <tr>\n",
              "      <th>1</th>\n",
              "      <td>10690</td>\n",
              "      <td>0.567522</td>\n",
              "    </tr>\n",
              "    <tr>\n",
              "      <th>2</th>\n",
              "      <td>10691</td>\n",
              "      <td>0.536654</td>\n",
              "    </tr>\n",
              "    <tr>\n",
              "      <th>3</th>\n",
              "      <td>10692</td>\n",
              "      <td>0.484819</td>\n",
              "    </tr>\n",
              "    <tr>\n",
              "      <th>4</th>\n",
              "      <td>10693</td>\n",
              "      <td>0.712068</td>\n",
              "    </tr>\n",
              "    <tr>\n",
              "      <th>...</th>\n",
              "      <td>...</td>\n",
              "      <td>...</td>\n",
              "    </tr>\n",
              "    <tr>\n",
              "      <th>1562</th>\n",
              "      <td>12364</td>\n",
              "      <td>0.675117</td>\n",
              "    </tr>\n",
              "    <tr>\n",
              "      <th>1563</th>\n",
              "      <td>12365</td>\n",
              "      <td>0.476207</td>\n",
              "    </tr>\n",
              "    <tr>\n",
              "      <th>1564</th>\n",
              "      <td>12366</td>\n",
              "      <td>0.410613</td>\n",
              "    </tr>\n",
              "    <tr>\n",
              "      <th>1565</th>\n",
              "      <td>12367</td>\n",
              "      <td>0.396612</td>\n",
              "    </tr>\n",
              "    <tr>\n",
              "      <th>1566</th>\n",
              "      <td>12368</td>\n",
              "      <td>0.312436</td>\n",
              "    </tr>\n",
              "  </tbody>\n",
              "</table>\n",
              "<p>1567 rows × 2 columns</p>\n",
              "</div>"
            ],
            "text/plain": [
              "      Opportunity_ID    Target\n",
              "0              10689  0.584612\n",
              "1              10690  0.567522\n",
              "2              10691  0.536654\n",
              "3              10692  0.484819\n",
              "4              10693  0.712068\n",
              "...              ...       ...\n",
              "1562           12364  0.675117\n",
              "1563           12365  0.476207\n",
              "1564           12366  0.410613\n",
              "1565           12367  0.396612\n",
              "1566           12368  0.312436\n",
              "\n",
              "[1567 rows x 2 columns]"
            ]
          },
          "metadata": {
            "tags": []
          },
          "execution_count": 165
        }
      ]
    },
    {
      "cell_type": "code",
      "metadata": {
        "colab": {
          "base_uri": "https://localhost:8080/",
          "height": 419
        },
        "id": "tGHxmVqTtt1f",
        "outputId": "a2e6045e-828c-455e-9252-d11949c7dcd6"
      },
      "source": [
        "preds_test_agrupado_por_opp"
      ],
      "execution_count": null,
      "outputs": [
        {
          "output_type": "execute_result",
          "data": {
            "text/html": [
              "<div>\n",
              "<style scoped>\n",
              "    .dataframe tbody tr th:only-of-type {\n",
              "        vertical-align: middle;\n",
              "    }\n",
              "\n",
              "    .dataframe tbody tr th {\n",
              "        vertical-align: top;\n",
              "    }\n",
              "\n",
              "    .dataframe thead th {\n",
              "        text-align: right;\n",
              "    }\n",
              "</style>\n",
              "<table border=\"1\" class=\"dataframe\">\n",
              "  <thead>\n",
              "    <tr style=\"text-align: right;\">\n",
              "      <th></th>\n",
              "      <th>Opportunity_ID</th>\n",
              "      <th>Target</th>\n",
              "    </tr>\n",
              "  </thead>\n",
              "  <tbody>\n",
              "    <tr>\n",
              "      <th>0</th>\n",
              "      <td>10689</td>\n",
              "      <td>0.584612</td>\n",
              "    </tr>\n",
              "    <tr>\n",
              "      <th>1</th>\n",
              "      <td>10690</td>\n",
              "      <td>0.567522</td>\n",
              "    </tr>\n",
              "    <tr>\n",
              "      <th>2</th>\n",
              "      <td>10691</td>\n",
              "      <td>0.536654</td>\n",
              "    </tr>\n",
              "    <tr>\n",
              "      <th>3</th>\n",
              "      <td>10692</td>\n",
              "      <td>0.484819</td>\n",
              "    </tr>\n",
              "    <tr>\n",
              "      <th>4</th>\n",
              "      <td>10693</td>\n",
              "      <td>0.712068</td>\n",
              "    </tr>\n",
              "    <tr>\n",
              "      <th>...</th>\n",
              "      <td>...</td>\n",
              "      <td>...</td>\n",
              "    </tr>\n",
              "    <tr>\n",
              "      <th>1562</th>\n",
              "      <td>12364</td>\n",
              "      <td>0.675117</td>\n",
              "    </tr>\n",
              "    <tr>\n",
              "      <th>1563</th>\n",
              "      <td>12365</td>\n",
              "      <td>0.476207</td>\n",
              "    </tr>\n",
              "    <tr>\n",
              "      <th>1564</th>\n",
              "      <td>12366</td>\n",
              "      <td>0.410613</td>\n",
              "    </tr>\n",
              "    <tr>\n",
              "      <th>1565</th>\n",
              "      <td>12367</td>\n",
              "      <td>0.396612</td>\n",
              "    </tr>\n",
              "    <tr>\n",
              "      <th>1566</th>\n",
              "      <td>12368</td>\n",
              "      <td>0.312436</td>\n",
              "    </tr>\n",
              "  </tbody>\n",
              "</table>\n",
              "<p>1567 rows × 2 columns</p>\n",
              "</div>"
            ],
            "text/plain": [
              "      Opportunity_ID    Target\n",
              "0              10689  0.584612\n",
              "1              10690  0.567522\n",
              "2              10691  0.536654\n",
              "3              10692  0.484819\n",
              "4              10693  0.712068\n",
              "...              ...       ...\n",
              "1562           12364  0.675117\n",
              "1563           12365  0.476207\n",
              "1564           12366  0.410613\n",
              "1565           12367  0.396612\n",
              "1566           12368  0.312436\n",
              "\n",
              "[1567 rows x 2 columns]"
            ]
          },
          "metadata": {
            "tags": []
          },
          "execution_count": 161
        }
      ]
    }
  ]
}