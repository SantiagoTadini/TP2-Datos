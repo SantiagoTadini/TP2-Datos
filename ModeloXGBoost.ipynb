{
  "nbformat": 4,
  "nbformat_minor": 0,
  "metadata": {
    "colab": {
      "name": "ModeloXGBoost",
      "provenance": [],
      "authorship_tag": "ABX9TyOgX1HTgzQ1dP/2QR8PeEQ1",
      "include_colab_link": true
    },
    "kernelspec": {
      "name": "python3",
      "display_name": "Python 3"
    }
  },
  "cells": [
    {
      "cell_type": "markdown",
      "metadata": {
        "id": "view-in-github",
        "colab_type": "text"
      },
      "source": [
        "<a href=\"https://colab.research.google.com/github/SantiagoTadini/TP2-Datos/blob/main/ModeloXGBoost.ipynb\" target=\"_parent\"><img src=\"https://colab.research.google.com/assets/colab-badge.svg\" alt=\"Open In Colab\"/></a>"
      ]
    },
    {
      "cell_type": "code",
      "metadata": {
        "id": "13h_Yp3DzNR3"
      },
      "source": [
        "import xgboost as xgb\r\n",
        "from sklearn.ensemble import RandomForestRegressor\r\n",
        "from sklearn.metrics import log_loss\r\n",
        "import pandas as pd\r\n",
        "import datetime as dt\r\n",
        "import numpy as np\r\n",
        "%matplotlib inline\r\n",
        "import matplotlib.pyplot as plt\r\n",
        "from sklearn import tree\r\n",
        "from sklearn.model_selection import train_test_split\r\n",
        "from sklearn.metrics import confusion_matrix\r\n",
        "from sklearn.metrics import accuracy_score\r\n",
        "from sklearn.metrics import classification_report\r\n",
        "from urllib.request import urlretrieve\r\n",
        "\r\n",
        "\r\n",
        "from sklearn.model_selection import train_test_split"
      ],
      "execution_count": 101,
      "outputs": []
    },
    {
      "cell_type": "code",
      "metadata": {
        "id": "qLZUxGCIzUQr"
      },
      "source": [
        "url_train = 'https://raw.githubusercontent.com/SantiagoTadini/TP2-Datos/main/Features/data_train.csv'\r\n",
        "url_test = 'https://raw.githubusercontent.com/SantiagoTadini/TP2-Datos/main/Features/data_test.csv'\r\n",
        "\r\n",
        "data_train = pd.read_csv(url_train) #se usa para entrenar el modelo\r\n",
        "data_test = pd.read_csv(url_test) #se usa para predecir"
      ],
      "execution_count": 102,
      "outputs": []
    },
    {
      "cell_type": "code",
      "metadata": {
        "id": "5KqU3O5Jzx0Z"
      },
      "source": [
        "#Separo el data frame de train en uno para entrenar y uno para probar.\r\n",
        "model_train, model_test = train_test_split(data_train, test_size=.2, random_state=1999)\r\n"
      ],
      "execution_count": 103,
      "outputs": []
    },
    {
      "cell_type": "code",
      "metadata": {
        "colab": {
          "base_uri": "https://localhost:8080/"
        },
        "id": "fexnaW_z2wV6",
        "outputId": "9a2f3880-60ca-4019-ee73-c4efa6aa711a"
      },
      "source": [
        " #Quitamos la variable target de los datos usando el método drop() y creamos dos matrices, una para nuestro set de entrenamiento y otra para el set de prueba.\r\n",
        "\r\n",
        "model_train_mat = xgb.DMatrix(model_train.drop(\"Target\", 1), label=model_train[\"Target\"])\r\n",
        "model_test_mat = xgb.DMatrix(model_test.drop(\"Target\", 1), label=model_test[\"Target\"])\r\n",
        "\r\n",
        "model_train_mat\r\n"
      ],
      "execution_count": 104,
      "outputs": [
        {
          "output_type": "execute_result",
          "data": {
            "text/plain": [
              "<xgboost.core.DMatrix at 0x7fb67e4c7940>"
            ]
          },
          "metadata": {
            "tags": []
          },
          "execution_count": 104
        }
      ]
    },
    {
      "cell_type": "code",
      "metadata": {
        "id": "-gNwJxbB4Jb8"
      },
      "source": [
        "#Podemos comenzar con el entrenamiento del modelo predictivo.\r\n",
        "#Para entrenar un modelo usamos la función train() de xgboost.\r\n",
        "\r\n",
        "#Hay que definir hiperparametros. Por ahora pongo medio random y despues vemos\r\n",
        "parametros = {\"booster\":\"gbtree\", \"max_depth\": 4, \"eta\": .2, \"objective\": \"binary:logistic\", \"nthread\":2}\r\n",
        "rondas = 100\r\n",
        "\r\n",
        "#definimos una variable que contiene una lista de tuplas con los sets que serán usados para realizar la validación del modelo después de cada ronda.\r\n",
        "evaluacion = [(model_test_mat, \"eval\"), (model_train_mat, \"train\")]"
      ],
      "execution_count": 105,
      "outputs": []
    },
    {
      "cell_type": "code",
      "metadata": {
        "colab": {
          "base_uri": "https://localhost:8080/"
        },
        "id": "JysEvh6y4krg",
        "outputId": "ff717ac6-b8ef-49ce-dd0e-e91b24bec1f3"
      },
      "source": [
        "modelo = xgb.train(parametros, model_test_mat, rondas, evaluacion)\r\n"
      ],
      "execution_count": 106,
      "outputs": [
        {
          "output_type": "stream",
          "text": [
            "[0]\teval-error:0.130589\ttrain-error:0.142011\n",
            "[1]\teval-error:0.124963\ttrain-error:0.135347\n",
            "[2]\teval-error:0.114007\ttrain-error:0.130238\n",
            "[3]\teval-error:0.111638\ttrain-error:0.129424\n",
            "[4]\teval-error:0.109861\ttrain-error:0.126981\n",
            "[5]\teval-error:0.106603\ttrain-error:0.124389\n",
            "[6]\teval-error:0.104827\ttrain-error:0.12313\n",
            "[7]\teval-error:0.105123\ttrain-error:0.123871\n",
            "[8]\teval-error:0.100977\ttrain-error:0.118836\n",
            "[9]\teval-error:0.098904\ttrain-error:0.118244\n",
            "[10]\teval-error:0.100681\ttrain-error:0.118022\n",
            "[11]\teval-error:0.100385\ttrain-error:0.117725\n",
            "[12]\teval-error:0.099497\ttrain-error:0.117429\n",
            "[13]\teval-error:0.099497\ttrain-error:0.117133\n",
            "[14]\teval-error:0.097424\ttrain-error:0.117503\n",
            "[15]\teval-error:0.096535\ttrain-error:0.116541\n",
            "[16]\teval-error:0.096832\ttrain-error:0.116837\n",
            "[17]\teval-error:0.095943\ttrain-error:0.116615\n",
            "[18]\teval-error:0.096535\ttrain-error:0.116171\n",
            "[19]\teval-error:0.09772\ttrain-error:0.116245\n",
            "[20]\teval-error:0.095943\ttrain-error:0.115282\n",
            "[21]\teval-error:0.095647\ttrain-error:0.113875\n",
            "[22]\teval-error:0.094759\ttrain-error:0.113209\n",
            "[23]\teval-error:0.094463\ttrain-error:0.113283\n",
            "[24]\teval-error:0.09239\ttrain-error:0.113875\n",
            "[25]\teval-error:0.09239\ttrain-error:0.113875\n",
            "[26]\teval-error:0.091501\ttrain-error:0.113283\n",
            "[27]\teval-error:0.090021\ttrain-error:0.113283\n",
            "[28]\teval-error:0.087356\ttrain-error:0.112691\n",
            "[29]\teval-error:0.086763\ttrain-error:0.111728\n",
            "[30]\teval-error:0.085579\ttrain-error:0.111136\n",
            "[31]\teval-error:0.085579\ttrain-error:0.111284\n",
            "[32]\teval-error:0.082914\ttrain-error:0.111506\n",
            "[33]\teval-error:0.081729\ttrain-error:0.111432\n",
            "[34]\teval-error:0.079953\ttrain-error:0.110914\n",
            "[35]\teval-error:0.080249\ttrain-error:0.109877\n",
            "[36]\teval-error:0.079064\ttrain-error:0.109211\n",
            "[37]\teval-error:0.078472\ttrain-error:0.109507\n",
            "[38]\teval-error:0.077288\ttrain-error:0.109211\n",
            "[39]\teval-error:0.072253\ttrain-error:0.107582\n",
            "[40]\teval-error:0.071957\ttrain-error:0.107952\n",
            "[41]\teval-error:0.069588\ttrain-error:0.107064\n",
            "[42]\teval-error:0.069588\ttrain-error:0.107138\n",
            "[43]\teval-error:0.069588\ttrain-error:0.106915\n",
            "[44]\teval-error:0.069292\ttrain-error:0.106323\n",
            "[45]\teval-error:0.068996\ttrain-error:0.10499\n",
            "[46]\teval-error:0.067812\ttrain-error:0.105361\n",
            "[47]\teval-error:0.066331\ttrain-error:0.104324\n",
            "[48]\teval-error:0.06485\ttrain-error:0.104324\n",
            "[49]\teval-error:0.063962\ttrain-error:0.10351\n",
            "[50]\teval-error:0.064554\ttrain-error:0.104176\n",
            "[51]\teval-error:0.064258\ttrain-error:0.104028\n",
            "[52]\teval-error:0.06485\ttrain-error:0.103584\n",
            "[53]\teval-error:0.065147\ttrain-error:0.10388\n",
            "[54]\teval-error:0.063962\ttrain-error:0.102991\n",
            "[55]\teval-error:0.061889\ttrain-error:0.102547\n",
            "[56]\teval-error:0.061889\ttrain-error:0.102473\n",
            "[57]\teval-error:0.062481\ttrain-error:0.102325\n",
            "[58]\teval-error:0.063074\ttrain-error:0.102621\n",
            "[59]\teval-error:0.062778\ttrain-error:0.102769\n",
            "[60]\teval-error:0.062185\ttrain-error:0.102621\n",
            "[61]\teval-error:0.061889\ttrain-error:0.102843\n",
            "[62]\teval-error:0.061593\ttrain-error:0.101955\n",
            "[63]\teval-error:0.060113\ttrain-error:0.102177\n",
            "[64]\teval-error:0.058928\ttrain-error:0.101214\n",
            "[65]\teval-error:0.056855\ttrain-error:0.10114\n",
            "[66]\teval-error:0.056559\ttrain-error:0.100548\n",
            "[67]\teval-error:0.056263\ttrain-error:0.099585\n",
            "[68]\teval-error:0.055375\ttrain-error:0.098919\n",
            "[69]\teval-error:0.054486\ttrain-error:0.098919\n",
            "[70]\teval-error:0.05419\ttrain-error:0.098179\n",
            "[71]\teval-error:0.053302\ttrain-error:0.097734\n",
            "[72]\teval-error:0.05419\ttrain-error:0.098401\n",
            "[73]\teval-error:0.05419\ttrain-error:0.098623\n",
            "[74]\teval-error:0.053894\ttrain-error:0.098993\n",
            "[75]\teval-error:0.05271\ttrain-error:0.098771\n",
            "[76]\teval-error:0.051821\ttrain-error:0.098549\n",
            "[77]\teval-error:0.050637\ttrain-error:0.098031\n",
            "[78]\teval-error:0.049748\ttrain-error:0.097364\n",
            "[79]\teval-error:0.047083\ttrain-error:0.096624\n",
            "[80]\teval-error:0.044714\ttrain-error:0.096105\n",
            "[81]\teval-error:0.044714\ttrain-error:0.096179\n",
            "[82]\teval-error:0.042938\ttrain-error:0.095439\n",
            "[83]\teval-error:0.041457\ttrain-error:0.095217\n",
            "[84]\teval-error:0.040865\ttrain-error:0.094921\n",
            "[85]\teval-error:0.040569\ttrain-error:0.094699\n",
            "[86]\teval-error:0.039976\ttrain-error:0.094477\n",
            "[87]\teval-error:0.040569\ttrain-error:0.094328\n",
            "[88]\teval-error:0.038496\ttrain-error:0.094402\n",
            "[89]\teval-error:0.039088\ttrain-error:0.094254\n",
            "[90]\teval-error:0.037903\ttrain-error:0.09418\n",
            "[91]\teval-error:0.037607\ttrain-error:0.093958\n",
            "[92]\teval-error:0.0382\ttrain-error:0.093736\n",
            "[93]\teval-error:0.036719\ttrain-error:0.094254\n",
            "[94]\teval-error:0.037015\ttrain-error:0.094402\n",
            "[95]\teval-error:0.037311\ttrain-error:0.093884\n",
            "[96]\teval-error:0.037311\ttrain-error:0.093736\n",
            "[97]\teval-error:0.037015\ttrain-error:0.093884\n",
            "[98]\teval-error:0.034646\ttrain-error:0.094032\n",
            "[99]\teval-error:0.033758\ttrain-error:0.093736\n"
          ],
          "name": "stdout"
        }
      ]
    },
    {
      "cell_type": "code",
      "metadata": {
        "colab": {
          "base_uri": "https://localhost:8080/"
        },
        "id": "GRyGdWjk43Wp",
        "outputId": "7ba61669-40b9-4a52-cd8a-4689979cb17f"
      },
      "source": [
        "modelo"
      ],
      "execution_count": 107,
      "outputs": [
        {
          "output_type": "execute_result",
          "data": {
            "text/plain": [
              "<xgboost.core.Booster at 0x7fb67e568438>"
            ]
          },
          "metadata": {
            "tags": []
          },
          "execution_count": 107
        }
      ]
    },
    {
      "cell_type": "code",
      "metadata": {
        "colab": {
          "base_uri": "https://localhost:8080/"
        },
        "id": "QUbRNejE5Pk8",
        "outputId": "9b92e78a-41e0-4ca3-e661-f6f790c5e684"
      },
      "source": [
        "#El siguiente paso es utilizar el método predict() de nuestro modelo con los datos de prueba para generar predicciones.\r\n",
        "prediccion = modelo.predict(model_test_mat)\r\n",
        "prediccion"
      ],
      "execution_count": 108,
      "outputs": [
        {
          "output_type": "execute_result",
          "data": {
            "text/plain": [
              "array([1.7109717e-01, 4.3782013e-04, 1.9106077e-03, ..., 8.8751829e-01,\n",
              "       9.7931206e-01, 1.2211549e-02], dtype=float32)"
            ]
          },
          "metadata": {
            "tags": []
          },
          "execution_count": 108
        }
      ]
    },
    {
      "cell_type": "code",
      "metadata": {
        "colab": {
          "base_uri": "https://localhost:8080/"
        },
        "id": "KUiU1SVc7Wxh",
        "outputId": "20892c7e-4a05-4ef2-e38d-cb8a79fc2293"
      },
      "source": [
        "#Evaluacion del modelo:\r\n",
        "def metricas(objetivo, prediccion):\r\n",
        "    matriz_conf = confusion_matrix(objetivo, prediccion)\r\n",
        "    score = accuracy_score(objetivo, prediccion)\r\n",
        "    reporte = classification_report(objetivo, prediccion)\r\n",
        "    metricas = [matriz_conf, score, reporte]\r\n",
        "    return(metricas)\r\n",
        "\r\n",
        "#si >0.5, es 1 (won). si <0.5, es 0 (lost)\r\n",
        "prediccion_bin = [1 if i > .5 else 0 for i in prediccion]\r\n",
        "prediccion_bin[:10]\r\n",
        "\r\n",
        "metrics = metricas(model_test[\"Target\"], prediccion_bin)\r\n",
        "[print(i) for i in metrics]\r\n"
      ],
      "execution_count": 109,
      "outputs": [
        {
          "output_type": "stream",
          "text": [
            "[[1372   95]\n",
            " [  19 1891]]\n",
            "0.966242226828546\n",
            "              precision    recall  f1-score   support\n",
            "\n",
            "           0       0.99      0.94      0.96      1467\n",
            "           1       0.95      0.99      0.97      1910\n",
            "\n",
            "    accuracy                           0.97      3377\n",
            "   macro avg       0.97      0.96      0.97      3377\n",
            "weighted avg       0.97      0.97      0.97      3377\n",
            "\n"
          ],
          "name": "stdout"
        },
        {
          "output_type": "execute_result",
          "data": {
            "text/plain": [
              "[None, None, None]"
            ]
          },
          "metadata": {
            "tags": []
          },
          "execution_count": 109
        }
      ]
    },
    {
      "cell_type": "code",
      "metadata": {
        "colab": {
          "base_uri": "https://localhost:8080/"
        },
        "id": "zdlbw6aU99Bg",
        "outputId": "88e75364-d719-4f25-ef67-03517d3d734e"
      },
      "source": [
        "error = log_loss(model_test['Target'], prediccion)\r\n",
        "error"
      ],
      "execution_count": 110,
      "outputs": [
        {
          "output_type": "execute_result",
          "data": {
            "text/plain": [
              "0.11943075546697057"
            ]
          },
          "metadata": {
            "tags": []
          },
          "execution_count": 110
        }
      ]
    },
    {
      "cell_type": "code",
      "metadata": {
        "id": "3wa8-xq6N1Zr"
      },
      "source": [
        ""
      ],
      "execution_count": null,
      "outputs": []
    },
    {
      "cell_type": "code",
      "metadata": {
        "id": "KP2kmz6UN1gG"
      },
      "source": [
        ""
      ],
      "execution_count": null,
      "outputs": []
    },
    {
      "cell_type": "code",
      "metadata": {
        "id": "uPK8RMFAN1kU"
      },
      "source": [
        ""
      ],
      "execution_count": null,
      "outputs": []
    },
    {
      "cell_type": "code",
      "metadata": {
        "id": "eMOdi6RA_HK5"
      },
      "source": [
        "#---------------------------------------------------------------------------------------------------------------"
      ],
      "execution_count": 111,
      "outputs": []
    },
    {
      "cell_type": "code",
      "metadata": {
        "id": "iityQfsF_I7j"
      },
      "source": [
        "#Hasta ahi estuve jugando, ahora empieza la posta: Hay que agrupar por categoria.\r\n",
        "\r\n",
        "# Supongo que el DataFrame con el que trabajo se llama 'data_train'\r\n",
        "# 'x' son los datos (todas las columnas menos el target), 'y' es el target\r\n",
        "x, y = data_train.iloc[:, :-1], data_train.iloc[:, -1]\r\n",
        "\r\n",
        "# 'x' son los datos --> x_train son los datos con los que entrenar\r\n",
        "#                   --> x_test son los datos con los que probar\r\n",
        "# 'y' es el target  --> y_train son las soluciones con las que comparar lo entrenado con x_train\r\n",
        "#                   --> y_test son las soluciones con las que comparar lo probado con x_test\r\n",
        "\r\n",
        "x_train, x_test, y_train, y_test = train_test_split(x, y, test_size=0.2, random_state=123)\r\n",
        "x_train\r\n",
        "\r\n",
        "#Esto lo hizo chechu y esta bien, no cambiar."
      ],
      "execution_count": null,
      "outputs": []
    },
    {
      "cell_type": "code",
      "metadata": {
        "id": "ZM0NsIvrIJzm"
      },
      "source": [
        " xg_reg = xgb.XGBRegressor(colsample_bytree = 0.3, learning_rate = 0.1, max_depth = 7 , alpha = 10, n_estimators = 10, eta=0.2,nthread=2,objective='binary:logistic',booster='gbtree')\r\n",
        " xg_reg.fit(x_train, y_train)\r\n",
        " preds = xg_reg.predict(x_test)\r\n",
        "\r\n"
      ],
      "execution_count": 206,
      "outputs": []
    },
    {
      "cell_type": "code",
      "metadata": {
        "colab": {
          "base_uri": "https://localhost:8080/"
        },
        "id": "3oQ5KQgFIJ2E",
        "outputId": "d61c0f42-a752-42e8-98b8-322df6962cef"
      },
      "source": [
        "error = log_loss(model_test['Target'], preds)\r\n",
        "error"
      ],
      "execution_count": 207,
      "outputs": [
        {
          "output_type": "execute_result",
          "data": {
            "text/plain": [
              "0.783968855307799"
            ]
          },
          "metadata": {
            "tags": []
          },
          "execution_count": 207
        }
      ]
    },
    {
      "cell_type": "code",
      "metadata": {
        "id": "a-Rug7cUDGOK"
      },
      "source": [
        "# Sacamos el y_test_de_practica_agrupado_por_opp\r\n",
        "oportunidades_test_de_practica = x_test['Opportunity_ID']\r\n",
        "oportunidades_test_de_practica = oportunidades_test_de_practica.to_frame()\r\n",
        "\r\n",
        "stage_test_de_practica = y_test.to_frame()\r\n",
        "\r\n",
        "oportunidades_test_de_practica['Target'] = stage_test_de_practica\r\n",
        "y_test_agrupado_por_opp = oportunidades_test_de_practica.groupby('Opportunity_ID').agg({'Target' : 'mean'})\r\n",
        "y_test_agrupado_por_opp = y_test_agrupado_por_opp.reset_index()"
      ],
      "execution_count": 148,
      "outputs": []
    },
    {
      "cell_type": "code",
      "metadata": {
        "id": "5MA2v8ufDLIp"
      },
      "source": [
        "# Sacamos el preds_agrupado_por_opp\r\n",
        "oportunidades_test_de_practica = x_test['Opportunity_ID']\r\n",
        "oportunidades_test_de_practica = oportunidades_test_de_practica.to_frame()\r\n",
        "\r\n",
        "oportunidades_test_de_practica['Target'] = preds\r\n",
        "\r\n",
        "preds_agrupado_por_opp = oportunidades_test_de_practica.groupby('Opportunity_ID').agg({'Target' : 'mean'})\r\n",
        "preds_agrupado_por_opp = preds_agrupado_por_opp.reset_index()"
      ],
      "execution_count": 208,
      "outputs": []
    },
    {
      "cell_type": "code",
      "metadata": {
        "colab": {
          "base_uri": "https://localhost:8080/"
        },
        "id": "0kH4uJDSDPSi",
        "outputId": "a8b58ca5-7679-4aa2-f7de-40996e4e4742"
      },
      "source": [
        "# Calculamos el error con groupby hecho\r\n",
        "error = log_loss(y_test_agrupado_por_opp['Target'], np.nan_to_num(preds_agrupado_por_opp['Target'].to_numpy()))\r\n",
        "error"
      ],
      "execution_count": 209,
      "outputs": [
        {
          "output_type": "execute_result",
          "data": {
            "text/plain": [
              "0.4416105265845752"
            ]
          },
          "metadata": {
            "tags": []
          },
          "execution_count": 209
        }
      ]
    },
    {
      "cell_type": "code",
      "metadata": {
        "id": "NhyVjEGiEpeI"
      },
      "source": [
        "# Ahora predecimos con el set de test\r\n",
        "preds_test = xg_reg.predict(data_test)"
      ],
      "execution_count": 210,
      "outputs": []
    },
    {
      "cell_type": "code",
      "metadata": {
        "id": "5hHB7iW5KkS9"
      },
      "source": [
        "# Sacamos el preds_test_agrupado_por_opp\r\n",
        "oportunidades_test = data_test['Opportunity_ID']\r\n",
        "oportunidades_test = oportunidades_test.to_frame()\r\n",
        "\r\n",
        "oportunidades_test['Target'] = preds_test\r\n",
        "\r\n",
        "preds_test_agrupado_por_opp = oportunidades_test.groupby('Opportunity_ID').agg({'Target' : 'mean'})\r\n",
        "preds_test_agrupado_por_opp = preds_test_agrupado_por_opp.reset_index()"
      ],
      "execution_count": 212,
      "outputs": []
    },
    {
      "cell_type": "code",
      "metadata": {
        "colab": {
          "base_uri": "https://localhost:8080/",
          "height": 16
        },
        "id": "S7Xx0DyeOl6w",
        "outputId": "505d5b8c-1914-4ce7-e549-afdfd19c3c02"
      },
      "source": [
        "from google.colab import files\r\n",
        "preds_test_agrupado_por_opp.to_csv('preds_test.csv', index=False, header=True)\r\n",
        "files.download('preds_test.csv')"
      ],
      "execution_count": 214,
      "outputs": [
        {
          "output_type": "display_data",
          "data": {
            "application/javascript": [
              "\n",
              "    async function download(id, filename, size) {\n",
              "      if (!google.colab.kernel.accessAllowed) {\n",
              "        return;\n",
              "      }\n",
              "      const div = document.createElement('div');\n",
              "      const label = document.createElement('label');\n",
              "      label.textContent = `Downloading \"${filename}\": `;\n",
              "      div.appendChild(label);\n",
              "      const progress = document.createElement('progress');\n",
              "      progress.max = size;\n",
              "      div.appendChild(progress);\n",
              "      document.body.appendChild(div);\n",
              "\n",
              "      const buffers = [];\n",
              "      let downloaded = 0;\n",
              "\n",
              "      const channel = await google.colab.kernel.comms.open(id);\n",
              "      // Send a message to notify the kernel that we're ready.\n",
              "      channel.send({})\n",
              "\n",
              "      for await (const message of channel.messages) {\n",
              "        // Send a message to notify the kernel that we're ready.\n",
              "        channel.send({})\n",
              "        if (message.buffers) {\n",
              "          for (const buffer of message.buffers) {\n",
              "            buffers.push(buffer);\n",
              "            downloaded += buffer.byteLength;\n",
              "            progress.value = downloaded;\n",
              "          }\n",
              "        }\n",
              "      }\n",
              "      const blob = new Blob(buffers, {type: 'application/binary'});\n",
              "      const a = document.createElement('a');\n",
              "      a.href = window.URL.createObjectURL(blob);\n",
              "      a.download = filename;\n",
              "      div.appendChild(a);\n",
              "      a.click();\n",
              "      div.remove();\n",
              "    }\n",
              "  "
            ],
            "text/plain": [
              "<IPython.core.display.Javascript object>"
            ]
          },
          "metadata": {
            "tags": []
          }
        },
        {
          "output_type": "display_data",
          "data": {
            "application/javascript": [
              "download(\"download_d4364434-85eb-4b73-85b8-a8dcacd21bb6\", \"preds_test.csv\", 25867)"
            ],
            "text/plain": [
              "<IPython.core.display.Javascript object>"
            ]
          },
          "metadata": {
            "tags": []
          }
        }
      ]
    },
    {
      "cell_type": "code",
      "metadata": {
        "colab": {
          "base_uri": "https://localhost:8080/",
          "height": 406
        },
        "id": "FgxqF6_GKoEB",
        "outputId": "2bfbdad3-67d8-4751-f7ec-512b3b1d398c"
      },
      "source": [
        "preds_test_agrupado_por_opp"
      ],
      "execution_count": 213,
      "outputs": [
        {
          "output_type": "execute_result",
          "data": {
            "text/html": [
              "<div>\n",
              "<style scoped>\n",
              "    .dataframe tbody tr th:only-of-type {\n",
              "        vertical-align: middle;\n",
              "    }\n",
              "\n",
              "    .dataframe tbody tr th {\n",
              "        vertical-align: top;\n",
              "    }\n",
              "\n",
              "    .dataframe thead th {\n",
              "        text-align: right;\n",
              "    }\n",
              "</style>\n",
              "<table border=\"1\" class=\"dataframe\">\n",
              "  <thead>\n",
              "    <tr style=\"text-align: right;\">\n",
              "      <th></th>\n",
              "      <th>Opportunity_ID</th>\n",
              "      <th>Target</th>\n",
              "    </tr>\n",
              "  </thead>\n",
              "  <tbody>\n",
              "    <tr>\n",
              "      <th>0</th>\n",
              "      <td>10689</td>\n",
              "      <td>0.600012</td>\n",
              "    </tr>\n",
              "    <tr>\n",
              "      <th>1</th>\n",
              "      <td>10690</td>\n",
              "      <td>0.578072</td>\n",
              "    </tr>\n",
              "    <tr>\n",
              "      <th>2</th>\n",
              "      <td>10691</td>\n",
              "      <td>0.530447</td>\n",
              "    </tr>\n",
              "    <tr>\n",
              "      <th>3</th>\n",
              "      <td>10692</td>\n",
              "      <td>0.529289</td>\n",
              "    </tr>\n",
              "    <tr>\n",
              "      <th>4</th>\n",
              "      <td>10693</td>\n",
              "      <td>0.720677</td>\n",
              "    </tr>\n",
              "    <tr>\n",
              "      <th>...</th>\n",
              "      <td>...</td>\n",
              "      <td>...</td>\n",
              "    </tr>\n",
              "    <tr>\n",
              "      <th>1562</th>\n",
              "      <td>12364</td>\n",
              "      <td>0.663277</td>\n",
              "    </tr>\n",
              "    <tr>\n",
              "      <th>1563</th>\n",
              "      <td>12365</td>\n",
              "      <td>0.449136</td>\n",
              "    </tr>\n",
              "    <tr>\n",
              "      <th>1564</th>\n",
              "      <td>12366</td>\n",
              "      <td>0.378946</td>\n",
              "    </tr>\n",
              "    <tr>\n",
              "      <th>1565</th>\n",
              "      <td>12367</td>\n",
              "      <td>0.373662</td>\n",
              "    </tr>\n",
              "    <tr>\n",
              "      <th>1566</th>\n",
              "      <td>12368</td>\n",
              "      <td>0.313011</td>\n",
              "    </tr>\n",
              "  </tbody>\n",
              "</table>\n",
              "<p>1567 rows × 2 columns</p>\n",
              "</div>"
            ],
            "text/plain": [
              "      Opportunity_ID    Target\n",
              "0              10689  0.600012\n",
              "1              10690  0.578072\n",
              "2              10691  0.530447\n",
              "3              10692  0.529289\n",
              "4              10693  0.720677\n",
              "...              ...       ...\n",
              "1562           12364  0.663277\n",
              "1563           12365  0.449136\n",
              "1564           12366  0.378946\n",
              "1565           12367  0.373662\n",
              "1566           12368  0.313011\n",
              "\n",
              "[1567 rows x 2 columns]"
            ]
          },
          "metadata": {
            "tags": []
          },
          "execution_count": 213
        }
      ]
    }
  ]
}