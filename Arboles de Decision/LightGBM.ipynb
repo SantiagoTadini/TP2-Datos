{
  "nbformat": 4,
  "nbformat_minor": 0,
  "metadata": {
    "colab": {
      "name": "ModeloLightGBM.ipynb",
      "provenance": []
    },
    "kernelspec": {
      "name": "python3",
      "display_name": "Python 3"
    }
  },
  "cells": [
    {
      "cell_type": "code",
      "metadata": {
        "id": "hJXvYvkl9myi"
      },
      "source": [
        "\r\n",
        "import xgboost as xgb\r\n",
        "from sklearn.ensemble import RandomForestRegressor\r\n",
        "from sklearn.metrics import log_loss\r\n",
        "import pandas as pd\r\n",
        "import datetime as dt\r\n",
        "import numpy as np\r\n",
        "%matplotlib inline\r\n",
        "import matplotlib.pyplot as plt\r\n",
        "from sklearn import tree\r\n",
        "from sklearn.model_selection import train_test_split\r\n",
        "from sklearn.metrics import confusion_matrix\r\n",
        "from sklearn.metrics import accuracy_score\r\n",
        "from sklearn.metrics import classification_report\r\n",
        "from urllib.request import urlretrieve\r\n",
        "\r\n",
        "\r\n",
        "from sklearn.model_selection import train_test_split"
      ],
      "execution_count": 33,
      "outputs": []
    },
    {
      "cell_type": "code",
      "metadata": {
        "id": "DexFVsEP9sdR"
      },
      "source": [
        "url_train = 'https://raw.githubusercontent.com/joaquinhojman/ArbolesDeDecision/main/data_train.csv'\r\n",
        "url_test = 'https://raw.githubusercontent.com/joaquinhojman/ArbolesDeDecision/main/data_test.csv'\r\n",
        "url_test_kaggle = 'https://raw.githubusercontent.com/joaquinhojman/ArbolesDeDecision/main/data_test_kaggle.csv'\r\n",
        "\r\n",
        "data_train = pd.read_csv(url_train)\r\n",
        "data_test = pd.read_csv(url_test)\r\n",
        "data_test_kaggle = pd.read_csv(url_test_kaggle)\r\n"
      ],
      "execution_count": 34,
      "outputs": []
    },
    {
      "cell_type": "code",
      "metadata": {
        "id": "kCv6xr519sfb"
      },
      "source": [
        "# Separamos los set de datos (data_train y data_test) de sus columnas 'Target'\r\n",
        "# 'x' son los datos, 'y' es el target:\r\n",
        "#   --> x_train son los datos con los que entrenar\r\n",
        "#   --> y_train son las soluciones con las que comparar lo entrenado con x_train\r\n",
        "#   --> x_test son los datos con los que probar\r\n",
        "#   --> y_test son las soluciones con las que comparar lo probado con x_test\r\n",
        "x_train = data_train.iloc[:, :-1]\r\n",
        "y_train = data_train.iloc[:, -1]\r\n",
        "x_test = data_test.iloc[:, :-1]\r\n",
        "y_test = data_test.iloc[:, -1]\r\n",
        "\r\n",
        "#Esto lo hizo chechu y esta bien, no cambiar.\r\n"
      ],
      "execution_count": 35,
      "outputs": []
    },
    {
      "cell_type": "code",
      "metadata": {
        "id": "fF9usWvO9shm"
      },
      "source": [
        "import lightgbm as lgb"
      ],
      "execution_count": 36,
      "outputs": []
    },
    {
      "cell_type": "code",
      "metadata": {
        "id": "hSIFTuCR-GDG",
        "colab": {
          "base_uri": "https://localhost:8080/"
        },
        "outputId": "943a60e5-23c7-4ce2-9cc8-92659ed1ec04"
      },
      "source": [
        "!pip install hyperopt\r\n",
        "from hyperopt.pyll.base import scope \r\n",
        "import warnings\r\n",
        "from hyperopt import fmin, tpe, hp, STATUS_OK, Trials"
      ],
      "execution_count": 37,
      "outputs": [
        {
          "output_type": "stream",
          "text": [
            "Requirement already satisfied: hyperopt in /usr/local/lib/python3.7/dist-packages (0.1.2)\n",
            "Requirement already satisfied: tqdm in /usr/local/lib/python3.7/dist-packages (from hyperopt) (4.41.1)\n",
            "Requirement already satisfied: future in /usr/local/lib/python3.7/dist-packages (from hyperopt) (0.16.0)\n",
            "Requirement already satisfied: scipy in /usr/local/lib/python3.7/dist-packages (from hyperopt) (1.4.1)\n",
            "Requirement already satisfied: networkx in /usr/local/lib/python3.7/dist-packages (from hyperopt) (2.5)\n",
            "Requirement already satisfied: pymongo in /usr/local/lib/python3.7/dist-packages (from hyperopt) (3.11.3)\n",
            "Requirement already satisfied: six in /usr/local/lib/python3.7/dist-packages (from hyperopt) (1.15.0)\n",
            "Requirement already satisfied: numpy in /usr/local/lib/python3.7/dist-packages (from hyperopt) (1.19.5)\n",
            "Requirement already satisfied: decorator>=4.3.0 in /usr/local/lib/python3.7/dist-packages (from networkx->hyperopt) (4.4.2)\n"
          ],
          "name": "stdout"
        }
      ]
    },
    {
      "cell_type": "code",
      "metadata": {
        "id": "zWqjykCA9Cab",
        "colab": {
          "base_uri": "https://localhost:8080/"
        },
        "outputId": "79697964-0088-4b11-8537-2c668ff06fe4"
      },
      "source": [
        "lgb_train = lgb.Dataset(x_train, y_train)\r\n",
        "lgb_eval = lgb.Dataset(x_test, y_test, reference=lgb_train)\r\n",
        "space={'max_depth': hp.quniform(\"max_depth\", 7, 16, 1),\r\n",
        "      #  'learning_rate' : hp.quniform('learning_rate', 0.001, 0.5, 0.01),\r\n",
        "        'min_samples_split' :hp.quniform('min_samples_split',2,300,25),\r\n",
        "        'num_leaves': hp.quniform('num_leaves', 10,80,1),\r\n",
        "      #  'feature_fraction': hp.quniform('feature_fraction', 0.01,1,1),\r\n",
        "        'min_data': hp.quniform('min_data', 10,100,1),\r\n",
        "    }\r\n",
        "\r\n",
        "\r\n",
        "\r\n",
        "def hyperparameter_tuning(space):\r\n",
        "\r\n",
        "    model = lgb.LGBMRegressor(max_depth=int(space['max_depth']),min_samples_split=int(space['min_samples_split']),num_leaves=int(space['num_leaves']),\r\n",
        "        min_data=int(space['min_data']),learning_rate=0.05,\r\n",
        "        feature_fraction=0.22,\r\n",
        "            )\r\n",
        "    #  model=lgb.train(params,lgb_train)        \r\n",
        "    model.fit(x_train, y_train)                    \r\n",
        "    preds = model.predict(x_test)\r\n",
        "\r\n",
        "    logloss = log_loss(y_test, preds)\r\n",
        "    print(logloss)\r\n",
        "    #change the metric if you like\r\n",
        "    return {'loss':logloss, 'status': STATUS_OK, 'model': model}\r\n",
        "\r\n",
        "trials = Trials()\r\n",
        "best = fmin(fn=hyperparameter_tuning,\r\n",
        "            space=space,\r\n",
        "            algo=tpe.suggest,\r\n",
        "            max_evals=500,\r\n",
        "            trials=trials)\r\n",
        "\r\n",
        "\r\n",
        "print (best)"
      ],
      "execution_count": 38,
      "outputs": [
        {
          "output_type": "stream",
          "text": [
            "0.41968562862934833\n",
            "0.4439635530874617\n",
            "0.4289125738684797\n",
            "0.4399618203262851\n",
            "0.4463990500895129\n",
            "0.4419700633907953\n",
            "0.4436185896546168\n",
            "0.43334257938743365\n",
            "0.4401688398399935\n",
            "0.4165832780452125\n",
            "0.4261278419849935\n",
            "0.4197731172321783\n",
            "0.4327754917396054\n",
            "0.47069458118158275\n",
            "0.44801283252187113\n",
            "0.4268145766552965\n",
            "0.43254314063078\n",
            "0.42378095569104873\n",
            "0.443918249634708\n",
            "0.42645085939208305\n",
            "0.4153578873217142\n",
            "0.4185127200066575\n",
            "0.4294578207282173\n",
            "0.4065671984544361\n",
            "0.4240661076640213\n",
            "0.4341432092318765\n",
            "0.4189352270724691\n",
            "0.42292998879482907\n",
            "0.4206752795991505\n",
            "0.41541245259093995\n",
            "0.4501184276810562\n",
            "0.4288568727652356\n",
            "0.4210826878571553\n",
            "0.44604161008198606\n",
            "0.4333767444573009\n",
            "0.4126650531999518\n",
            "0.42455122858874444\n",
            "0.41012034338653736\n",
            "0.4238749965616393\n",
            "0.4311555238812684\n",
            "0.4628031033207845\n",
            "0.43561501257391866\n",
            "0.4188009146606072\n",
            "0.4304652766633012\n",
            "0.4297004425657017\n",
            "0.42450906375713254\n",
            "0.4382197314785075\n",
            "0.41953307678346186\n",
            "0.41827136661889996\n",
            "0.42722633722913034\n",
            "0.45182527200451256\n",
            "0.44502765677829614\n",
            "0.44318985004778183\n",
            "0.4386815300663044\n",
            "0.42382171620203085\n",
            "0.43377701482108794\n",
            "0.4304929938681973\n",
            "0.4303089249897752\n",
            "0.4386164674191596\n",
            "0.4346729328844043\n",
            "0.4437637520805626\n",
            "0.4330988197913625\n",
            "0.43383172366657013\n",
            "0.40551695785417585\n",
            "0.42953797401668725\n",
            "0.41648833313442124\n",
            "0.4134170356043613\n",
            "0.40779012352278965\n",
            "0.40369111782910627\n",
            "0.4368804105124851\n",
            "0.407475954949804\n",
            "0.41837381345149044\n",
            "0.40506957747649475\n",
            "0.4161346702593901\n",
            "0.4197545531367796\n",
            "0.4228178224074033\n",
            "0.434004214230845\n",
            "0.41725149085671753\n",
            "0.43226195129966366\n",
            "0.4273171158204303\n",
            "0.42118071798381285\n",
            "0.41876494280003984\n",
            "0.41065704591101443\n",
            "0.43940939579300287\n",
            "0.43373818544263015\n",
            "0.4240653742187585\n",
            "0.4067229507539698\n",
            "0.4334019539496764\n",
            "0.42708137168698584\n",
            "0.41922297233992123\n",
            "0.4107349061001622\n",
            "0.42526246852975835\n",
            "0.4126345740608711\n",
            "0.4364076418475543\n",
            "0.41906260266856166\n",
            "0.4293690920730317\n",
            "0.4395403221416005\n",
            "0.43365327270730236\n",
            "0.4332283956219115\n",
            "0.44058145908789625\n",
            "0.43411426552536886\n",
            "0.428133408629713\n",
            "0.413127248837956\n",
            "0.42516089368897675\n",
            "0.4389996967274486\n",
            "0.4336058232825695\n",
            "0.4363674820705623\n",
            "0.4273629723541319\n",
            "0.4249856429511372\n",
            "0.42852716504414984\n",
            "0.4377743290608933\n",
            "0.4414350703333573\n",
            "0.43543591794002723\n",
            "0.4330386330584158\n",
            "0.4399625248694286\n",
            "0.42622500747011827\n",
            "0.43014023072211466\n",
            "0.4183557179244796\n",
            "0.4283412145187877\n",
            "0.4165200455048507\n",
            "0.41594136299450674\n",
            "0.4169588154800607\n",
            "0.4189212961754333\n",
            "0.4144856285975913\n",
            "0.43767636301509605\n",
            "0.4468232166579099\n",
            "0.4028725107238976\n",
            "0.44066806947496745\n",
            "0.42849776070807505\n",
            "0.4287395644567576\n",
            "0.4257288979320572\n",
            "0.42895611374394\n",
            "0.4239701243153126\n",
            "0.43597941757655817\n",
            "0.43795470459179847\n",
            "0.4207058725210258\n",
            "0.44336359168150696\n",
            "0.4310877191755901\n",
            "0.4289215777994229\n",
            "0.41903290955762884\n",
            "0.4287504557588372\n",
            "0.4177239298819647\n",
            "0.42140837219288135\n",
            "0.4360895657492522\n",
            "0.45785717163103345\n",
            "0.4066745327932229\n",
            "0.41859356729737784\n",
            "0.4164884650023378\n",
            "0.4134022690227539\n",
            "0.4177791868438554\n",
            "0.42323731059280334\n",
            "0.42664581513415667\n",
            "0.4245172282968738\n",
            "0.4262473241119076\n",
            "0.42666530645261275\n",
            "0.4195829541877469\n",
            "0.42434807993314727\n",
            "0.41721243901013694\n",
            "0.4225169740290304\n",
            "0.4225725057250615\n",
            "0.4144755249956422\n",
            "0.4112025511395377\n",
            "0.4228847065411812\n",
            "0.4281418325997829\n",
            "0.4158760940293938\n",
            "0.4307673761340312\n",
            "0.42744259708949195\n",
            "0.41959225671434114\n",
            "0.4319095015366309\n",
            "0.41469592199502037\n",
            "0.42410945090729424\n",
            "0.4313732111820359\n",
            "0.41193615801714994\n",
            "0.4369616321075655\n",
            "0.45056538680623054\n",
            "0.4184330957047068\n",
            "0.4347991378507816\n",
            "0.4147799986115307\n",
            "0.4052753786346365\n",
            "0.42508288039142317\n",
            "0.42118369370085706\n",
            "0.42501013980782826\n",
            "0.4326461375418904\n",
            "0.41590283819367946\n",
            "0.4290219045314735\n",
            "0.4119603375289016\n",
            "0.4206273416355634\n",
            "0.4295982311668673\n",
            "0.4306157980725141\n",
            "0.4284678414903379\n",
            "0.42658022957846664\n",
            "0.4263211782690429\n",
            "0.4218474114138801\n",
            "0.4285838182550642\n",
            "0.43451568134514135\n",
            "0.40645114449296765\n",
            "0.43040774501629353\n",
            "0.42932472785138\n",
            "0.4267904523846629\n",
            "0.4203651027963771\n",
            "0.41662224014080435\n",
            "0.41508248120667823\n",
            "0.4321421493416225\n",
            "0.4274650730919727\n",
            "0.4264355052541497\n",
            "0.41263623885640116\n",
            "0.45556561081667507\n",
            "0.4397013004961869\n",
            "0.42496839664266217\n",
            "0.4164217704177541\n",
            "0.41651652935848626\n",
            "0.42957884700461135\n",
            "0.4330880885383376\n",
            "0.41266905682796007\n",
            "0.4107359381963476\n",
            "0.4225898289410412\n",
            "0.4205934655663172\n",
            "0.4246013432712202\n",
            "0.4222055541874282\n",
            "0.4394299243705149\n",
            "0.4394539957803976\n",
            "0.42073529801407483\n",
            "0.44279249963762335\n",
            "0.41962397680163216\n",
            "0.420107814634091\n",
            "0.4316081966427361\n",
            "0.4215603160210548\n",
            "0.4136462187395779\n",
            "0.43036962323778466\n",
            "0.41579035805918585\n",
            "0.438506375077214\n",
            "0.4231255805969246\n",
            "0.4242292067693129\n",
            "0.41674218934455737\n",
            "0.4148671427830399\n",
            "0.4374560701787253\n",
            "0.4184267316633349\n",
            "0.42880388393620744\n",
            "0.40920974007725835\n",
            "0.44547247317085276\n",
            "0.4111766599685962\n",
            "0.4184116034532096\n",
            "0.4133484866910107\n",
            "0.4208397671160407\n",
            "0.4435637135243456\n",
            "0.4302601147589455\n",
            "0.4232288191777047\n",
            "0.42319755585045976\n",
            "0.4317545105353751\n",
            "0.4408378123959036\n",
            "0.4307493118922611\n",
            "0.40377453133632063\n",
            "0.4209272175310291\n",
            "0.4304012563873181\n",
            "0.44170023453807983\n",
            "0.4368719934026729\n",
            "0.42684748836718506\n",
            "0.4244305990099679\n",
            "0.4213387149600244\n",
            "0.4057833699487828\n",
            "0.41257226242171785\n",
            "0.41815497674940244\n",
            "0.4112417709865314\n",
            "0.40846974055036456\n",
            "0.4170452236373098\n",
            "0.4313433668818989\n",
            "0.41240467769946143\n",
            "0.43997234273517294\n",
            "0.41721243901013694\n",
            "0.41898796819587136\n",
            "0.4257518387895658\n",
            "0.4039686891127513\n",
            "0.41682577223305717\n",
            "0.4124058027364218\n",
            "0.44043503158051667\n",
            "0.40551695785417585\n",
            "0.41887730106325843\n",
            "0.4136171549886523\n",
            "0.42383407470047324\n",
            "0.41341744993822854\n",
            "0.4300877018972765\n",
            "0.4201169399376249\n",
            "0.41748819579345303\n",
            "0.4132369966841999\n",
            "0.4421743923564475\n",
            "0.4302601147589455\n",
            "0.4190837771969979\n",
            "0.4180997113520711\n",
            "0.43423817834068756\n",
            "0.4354035556242743\n",
            "0.4355094660697748\n",
            "0.425655321455187\n",
            "0.41038089952327894\n",
            "0.42235587989919815\n",
            "0.4086244262846908\n",
            "0.4225456941530242\n",
            "0.4192528390826417\n",
            "0.4273677729677538\n",
            "0.40881218678107345\n",
            "0.4247708054444058\n",
            "0.41173048214581004\n",
            "0.4302084323554862\n",
            "0.4200840546044677\n",
            "0.41093949320747764\n",
            "0.4263446944770977\n",
            "0.41789969151003437\n",
            "0.4033707793924195\n",
            "0.4396409399658782\n",
            "0.43034460975032174\n",
            "0.4302672857114494\n",
            "0.43247896519478457\n",
            "0.405284468993731\n",
            "0.43478293316084754\n",
            "0.4174516161564724\n",
            "0.4234017197626835\n",
            "0.43170232047814333\n",
            "0.4201150687819318\n",
            "0.4055029022655631\n",
            "0.4256540468292177\n",
            "0.40809767467023367\n",
            "0.43523915393028495\n",
            "0.436181993232581\n",
            "0.41158706941179724\n",
            "0.4153261003038551\n",
            "0.4150677344369152\n",
            "0.41490463724798377\n",
            "0.42099046631948683\n",
            "0.41708697111833065\n",
            "0.4395360796107908\n",
            "0.4148479572274121\n",
            "0.4276005049127854\n",
            "0.4347389983593627\n",
            "0.4328233525645846\n",
            "0.4178602677190706\n",
            "0.43010207153073243\n",
            "0.41231147056003337\n",
            "0.4516515037600087\n",
            "0.4364803579513786\n",
            "0.4244988468814628\n",
            "0.4298456245056541\n",
            "0.4048768131258833\n",
            "0.4251037443521862\n",
            "0.43911374879361625\n",
            "0.4162250857271664\n",
            "0.41813665116627524\n",
            "0.41164405498068346\n",
            "0.43660628036940485\n",
            "0.42162520239977525\n",
            "0.40831649900319955\n",
            "0.42988805046076134\n",
            "0.422639909337564\n",
            "0.4306652001780558\n",
            "0.4344769160617982\n",
            "0.428475486696933\n",
            "0.4145943515290571\n",
            "0.42208375861510794\n",
            "0.435500433687522\n",
            "0.42527293617062495\n",
            "0.4347567439240454\n",
            "0.41485649125121177\n",
            "0.41740001900766205\n",
            "0.4364981824463009\n",
            "0.43559501503499776\n",
            "0.4420655785979135\n",
            "0.42844231931467086\n",
            "0.4496196097600999\n",
            "0.42165191082180586\n",
            "0.42196575174520695\n",
            "0.4105906365828681\n",
            "0.4368017472920121\n",
            "0.4197412507975597\n",
            "0.42878759985845233\n",
            "0.42355589199653126\n",
            "0.43450422029801195\n",
            "0.4273594632943453\n",
            "0.42682115237477836\n",
            "0.42434325132379475\n",
            "0.4317339344474358\n",
            "0.41473069598006745\n",
            "0.4338693449318985\n",
            "0.42772269310132194\n",
            "0.41058834943065636\n",
            "0.43219286759753583\n",
            "0.41702251087163383\n",
            "0.4094248571440859\n",
            "0.4246632753119984\n",
            "0.4203574489675062\n",
            "0.44870626403558106\n",
            "0.4244546600119516\n",
            "0.442246596645942\n",
            "0.40665013323490334\n",
            "0.42480157222994674\n",
            "0.4330525052206509\n",
            "0.4256830697223167\n",
            "0.4154095622497645\n",
            "0.4098474702525402\n",
            "0.42990518232572494\n",
            "0.4047026295151765\n",
            "0.4162250857271664\n",
            "0.43232713218077173\n",
            "0.4197904002294798\n",
            "0.4222372393243084\n",
            "0.422817565722692\n",
            "0.4100179713653218\n",
            "0.42341590287437547\n",
            "0.421655597887407\n",
            "0.4175244271526173\n",
            "0.41454536988088864\n",
            "0.41309747453266366\n",
            "0.4170493696387948\n",
            "0.40956864573804913\n",
            "0.4099499353938327\n",
            "0.41813665116627524\n",
            "0.40698819561172545\n",
            "0.4263076422445684\n",
            "0.4150364087945266\n",
            "0.4280994990780363\n",
            "0.41859356729737784\n",
            "0.4093132841098781\n",
            "0.41177853308866674\n",
            "0.42177692711671333\n",
            "0.42350427002236374\n",
            "0.40360211162617815\n",
            "0.4308446865066487\n",
            "0.43350067474062537\n",
            "0.41713883035138954\n",
            "0.4262573041153053\n",
            "0.4185615906095898\n",
            "0.40360211162617815\n",
            "0.4237182843824065\n",
            "0.4218219130846087\n",
            "0.41737710183278776\n",
            "0.4381263061257266\n",
            "0.42684748836718506\n",
            "0.4140372211450205\n",
            "0.41647670490150773\n",
            "0.4151294222434384\n",
            "0.4337123592534415\n",
            "0.4229537392718756\n",
            "0.4279037962087378\n",
            "0.42563312658373986\n",
            "0.4353369553953583\n",
            "0.41787835448135346\n",
            "0.42004927135883013\n",
            "0.42320165812457883\n",
            "0.42633987459484757\n",
            "0.40888340469625917\n",
            "0.4276032824108737\n",
            "0.434803746288765\n",
            "0.43236395877269096\n",
            "0.4167246342376881\n",
            "0.4275879775541347\n",
            "0.4205710946094659\n",
            "0.42475622371278376\n",
            "0.4307673761340312\n",
            "0.4194257969573381\n",
            "0.41732526002325737\n",
            "0.41430935970944793\n",
            "0.43967855361816616\n",
            "0.41999306394015934\n",
            "0.41645881026707887\n",
            "0.4153671791154996\n",
            "0.41309747453266366\n",
            "0.4208995646491114\n",
            "0.4223074368787497\n",
            "0.4327157022646031\n",
            "0.41428916901727836\n",
            "0.43275845437690413\n",
            "0.41698705056300034\n",
            "0.4470873825931125\n",
            "0.43138660041006277\n",
            "0.4248838389884611\n",
            "0.416405150782148\n",
            "0.4161593529281627\n",
            "0.4116479629977482\n",
            "0.4261974709322207\n",
            "0.4389924839882477\n",
            "0.4210767009801794\n",
            "0.42682562755159953\n",
            "0.41600782962431027\n",
            "0.4100297470169298\n",
            "0.4138159600583096\n",
            "0.4244305990099679\n",
            "0.42652862564636423\n",
            "0.4213387149600244\n",
            "0.43345849737379255\n",
            "0.4259200275684069\n",
            "0.41732526002325737\n",
            "0.43453736796099107\n",
            "0.4237649337701414\n",
            "0.4236365344822643\n",
            "0.420566923598897\n",
            "0.4120389473667174\n",
            "0.4114607610375467\n",
            "0.4222995675597491\n",
            "0.4381970816109085\n",
            "0.4209844301712018\n",
            "0.4525921279263806\n",
            "0.411338305833289\n",
            "0.4244888959869988\n",
            "100%|██████████| 500/500 [03:24<00:00,  2.45it/s, best loss: 0.4028725107238976]\n",
            "{'max_depth': 10.0, 'min_data': 12.0, 'min_samples_split': 200.0, 'num_leaves': 46.0}\n"
          ],
          "name": "stdout"
        }
      ]
    },
    {
      "cell_type": "code",
      "metadata": {
        "colab": {
          "base_uri": "https://localhost:8080/"
        },
        "id": "ruRoMZAZJpwq",
        "outputId": "fe89d862-4990-4f97-8042-0cd26b77eb8a"
      },
      "source": [
        "\r\n",
        "#best loss: 0.3978530719311108] #en kaggle = 0.47\r\n",
        "#{'max_depth': 15.0, 'min_data': 27.0, 'min_samples_split': 125.0, 'num_leaves': 49.0}\r\n",
        "\r\n",
        "best"
      ],
      "execution_count": 39,
      "outputs": [
        {
          "output_type": "execute_result",
          "data": {
            "text/plain": [
              "{'max_depth': 10.0,\n",
              " 'min_data': 12.0,\n",
              " 'min_samples_split': 200.0,\n",
              " 'num_leaves': 46.0}"
            ]
          },
          "metadata": {
            "tags": []
          },
          "execution_count": 39
        }
      ]
    },
    {
      "cell_type": "code",
      "metadata": {
        "colab": {
          "base_uri": "https://localhost:8080/"
        },
        "id": "dsvfp3SAJxM_",
        "outputId": "277390f0-3a00-4b4c-ef89-3834c3bcddbf"
      },
      "source": [
        "lgb_hyper = lgb.LGBMRegressor(max_depth=15,min_samples_split=125,num_leaves=49,\r\n",
        "        min_data=27,learning_rate=0.05,feature_fraction=0.22)\r\n",
        "lgb_hyper.fit(x_train, y_train)                    \r\n",
        "preds = lgb_hyper.predict(x_test)\r\n",
        "\r\n",
        "logloss = log_loss(y_test, preds)\r\n",
        "logloss\r\n"
      ],
      "execution_count": 40,
      "outputs": [
        {
          "output_type": "execute_result",
          "data": {
            "text/plain": [
              "0.3978530719311108"
            ]
          },
          "metadata": {
            "tags": []
          },
          "execution_count": 40
        }
      ]
    },
    {
      "cell_type": "code",
      "metadata": {
        "colab": {
          "base_uri": "https://localhost:8080/"
        },
        "id": "4_VqI-R6btHY",
        "outputId": "6f1e0db3-ce60-4add-9fe3-aea8f9cd688c"
      },
      "source": [
        "#Error de train\r\n",
        "preds_train_hyper = lgb_hyper.predict(x_train)\r\n",
        "error_train_hyper = log_loss(y_train, preds_train_hyper)\r\n",
        "error_train_hyper"
      ],
      "execution_count": 41,
      "outputs": [
        {
          "output_type": "execute_result",
          "data": {
            "text/plain": [
              "0.16751311397099558"
            ]
          },
          "metadata": {
            "tags": []
          },
          "execution_count": 41
        }
      ]
    },
    {
      "cell_type": "code",
      "metadata": {
        "id": "rFpaE6AjJxPU",
        "colab": {
          "base_uri": "https://localhost:8080/",
          "height": 747
        },
        "outputId": "3f8266ed-a54b-4766-8743-fad68f0d8ccd"
      },
      "source": [
        "plt.rcParams['figure.figsize'] = [12, 12]\r\n",
        "\r\n",
        "lgb.plot_importance(lgb_hyper)"
      ],
      "execution_count": 42,
      "outputs": [
        {
          "output_type": "execute_result",
          "data": {
            "text/plain": [
              "<matplotlib.axes._subplots.AxesSubplot at 0x7f5afec87f90>"
            ]
          },
          "metadata": {
            "tags": []
          },
          "execution_count": 42
        },
        {
          "output_type": "display_data",
          "data": {
            "image/png": "[encoded data removed]",
            "text/plain": [
              "<Figure size 864x864 with 1 Axes>"
            ]
          },
          "metadata": {
            "tags": [],
            "needs_background": "light"
          }
        }
      ]
    },
    {
      "cell_type": "code",
      "metadata": {
        "colab": {
          "base_uri": "https://localhost:8080/",
          "height": 208
        },
        "id": "wtbtasx_6-so",
        "outputId": "d6a06563-1676-4f2a-97f1-ff80bc6be95b"
      },
      "source": [
        "plt.rcParams['figure.figsize'] = [20, 20]\r\n",
        "lgb.plot_tree(lgb_hyper)"
      ],
      "execution_count": 43,
      "outputs": [
        {
          "output_type": "execute_result",
          "data": {
            "text/plain": [
              "<matplotlib.axes._subplots.AxesSubplot at 0x7f5aff9a4a90>"
            ]
          },
          "metadata": {
            "tags": []
          },
          "execution_count": 43
        },
        {
          "output_type": "display_data",
          "data": {
            "image/png": "[encoded data removed]",
            "text/plain": [
              "<Figure size 1440x1440 with 1 Axes>"
            ]
          },
          "metadata": {
            "tags": [],
            "needs_background": "light"
          }
        }
      ]
    },
    {
      "cell_type": "code",
      "metadata": {
        "id": "TeXJh6OjBQW2"
      },
      "source": [
        "# Sacamos el y_test_de_practica_agrupado_por_opp\r\n",
        "oportunidades_test_de_practica = x_test['Opportunity_ID']\r\n",
        "oportunidades_test_de_practica = oportunidades_test_de_practica.to_frame()\r\n",
        "\r\n",
        "stage_test_de_practica = y_test.to_frame()\r\n",
        "\r\n",
        "oportunidades_test_de_practica['Target'] = stage_test_de_practica\r\n",
        "y_test_agrupado_por_opp = oportunidades_test_de_practica.groupby('Opportunity_ID').agg({'Target' : 'mean'})\r\n",
        "y_test_agrupado_por_opp = y_test_agrupado_por_opp.reset_index()"
      ],
      "execution_count": 44,
      "outputs": []
    },
    {
      "cell_type": "code",
      "metadata": {
        "id": "q7Wit4w0BQW2"
      },
      "source": [
        "# Sacamos el preds_agrupado_por_opp\r\n",
        "oportunidades_test_de_practica = x_test['Opportunity_ID']\r\n",
        "oportunidades_test_de_practica = oportunidades_test_de_practica.to_frame()\r\n",
        "\r\n",
        "oportunidades_test_de_practica['Target'] = preds\r\n",
        "\r\n",
        "preds_agrupado_por_opp = oportunidades_test_de_practica.groupby('Opportunity_ID').agg({'Target' : 'mean'})\r\n",
        "preds_agrupado_por_opp = preds_agrupado_por_opp.reset_index()"
      ],
      "execution_count": 45,
      "outputs": []
    },
    {
      "cell_type": "code",
      "metadata": {
        "colab": {
          "base_uri": "https://localhost:8080/"
        },
        "id": "vUcD2t0NBQW2",
        "outputId": "c8ffb578-d8a2-483f-d8e4-e983b87a9dfc"
      },
      "source": [
        "# Calculamos el error con groupby hecho\r\n",
        "error = log_loss(y_test_agrupado_por_opp['Target'], np.nan_to_num(preds_agrupado_por_opp['Target'].to_numpy()))\r\n",
        "error"
      ],
      "execution_count": 46,
      "outputs": [
        {
          "output_type": "execute_result",
          "data": {
            "text/plain": [
              "0.4091789963346319"
            ]
          },
          "metadata": {
            "tags": []
          },
          "execution_count": 46
        }
      ]
    },
    {
      "cell_type": "code",
      "metadata": {
        "colab": {
          "base_uri": "https://localhost:8080/",
          "height": 419
        },
        "id": "52EfFLfYWabS",
        "outputId": "f4347a9a-9859-41b2-9fcf-66615996d39f"
      },
      "source": [
        "# Sacamos el preds_test_agrupado_por_opp\r\n",
        "preds_test_kaggle_hyper = lgb_hyper.predict(data_test_kaggle)\r\n",
        "\r\n",
        "oportunidades_test = data_test_kaggle['Opportunity_ID']\r\n",
        "oportunidades_test = oportunidades_test.to_frame()\r\n",
        "\r\n",
        "oportunidades_test['Target'] = preds_test_kaggle_hyper\r\n",
        "\r\n",
        "preds_test_kaggle_agrupado_por_opp = oportunidades_test.groupby('Opportunity_ID').agg({'Target' : 'mean'})\r\n",
        "preds_test_kaggle_agrupado_por_opp = preds_test_kaggle_agrupado_por_opp.reset_index()\r\n",
        "preds_test_kaggle_agrupado_por_opp['Opportunity_ID'] = preds_test_kaggle_agrupado_por_opp['Opportunity_ID'].astype(int)\r\n",
        "\r\n",
        "preds_test_kaggle_agrupado_por_opp"
      ],
      "execution_count": 47,
      "outputs": [
        {
          "output_type": "execute_result",
          "data": {
            "text/html": [
              "<div>\n",
              "<style scoped>\n",
              "    .dataframe tbody tr th:only-of-type {\n",
              "        vertical-align: middle;\n",
              "    }\n",
              "\n",
              "    .dataframe tbody tr th {\n",
              "        vertical-align: top;\n",
              "    }\n",
              "\n",
              "    .dataframe thead th {\n",
              "        text-align: right;\n",
              "    }\n",
              "</style>\n",
              "<table border=\"1\" class=\"dataframe\">\n",
              "  <thead>\n",
              "    <tr style=\"text-align: right;\">\n",
              "      <th></th>\n",
              "      <th>Opportunity_ID</th>\n",
              "      <th>Target</th>\n",
              "    </tr>\n",
              "  </thead>\n",
              "  <tbody>\n",
              "    <tr>\n",
              "      <th>0</th>\n",
              "      <td>10689</td>\n",
              "      <td>0.708252</td>\n",
              "    </tr>\n",
              "    <tr>\n",
              "      <th>1</th>\n",
              "      <td>10690</td>\n",
              "      <td>0.652198</td>\n",
              "    </tr>\n",
              "    <tr>\n",
              "      <th>2</th>\n",
              "      <td>10691</td>\n",
              "      <td>0.300327</td>\n",
              "    </tr>\n",
              "    <tr>\n",
              "      <th>3</th>\n",
              "      <td>10692</td>\n",
              "      <td>0.635564</td>\n",
              "    </tr>\n",
              "    <tr>\n",
              "      <th>4</th>\n",
              "      <td>10693</td>\n",
              "      <td>0.825354</td>\n",
              "    </tr>\n",
              "    <tr>\n",
              "      <th>...</th>\n",
              "      <td>...</td>\n",
              "      <td>...</td>\n",
              "    </tr>\n",
              "    <tr>\n",
              "      <th>1562</th>\n",
              "      <td>12364</td>\n",
              "      <td>0.629859</td>\n",
              "    </tr>\n",
              "    <tr>\n",
              "      <th>1563</th>\n",
              "      <td>12365</td>\n",
              "      <td>0.448052</td>\n",
              "    </tr>\n",
              "    <tr>\n",
              "      <th>1564</th>\n",
              "      <td>12366</td>\n",
              "      <td>0.370254</td>\n",
              "    </tr>\n",
              "    <tr>\n",
              "      <th>1565</th>\n",
              "      <td>12367</td>\n",
              "      <td>0.423484</td>\n",
              "    </tr>\n",
              "    <tr>\n",
              "      <th>1566</th>\n",
              "      <td>12368</td>\n",
              "      <td>0.501130</td>\n",
              "    </tr>\n",
              "  </tbody>\n",
              "</table>\n",
              "<p>1567 rows × 2 columns</p>\n",
              "</div>"
            ],
            "text/plain": [
              "      Opportunity_ID    Target\n",
              "0              10689  0.708252\n",
              "1              10690  0.652198\n",
              "2              10691  0.300327\n",
              "3              10692  0.635564\n",
              "4              10693  0.825354\n",
              "...              ...       ...\n",
              "1562           12364  0.629859\n",
              "1563           12365  0.448052\n",
              "1564           12366  0.370254\n",
              "1565           12367  0.423484\n",
              "1566           12368  0.501130\n",
              "\n",
              "[1567 rows x 2 columns]"
            ]
          },
          "metadata": {
            "tags": []
          },
          "execution_count": 47
        }
      ]
    },
    {
      "cell_type": "code",
      "metadata": {
        "colab": {
          "base_uri": "https://localhost:8080/",
          "height": 17
        },
        "id": "xkEVdT29WabU",
        "outputId": "fc6ff755-f908-4e8e-8d9a-33c7619ec9e3"
      },
      "source": [
        "from google.colab import files\r\n",
        "\r\n",
        "preds_test_kaggle_agrupado_por_opp.to_csv('preds_testLIGHTGBM_hyper.csv', index=False, header=True)\r\n",
        "files.download('preds_testLIGHTGBM_hyper.csv')"
      ],
      "execution_count": 48,
      "outputs": [
        {
          "output_type": "display_data",
          "data": {
            "application/javascript": [
              "\n",
              "    async function download(id, filename, size) {\n",
              "      if (!google.colab.kernel.accessAllowed) {\n",
              "        return;\n",
              "      }\n",
              "      const div = document.createElement('div');\n",
              "      const label = document.createElement('label');\n",
              "      label.textContent = `Downloading \"${filename}\": `;\n",
              "      div.appendChild(label);\n",
              "      const progress = document.createElement('progress');\n",
              "      progress.max = size;\n",
              "      div.appendChild(progress);\n",
              "      document.body.appendChild(div);\n",
              "\n",
              "      const buffers = [];\n",
              "      let downloaded = 0;\n",
              "\n",
              "      const channel = await google.colab.kernel.comms.open(id);\n",
              "      // Send a message to notify the kernel that we're ready.\n",
              "      channel.send({})\n",
              "\n",
              "      for await (const message of channel.messages) {\n",
              "        // Send a message to notify the kernel that we're ready.\n",
              "        channel.send({})\n",
              "        if (message.buffers) {\n",
              "          for (const buffer of message.buffers) {\n",
              "            buffers.push(buffer);\n",
              "            downloaded += buffer.byteLength;\n",
              "            progress.value = downloaded;\n",
              "          }\n",
              "        }\n",
              "      }\n",
              "      const blob = new Blob(buffers, {type: 'application/binary'});\n",
              "      const a = document.createElement('a');\n",
              "      a.href = window.URL.createObjectURL(blob);\n",
              "      a.download = filename;\n",
              "      div.appendChild(a);\n",
              "      a.click();\n",
              "      div.remove();\n",
              "    }\n",
              "  "
            ],
            "text/plain": [
              "<IPython.core.display.Javascript object>"
            ]
          },
          "metadata": {
            "tags": []
          }
        },
        {
          "output_type": "display_data",
          "data": {
            "application/javascript": [
              "download(\"download_e629fb75-2c97-42ed-bd0d-72ac31a07c1e\", \"preds_testLIGHTGBM_hyper.csv\", 39652)"
            ],
            "text/plain": [
              "<IPython.core.display.Javascript object>"
            ]
          },
          "metadata": {
            "tags": []
          }
        }
      ]
    },
    {
      "cell_type": "code",
      "metadata": {
        "id": "MRSXUAYgJxRb"
      },
      "source": [
        ""
      ],
      "execution_count": 48,
      "outputs": []
    },
    {
      "cell_type": "code",
      "metadata": {
        "id": "5vyvh6MiJxT1"
      },
      "source": [
        ""
      ],
      "execution_count": 48,
      "outputs": []
    },
    {
      "cell_type": "code",
      "metadata": {
        "id": "Zpa6XLgGJxWL"
      },
      "source": [
        "#{'max_depth': 10.0, 'min_data': 35.0, 'min_samples_split': 0.0, 'num_leaves': 62.0, 'sub_feature': 0.0}\r\n",
        "#best loss: 0.40591087217686356   #en kaggle: 0.49959\r\n",
        "#best loss: 0.38504269671511876   #en kaggle: 0.57976\r\n",
        "#{'max_depth': 16.0, 'min_data': 35.0, 'min_samples_split': 100.0, 'num_leaves': 62.0}\r\n",
        "#best loss: 0.4120729714754787]    #en kaggle: 0.53868\r\n",
        "#{'max_depth': 15.0, 'min_data': 40.0, 'min_samples_split': 0.0, 'num_leaves': 62.0}\r\n"
      ],
      "execution_count": 49,
      "outputs": []
    }
  ]
}