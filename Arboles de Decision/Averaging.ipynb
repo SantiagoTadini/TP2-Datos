{
  "nbformat": 4,
  "nbformat_minor": 0,
  "metadata": {
    "colab": {
      "name": "Averaging.ipynb",
      "provenance": [],
      "collapsed_sections": []
    },
    "kernelspec": {
      "name": "python3",
      "display_name": "Python 3"
    }
  },
  "cells": [
    {
      "cell_type": "code",
      "metadata": {
        "id": "gKKskx1TegVQ"
      },
      "source": [
        "import pandas as pd\r\n",
        "import numpy as np"
      ],
      "execution_count": null,
      "outputs": []
    },
    {
      "cell_type": "code",
      "metadata": {
        "id": "kzrhmZjkfAYs"
      },
      "source": [
        "url_preds_rf = 'https://raw.githubusercontent.com/SantiagoTadini/TP2-Datos/main/preds_test_rf.csv'\r\n",
        "url_preds_xgboost = 'https://raw.githubusercontent.com/SantiagoTadini/TP2-Datos/main/preds_test_xgb.csv'\r\n",
        "url_preds_lgbm = 'https://raw.githubusercontent.com/SantiagoTadini/TP2-Datos/main/preds_test_lgbm.csv'\r\n",
        "\r\n",
        "preds_rf = pd.read_csv(url_preds_rf)\r\n",
        "preds_xgboost = pd.read_csv(url_preds_xgboost)\r\n",
        "preds_lightgbm = pd.read_csv(url_preds_lgbm)"
      ],
      "execution_count": null,
      "outputs": []
    },
    {
      "cell_type": "code",
      "metadata": {
        "id": "RdNbuL9zsUq_"
      },
      "source": [
        "url_preds_lgbm = 'https://raw.githubusercontent.com/joaquinhojman/ArbolesDeDecision/main/fusiones/preds_testLIGHTGBM_hyper5.csv'\r\n",
        "url_preds_xgboost = 'https://raw.githubusercontent.com/joaquinhojman/ArbolesDeDecision/main/fusiones/preds_testxgb4.csv'\r\n",
        "\r\n",
        "preds_xgboost = pd.read_csv(url_preds_xgboost)\r\n",
        "preds_lightgbm = pd.read_csv(url_preds_lgbm)\r\n",
        "\r\n"
      ],
      "execution_count": null,
      "outputs": []
    },
    {
      "cell_type": "code",
      "metadata": {
        "id": "lTkqQbIxgOgl"
      },
      "source": [
        "#preds_rf.rename(columns={'Target' : 'Prediccion1'}, inplace=True)\r\n",
        "preds_xgboost.rename(columns={'Target' : 'XGBoost'}, inplace=True)\r\n",
        "preds_lightgbm.rename(columns={'Target' : 'LightGBM'}, inplace=True)"
      ],
      "execution_count": null,
      "outputs": []
    },
    {
      "cell_type": "code",
      "metadata": {
        "id": "7LA2DX8GgB80"
      },
      "source": [
        "predicciones_combinadas = preds_xgboost.merge(preds_lightgbm, on='Opportunity_ID').reset_index()"
      ],
      "execution_count": null,
      "outputs": []
    },
    {
      "cell_type": "code",
      "metadata": {
        "colab": {
          "base_uri": "https://localhost:8080/",
          "height": 419
        },
        "id": "cBFgNfn8gokC",
        "outputId": "e79f2544-1afb-484a-9913-e6123c547e6a"
      },
      "source": [
        "predicciones_combinadas"
      ],
      "execution_count": null,
      "outputs": [
        {
          "output_type": "execute_result",
          "data": {
            "text/html": [
              "<div>\n",
              "<style scoped>\n",
              "    .dataframe tbody tr th:only-of-type {\n",
              "        vertical-align: middle;\n",
              "    }\n",
              "\n",
              "    .dataframe tbody tr th {\n",
              "        vertical-align: top;\n",
              "    }\n",
              "\n",
              "    .dataframe thead th {\n",
              "        text-align: right;\n",
              "    }\n",
              "</style>\n",
              "<table border=\"1\" class=\"dataframe\">\n",
              "  <thead>\n",
              "    <tr style=\"text-align: right;\">\n",
              "      <th></th>\n",
              "      <th>index</th>\n",
              "      <th>Opportunity_ID</th>\n",
              "      <th>XGBoost</th>\n",
              "      <th>LightGBM</th>\n",
              "    </tr>\n",
              "  </thead>\n",
              "  <tbody>\n",
              "    <tr>\n",
              "      <th>0</th>\n",
              "      <td>0</td>\n",
              "      <td>10689</td>\n",
              "      <td>0.635891</td>\n",
              "      <td>0.708252</td>\n",
              "    </tr>\n",
              "    <tr>\n",
              "      <th>1</th>\n",
              "      <td>1</td>\n",
              "      <td>10690</td>\n",
              "      <td>0.586675</td>\n",
              "      <td>0.652198</td>\n",
              "    </tr>\n",
              "    <tr>\n",
              "      <th>2</th>\n",
              "      <td>2</td>\n",
              "      <td>10691</td>\n",
              "      <td>0.213188</td>\n",
              "      <td>0.300327</td>\n",
              "    </tr>\n",
              "    <tr>\n",
              "      <th>3</th>\n",
              "      <td>3</td>\n",
              "      <td>10692</td>\n",
              "      <td>0.419037</td>\n",
              "      <td>0.635564</td>\n",
              "    </tr>\n",
              "    <tr>\n",
              "      <th>4</th>\n",
              "      <td>4</td>\n",
              "      <td>10693</td>\n",
              "      <td>0.919348</td>\n",
              "      <td>0.825354</td>\n",
              "    </tr>\n",
              "    <tr>\n",
              "      <th>...</th>\n",
              "      <td>...</td>\n",
              "      <td>...</td>\n",
              "      <td>...</td>\n",
              "      <td>...</td>\n",
              "    </tr>\n",
              "    <tr>\n",
              "      <th>1562</th>\n",
              "      <td>1562</td>\n",
              "      <td>12364</td>\n",
              "      <td>0.848123</td>\n",
              "      <td>0.629859</td>\n",
              "    </tr>\n",
              "    <tr>\n",
              "      <th>1563</th>\n",
              "      <td>1563</td>\n",
              "      <td>12365</td>\n",
              "      <td>0.303578</td>\n",
              "      <td>0.448052</td>\n",
              "    </tr>\n",
              "    <tr>\n",
              "      <th>1564</th>\n",
              "      <td>1564</td>\n",
              "      <td>12366</td>\n",
              "      <td>0.288932</td>\n",
              "      <td>0.370254</td>\n",
              "    </tr>\n",
              "    <tr>\n",
              "      <th>1565</th>\n",
              "      <td>1565</td>\n",
              "      <td>12367</td>\n",
              "      <td>0.130610</td>\n",
              "      <td>0.423484</td>\n",
              "    </tr>\n",
              "    <tr>\n",
              "      <th>1566</th>\n",
              "      <td>1566</td>\n",
              "      <td>12368</td>\n",
              "      <td>0.216268</td>\n",
              "      <td>0.501130</td>\n",
              "    </tr>\n",
              "  </tbody>\n",
              "</table>\n",
              "<p>1567 rows × 4 columns</p>\n",
              "</div>"
            ],
            "text/plain": [
              "      index  Opportunity_ID   XGBoost  LightGBM\n",
              "0         0           10689  0.635891  0.708252\n",
              "1         1           10690  0.586675  0.652198\n",
              "2         2           10691  0.213188  0.300327\n",
              "3         3           10692  0.419037  0.635564\n",
              "4         4           10693  0.919348  0.825354\n",
              "...     ...             ...       ...       ...\n",
              "1562   1562           12364  0.848123  0.629859\n",
              "1563   1563           12365  0.303578  0.448052\n",
              "1564   1564           12366  0.288932  0.370254\n",
              "1565   1565           12367  0.130610  0.423484\n",
              "1566   1566           12368  0.216268  0.501130\n",
              "\n",
              "[1567 rows x 4 columns]"
            ]
          },
          "metadata": {
            "tags": []
          },
          "execution_count": 121
        }
      ]
    },
    {
      "cell_type": "code",
      "metadata": {
        "id": "DghyCeULjFR6"
      },
      "source": [
        "# Con 60% a XGBoost y 40% a Random Forest --> 0.52664 en Kaggle\r\n",
        "# Con 70% a LightGBM y 30% a XGBoost --> 0.49811 en Kaggle\r\n",
        "\r\n",
        "#50% LightGBM + 50% XGBoost\r\n",
        "predicciones_combinadas['Promedio'] = predicciones_combinadas['XGBoost'] * 0.5 + predicciones_combinadas['LightGBM'] * 0.5\r\n"
      ],
      "execution_count": null,
      "outputs": []
    },
    {
      "cell_type": "code",
      "metadata": {
        "id": "vylGpC4_uCP9"
      },
      "source": [
        "#predicciones_combinadas['Max'] = max(predicciones_combinadas['XGBoost'],predicciones_combinadas['LightGBM'])\r\n",
        "def maximo(xgb,lgb):\r\n",
        "  if xgb>=lgb:\r\n",
        "    return xgb\r\n",
        "  else:\r\n",
        "    return lgb\r\n"
      ],
      "execution_count": null,
      "outputs": []
    },
    {
      "cell_type": "code",
      "metadata": {
        "id": "RRiq17Cqu7u7"
      },
      "source": [
        "maximos = []\r\n",
        "for i in range(0,1567):\r\n",
        "  maximos.append(maximo(predicciones_combinadas['XGBoost'][i],predicciones_combinadas['LightGBM'][i]))\r\n"
      ],
      "execution_count": null,
      "outputs": []
    },
    {
      "cell_type": "code",
      "metadata": {
        "colab": {
          "base_uri": "https://localhost:8080/",
          "height": 419
        },
        "id": "CV8mYJCQwlLH",
        "outputId": "59f07ca5-f828-4aff-9ebb-74527da99e73"
      },
      "source": [
        "from pandas import DataFrame\r\n",
        "\r\n",
        "df_max = DataFrame(maximos,columns=['Max']).reset_index()\r\n",
        "df_max"
      ],
      "execution_count": null,
      "outputs": [
        {
          "output_type": "execute_result",
          "data": {
            "text/html": [
              "<div>\n",
              "<style scoped>\n",
              "    .dataframe tbody tr th:only-of-type {\n",
              "        vertical-align: middle;\n",
              "    }\n",
              "\n",
              "    .dataframe tbody tr th {\n",
              "        vertical-align: top;\n",
              "    }\n",
              "\n",
              "    .dataframe thead th {\n",
              "        text-align: right;\n",
              "    }\n",
              "</style>\n",
              "<table border=\"1\" class=\"dataframe\">\n",
              "  <thead>\n",
              "    <tr style=\"text-align: right;\">\n",
              "      <th></th>\n",
              "      <th>index</th>\n",
              "      <th>Max</th>\n",
              "    </tr>\n",
              "  </thead>\n",
              "  <tbody>\n",
              "    <tr>\n",
              "      <th>0</th>\n",
              "      <td>0</td>\n",
              "      <td>0.708252</td>\n",
              "    </tr>\n",
              "    <tr>\n",
              "      <th>1</th>\n",
              "      <td>1</td>\n",
              "      <td>0.652198</td>\n",
              "    </tr>\n",
              "    <tr>\n",
              "      <th>2</th>\n",
              "      <td>2</td>\n",
              "      <td>0.300327</td>\n",
              "    </tr>\n",
              "    <tr>\n",
              "      <th>3</th>\n",
              "      <td>3</td>\n",
              "      <td>0.635564</td>\n",
              "    </tr>\n",
              "    <tr>\n",
              "      <th>4</th>\n",
              "      <td>4</td>\n",
              "      <td>0.919348</td>\n",
              "    </tr>\n",
              "    <tr>\n",
              "      <th>...</th>\n",
              "      <td>...</td>\n",
              "      <td>...</td>\n",
              "    </tr>\n",
              "    <tr>\n",
              "      <th>1562</th>\n",
              "      <td>1562</td>\n",
              "      <td>0.848123</td>\n",
              "    </tr>\n",
              "    <tr>\n",
              "      <th>1563</th>\n",
              "      <td>1563</td>\n",
              "      <td>0.448052</td>\n",
              "    </tr>\n",
              "    <tr>\n",
              "      <th>1564</th>\n",
              "      <td>1564</td>\n",
              "      <td>0.370254</td>\n",
              "    </tr>\n",
              "    <tr>\n",
              "      <th>1565</th>\n",
              "      <td>1565</td>\n",
              "      <td>0.423484</td>\n",
              "    </tr>\n",
              "    <tr>\n",
              "      <th>1566</th>\n",
              "      <td>1566</td>\n",
              "      <td>0.501130</td>\n",
              "    </tr>\n",
              "  </tbody>\n",
              "</table>\n",
              "<p>1567 rows × 2 columns</p>\n",
              "</div>"
            ],
            "text/plain": [
              "      index       Max\n",
              "0         0  0.708252\n",
              "1         1  0.652198\n",
              "2         2  0.300327\n",
              "3         3  0.635564\n",
              "4         4  0.919348\n",
              "...     ...       ...\n",
              "1562   1562  0.848123\n",
              "1563   1563  0.448052\n",
              "1564   1564  0.370254\n",
              "1565   1565  0.423484\n",
              "1566   1566  0.501130\n",
              "\n",
              "[1567 rows x 2 columns]"
            ]
          },
          "metadata": {
            "tags": []
          },
          "execution_count": 125
        }
      ]
    },
    {
      "cell_type": "code",
      "metadata": {
        "colab": {
          "base_uri": "https://localhost:8080/",
          "height": 419
        },
        "id": "5MCTYr2RqP3J",
        "outputId": "625ba83e-2fd1-4463-e431-e165639c0d89"
      },
      "source": [
        "predicciones_combinadas = predicciones_combinadas.merge(df_max)\r\n",
        "predicciones_combinadas"
      ],
      "execution_count": null,
      "outputs": [
        {
          "output_type": "execute_result",
          "data": {
            "text/html": [
              "<div>\n",
              "<style scoped>\n",
              "    .dataframe tbody tr th:only-of-type {\n",
              "        vertical-align: middle;\n",
              "    }\n",
              "\n",
              "    .dataframe tbody tr th {\n",
              "        vertical-align: top;\n",
              "    }\n",
              "\n",
              "    .dataframe thead th {\n",
              "        text-align: right;\n",
              "    }\n",
              "</style>\n",
              "<table border=\"1\" class=\"dataframe\">\n",
              "  <thead>\n",
              "    <tr style=\"text-align: right;\">\n",
              "      <th></th>\n",
              "      <th>index</th>\n",
              "      <th>Opportunity_ID</th>\n",
              "      <th>XGBoost</th>\n",
              "      <th>LightGBM</th>\n",
              "      <th>Promedio</th>\n",
              "      <th>Max</th>\n",
              "    </tr>\n",
              "  </thead>\n",
              "  <tbody>\n",
              "    <tr>\n",
              "      <th>0</th>\n",
              "      <td>0</td>\n",
              "      <td>10689</td>\n",
              "      <td>0.635891</td>\n",
              "      <td>0.708252</td>\n",
              "      <td>0.672071</td>\n",
              "      <td>0.708252</td>\n",
              "    </tr>\n",
              "    <tr>\n",
              "      <th>1</th>\n",
              "      <td>1</td>\n",
              "      <td>10690</td>\n",
              "      <td>0.586675</td>\n",
              "      <td>0.652198</td>\n",
              "      <td>0.619437</td>\n",
              "      <td>0.652198</td>\n",
              "    </tr>\n",
              "    <tr>\n",
              "      <th>2</th>\n",
              "      <td>2</td>\n",
              "      <td>10691</td>\n",
              "      <td>0.213188</td>\n",
              "      <td>0.300327</td>\n",
              "      <td>0.256757</td>\n",
              "      <td>0.300327</td>\n",
              "    </tr>\n",
              "    <tr>\n",
              "      <th>3</th>\n",
              "      <td>3</td>\n",
              "      <td>10692</td>\n",
              "      <td>0.419037</td>\n",
              "      <td>0.635564</td>\n",
              "      <td>0.527301</td>\n",
              "      <td>0.635564</td>\n",
              "    </tr>\n",
              "    <tr>\n",
              "      <th>4</th>\n",
              "      <td>4</td>\n",
              "      <td>10693</td>\n",
              "      <td>0.919348</td>\n",
              "      <td>0.825354</td>\n",
              "      <td>0.872351</td>\n",
              "      <td>0.919348</td>\n",
              "    </tr>\n",
              "    <tr>\n",
              "      <th>...</th>\n",
              "      <td>...</td>\n",
              "      <td>...</td>\n",
              "      <td>...</td>\n",
              "      <td>...</td>\n",
              "      <td>...</td>\n",
              "      <td>...</td>\n",
              "    </tr>\n",
              "    <tr>\n",
              "      <th>1562</th>\n",
              "      <td>1562</td>\n",
              "      <td>12364</td>\n",
              "      <td>0.848123</td>\n",
              "      <td>0.629859</td>\n",
              "      <td>0.738991</td>\n",
              "      <td>0.848123</td>\n",
              "    </tr>\n",
              "    <tr>\n",
              "      <th>1563</th>\n",
              "      <td>1563</td>\n",
              "      <td>12365</td>\n",
              "      <td>0.303578</td>\n",
              "      <td>0.448052</td>\n",
              "      <td>0.375815</td>\n",
              "      <td>0.448052</td>\n",
              "    </tr>\n",
              "    <tr>\n",
              "      <th>1564</th>\n",
              "      <td>1564</td>\n",
              "      <td>12366</td>\n",
              "      <td>0.288932</td>\n",
              "      <td>0.370254</td>\n",
              "      <td>0.329593</td>\n",
              "      <td>0.370254</td>\n",
              "    </tr>\n",
              "    <tr>\n",
              "      <th>1565</th>\n",
              "      <td>1565</td>\n",
              "      <td>12367</td>\n",
              "      <td>0.130610</td>\n",
              "      <td>0.423484</td>\n",
              "      <td>0.277047</td>\n",
              "      <td>0.423484</td>\n",
              "    </tr>\n",
              "    <tr>\n",
              "      <th>1566</th>\n",
              "      <td>1566</td>\n",
              "      <td>12368</td>\n",
              "      <td>0.216268</td>\n",
              "      <td>0.501130</td>\n",
              "      <td>0.358699</td>\n",
              "      <td>0.501130</td>\n",
              "    </tr>\n",
              "  </tbody>\n",
              "</table>\n",
              "<p>1567 rows × 6 columns</p>\n",
              "</div>"
            ],
            "text/plain": [
              "      index  Opportunity_ID   XGBoost  LightGBM  Promedio       Max\n",
              "0         0           10689  0.635891  0.708252  0.672071  0.708252\n",
              "1         1           10690  0.586675  0.652198  0.619437  0.652198\n",
              "2         2           10691  0.213188  0.300327  0.256757  0.300327\n",
              "3         3           10692  0.419037  0.635564  0.527301  0.635564\n",
              "4         4           10693  0.919348  0.825354  0.872351  0.919348\n",
              "...     ...             ...       ...       ...       ...       ...\n",
              "1562   1562           12364  0.848123  0.629859  0.738991  0.848123\n",
              "1563   1563           12365  0.303578  0.448052  0.375815  0.448052\n",
              "1564   1564           12366  0.288932  0.370254  0.329593  0.370254\n",
              "1565   1565           12367  0.130610  0.423484  0.277047  0.423484\n",
              "1566   1566           12368  0.216268  0.501130  0.358699  0.501130\n",
              "\n",
              "[1567 rows x 6 columns]"
            ]
          },
          "metadata": {
            "tags": []
          },
          "execution_count": 126
        }
      ]
    },
    {
      "cell_type": "code",
      "metadata": {
        "id": "ZMJ_Kd7Dj1dR"
      },
      "source": [
        "predicciones_combinadas_kaggle = predicciones_combinadas[['Opportunity_ID', 'Promedio']]"
      ],
      "execution_count": null,
      "outputs": []
    },
    {
      "cell_type": "code",
      "metadata": {
        "colab": {
          "base_uri": "https://localhost:8080/"
        },
        "id": "0JjneV5Mkkd0",
        "outputId": "39786d0f-84d6-4ff8-9cac-acabaa805d7d"
      },
      "source": [
        "predicciones_combinadas_kaggle.rename(columns={'Promedio' : 'Target'}, inplace=True)"
      ],
      "execution_count": null,
      "outputs": [
        {
          "output_type": "stream",
          "text": [
            "/usr/local/lib/python3.7/dist-packages/pandas/core/frame.py:4308: SettingWithCopyWarning: \n",
            "A value is trying to be set on a copy of a slice from a DataFrame\n",
            "\n",
            "See the caveats in the documentation: https://pandas.pydata.org/pandas-docs/stable/user_guide/indexing.html#returning-a-view-versus-a-copy\n",
            "  errors=errors,\n"
          ],
          "name": "stderr"
        }
      ]
    },
    {
      "cell_type": "code",
      "metadata": {
        "colab": {
          "base_uri": "https://localhost:8080/",
          "height": 419
        },
        "id": "gpzsSAWHpDS3",
        "outputId": "a45d3e52-cf82-4d9d-a586-c38eeb7253c6"
      },
      "source": [
        "predicciones_combinadas_kaggle"
      ],
      "execution_count": null,
      "outputs": [
        {
          "output_type": "execute_result",
          "data": {
            "text/html": [
              "<div>\n",
              "<style scoped>\n",
              "    .dataframe tbody tr th:only-of-type {\n",
              "        vertical-align: middle;\n",
              "    }\n",
              "\n",
              "    .dataframe tbody tr th {\n",
              "        vertical-align: top;\n",
              "    }\n",
              "\n",
              "    .dataframe thead th {\n",
              "        text-align: right;\n",
              "    }\n",
              "</style>\n",
              "<table border=\"1\" class=\"dataframe\">\n",
              "  <thead>\n",
              "    <tr style=\"text-align: right;\">\n",
              "      <th></th>\n",
              "      <th>Opportunity_ID</th>\n",
              "      <th>Target</th>\n",
              "    </tr>\n",
              "  </thead>\n",
              "  <tbody>\n",
              "    <tr>\n",
              "      <th>0</th>\n",
              "      <td>10689</td>\n",
              "      <td>0.672071</td>\n",
              "    </tr>\n",
              "    <tr>\n",
              "      <th>1</th>\n",
              "      <td>10690</td>\n",
              "      <td>0.619437</td>\n",
              "    </tr>\n",
              "    <tr>\n",
              "      <th>2</th>\n",
              "      <td>10691</td>\n",
              "      <td>0.256757</td>\n",
              "    </tr>\n",
              "    <tr>\n",
              "      <th>3</th>\n",
              "      <td>10692</td>\n",
              "      <td>0.527301</td>\n",
              "    </tr>\n",
              "    <tr>\n",
              "      <th>4</th>\n",
              "      <td>10693</td>\n",
              "      <td>0.872351</td>\n",
              "    </tr>\n",
              "    <tr>\n",
              "      <th>...</th>\n",
              "      <td>...</td>\n",
              "      <td>...</td>\n",
              "    </tr>\n",
              "    <tr>\n",
              "      <th>1562</th>\n",
              "      <td>12364</td>\n",
              "      <td>0.738991</td>\n",
              "    </tr>\n",
              "    <tr>\n",
              "      <th>1563</th>\n",
              "      <td>12365</td>\n",
              "      <td>0.375815</td>\n",
              "    </tr>\n",
              "    <tr>\n",
              "      <th>1564</th>\n",
              "      <td>12366</td>\n",
              "      <td>0.329593</td>\n",
              "    </tr>\n",
              "    <tr>\n",
              "      <th>1565</th>\n",
              "      <td>12367</td>\n",
              "      <td>0.277047</td>\n",
              "    </tr>\n",
              "    <tr>\n",
              "      <th>1566</th>\n",
              "      <td>12368</td>\n",
              "      <td>0.358699</td>\n",
              "    </tr>\n",
              "  </tbody>\n",
              "</table>\n",
              "<p>1567 rows × 2 columns</p>\n",
              "</div>"
            ],
            "text/plain": [
              "      Opportunity_ID    Target\n",
              "0              10689  0.672071\n",
              "1              10690  0.619437\n",
              "2              10691  0.256757\n",
              "3              10692  0.527301\n",
              "4              10693  0.872351\n",
              "...              ...       ...\n",
              "1562           12364  0.738991\n",
              "1563           12365  0.375815\n",
              "1564           12366  0.329593\n",
              "1565           12367  0.277047\n",
              "1566           12368  0.358699\n",
              "\n",
              "[1567 rows x 2 columns]"
            ]
          },
          "metadata": {
            "tags": []
          },
          "execution_count": 129
        }
      ]
    },
    {
      "cell_type": "code",
      "metadata": {
        "colab": {
          "base_uri": "https://localhost:8080/",
          "height": 17
        },
        "id": "Q8gyJjd8kIRV",
        "outputId": "bb0d8270-ec20-4b51-d604-ed180c43b1af"
      },
      "source": [
        "from google.colab import files\r\n",
        "predicciones_combinadas_kaggle.to_csv('preds_test.csv', index=False, header=True)\r\n",
        "files.download('preds_test.csv')"
      ],
      "execution_count": null,
      "outputs": [
        {
          "output_type": "display_data",
          "data": {
            "application/javascript": [
              "\n",
              "    async function download(id, filename, size) {\n",
              "      if (!google.colab.kernel.accessAllowed) {\n",
              "        return;\n",
              "      }\n",
              "      const div = document.createElement('div');\n",
              "      const label = document.createElement('label');\n",
              "      label.textContent = `Downloading \"${filename}\": `;\n",
              "      div.appendChild(label);\n",
              "      const progress = document.createElement('progress');\n",
              "      progress.max = size;\n",
              "      div.appendChild(progress);\n",
              "      document.body.appendChild(div);\n",
              "\n",
              "      const buffers = [];\n",
              "      let downloaded = 0;\n",
              "\n",
              "      const channel = await google.colab.kernel.comms.open(id);\n",
              "      // Send a message to notify the kernel that we're ready.\n",
              "      channel.send({})\n",
              "\n",
              "      for await (const message of channel.messages) {\n",
              "        // Send a message to notify the kernel that we're ready.\n",
              "        channel.send({})\n",
              "        if (message.buffers) {\n",
              "          for (const buffer of message.buffers) {\n",
              "            buffers.push(buffer);\n",
              "            downloaded += buffer.byteLength;\n",
              "            progress.value = downloaded;\n",
              "          }\n",
              "        }\n",
              "      }\n",
              "      const blob = new Blob(buffers, {type: 'application/binary'});\n",
              "      const a = document.createElement('a');\n",
              "      a.href = window.URL.createObjectURL(blob);\n",
              "      a.download = filename;\n",
              "      div.appendChild(a);\n",
              "      a.click();\n",
              "      div.remove();\n",
              "    }\n",
              "  "
            ],
            "text/plain": [
              "<IPython.core.display.Javascript object>"
            ]
          },
          "metadata": {
            "tags": []
          }
        },
        {
          "output_type": "display_data",
          "data": {
            "application/javascript": [
              "download(\"download_0500b6b6-f028-4f41-a482-d8dda7530be1\", \"preds_test.csv\", 39640)"
            ],
            "text/plain": [
              "<IPython.core.display.Javascript object>"
            ]
          },
          "metadata": {
            "tags": []
          }
        }
      ]
    }
  ]
}