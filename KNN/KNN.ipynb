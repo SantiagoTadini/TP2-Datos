{
 "cells": [
  {
   "cell_type": "code",
   "execution_count": 14,
   "metadata": {},
   "outputs": [],
   "source": [
    "import numpy as np\n",
    "import matplotlib.pyplot as plt\n",
    "import pandas as pd\n",
    "\n",
    "from sklearn.model_selection import train_test_split\n",
    "from sklearn.preprocessing import StandardScaler\n",
    "from sklearn.neighbors import KNeighborsClassifier\n",
    "from sklearn.metrics import classification_report, confusion_matrix"
   ]
  },
  {
   "cell_type": "code",
   "execution_count": 15,
   "metadata": {},
   "outputs": [],
   "source": [
    "test = pd.read_csv(\"C:/Users/Santi/Desktop/Archivos/Datos/TP2/Test_TP2_Datos_2020-2C.csv\")\n",
    "train = pd.read_csv(\"C:/Users/Santi/Desktop/Archivos/Datos/TP2/Train_TP2_Datos_2020-2C.csv\")"
   ]
  },
  {
   "cell_type": "code",
   "execution_count": 23,
   "metadata": {},
   "outputs": [
    {
     "data": {
      "text/plain": [
       "array([[27761, 'EMEA', 'None', ..., 'EUR', 5272800.0,\n",
       "        'Prod_Category_A_None'],\n",
       "       [27760, 'EMEA', 'None', ..., 'EUR', 48230.0,\n",
       "        'Prod_Category_A_None'],\n",
       "       [27446, 'Americas', 'NW America', ..., 'USD', 83865.6,\n",
       "        'Prod_Category_A_None'],\n",
       "       ...,\n",
       "       [8792, 'EMEA', 'Austria', ..., 'EUR', 299715.0,\n",
       "        'Prod_Category_A_None'],\n",
       "       [28561, 'Americas', 'NE America', ..., 'USD', 0.0,\n",
       "        'Prod_Category_A_None'],\n",
       "       [28318, 'Americas', 'NE America', ..., 'USD', 0.0,\n",
       "        'Prod_Category_A_None']], dtype=object)"
      ]
     },
     "execution_count": 23,
     "metadata": {},
     "output_type": "execute_result"
    }
   ],
   "source": [
    "X = train.drop('Stage', axis=1).values\n",
    "X"
   ]
  },
  {
   "cell_type": "code",
   "execution_count": 24,
   "metadata": {},
   "outputs": [
    {
     "data": {
      "text/plain": [
       "array(['Closed Lost', 'Closed Won', 'Closed Won', ..., 'Closed Won',\n",
       "       'Closed Lost', 'Closed Lost'], dtype=object)"
      ]
     },
     "execution_count": 24,
     "metadata": {},
     "output_type": "execute_result"
    }
   ],
   "source": [
    "y = train['Stage'].values\n",
    "y"
   ]
  },
  {
   "cell_type": "code",
   "execution_count": 25,
   "metadata": {},
   "outputs": [],
   "source": [
    "X_train, X_test, y_train, y_test = train_test_split(X, y, test_size=0.20)"
   ]
  },
  {
   "cell_type": "code",
   "execution_count": null,
   "metadata": {},
   "outputs": [],
   "source": []
  }
 ],
 "metadata": {
  "kernelspec": {
   "display_name": "Python 3",
   "language": "python",
   "name": "python3"
  },
  "language_info": {
   "codemirror_mode": {
    "name": "ipython",
    "version": 3
   },
   "file_extension": ".py",
   "mimetype": "text/x-python",
   "name": "python",
   "nbconvert_exporter": "python",
   "pygments_lexer": "ipython3",
   "version": "3.8.3"
  }
 },
 "nbformat": 4,
 "nbformat_minor": 4
}
